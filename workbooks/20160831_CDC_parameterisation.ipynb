{
 "cells": [
  {
   "cell_type": "markdown",
   "metadata": {},
   "source": [
    "# Yeast genome \n",
    "Jens Hahn - 31/08/2016     \n",
    "Downloaded at **http://www.uniprot.org/docs/yeast**"
   ]
  },
  {
   "cell_type": "code",
   "execution_count": 1,
   "metadata": {
    "collapsed": true
   },
   "outputs": [],
   "source": [
    "import pandas as pd"
   ]
  },
  {
   "cell_type": "code",
   "execution_count": 3,
   "metadata": {
    "collapsed": false
   },
   "outputs": [],
   "source": [
    "# read data\n",
    "df = pd.read_csv('../data/yeastgenome.csv', sep=',')\n",
    "# set column names\n",
    "df.columns = ['Gene designations', 'OLN', 'Swiss-Prot', '' ,'SGD', 'Size 3D', 'CH']\n",
    "# remove whitespaces\n",
    "for col in df.columns:\n",
    "    df[col] = df[col].str.strip()"
   ]
  },
  {
   "cell_type": "code",
   "execution_count": 4,
   "metadata": {
    "collapsed": true
   },
   "outputs": [],
   "source": [
    "# proteins of CDC module\n",
    "proteins = {'Swe1_cyt': 'SGD:S000003723p',\n",
    "            'APC_cyt': 'SGD:S000002971p',\n",
    "            'Clb2_cyt': 'SGD:S000006323p',\n",
    "            'Mcm1_nuc': 'SGD:S000004646p',\n",
    "            'Clb2_p_cyt': 'SGD:S000006323pP',\n",
    "            'Swi5_nuc': 'SGD:S000002553p',\n",
    "            'Hog1_PP_cyt': 'SGD:S000004103pPP_13',\n",
    "            'Swe1_p_cyt': 'SGD:S000003723pP',\n",
    "            'Sic1_p_cyt': 'SGD:S000004069pP',\n",
    "            'Far1_cyt': 'SGD:S000003693p',\n",
    "            'Cdc14_p_cyt': 'SGD:S000001924pP',\n",
    "            'Sic1_cyt': 'SGD:S000004069p',\n",
    "            'Cln3_Far1_p_cyt': 'SGD:S000000038p_SGD:S000003693pP',\n",
    "            'Clb2_Sic1_cyt': 'SGD:S000006323p_SGD:S000004069p',\n",
    "            'Sic1_Hp_cyt': 'SGD:S000004069pHp',\n",
    "            'Clb3_cyt': 'SGD:S000002314p',\n",
    "            'MBF_nuc': 'SGD:S000002214p_SGD:S000004172p',\n",
    "            'Cln3_cyt': 'SGD:S000000038p',\n",
    "            'Fus3_cyt': 'SGD:S000000112p',\n",
    "            'SBF_p_cyt': 'SGD:S000000913p_SGD:S000004172pP',\n",
    "            'Whi5_p_cyt': 'SGD:S000005609pP',\n",
    "            'Cdc14_cyt': 'SGD:S000001924p',\n",
    "            'Whi5_cyt': 'SGD:S000005609p',\n",
    "            'Clb5_Sic1_Hp_cyt': 'SGD:S000006324p_SGD:S000004069pHp',\n",
    "            'Cln2_cyt': 'SGD:S000006177p',\n",
    "            'Far1_p_cyt': 'SGD:S000003693pP',\n",
    "            'Mih1_cyt': 'SGD:S000004639p',\n",
    "            'Cln2_Far1_p_cyt': 'SGD:S000006177p_SGD:S000003693pP',\n",
    "            'Clb3_Sic1_cyt': 'SGD:S000002314p_SGD:S000004069p',\n",
    "            'Clb5_Sic1_cyt': 'SGD:S000006324p_SGD:S000004069p',\n",
    "            'Clb5_cyt': 'SGD:S000006324p',\n",
    "            'SBF_Whi5_nuc': 'SGD:S000000913p_SGD:S000004172p_SGD:S000005609p',\n",
    "            'APC_p_cyt': 'SGD:S000002971pP',\n",
    "            'Swi5_p_cyt': 'SGD:S000002553pP',\n",
    "            'SBF_nuc': 'SGD:S000000913p_SGD:S000004172p'}"
   ]
  },
  {
   "cell_type": "code",
   "execution_count": 5,
   "metadata": {
    "collapsed": false
   },
   "outputs": [],
   "source": [
    "# get dict of gene names\n",
    "yeast_genes = {}\n",
    "for protein in proteins:\n",
    "    proteins[protein] = proteins[protein].split('_')\n",
    "    for sgd_id in proteins[protein]:\n",
    "        if sgd_id[4:14]:\n",
    "            if not protein in yeast_genes.keys():\n",
    "                yeast_genes[protein] = [list(df[df['SGD'] == sgd_id[4:14]]['OLN'])[0]]\n",
    "            else:\n",
    "                yeast_genes[protein].append(list(df[df['SGD'] == sgd_id[4:14]]['OLN'])[0])"
   ]
  },
  {
   "cell_type": "code",
   "execution_count": 6,
   "metadata": {
    "collapsed": false
   },
   "outputs": [
    {
     "name": "stdout",
     "output_type": "stream",
     "text": [
      "YJL187C YGL003C YFR028C YLR113W YJL187C YLR079W YAL040C YPR119W YLR079W YPR119W YLR079W YLR079W YDR146C YAL040C YJL157C YDL056W YLR182W YPL256C YJL157C YDR146C YJL157C YBL016W YDL155W YER111C YLR182W YOR083W YFR028C YOR083W YPR120C YLR079W YJL157C YMR036C YDL155W YLR079W YPR119W YPR120C YLR079W YPR120C YER111C YLR182W YOR083W YGL003C YMR043W YPL256C YER111C YLR182W\n"
     ]
    }
   ],
   "source": [
    "parameter_genes = [gene  for protein in yeast_genes for gene in yeast_genes[protein]]\n",
    "print ' '.join(parameter_genes)"
   ]
  },
  {
   "cell_type": "markdown",
   "metadata": {},
   "source": [
    "### Transcriptome (average)"
   ]
  },
  {
   "cell_type": "markdown",
   "metadata": {},
   "source": [
    "Transcriptome is normalized to 60000."
   ]
  },
  {
   "cell_type": "code",
   "execution_count": 7,
   "metadata": {
    "collapsed": true
   },
   "outputs": [],
   "source": [
    "import cPickle as pkl"
   ]
  },
  {
   "cell_type": "code",
   "execution_count": 10,
   "metadata": {
    "collapsed": false
   },
   "outputs": [],
   "source": [
    "transcriptome = pkl.load(open('../parameters/transcriptome_plotkin.p'))"
   ]
  },
  {
   "cell_type": "code",
   "execution_count": 12,
   "metadata": {
    "collapsed": false
   },
   "outputs": [
    {
     "data": {
      "text/plain": [
       "{'YAL040C': 2,\n",
       " 'YBL016W': 4,\n",
       " 'YDL056W': 4,\n",
       " 'YDL155W': 3,\n",
       " 'YDR146C': 5,\n",
       " 'YER111C': 3,\n",
       " 'YFR028C': 7,\n",
       " 'YGL003C': 1,\n",
       " 'YJL157C': 4,\n",
       " 'YJL187C': 3,\n",
       " 'YLR079W': 6,\n",
       " 'YLR113W': 10,\n",
       " 'YLR182W': 7,\n",
       " 'YMR036C': 3,\n",
       " 'YMR043W': 6,\n",
       " 'YOR083W': 1,\n",
       " 'YPL256C': 7,\n",
       " 'YPR119W': 2,\n",
       " 'YPR120C': 4}"
      ]
     },
     "execution_count": 12,
     "metadata": {},
     "output_type": "execute_result"
    }
   ],
   "source": [
    "{gene: transcriptome[gene] for gene in parameter_genes}"
   ]
  },
  {
   "cell_type": "markdown",
   "metadata": {},
   "source": [
    "### Transcriptome (time course)"
   ]
  },
  {
   "cell_type": "markdown",
   "metadata": {},
   "source": [
    "Transcriptome is normalized to <60000."
   ]
  },
  {
   "cell_type": "code",
   "execution_count": 23,
   "metadata": {
    "collapsed": true
   },
   "outputs": [],
   "source": [
    "transcriptome_time_dependent = pkl.load(open(\"../parameters/transcriptome_time_dependent.p\"))"
   ]
  },
  {
   "cell_type": "markdown",
   "metadata": {},
   "source": [
    "Times in minutes:"
   ]
  },
  {
   "cell_type": "code",
   "execution_count": 24,
   "metadata": {
    "collapsed": false
   },
   "outputs": [
    {
     "data": {
      "text/plain": [
       "[0, 5, 10, 15, 20, 25, 30, 35, 40, 45, 50, 55, 60]"
      ]
     },
     "execution_count": 24,
     "metadata": {},
     "output_type": "execute_result"
    }
   ],
   "source": [
    "sorted(transcriptome_time_dependent.keys())"
   ]
  },
  {
   "cell_type": "code",
   "execution_count": 25,
   "metadata": {
    "collapsed": false
   },
   "outputs": [
    {
     "data": {
      "text/plain": [
       "{'YAL040C': [1, 1, 1, 1, 1, 3, 2, 4, 1, 2, 1, 2, 1],\n",
       " 'YBL016W': [2, 1, 2, 1, 1, 3, 3, 2, 1, 1, 1, 1, 1],\n",
       " 'YDL056W': [1, 1, 2, 5, 2, 7, 6, 5, 1, 1, 1, 1, 1],\n",
       " 'YDL155W': [1, 0, 2, 2, 3, 4, 4, 4, 1, 1, 0, 1, 1],\n",
       " 'YDR146C': [0, 0, 0, 0, 1, 3, 3, 1, 1, 1, 1, 1, 0],\n",
       " 'YER111C': [0, 1, 3, 2, 1, 0, 1, 1, 0, 0, 0, 1, 1],\n",
       " 'YFR028C': [1, 0, 3, 3, 4, 6, 8, 6, 2, 1, 1, 2, 1],\n",
       " 'YGL003C': [0, 0, 1, 1, 1, 2, 3, 2, 1, 0, 0, 1, 1],\n",
       " 'YJL157C': [1, 0, 1, 1, 0, 1, 1, 2, 1, 1, 1, 3, 4],\n",
       " 'YJL187C': [0, 2, 8, 4, 3, 3, 2, 1, 0, 1, 0, 1, 2],\n",
       " 'YLR079W': [0, 0, 2, 2, 2, 3, 1, 2, 1, 2, 1, 6, 5],\n",
       " 'YLR113W': [1, 1, 4, 3, 6, 8, 8, 7, 3, 2, 2, 3, 2],\n",
       " 'YLR182W': [1, 0, 3, 4, 3, 4, 4, 2, 1, 1, 1, 2, 2],\n",
       " 'YMR036C': [0, 0, 1, 1, 1, 1, 0, 1, 0, 1, 0, 0, 0],\n",
       " 'YMR043W': [1, 1, 1, 2, 1, 4, 4, 4, 1, 1, 1, 0, 1],\n",
       " 'YOR083W': [0, 0, 0, 0, 0, 0, 0, 0, 0, 0, 0, 0, 0],\n",
       " 'YPL256C': [1, 5, 18, 8, 3, 4, 3, 2, 1, 0, 0, 1, 3],\n",
       " 'YPR119W': [0, 0, 0, 0, 0, 1, 1, 1, 0, 0, 0, 0, 0],\n",
       " 'YPR120C': [1, 2, 6, 3, 2, 2, 2, 2, 1, 1, 0, 1, 2]}"
      ]
     },
     "execution_count": 25,
     "metadata": {},
     "output_type": "execute_result"
    }
   ],
   "source": [
    "{gene: [transcriptome_time_dependent[time][gene] for time in sorted(transcriptome_time_dependent.keys())] \n",
    " for gene in parameter_genes}"
   ]
  },
  {
   "cell_type": "markdown",
   "metadata": {},
   "source": [
    "### Protein synthesis rates (average)"
   ]
  },
  {
   "cell_type": "code",
   "execution_count": 27,
   "metadata": {
    "collapsed": false
   },
   "outputs": [],
   "source": [
    "prot_synth_rates = pkl.load(open(\"../parameters/prot_speeds.p\"))"
   ]
  },
  {
   "cell_type": "code",
   "execution_count": 28,
   "metadata": {
    "collapsed": false
   },
   "outputs": [
    {
     "data": {
      "text/plain": [
       "{'YAL040C': 0.03926664595047475,\n",
       " 'YBL016W': 0.15028248587579873,\n",
       " 'YDL056W': 0.05706375886327985,\n",
       " 'YDL155W': 0.11525423728820654,\n",
       " 'YDR146C': 0.15198169439824039,\n",
       " 'YER111C': 0.058758721997832719,\n",
       " 'YFR028C': 0.16441142405162809,\n",
       " 'YGL003C': 0.022882002316463701,\n",
       " 'YJL157C': 0.17006130116680432,\n",
       " 'YJL187C': 0.029944348710433982,\n",
       " 'YLR079W': 0.23644067796624724,\n",
       " 'YLR113W': 0.46271186440706452,\n",
       " 'YLR182W': 0.090398033842819567,\n",
       " 'YMR036C': 0.032769287268022092,\n",
       " 'YMR043W': 0.29322033898323135,\n",
       " 'YOR083W': 0.026271186440694139,\n",
       " 'YPL256C': 0.19717514124305924,\n",
       " 'YPR119W': 0.158474576271284,\n",
       " 'YPR120C': 0.079943502824907975}"
      ]
     },
     "execution_count": 28,
     "metadata": {},
     "output_type": "execute_result"
    }
   ],
   "source": [
    "{gene: prot_synth_rates[gene] for gene in parameter_genes}"
   ]
  },
  {
   "cell_type": "markdown",
   "metadata": {},
   "source": [
    "Unit is molecules per second (per cell)."
   ]
  },
  {
   "cell_type": "markdown",
   "metadata": {},
   "source": [
    "### Protein synthesis rates (time course)"
   ]
  },
  {
   "cell_type": "code",
   "execution_count": null,
   "metadata": {
    "collapsed": true
   },
   "outputs": [],
   "source": []
  }
 ],
 "metadata": {
  "kernelspec": {
   "display_name": "Python 2",
   "language": "python",
   "name": "python2"
  },
  "language_info": {
   "codemirror_mode": {
    "name": "ipython",
    "version": 2
   },
   "file_extension": ".py",
   "mimetype": "text/x-python",
   "name": "python",
   "nbconvert_exporter": "python",
   "pygments_lexer": "ipython2",
   "version": "2.7.6"
  }
 },
 "nbformat": 4,
 "nbformat_minor": 1
}
