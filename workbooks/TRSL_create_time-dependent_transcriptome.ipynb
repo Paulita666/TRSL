{
 "cells": [
  {
   "cell_type": "markdown",
   "metadata": {},
   "source": [
    "# Create time-dependent transcriptome dicts"
   ]
  },
  {
   "cell_type": "markdown",
   "metadata": {},
   "source": [
    "This workbook imports the \"absolute\" time-dependent transcriptome that was calculated by integrating the FISH experiments by Aouefa/Lotte with the RNAseq experiments by Lotte.\n",
    "\n",
    "Results are pickled for use in the TRSL workflow."
   ]
  },
  {
   "cell_type": "code",
   "execution_count": 17,
   "metadata": {
    "collapsed": true
   },
   "outputs": [],
   "source": [
    "import pandas as pd\n",
    "import cPickle as pkl\n",
    "import math"
   ]
  },
  {
   "cell_type": "code",
   "execution_count": 18,
   "metadata": {
    "collapsed": true
   },
   "outputs": [],
   "source": [
    "transcript_file = '../data/FISH_RNAseq_combined_FACS_phases_5_genes.xlsx'"
   ]
  },
  {
   "cell_type": "code",
   "execution_count": 19,
   "metadata": {
    "collapsed": false
   },
   "outputs": [],
   "source": [
    "transcript_data = pd.read_excel(transcript_file, sheetname='nostress_WT_R1_rounded', \n",
    "                                skiprows=1, skipfooter=2, parse_cols='A, D:P')"
   ]
  },
  {
   "cell_type": "markdown",
   "metadata": {},
   "source": [
    "Add systematic gene names:"
   ]
  },
  {
   "cell_type": "code",
   "execution_count": 20,
   "metadata": {
    "collapsed": true
   },
   "outputs": [],
   "source": [
    "from pygenome import sg"
   ]
  },
  {
   "cell_type": "code",
   "execution_count": 21,
   "metadata": {
    "collapsed": false
   },
   "outputs": [],
   "source": [
    "orf_genomic_dict = pkl.load(open(\"../parameters/orf_coding.p\"))\n",
    "\n",
    "systematic = []\n",
    "for gene in transcript_data['Gene']:\n",
    "    try:\n",
    "        systematic.append(sg.systematic_name(gene))\n",
    "    except:\n",
    "        systematic.append(gene)\n",
    "    \n",
    "transcript_data['systematic'] = pd.Series(systematic)"
   ]
  },
  {
   "cell_type": "code",
   "execution_count": 22,
   "metadata": {
    "collapsed": false
   },
   "outputs": [
    {
     "data": {
      "text/html": [
       "<div>\n",
       "<table border=\"1\" class=\"dataframe\">\n",
       "  <thead>\n",
       "    <tr style=\"text-align: right;\">\n",
       "      <th></th>\n",
       "      <th>Gene</th>\n",
       "      <th>0</th>\n",
       "      <th>5</th>\n",
       "      <th>10</th>\n",
       "      <th>15</th>\n",
       "      <th>20</th>\n",
       "      <th>25</th>\n",
       "      <th>30</th>\n",
       "      <th>35</th>\n",
       "      <th>40</th>\n",
       "      <th>45</th>\n",
       "      <th>50</th>\n",
       "      <th>55</th>\n",
       "      <th>60</th>\n",
       "      <th>systematic</th>\n",
       "    </tr>\n",
       "  </thead>\n",
       "  <tbody>\n",
       "    <tr>\n",
       "      <th>0</th>\n",
       "      <td>YAL001C</td>\n",
       "      <td>0</td>\n",
       "      <td>1</td>\n",
       "      <td>1</td>\n",
       "      <td>1</td>\n",
       "      <td>1</td>\n",
       "      <td>2</td>\n",
       "      <td>2</td>\n",
       "      <td>1</td>\n",
       "      <td>1</td>\n",
       "      <td>1</td>\n",
       "      <td>0</td>\n",
       "      <td>1</td>\n",
       "      <td>1</td>\n",
       "      <td>YAL001C</td>\n",
       "    </tr>\n",
       "    <tr>\n",
       "      <th>1</th>\n",
       "      <td>YAL002W</td>\n",
       "      <td>1</td>\n",
       "      <td>0</td>\n",
       "      <td>1</td>\n",
       "      <td>1</td>\n",
       "      <td>1</td>\n",
       "      <td>2</td>\n",
       "      <td>2</td>\n",
       "      <td>3</td>\n",
       "      <td>1</td>\n",
       "      <td>1</td>\n",
       "      <td>0</td>\n",
       "      <td>1</td>\n",
       "      <td>1</td>\n",
       "      <td>YAL002W</td>\n",
       "    </tr>\n",
       "    <tr>\n",
       "      <th>2</th>\n",
       "      <td>YAL003W</td>\n",
       "      <td>19</td>\n",
       "      <td>15</td>\n",
       "      <td>48</td>\n",
       "      <td>51</td>\n",
       "      <td>51</td>\n",
       "      <td>100</td>\n",
       "      <td>100</td>\n",
       "      <td>104</td>\n",
       "      <td>27</td>\n",
       "      <td>47</td>\n",
       "      <td>23</td>\n",
       "      <td>46</td>\n",
       "      <td>46</td>\n",
       "      <td>YAL003W</td>\n",
       "    </tr>\n",
       "    <tr>\n",
       "      <th>3</th>\n",
       "      <td>YAL004W</td>\n",
       "      <td>0</td>\n",
       "      <td>0</td>\n",
       "      <td>0</td>\n",
       "      <td>0</td>\n",
       "      <td>0</td>\n",
       "      <td>0</td>\n",
       "      <td>0</td>\n",
       "      <td>0</td>\n",
       "      <td>0</td>\n",
       "      <td>0</td>\n",
       "      <td>0</td>\n",
       "      <td>0</td>\n",
       "      <td>0</td>\n",
       "      <td>YAL004W</td>\n",
       "    </tr>\n",
       "    <tr>\n",
       "      <th>4</th>\n",
       "      <td>YAL005C</td>\n",
       "      <td>29</td>\n",
       "      <td>26</td>\n",
       "      <td>62</td>\n",
       "      <td>47</td>\n",
       "      <td>50</td>\n",
       "      <td>83</td>\n",
       "      <td>93</td>\n",
       "      <td>99</td>\n",
       "      <td>41</td>\n",
       "      <td>34</td>\n",
       "      <td>26</td>\n",
       "      <td>46</td>\n",
       "      <td>44</td>\n",
       "      <td>YAL005C</td>\n",
       "    </tr>\n",
       "  </tbody>\n",
       "</table>\n",
       "</div>"
      ],
      "text/plain": [
       "      Gene   0   5  10  15  20   25   30   35  40  45  50  55  60 systematic\n",
       "0  YAL001C   0   1   1   1   1    2    2    1   1   1   0   1   1    YAL001C\n",
       "1  YAL002W   1   0   1   1   1    2    2    3   1   1   0   1   1    YAL002W\n",
       "2  YAL003W  19  15  48  51  51  100  100  104  27  47  23  46  46    YAL003W\n",
       "3  YAL004W   0   0   0   0   0    0    0    0   0   0   0   0   0    YAL004W\n",
       "4  YAL005C  29  26  62  47  50   83   93   99  41  34  26  46  44    YAL005C"
      ]
     },
     "execution_count": 22,
     "metadata": {},
     "output_type": "execute_result"
    }
   ],
   "source": [
    "transcript_data.head()"
   ]
  },
  {
   "cell_type": "markdown",
   "metadata": {},
   "source": [
    "Just trying out how to select rows:"
   ]
  },
  {
   "cell_type": "code",
   "execution_count": 23,
   "metadata": {
    "collapsed": false
   },
   "outputs": [
    {
     "data": {
      "text/html": [
       "<div>\n",
       "<table border=\"1\" class=\"dataframe\">\n",
       "  <thead>\n",
       "    <tr style=\"text-align: right;\">\n",
       "      <th></th>\n",
       "      <th>Gene</th>\n",
       "      <th>0</th>\n",
       "      <th>5</th>\n",
       "      <th>10</th>\n",
       "      <th>15</th>\n",
       "      <th>20</th>\n",
       "      <th>25</th>\n",
       "      <th>30</th>\n",
       "      <th>35</th>\n",
       "      <th>40</th>\n",
       "      <th>45</th>\n",
       "      <th>50</th>\n",
       "      <th>55</th>\n",
       "      <th>60</th>\n",
       "      <th>systematic</th>\n",
       "    </tr>\n",
       "  </thead>\n",
       "  <tbody>\n",
       "    <tr>\n",
       "      <th>0</th>\n",
       "      <td>YAL001C</td>\n",
       "      <td>0</td>\n",
       "      <td>1</td>\n",
       "      <td>1</td>\n",
       "      <td>1</td>\n",
       "      <td>1</td>\n",
       "      <td>2</td>\n",
       "      <td>2</td>\n",
       "      <td>1</td>\n",
       "      <td>1</td>\n",
       "      <td>1</td>\n",
       "      <td>0</td>\n",
       "      <td>1</td>\n",
       "      <td>1</td>\n",
       "      <td>YAL001C</td>\n",
       "    </tr>\n",
       "  </tbody>\n",
       "</table>\n",
       "</div>"
      ],
      "text/plain": [
       "      Gene  0  5  10  15  20  25  30  35  40  45  50  55  60 systematic\n",
       "0  YAL001C  0  1   1   1   1   2   2   1   1   1   0   1   1    YAL001C"
      ]
     },
     "execution_count": 23,
     "metadata": {},
     "output_type": "execute_result"
    }
   ],
   "source": [
    "transcript_data[transcript_data['Gene'].isin(['YAL001C'])]"
   ]
  },
  {
   "cell_type": "code",
   "execution_count": 24,
   "metadata": {
    "collapsed": false
   },
   "outputs": [],
   "source": [
    "transcriptome_time_dependent = {}\n",
    "\n",
    "for t in range(0, 61, 5):\n",
    "    transcriptome_time_dependent[t] = pd.Series([int(val) if not math.isnan(val) else 0 \n",
    "                                                 for val in transcript_data[t].values],\n",
    "                                                index=transcript_data['systematic']).to_dict()"
   ]
  },
  {
   "cell_type": "code",
   "execution_count": 25,
   "metadata": {
    "collapsed": false
   },
   "outputs": [
    {
     "name": "stdout",
     "output_type": "stream",
     "text": [
      "6651\n"
     ]
    }
   ],
   "source": [
    "print len(transcriptome_time_dependent[5])"
   ]
  },
  {
   "cell_type": "code",
   "execution_count": 26,
   "metadata": {
    "collapsed": false
   },
   "outputs": [],
   "source": [
    "pkl.dump(transcriptome_time_dependent, open(\"../parameters/transcriptome_time_dependent.p\", \"wb\"))"
   ]
  }
 ],
 "metadata": {
  "kernelspec": {
   "display_name": "Python 2",
   "language": "python",
   "name": "python2"
  },
  "language_info": {
   "codemirror_mode": {
    "name": "ipython",
    "version": 2
   },
   "file_extension": ".py",
   "mimetype": "text/x-python",
   "name": "python",
   "nbconvert_exporter": "python",
   "pygments_lexer": "ipython2",
   "version": "2.7.6"
  }
 },
 "nbformat": 4,
 "nbformat_minor": 0
}
