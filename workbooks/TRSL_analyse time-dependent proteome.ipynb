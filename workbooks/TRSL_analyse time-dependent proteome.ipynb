{
 "cells": [
  {
   "cell_type": "markdown",
   "metadata": {},
   "source": [
    "# Analyse time-dependent proteome"
   ]
  },
  {
   "cell_type": "markdown",
   "metadata": {},
   "source": [
    "## 1. Load data into workbook"
   ]
  },
  {
   "cell_type": "code",
   "execution_count": 3,
   "metadata": {
    "collapsed": true
   },
   "outputs": [],
   "source": [
    "import cPickle as pkl\n",
    "import re\n",
    "import matplotlib.pyplot as plt\n",
    "%matplotlib inline\n",
    "from statsmodels.nonparametric.smoothers_lowess import lowess"
   ]
  },
  {
   "cell_type": "markdown",
   "metadata": {},
   "source": [
    "Write part of the directory listing to a variable:"
   ]
  },
  {
   "cell_type": "code",
   "execution_count": 16,
   "metadata": {
    "collapsed": false
   },
   "outputs": [],
   "source": [
    "files = !ls ..\\results\\po*"
   ]
  },
  {
   "cell_type": "code",
   "execution_count": 17,
   "metadata": {
    "collapsed": false
   },
   "outputs": [
    {
     "name": "stdout",
     "output_type": "stream",
     "text": [
      " Datentr„ger in Laufwerk C: ist Windows8_OS\n",
      " Volumeseriennummer: 54DB-BDA9\n",
      "\n",
      " Verzeichnis von C:\\Users\\MJS\\git\\TRSL1\\results\n",
      "\n",
      "26.01.2016  15:09        19.291.652 polyphasic cell cycle from 0 to 300, updated Shah transcriptome, full exome, no decay, updated initiation rates according to Shah_20160121_1034_0600s.p\n",
      "26.01.2016  15:08        34.950.891 polyphasic cell cycle from 1200 to 1500, updated Shah transcriptome, full exome, no decay, updated initiation rates according to Shah_20160121_1103_0600s.p\n",
      "26.01.2016  15:08        42.684.310 polyphasic cell cycle from 1500 to 1800, updated Shah transcriptome, full exome, no decay, updated initiation rates according to Shah_20160121_1112_0600s.p\n",
      "26.01.2016  15:08        43.574.465 polyphasic cell cycle from 1800 to 2100, updated Shah transcriptome, full exome, no decay, updated initiation rates according to Shah_20160121_1121_0600s.p\n",
      "26.01.2016  15:09        43.948.524 polyphasic cell cycle from 2100 to 2400, updated Shah transcriptome, full exome, no decay, updated initiation rates according to Shah_20160121_1131_0600s.p\n",
      "26.01.2016  15:09        31.783.212 polyphasic cell cycle from 2400 to 2700, updated Shah transcriptome, full exome, no decay, updated initiation rates according to Shah_20160121_1139_0600s.p\n",
      "26.01.2016  15:09        32.100.677 polyphasic cell cycle from 2700 to 3000, updated Shah transcriptome, full exome, no decay, updated initiation rates according to Shah_20160121_1148_0600s.p\n",
      "26.01.2016  15:08        21.418.622 polyphasic cell cycle from 300 to 600, updated Shah transcriptome, full exome, no decay, updated initiation rates according to Shah_20160121_1039_0600s.p\n",
      "26.01.2016  15:09        28.307.317 polyphasic cell cycle from 3000 to 3300, updated Shah transcriptome, full exome, no decay, updated initiation rates according to Shah_20160121_1156_0600s.p\n",
      "26.01.2016  15:09        33.867.106 polyphasic cell cycle from 3300 to 3600, updated Shah transcriptome, full exome, no decay, updated initiation rates according to Shah_20160121_1205_0600s.p\n",
      "26.01.2016  15:08        33.139.714 polyphasic cell cycle from 600 to 900, updated Shah transcriptome, full exome, no decay, updated initiation rates according to Shah_20160121_1047_0600s.p\n",
      "26.01.2016  15:08        34.131.480 polyphasic cell cycle from 900 to 1200, updated Shah transcriptome, full exome, no decay, updated initiation rates according to Shah_20160121_1055_0600s.p\n",
      "              12 Datei(en),    399.197.970 Bytes\n",
      "               0 Verzeichnis(se), 115.914.657.792 Bytes frei\n"
     ]
    }
   ],
   "source": [
    "ls ..\\results\\po*"
   ]
  },
  {
   "cell_type": "markdown",
   "metadata": {},
   "source": [
    "Set up a dictionary that contains the simulation results."
   ]
  },
  {
   "cell_type": "code",
   "execution_count": 19,
   "metadata": {
    "collapsed": false
   },
   "outputs": [
    {
     "name": "stdout",
     "output_type": "stream",
     "text": [
      "None\n"
     ]
    },
    {
     "ename": "AttributeError",
     "evalue": "'NoneType' object has no attribute 'group'",
     "output_type": "error",
     "traceback": [
      "\u001b[1;31m---------------------------------------------------------------------------\u001b[0m",
      "\u001b[1;31mAttributeError\u001b[0m                            Traceback (most recent call last)",
      "\u001b[1;32m<ipython-input-19-01a0f8cbb169>\u001b[0m in \u001b[0;36m<module>\u001b[1;34m()\u001b[0m\n\u001b[0;32m      3\u001b[0m     \u001b[0mmatch\u001b[0m \u001b[1;33m=\u001b[0m \u001b[0mre\u001b[0m\u001b[1;33m.\u001b[0m\u001b[0msearch\u001b[0m\u001b[1;33m(\u001b[0m\u001b[1;34mr'from (\\w+)'\u001b[0m\u001b[1;33m,\u001b[0m \u001b[0mfile\u001b[0m\u001b[1;33m)\u001b[0m\u001b[1;33m\u001b[0m\u001b[0m\n\u001b[0;32m      4\u001b[0m     \u001b[1;32mprint\u001b[0m \u001b[0mmatch\u001b[0m\u001b[1;33m\u001b[0m\u001b[0m\n\u001b[1;32m----> 5\u001b[1;33m     \u001b[0mfilepaths\u001b[0m\u001b[1;33m[\u001b[0m\u001b[0mint\u001b[0m\u001b[1;33m(\u001b[0m\u001b[0mmatch\u001b[0m\u001b[1;33m.\u001b[0m\u001b[0mgroup\u001b[0m\u001b[1;33m(\u001b[0m\u001b[1;36m1\u001b[0m\u001b[1;33m)\u001b[0m\u001b[1;33m.\u001b[0m\u001b[0mzfill\u001b[0m\u001b[1;33m(\u001b[0m\u001b[1;36m4\u001b[0m\u001b[1;33m)\u001b[0m\u001b[1;33m)\u001b[0m\u001b[1;33m]\u001b[0m \u001b[1;33m=\u001b[0m \u001b[0mfile\u001b[0m\u001b[1;33m\u001b[0m\u001b[0m\n\u001b[0m",
      "\u001b[1;31mAttributeError\u001b[0m: 'NoneType' object has no attribute 'group'"
     ]
    }
   ],
   "source": [
    "filepaths = {}\n",
    "for file in files:\n",
    "    match = re.search(r'from (\\w+)', file)\n",
    "    print match\n",
    "    filepaths[int(match.group(1).zfill(4))] = file"
   ]
  },
  {
   "cell_type": "markdown",
   "metadata": {},
   "source": [
    "Function to replace _numpypy.multiarray by numpy.core.multiarray. Source: http://stackoverflow.com/questions/39086/search-and-replace-a-line-in-a-file-in-python"
   ]
  },
  {
   "cell_type": "code",
   "execution_count": 30,
   "metadata": {
    "collapsed": true
   },
   "outputs": [],
   "source": [
    "from tempfile import mkstemp\n",
    "from shutil import move\n",
    "from os import remove, close\n",
    "\n",
    "def replace(file_path, pattern, subst):\n",
    "    #Create temp file\n",
    "    fh, abs_path = mkstemp()\n",
    "    with open(abs_path,'w') as new_file:\n",
    "        with open(file_path) as old_file:\n",
    "            for line in old_file:\n",
    "                new_file.write(line.replace(pattern, subst))\n",
    "    close(fh)\n",
    "    #Remove original file\n",
    "    remove(file_path)\n",
    "    #Move new file\n",
    "    move(abs_path, file_path)"
   ]
  },
  {
   "cell_type": "markdown",
   "metadata": {},
   "source": [
    "Create proteome dictionary:"
   ]
  },
  {
   "cell_type": "code",
   "execution_count": 35,
   "metadata": {
    "collapsed": false
   },
   "outputs": [
    {
     "name": "stdout",
     "output_type": "stream",
     "text": [
      "0 2400 3300 1800 300 2700 1200 600 2100 3000 900 1500\n"
     ]
    }
   ],
   "source": [
    "results = {}\n",
    "proteome = {}\n",
    "for time in filepaths:\n",
    "    print time,\n",
    "    replace(filepaths[time], \"_numpypy.multiarray\", \"numpy.core.multiarray\")\n",
    "    results[time] = pkl.load(open(filepaths[time]))\n",
    "    proteome[time] = {key: results[time]['proteome'][key] for key in results[time]['proteome'] \n",
    "                     if results[time]['proteome'][key] > 1e-1}"
   ]
  },
  {
   "cell_type": "markdown",
   "metadata": {},
   "source": [
    "## 2. Test whether burn-in period has been long enough"
   ]
  },
  {
   "cell_type": "code",
   "execution_count": 36,
   "metadata": {
    "collapsed": true
   },
   "outputs": [],
   "source": [
    "def scatter_dicts(dict1, dict2, xaxislabel=None, yaxislabel=None, fontsize=None):\n",
    "    plotkeys = dict1.viewkeys() & dict2.viewkeys() # set intersection\n",
    "    print len(plotkeys)\n",
    "    xs = [dict1[key] for key in plotkeys]\n",
    "    ys = [dict2[key] for key in plotkeys] \n",
    "\n",
    "    fig =  plt.figure()                \n",
    "\n",
    "    ax = fig.add_subplot(111)\n",
    "    ax.grid(True, linestyle = '-', color = '0.75')\n",
    "    ax.set_xscale('log')\n",
    "    ax.set_yscale('log')\n",
    "    if xaxislabel:\n",
    "        ax.set_xlabel(xaxislabel)\n",
    "        if fontsize:\n",
    "            ax.set_xlabel(xaxislabel, fontsize=fontsize)\n",
    "            plt.setp(ax.get_xticklabels(), fontsize=fontsize)\n",
    "    if yaxislabel:\n",
    "        ax.set_ylabel(yaxislabel)\n",
    "        if fontsize:\n",
    "            ax.set_ylabel(yaxislabel, fontsize=fontsize)\n",
    "            plt.setp(ax.get_yticklabels(), fontsize=fontsize)\n",
    "\n",
    "    scat = plt.scatter(xs, ys)\n",
    "    scat.set_alpha(0.2)\n",
    "\n",
    "    points = zip(xs, ys)\n",
    "    sorted_points = sorted(points)\n",
    "    new_xs = [point[0] for point in sorted_points]\n",
    "    new_ys = [point[1] for point in sorted_points]\n",
    "    ylowess = lowess(new_ys, new_xs)[:,1]\n",
    "    plt.plot(new_xs, ylowess, 'orange', linewidth=4)\n",
    "\n",
    "    plt.show()"
   ]
  },
  {
   "cell_type": "code",
   "execution_count": 37,
   "metadata": {
    "collapsed": false
   },
   "outputs": [
    {
     "name": "stdout",
     "output_type": "stream",
     "text": [
      "3123\n"
     ]
    }
   ],
   "source": [
    "scatter_dicts(proteome[0], proteome[3300], xaxislabel=\"proteome (300 s)\", yaxislabel=\"proteome (3600 s)\", fontsize=None)"
   ]
  },
  {
   "cell_type": "code",
   "execution_count": null,
   "metadata": {
    "collapsed": true
   },
   "outputs": [],
   "source": []
  }
 ],
 "metadata": {
  "kernelspec": {
   "display_name": "Python 2",
   "language": "python",
   "name": "python2"
  },
  "language_info": {
   "codemirror_mode": {
    "name": "ipython",
    "version": 2
   },
   "file_extension": ".py",
   "mimetype": "text/x-python",
   "name": "python",
   "nbconvert_exporter": "python",
   "pygments_lexer": "ipython2",
   "version": "2.7.6"
  }
 },
 "nbformat": 4,
 "nbformat_minor": 0
}
