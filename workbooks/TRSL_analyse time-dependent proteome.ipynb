{
 "cells": [
  {
   "cell_type": "markdown",
   "metadata": {},
   "source": [
    "# Analyse time-dependent proteome"
   ]
  },
  {
   "cell_type": "markdown",
   "metadata": {},
   "source": [
    "## 1. Load data into workbook"
   ]
  },
  {
   "cell_type": "code",
   "execution_count": 13,
   "metadata": {
    "collapsed": true
   },
   "outputs": [],
   "source": [
    "import cPickle as pkl\n",
    "import re\n",
    "import matplotlib.pyplot as plt\n",
    "from statsmodels.nonparametric.smoothers_lowess import lowess"
   ]
  },
  {
   "cell_type": "markdown",
   "metadata": {},
   "source": [
    "Write part of the directory listing to a variable:"
   ]
  },
  {
   "cell_type": "code",
   "execution_count": 27,
   "metadata": {
    "collapsed": false
   },
   "outputs": [],
   "source": [
    "files = !ls ../results/po*"
   ]
  },
  {
   "cell_type": "markdown",
   "metadata": {},
   "source": [
    "Set up a dictionary that contains the simulation results."
   ]
  },
  {
   "cell_type": "code",
   "execution_count": 29,
   "metadata": {
    "collapsed": false
   },
   "outputs": [],
   "source": [
    "filepaths = {}\n",
    "for file in files:\n",
    "    match = re.search(r'from (\\w+)', file)\n",
    "    filepaths[int(match.group(1).zfill(4))] = file"
   ]
  },
  {
   "cell_type": "markdown",
   "metadata": {},
   "source": [
    "Function to replace _numpypy.multiarray by numpy.core.multiarray. Source: http://stackoverflow.com/questions/39086/search-and-replace-a-line-in-a-file-in-python"
   ]
  },
  {
   "cell_type": "code",
   "execution_count": 30,
   "metadata": {
    "collapsed": true
   },
   "outputs": [],
   "source": [
    "from tempfile import mkstemp\n",
    "from shutil import move\n",
    "from os import remove, close\n",
    "\n",
    "def replace(file_path, pattern, subst):\n",
    "    #Create temp file\n",
    "    fh, abs_path = mkstemp()\n",
    "    with open(abs_path,'w') as new_file:\n",
    "        with open(file_path) as old_file:\n",
    "            for line in old_file:\n",
    "                new_file.write(line.replace(pattern, subst))\n",
    "    close(fh)\n",
    "    #Remove original file\n",
    "    remove(file_path)\n",
    "    #Move new file\n",
    "    move(abs_path, file_path)"
   ]
  },
  {
   "cell_type": "markdown",
   "metadata": {},
   "source": [
    "Create proteome dictionary:"
   ]
  },
  {
   "cell_type": "code",
   "execution_count": 35,
   "metadata": {
    "collapsed": false
   },
   "outputs": [
    {
     "name": "stdout",
     "output_type": "stream",
     "text": [
      "0 2400 3300 1800 300 2700 1200 600 2100 3000 900 1500\n"
     ]
    }
   ],
   "source": [
    "results = {}\n",
    "proteome = {}\n",
    "for time in filepaths:\n",
    "    print time,\n",
    "    replace(filepaths[time], \"_numpypy.multiarray\", \"numpy.core.multiarray\")\n",
    "    results[time] = pkl.load(open(filepaths[time]))\n",
    "    proteome[time] = {key: results[time]['proteome'][key] for key in results[time]['proteome'] \n",
    "                     if results[time]['proteome'][key] > 1e-1}"
   ]
  },
  {
   "cell_type": "markdown",
   "metadata": {},
   "source": [
    "## 2. Test whether burn-in period has been long enough"
   ]
  },
  {
   "cell_type": "code",
   "execution_count": 36,
   "metadata": {
    "collapsed": true
   },
   "outputs": [],
   "source": [
    "def scatter_dicts(dict1, dict2, xaxislabel=None, yaxislabel=None, fontsize=None):\n",
    "    plotkeys = dict1.viewkeys() & dict2.viewkeys() # set intersection\n",
    "    print len(plotkeys)\n",
    "    xs = [dict1[key] for key in plotkeys]\n",
    "    ys = [dict2[key] for key in plotkeys] \n",
    "\n",
    "    fig =  plt.figure()                \n",
    "\n",
    "    ax = fig.add_subplot(111)\n",
    "    ax.grid(True, linestyle = '-', color = '0.75')\n",
    "    ax.set_xscale('log')\n",
    "    ax.set_yscale('log')\n",
    "    if xaxislabel:\n",
    "        ax.set_xlabel(xaxislabel)\n",
    "        if fontsize:\n",
    "            ax.set_xlabel(xaxislabel, fontsize=fontsize)\n",
    "            plt.setp(ax.get_xticklabels(), fontsize=fontsize)\n",
    "    if yaxislabel:\n",
    "        ax.set_ylabel(yaxislabel)\n",
    "        if fontsize:\n",
    "            ax.set_ylabel(yaxislabel, fontsize=fontsize)\n",
    "            plt.setp(ax.get_yticklabels(), fontsize=fontsize)\n",
    "\n",
    "    scat = plt.scatter(xs, ys)\n",
    "    scat.set_alpha(0.2)\n",
    "\n",
    "    points = zip(xs, ys)\n",
    "    sorted_points = sorted(points)\n",
    "    new_xs = [point[0] for point in sorted_points]\n",
    "    new_ys = [point[1] for point in sorted_points]\n",
    "    ylowess = lowess(new_ys, new_xs)[:,1]\n",
    "    plt.plot(new_xs, ylowess, 'orange', linewidth=4)\n",
    "\n",
    "    plt.show()"
   ]
  },
  {
   "cell_type": "code",
   "execution_count": 37,
   "metadata": {
    "collapsed": false
   },
   "outputs": [
    {
     "name": "stdout",
     "output_type": "stream",
     "text": [
      "3123\n"
     ]
    }
   ],
   "source": [
    "scatter_dicts(proteome[0], proteome[3300], xaxislabel=\"proteome (300 s)\", yaxislabel=\"proteome (3600 s)\", fontsize=None)"
   ]
  },
  {
   "cell_type": "code",
   "execution_count": null,
   "metadata": {
    "collapsed": true
   },
   "outputs": [],
   "source": []
  }
 ],
 "metadata": {
  "kernelspec": {
   "display_name": "Python 2",
   "language": "python",
   "name": "python2"
  },
  "language_info": {
   "codemirror_mode": {
    "name": "ipython",
    "version": 2
   },
   "file_extension": ".py",
   "mimetype": "text/x-python",
   "name": "python",
   "nbconvert_exporter": "python",
   "pygments_lexer": "ipython2",
   "version": "2.7.6"
  }
 },
 "nbformat": 4,
 "nbformat_minor": 0
}
