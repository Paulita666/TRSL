{
 "cells": [
  {
   "cell_type": "markdown",
   "metadata": {},
   "source": [
    "# Analyse "
   ]
  },
  {
   "cell_type": "code",
   "execution_count": 20,
   "metadata": {
    "collapsed": true
   },
   "outputs": [],
   "source": [
    "import cPickle as pkl\n",
    "import matplotlib.pyplot as plt\n",
    "from statsmodels.nonparametric.smoothers_lowess import lowess"
   ]
  },
  {
   "cell_type": "code",
   "execution_count": 9,
   "metadata": {
    "collapsed": true
   },
   "outputs": [],
   "source": [
    "filepath_0000 = \"../results/polyphasic cell cycle from 0 to 300, updated Shah transcriptome, full exome, no decay, updated initiation rates according to Shah_20160119_1705_0600s.p\"\n",
    "filepath_1200 = \"../results/polyphasic cell cycle from 1200 to 1500, updated Shah transcriptome, full exome, no decay, updated initiation rates according to Shah_20160120_1149_0600s.p\""
   ]
  },
  {
   "cell_type": "markdown",
   "metadata": {},
   "source": [
    "Function to replace _numpypy.multiarray by numpy.core.multiarray. Source: http://stackoverflow.com/questions/39086/search-and-replace-a-line-in-a-file-in-python"
   ]
  },
  {
   "cell_type": "code",
   "execution_count": 10,
   "metadata": {
    "collapsed": true
   },
   "outputs": [],
   "source": [
    "from tempfile import mkstemp\n",
    "from shutil import move\n",
    "from os import remove, close\n",
    "\n",
    "def replace(file_path, pattern, subst):\n",
    "    #Create temp file\n",
    "    fh, abs_path = mkstemp()\n",
    "    with open(abs_path,'w') as new_file:\n",
    "        with open(file_path) as old_file:\n",
    "            for line in old_file:\n",
    "                new_file.write(line.replace(pattern, subst))\n",
    "    close(fh)\n",
    "    #Remove original file\n",
    "    remove(file_path)\n",
    "    #Move new file\n",
    "    move(abs_path, file_path)"
   ]
  },
  {
   "cell_type": "code",
   "execution_count": 11,
   "metadata": {
    "collapsed": true
   },
   "outputs": [],
   "source": [
    "replace(filepath_0000, \"_numpypy.multiarray\", \"numpy.core.multiarray\")\n",
    "replace(filepath_1200, \"_numpypy.multiarray\", \"numpy.core.multiarray\")"
   ]
  },
  {
   "cell_type": "code",
   "execution_count": 12,
   "metadata": {
    "collapsed": false
   },
   "outputs": [],
   "source": [
    "results_0000 = pkl.load(open(filepath_0000))\n",
    "results_1200 = pkl.load(open(filepath_1200))"
   ]
  },
  {
   "cell_type": "code",
   "execution_count": 29,
   "metadata": {
    "collapsed": false
   },
   "outputs": [],
   "source": [
    "results_0000_cut = {key: results_0000['proteome'][key] for key in results_0000['proteome'] if results_0000['proteome'][key] > 1e-1}\n",
    "results_1200_cut = {key: results_1200['proteome'][key] for key in results_1200['proteome'] if results_1200['proteome'][key] > 1e-1}"
   ]
  },
  {
   "cell_type": "code",
   "execution_count": 30,
   "metadata": {
    "collapsed": true
   },
   "outputs": [],
   "source": [
    "def scatter_dicts(dict1, dict2, xaxislabel=None, yaxislabel=None, fontsize=None):\n",
    "    plotkeys = dict1.viewkeys() & dict2.viewkeys() # set intersection\n",
    "    print len(plotkeys)\n",
    "    xs = [dict1[key] for key in plotkeys]\n",
    "    ys = [dict2[key] for key in plotkeys] \n",
    "\n",
    "    fig =  plt.figure()                \n",
    "\n",
    "    ax = fig.add_subplot(111)\n",
    "    ax.grid(True, linestyle = '-', color = '0.75')\n",
    "    ax.set_xscale('log')\n",
    "    ax.set_yscale('log')\n",
    "    if xaxislabel:\n",
    "        ax.set_xlabel(xaxislabel)\n",
    "        if fontsize:\n",
    "            ax.set_xlabel(xaxislabel, fontsize=fontsize)\n",
    "            plt.setp(ax.get_xticklabels(), fontsize=fontsize)\n",
    "    if yaxislabel:\n",
    "        ax.set_ylabel(yaxislabel)\n",
    "        if fontsize:\n",
    "            ax.set_ylabel(yaxislabel, fontsize=fontsize)\n",
    "            plt.setp(ax.get_yticklabels(), fontsize=fontsize)\n",
    "\n",
    "    scat = plt.scatter(xs, ys)\n",
    "    scat.set_alpha(0.2)\n",
    "\n",
    "    points = zip(xs, ys)\n",
    "    sorted_points = sorted(points)\n",
    "    new_xs = [point[0] for point in sorted_points]\n",
    "    new_ys = [point[1] for point in sorted_points]\n",
    "    ylowess = lowess(new_ys, new_xs)[:,1]\n",
    "    plt.plot(new_xs, ylowess, 'orange', linewidth=4)\n",
    "\n",
    "    plt.show()"
   ]
  },
  {
   "cell_type": "code",
   "execution_count": 31,
   "metadata": {
    "collapsed": false
   },
   "outputs": [
    {
     "name": "stdout",
     "output_type": "stream",
     "text": [
      "527\n"
     ]
    }
   ],
   "source": [
    "scatter_dicts(results_0000_cut, results_1200_cut, xaxislabel=\"proteome (300 s)\", yaxislabel=\"proteome (1500 s)\", fontsize=None)"
   ]
  },
  {
   "cell_type": "code",
   "execution_count": null,
   "metadata": {
    "collapsed": true
   },
   "outputs": [],
   "source": []
  }
 ],
 "metadata": {
  "kernelspec": {
   "display_name": "Python 2",
   "language": "python",
   "name": "python2"
  },
  "language_info": {
   "codemirror_mode": {
    "name": "ipython",
    "version": 2
   },
   "file_extension": ".py",
   "mimetype": "text/x-python",
   "name": "python",
   "nbconvert_exporter": "python",
   "pygments_lexer": "ipython2",
   "version": "2.7.6"
  }
 },
 "nbformat": 4,
 "nbformat_minor": 0
}
