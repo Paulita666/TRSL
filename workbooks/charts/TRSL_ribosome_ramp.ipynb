{
 "cells": [
  {
   "cell_type": "markdown",
   "metadata": {},
   "source": [
    "### Ribosome ramp"
   ]
  },
  {
   "cell_type": "markdown",
   "metadata": {},
   "source": [
    "Improved Ribosome-Footprint and mRNA Measurements Provide Insights into Dynamics and Regulation of Yeast Translation\n",
    "\n",
    "http://www.cell.com/cell-reports/abstract/S2211-1247(16)30021-3"
   ]
  },
  {
   "cell_type": "code",
   "execution_count": 43,
   "metadata": {
    "collapsed": true
   },
   "outputs": [],
   "source": [
    "import cPickle as pkl\n",
    "import numpy as np\n",
    "import pandas as pd\n",
    "import shelve\n",
    "import matplotlib\n",
    "import matplotlib.pyplot as plt\n",
    "%matplotlib inline\n",
    "matplotlib.style.use('ggplot')"
   ]
  },
  {
   "cell_type": "code",
   "execution_count": 44,
   "metadata": {
    "collapsed": false
   },
   "outputs": [
    {
     "data": {
      "text/plain": [
       "6713"
      ]
     },
     "execution_count": 44,
     "metadata": {},
     "output_type": "execute_result"
    }
   ],
   "source": [
    "orf_genomic_dict = pkl.load(open(\"../parameters/orf_coding.p\"))\n",
    "len(orf_genomic_dict)"
   ]
  },
  {
   "cell_type": "code",
   "execution_count": 45,
   "metadata": {
    "collapsed": true
   },
   "outputs": [],
   "source": [
    "#filepath_general = \"../results/updated Shah transcriptome, full exome, no decay, updated initiation rates according to Shah_20151120_2051_3600s.p\"\n",
    "#filepath_polysomes = \"../results/ribosome_timecourses_updated Shah transcriptome, full exome, no decay, updated initiation rates according to Shah_20151120_2052.db\"\n",
    "\n",
    "filepath_general = \"../results/updated Shah transcriptome, full exome, no decay, updated initiation rates according to Shah_20160810_1513_1800s.p\"\n",
    "filepath_polysomes = \"../results/ribosome_timecourses_updated Shah transcriptome, full exome, no decay, updated initiation rates according to Shah_20160810_1513.db\""
   ]
  },
  {
   "cell_type": "markdown",
   "metadata": {},
   "source": [
    "Regular results:"
   ]
  },
  {
   "cell_type": "markdown",
   "metadata": {},
   "source": [
    "Make file readable by ipython in case it was created by pypy:"
   ]
  },
  {
   "cell_type": "code",
   "execution_count": 46,
   "metadata": {
    "collapsed": false
   },
   "outputs": [],
   "source": [
    "from tempfile import mkstemp\n",
    "from shutil import move\n",
    "from os import remove, close\n",
    "\n",
    "def replace(file_path, pattern, subst):\n",
    "    #Create temp file\n",
    "    fh, abs_path = mkstemp()\n",
    "    with open(abs_path, 'w') as new_file:\n",
    "        with open(file_path) as old_file:\n",
    "            for line in old_file:\n",
    "                new_file.write(line.replace(pattern, subst))\n",
    "    close(fh)\n",
    "    #Remove original file\n",
    "    remove(file_path)\n",
    "    #Move new file\n",
    "    move(abs_path, file_path)\n",
    "    \n",
    "#replace(filepath_general, \"_numpypy.multiarray\", \"numpy.core.multiarray\")"
   ]
  },
  {
   "cell_type": "code",
   "execution_count": 47,
   "metadata": {
    "collapsed": false
   },
   "outputs": [],
   "source": [
    "results = pkl.load(open(filepath_general))"
   ]
  },
  {
   "cell_type": "code",
   "execution_count": 48,
   "metadata": {
    "collapsed": false
   },
   "outputs": [
    {
     "name": "stdout",
     "output_type": "stream",
     "text": [
      "['n_tRNA', 'description', 'n_ribosomes', 'timerange', 'proteome', 'transcriptome', 'duration', 'time_stamp', 'timecourses']\n"
     ]
    }
   ],
   "source": [
    "print results.keys()"
   ]
  },
  {
   "cell_type": "markdown",
   "metadata": {},
   "source": [
    "Detailed results/ribosome timecourses:"
   ]
  },
  {
   "cell_type": "code",
   "execution_count": 49,
   "metadata": {
    "collapsed": false
   },
   "outputs": [],
   "source": [
    "d = shelve.open(filepath_polysomes)"
   ]
  },
  {
   "cell_type": "markdown",
   "metadata": {},
   "source": [
    "Generate the ribosome lattice dict (for every gene the total of ribos at all positions):"
   ]
  },
  {
   "cell_type": "code",
   "execution_count": 50,
   "metadata": {
    "collapsed": true
   },
   "outputs": [],
   "source": [
    "ribo_lattice_dict = {}\n",
    "\n",
    "for mRNA in results['transcriptome']:\n",
    "    n_nucleotides = len(mRNA.sequence)\n",
    "    last_polysome = d['mRNA_'+str(mRNA.index).zfill(5)][-1]  # we look at last polysome to catch steady state\n",
    "\n",
    "    # Select only every third element (the others are zero anyway):\n",
    "    # translate the model's polysome format to lattice of ones and zeros:\n",
    "    ribos = np.array([1 if pos in last_polysome else 0 for pos in range(0, n_nucleotides, 3)])\n",
    "    \n",
    "    if mRNA.geneID in ribo_lattice_dict:  # if this gene has been encountered before\n",
    "        ribo_lattice_dict[mRNA.geneID] += ribos\n",
    "    else:                                 # if this gene is new\n",
    "        ribo_lattice_dict[mRNA.geneID] = ribos"
   ]
  },
  {
   "cell_type": "code",
   "execution_count": 51,
   "metadata": {
    "collapsed": true
   },
   "outputs": [],
   "source": [
    "avg_ribos_per_gene = {}\n",
    "\n",
    "for gene in ribo_lattice_dict:\n",
    "    avg_ribos_per_gene[gene] = np.mean(ribo_lattice_dict[gene])"
   ]
  },
  {
   "cell_type": "code",
   "execution_count": 52,
   "metadata": {
    "collapsed": false
   },
   "outputs": [
    {
     "data": {
      "text/plain": [
       "count    4475.000000\n",
       "mean        0.124851\n",
       "std         0.626385\n",
       "min         0.000000\n",
       "25%         0.006701\n",
       "50%         0.017291\n",
       "75%         0.051025\n",
       "max        14.365248\n",
       "dtype: float64"
      ]
     },
     "execution_count": 52,
     "metadata": {},
     "output_type": "execute_result"
    }
   ],
   "source": [
    "pd.Series(avg_ribos_per_gene).describe()"
   ]
  },
  {
   "cell_type": "markdown",
   "metadata": {},
   "source": [
    "Check by means of an example:"
   ]
  },
  {
   "cell_type": "code",
   "execution_count": 53,
   "metadata": {
    "collapsed": false
   },
   "outputs": [
    {
     "name": "stdout",
     "output_type": "stream",
     "text": [
      "0.00970873786408\n",
      "0.00970873786408\n",
      "0.00970873786408\n"
     ]
    }
   ],
   "source": [
    "print sum(ribo_lattice_dict['YIL140W'])*1.0/len(ribo_lattice_dict['YIL140W'])\n",
    "print avg_ribos_per_gene['YIL140W']\n",
    "print np.mean(ribo_lattice_dict['YIL140W'])"
   ]
  },
  {
   "cell_type": "markdown",
   "metadata": {},
   "source": [
    "#### Analysis of all genes (no count restriction)"
   ]
  },
  {
   "cell_type": "markdown",
   "metadata": {},
   "source": [
    "Define Weinberg's z (eq. S7):"
   ]
  },
  {
   "cell_type": "code",
   "execution_count": 54,
   "metadata": {
    "collapsed": true
   },
   "outputs": [],
   "source": [
    "z = {}\n",
    "\n",
    "for gene in ribo_lattice_dict:\n",
    "    if avg_ribos_per_gene[gene]>0:\n",
    "        z[gene] = ribo_lattice_dict[gene] / avg_ribos_per_gene[gene]"
   ]
  },
  {
   "cell_type": "markdown",
   "metadata": {},
   "source": [
    "Test of z:"
   ]
  },
  {
   "cell_type": "code",
   "execution_count": 55,
   "metadata": {
    "collapsed": false
   },
   "outputs": [
    {
     "data": {
      "text/plain": [
       "2278366.0"
      ]
     },
     "execution_count": 55,
     "metadata": {},
     "output_type": "execute_result"
    }
   ],
   "source": [
    "sum([sum(z[gene]) for gene in z])"
   ]
  },
  {
   "cell_type": "code",
   "execution_count": 56,
   "metadata": {
    "collapsed": false
   },
   "outputs": [],
   "source": [
    "orf_lengths = {prot: len(orf_genomic_dict[prot]) for prot in orf_genomic_dict}"
   ]
  },
  {
   "cell_type": "markdown",
   "metadata": {},
   "source": [
    "Artificially restrict ribo_lattice_dict (for testing):"
   ]
  },
  {
   "cell_type": "code",
   "execution_count": 57,
   "metadata": {
    "collapsed": false
   },
   "outputs": [],
   "source": [
    "# ribo_lattice_dict = {key: ribo_lattice_dict[key] for key in ribo_lattice_dict if key in orf_lengths}"
   ]
  },
  {
   "cell_type": "markdown",
   "metadata": {},
   "source": [
    "Excess ribosome densities:"
   ]
  },
  {
   "cell_type": "code",
   "execution_count": 58,
   "metadata": {
    "collapsed": false
   },
   "outputs": [
    {
     "name": "stdout",
     "output_type": "stream",
     "text": [
      "4911\n"
     ]
    }
   ],
   "source": [
    "max_length = max([len(ribo_lattice_dict[gene]) for gene in ribo_lattice_dict])\n",
    "print max_length"
   ]
  },
  {
   "cell_type": "code",
   "execution_count": 59,
   "metadata": {
    "collapsed": false
   },
   "outputs": [],
   "source": [
    "import math\n",
    "\n",
    "excess = []\n",
    "\n",
    "for pos in range(max_length):\n",
    "    \n",
    "    numer = sum([z[gene][pos] for gene in z if len(ribo_lattice_dict[gene]) > pos])\n",
    "    denom = sum([1.0          for gene in z if len(ribo_lattice_dict[gene]) > pos])\n",
    "    # denom = sum([1 if len(ribo_lattice_dict[gene]) > pos else 0 for gene in z]) * 1.0 # daran liegt's nicht\n",
    "    excess.append(numer / denom)\n",
    "excess = np.array(excess)"
   ]
  },
  {
   "cell_type": "code",
   "execution_count": 60,
   "metadata": {
    "collapsed": false
   },
   "outputs": [
    {
     "name": "stdout",
     "output_type": "stream",
     "text": [
      "5433.690733\n"
     ]
    }
   ],
   "source": [
    "print sum(excess)"
   ]
  },
  {
   "cell_type": "markdown",
   "metadata": {},
   "source": [
    "Testing code from previous notebook:"
   ]
  },
  {
   "cell_type": "code",
   "execution_count": 61,
   "metadata": {
    "collapsed": false
   },
   "outputs": [],
   "source": [
    "import math\n",
    "\n",
    "e = []\n",
    "for j in range(4911):\n",
    "    numer = 0.0\n",
    "    denom = 0.0\n",
    "    for gene in z:\n",
    "        if orf_lengths[gene]/3 > j:\n",
    "            if not math.isnan(z[gene][j]):\n",
    "                numer += z[gene][j]\n",
    "                denom += 1\n",
    "        #  denom = sum([1 if orf_lengths[gene] >= j else 0 for gene in ribo_lattice_dict]) * 1.0\n",
    "    e.append(numer/denom)"
   ]
  },
  {
   "cell_type": "code",
   "execution_count": 62,
   "metadata": {
    "collapsed": false
   },
   "outputs": [
    {
     "data": {
      "text/plain": [
       "5433.690733004727"
      ]
     },
     "execution_count": 62,
     "metadata": {},
     "output_type": "execute_result"
    }
   ],
   "source": [
    "sum(e)"
   ]
  },
  {
   "cell_type": "markdown",
   "metadata": {},
   "source": [
    "Seem to have found the problem; to be continued."
   ]
  },
  {
   "cell_type": "code",
   "execution_count": 63,
   "metadata": {
    "collapsed": false
   },
   "outputs": [
    {
     "name": "stdout",
     "output_type": "stream",
     "text": [
      "1.04781186509\n"
     ]
    }
   ],
   "source": [
    "normalization = sum(excess[449:500]) / 51.0\n",
    "print normalization"
   ]
  },
  {
   "cell_type": "code",
   "execution_count": 64,
   "metadata": {
    "collapsed": true
   },
   "outputs": [],
   "source": [
    "relative_excess = excess / normalization"
   ]
  },
  {
   "cell_type": "code",
   "execution_count": 65,
   "metadata": {
    "collapsed": false
   },
   "outputs": [
    {
     "name": "stderr",
     "output_type": "stream",
     "text": [
      "/home/martin/.local/lib/python2.7/site-packages/ipykernel/__main__.py:4: FutureWarning: pd.rolling_mean is deprecated for Series and will be removed in a future version, replace with \n",
      "\tSeries.rolling(window=25,center=False).mean()\n"
     ]
    },
    {
     "data": {
      "text/plain": [
       "<matplotlib.axes._subplots.AxesSubplot at 0x7f20dcaa7790>"
      ]
     },
     "execution_count": 65,
     "metadata": {},
     "output_type": "execute_result"
    },
    {
     "data": {
      "image/png": "[encoded data removed]",
      "text/plain": [
       "<matplotlib.figure.Figure at 0x7f20f9ceabd0>"
      ]
     },
     "metadata": {},
     "output_type": "display_data"
    }
   ],
   "source": [
    "plt.plot(relative_excess[:500])\n",
    "plt.xlabel('codon position', fontsize=16)\n",
    "plt.ylabel('Excess ribosome density', fontsize=16)\n",
    "pd.rolling_mean(pd.Series(relative_excess[:500]), 25).plot(style='k')"
   ]
  },
  {
   "cell_type": "markdown",
   "metadata": {
    "collapsed": true
   },
   "source": [
    "### Restriction to subset of genes"
   ]
  },
  {
   "cell_type": "markdown",
   "metadata": {
    "collapsed": true
   },
   "source": [
    "We look at the distribution of ribosomes per ORF before we restrict. "
   ]
  },
  {
   "cell_type": "code",
   "execution_count": 66,
   "metadata": {
    "collapsed": false
   },
   "outputs": [],
   "source": [
    "ribo_total_dict = {gene: sum(ribo_lattice_dict[gene]) \n",
    "                   for gene in ribo_lattice_dict}"
   ]
  },
  {
   "cell_type": "code",
   "execution_count": 67,
   "metadata": {
    "collapsed": false
   },
   "outputs": [
    {
     "data": {
      "text/plain": [
       "count    4475.000000\n",
       "mean       37.403352\n",
       "std       201.084458\n",
       "min         0.000000\n",
       "25%         3.000000\n",
       "50%         8.000000\n",
       "75%        20.000000\n",
       "max      8102.000000\n",
       "dtype: float64"
      ]
     },
     "execution_count": 67,
     "metadata": {},
     "output_type": "execute_result"
    }
   ],
   "source": [
    "pd.Series(ribo_total_dict.values()).describe()"
   ]
  },
  {
   "cell_type": "code",
   "execution_count": 68,
   "metadata": {
    "collapsed": false
   },
   "outputs": [
    {
     "data": {
      "text/plain": [
       "167380.0"
      ]
     },
     "execution_count": 68,
     "metadata": {},
     "output_type": "execute_result"
    }
   ],
   "source": [
    "len(ribo_total_dict) * np.mean(ribo_total_dict.values())"
   ]
  },
  {
   "cell_type": "markdown",
   "metadata": {},
   "source": [
    "This is approximately the expected number of bound ribosomes (81% of 200000)."
   ]
  },
  {
   "cell_type": "code",
   "execution_count": 69,
   "metadata": {
    "collapsed": true
   },
   "outputs": [],
   "source": [
    "critical_count = 128"
   ]
  },
  {
   "cell_type": "markdown",
   "metadata": {},
   "source": [
    "Weinberg et al. use 128, this would yield 216 genes."
   ]
  },
  {
   "cell_type": "code",
   "execution_count": 70,
   "metadata": {
    "collapsed": false
   },
   "outputs": [
    {
     "data": {
      "text/plain": [
       "217"
      ]
     },
     "execution_count": 70,
     "metadata": {},
     "output_type": "execute_result"
    }
   ],
   "source": [
    "len([gene for gene in ribo_total_dict \n",
    "     if ribo_total_dict[gene] >= critical_count])"
   ]
  },
  {
   "cell_type": "markdown",
   "metadata": {
    "collapsed": true
   },
   "source": [
    "Filter only genes above critical count:"
   ]
  },
  {
   "cell_type": "code",
   "execution_count": 71,
   "metadata": {
    "collapsed": true
   },
   "outputs": [],
   "source": [
    "ribo_lattice_dict = {gene: ribo_lattice_dict[gene] for gene in \n",
    "                     ribo_lattice_dict if ribo_total_dict[gene] >= \n",
    "                     critical_count}"
   ]
  },
  {
   "cell_type": "code",
   "execution_count": 72,
   "metadata": {
    "collapsed": true
   },
   "outputs": [],
   "source": [
    "avg_ribos_per_gene = {}\n",
    "\n",
    "for gene in ribo_lattice_dict:\n",
    "    avg_ribos_per_gene[gene] = np.mean(ribo_lattice_dict[gene])"
   ]
  },
  {
   "cell_type": "code",
   "execution_count": 73,
   "metadata": {
    "collapsed": false
   },
   "outputs": [
    {
     "data": {
      "text/plain": [
       "count    217.000000\n",
       "mean       1.761030\n",
       "std        2.273229\n",
       "min        0.059646\n",
       "25%        0.332231\n",
       "50%        0.636943\n",
       "75%        2.719626\n",
       "max       14.365248\n",
       "dtype: float64"
      ]
     },
     "execution_count": 73,
     "metadata": {},
     "output_type": "execute_result"
    }
   ],
   "source": [
    "pd.Series(avg_ribos_per_gene.values()).describe()"
   ]
  },
  {
   "cell_type": "code",
   "execution_count": 74,
   "metadata": {
    "collapsed": true
   },
   "outputs": [],
   "source": [
    "z = {}\n",
    "\n",
    "for gene in ribo_lattice_dict:\n",
    "    if avg_ribos_per_gene[gene]>0:\n",
    "        z[gene] = ribo_lattice_dict[gene] / avg_ribos_per_gene[gene]"
   ]
  },
  {
   "cell_type": "code",
   "execution_count": 75,
   "metadata": {
    "collapsed": false
   },
   "outputs": [
    {
     "name": "stdout",
     "output_type": "stream",
     "text": [
      "2673\n"
     ]
    }
   ],
   "source": [
    "max_length = max([len(ribo_lattice_dict[gene]) for gene in ribo_lattice_dict])\n",
    "print max_length"
   ]
  },
  {
   "cell_type": "code",
   "execution_count": 76,
   "metadata": {
    "collapsed": true
   },
   "outputs": [],
   "source": [
    "import math\n",
    "\n",
    "excess = []\n",
    "\n",
    "for pos in range(max_length):\n",
    "    \n",
    "    numer = sum([z[gene][pos] for gene in z if len(ribo_lattice_dict[gene]) > pos])\n",
    "    denom = sum([1.0          for gene in z if len(ribo_lattice_dict[gene]) > pos])\n",
    "    # denom = sum([1 if len(ribo_lattice_dict[gene]) > pos else 0 for gene in z]) * 1.0 # daran liegt's nicht\n",
    "    excess.append(numer / denom)\n",
    "excess = np.array(excess)"
   ]
  },
  {
   "cell_type": "code",
   "execution_count": 77,
   "metadata": {
    "collapsed": false
   },
   "outputs": [
    {
     "name": "stdout",
     "output_type": "stream",
     "text": [
      "2574.88339298\n"
     ]
    }
   ],
   "source": [
    "print sum(excess)"
   ]
  },
  {
   "cell_type": "code",
   "execution_count": 78,
   "metadata": {
    "collapsed": false
   },
   "outputs": [
    {
     "name": "stdout",
     "output_type": "stream",
     "text": [
      "1.00500383572\n"
     ]
    }
   ],
   "source": [
    "normalization = sum(excess[449:500]) / 51.0\n",
    "print normalization"
   ]
  },
  {
   "cell_type": "code",
   "execution_count": 79,
   "metadata": {
    "collapsed": true
   },
   "outputs": [],
   "source": [
    "relative_excess = excess / normalization"
   ]
  },
  {
   "cell_type": "code",
   "execution_count": 80,
   "metadata": {
    "collapsed": false
   },
   "outputs": [
    {
     "name": "stderr",
     "output_type": "stream",
     "text": [
      "/home/martin/.local/lib/python2.7/site-packages/ipykernel/__main__.py:4: FutureWarning: pd.rolling_mean is deprecated for Series and will be removed in a future version, replace with \n",
      "\tSeries.rolling(window=25,center=False).mean()\n"
     ]
    },
    {
     "data": {
      "text/plain": [
       "<matplotlib.axes._subplots.AxesSubplot at 0x7f20f1f15d10>"
      ]
     },
     "execution_count": 80,
     "metadata": {},
     "output_type": "execute_result"
    },
    {
     "data": {
      "image/png": "[encoded data removed]",
      "text/plain": [
       "<matplotlib.figure.Figure at 0x7f20f8443690>"
      ]
     },
     "metadata": {},
     "output_type": "display_data"
    }
   ],
   "source": [
    "plt.plot(relative_excess[:500])\n",
    "plt.xlabel('codon position', fontsize=16)\n",
    "plt.ylabel('Excess ribosome density', fontsize=16)\n",
    "pd.rolling_mean(pd.Series(relative_excess[:500]), 25).plot(style='k')"
   ]
  },
  {
   "cell_type": "markdown",
   "metadata": {},
   "source": [
    "The ribosome ramp has disappeared."
   ]
  },
  {
   "cell_type": "markdown",
   "metadata": {},
   "source": [
    "### Codon distribution hypothesis"
   ]
  },
  {
   "cell_type": "code",
   "execution_count": 81,
   "metadata": {
    "collapsed": false
   },
   "outputs": [],
   "source": [
    "def chunker(seq, size):\n",
    "    '''\n",
    "    generator that takes a sequence and returns substrings of given size\n",
    "    '''\n",
    "    return (seq[pos:pos + size] for pos in xrange(0, len(seq), size))"
   ]
  },
  {
   "cell_type": "markdown",
   "metadata": {},
   "source": [
    "We can do it two ways:\n",
    "\n",
    "1. Weighted by transcript abundance\n",
    "2. All genes equally weighted"
   ]
  },
  {
   "cell_type": "markdown",
   "metadata": {},
   "source": [
    "#### 1. Weighted by transcript abundance"
   ]
  },
  {
   "cell_type": "markdown",
   "metadata": {},
   "source": [
    "Longest and shortest gene in codons:"
   ]
  },
  {
   "cell_type": "code",
   "execution_count": 82,
   "metadata": {
    "collapsed": false
   },
   "outputs": [
    {
     "name": "stdout",
     "output_type": "stream",
     "text": [
      "4911.0\n",
      "17.0\n"
     ]
    }
   ],
   "source": [
    "print max(len(orf_genomic_dict[gene]) for gene in orf_genomic_dict) / 3.0\n",
    "print min(len(orf_genomic_dict[gene]) for gene in orf_genomic_dict) / 3.0"
   ]
  },
  {
   "cell_type": "markdown",
   "metadata": {},
   "source": [
    "The following two are not divisible by 3 (weird, pseudogenes):"
   ]
  },
  {
   "cell_type": "code",
   "execution_count": 83,
   "metadata": {
    "collapsed": false
   },
   "outputs": [],
   "source": [
    "if 'YAR061W' in orf_genomic_dict:\n",
    "    del orf_genomic_dict['YAR061W']\n",
    "if 'YFL056C' in orf_genomic_dict:\n",
    "    del orf_genomic_dict['YFL056C']"
   ]
  },
  {
   "cell_type": "code",
   "execution_count": 84,
   "metadata": {
    "collapsed": true
   },
   "outputs": [],
   "source": [
    "codon_anticodon = {\n",
    "    'uuu': 'gaa', 'ucu': 'aga', 'uau': 'gua', 'ugu': 'gca',\n",
    "    'uuc': 'gaa', 'ucc': 'aga', 'uac': 'gua', 'ugc': 'gca',\n",
    "    'uua': 'uaa', 'uca': 'uga', 'uaa': '*', 'uga': '*',  # '*'==stop\n",
    "    'uug': 'caa', 'ucg': 'cga', 'uag': '*', 'ugg': 'cca',\n",
    "    'cuu': 'gag', 'ccu': 'agg', 'cau': 'gug', 'cgu': 'acg',\n",
    "    'cuc': 'gag', 'ccc': 'agg', 'cac': 'gug', 'cgc': 'acg',\n",
    "    'cua': 'uag', 'cca': 'ugg', 'caa': 'uug', 'cga': 'acg',\n",
    "    'cug': 'uag', 'ccg': 'ugg', 'cag': 'cug', 'cgg': 'ccg',\n",
    "    'auu': 'aau', 'acu': 'agu', 'aau': 'guu', 'agu': 'gcu',\n",
    "    'auc': 'aau', 'acc': 'agu', 'aac': 'guu', 'agc': 'gcu',\n",
    "    'aua': 'uau', 'aca': 'ugu', 'aaa': 'uuu', 'aga': 'ucu',\n",
    "    'aug': 'cau', 'acg': 'cgu', 'aag': 'cuu', 'agg': 'ccu',\n",
    "    'guu': 'aac', 'gcu': 'agc', 'gau': 'guc', 'ggu': 'gcc',\n",
    "    'guc': 'aac', 'gcc': 'agc', 'gac': 'guc', 'ggc': 'gcc',\n",
    "    'gua': 'uac', 'gca': 'ugc', 'gaa': 'uuc', 'gga': 'ucc',\n",
    "    'gug': 'cac', 'gcg': 'ugc', 'gag': 'cuc', 'ggg': 'ccc'\n",
    "}"
   ]
  },
  {
   "cell_type": "markdown",
   "metadata": {},
   "source": [
    "TO BE CONTINUED"
   ]
  },
  {
   "cell_type": "markdown",
   "metadata": {},
   "source": [
    "Need transcriptome"
   ]
  },
  {
   "cell_type": "code",
   "execution_count": null,
   "metadata": {
    "collapsed": true
   },
   "outputs": [],
   "source": []
  },
  {
   "cell_type": "markdown",
   "metadata": {},
   "source": [
    "#### 2. All genes equally weighted"
   ]
  },
  {
   "cell_type": "code",
   "execution_count": 85,
   "metadata": {
    "collapsed": false
   },
   "outputs": [
    {
     "name": "stdout",
     "output_type": "stream",
     "text": [
      "0 100 200 300 400 500 600 700 800 900 1000 1100 1200 1300 1400 1500 1600 1700 1800 1900 2000 2100 2200 2300 2400 2500 2600 2700 2800 2900 3000 3100 3200 3300 3400 3500 3600 3700 3800 3900 4000 4100 4200 4300 4400 4500 4600 4700 4800 4900 5000 5100 5200 5300 5400 5500 5600 5700 5800 5900 6000 6100 6200 6300 6400 6500 6600 6700\n"
     ]
    }
   ],
   "source": [
    "codon_counter_df = pd.DataFrame(index=range(1, 4912), columns=sorted(codon_anticodon.keys()))\n",
    "codon_counter_df.fillna(0, inplace=True)\n",
    "\n",
    "anticodon_counter_df = pd.DataFrame(index=range(1, 4912), columns=sorted(list(set(codon_anticodon.values()))))\n",
    "anticodon_counter_df.fillna(0, inplace=True)\n",
    "\n",
    "for i, gene in enumerate(orf_genomic_dict):\n",
    "    codons = list(chunker(orf_genomic_dict[gene], 3))\n",
    "    anticodons = [codon_anticodon[codon] for codon in codons]\n",
    "    # print list(anticodons)\n",
    "    if not i%100:\n",
    "        print i,\n",
    "    for pos, codon in enumerate(codons):\n",
    "        codon_counter_df[codon][pos+1] += 1\n",
    "    for pos, anticodon in enumerate(list(anticodons)):\n",
    "        anticodon_counter_df[anticodon][pos+1] += 1"
   ]
  },
  {
   "cell_type": "code",
   "execution_count": 86,
   "metadata": {
    "collapsed": false
   },
   "outputs": [],
   "source": [
    "pkl.dump(codon_counter_df, open(\"../data/codon_counter_df.p\", \"wb\"))\n",
    "pkl.dump(anticodon_counter_df, open(\"../data/anticodon_counter_df.p\", \"wb\"))"
   ]
  },
  {
   "cell_type": "code",
   "execution_count": 87,
   "metadata": {
    "collapsed": true
   },
   "outputs": [],
   "source": [
    "anticodon_counter_df = pkl.load(open(\"../data/anticodon_counter_df.p\"))"
   ]
  },
  {
   "cell_type": "code",
   "execution_count": 88,
   "metadata": {
    "collapsed": false
   },
   "outputs": [],
   "source": [
    "anticodon_counter_sel = anticodon_counter_df.loc[range(1, 501, 10)]"
   ]
  },
  {
   "cell_type": "code",
   "execution_count": 89,
   "metadata": {
    "collapsed": false
   },
   "outputs": [
    {
     "data": {
      "text/html": [
       "<div>\n",
       "<table border=\"1\" class=\"dataframe\">\n",
       "  <thead>\n",
       "    <tr style=\"text-align: right;\">\n",
       "      <th></th>\n",
       "      <th>*</th>\n",
       "      <th>aac</th>\n",
       "      <th>aau</th>\n",
       "      <th>acg</th>\n",
       "      <th>aga</th>\n",
       "      <th>agc</th>\n",
       "      <th>agg</th>\n",
       "      <th>agu</th>\n",
       "      <th>caa</th>\n",
       "      <th>cac</th>\n",
       "      <th>...</th>\n",
       "      <th>uau</th>\n",
       "      <th>ucc</th>\n",
       "      <th>ucu</th>\n",
       "      <th>uga</th>\n",
       "      <th>ugc</th>\n",
       "      <th>ugg</th>\n",
       "      <th>ugu</th>\n",
       "      <th>uuc</th>\n",
       "      <th>uug</th>\n",
       "      <th>uuu</th>\n",
       "    </tr>\n",
       "  </thead>\n",
       "  <tbody>\n",
       "    <tr>\n",
       "      <th>1</th>\n",
       "      <td>0.000000</td>\n",
       "      <td>0.000000</td>\n",
       "      <td>0.000000</td>\n",
       "      <td>0.000000</td>\n",
       "      <td>0.000000</td>\n",
       "      <td>0.000000</td>\n",
       "      <td>0.000000</td>\n",
       "      <td>0.000000</td>\n",
       "      <td>0.000000</td>\n",
       "      <td>0.000000</td>\n",
       "      <td>...</td>\n",
       "      <td>0.000894</td>\n",
       "      <td>0.000000</td>\n",
       "      <td>0.000000</td>\n",
       "      <td>0.000000</td>\n",
       "      <td>0.000000</td>\n",
       "      <td>0.000000</td>\n",
       "      <td>0.000000</td>\n",
       "      <td>0.000000</td>\n",
       "      <td>0.000000</td>\n",
       "      <td>0.000000</td>\n",
       "    </tr>\n",
       "    <tr>\n",
       "      <th>11</th>\n",
       "      <td>0.000000</td>\n",
       "      <td>0.034123</td>\n",
       "      <td>0.037699</td>\n",
       "      <td>0.017583</td>\n",
       "      <td>0.037848</td>\n",
       "      <td>0.042766</td>\n",
       "      <td>0.026673</td>\n",
       "      <td>0.030398</td>\n",
       "      <td>0.023245</td>\n",
       "      <td>0.012368</td>\n",
       "      <td>...</td>\n",
       "      <td>0.023096</td>\n",
       "      <td>0.011921</td>\n",
       "      <td>0.023394</td>\n",
       "      <td>0.021010</td>\n",
       "      <td>0.025481</td>\n",
       "      <td>0.025779</td>\n",
       "      <td>0.016987</td>\n",
       "      <td>0.031441</td>\n",
       "      <td>0.024885</td>\n",
       "      <td>0.037103</td>\n",
       "    </tr>\n",
       "    <tr>\n",
       "      <th>21</th>\n",
       "      <td>0.000000</td>\n",
       "      <td>0.041133</td>\n",
       "      <td>0.043666</td>\n",
       "      <td>0.014307</td>\n",
       "      <td>0.040984</td>\n",
       "      <td>0.039940</td>\n",
       "      <td>0.023398</td>\n",
       "      <td>0.040537</td>\n",
       "      <td>0.020417</td>\n",
       "      <td>0.016095</td>\n",
       "      <td>...</td>\n",
       "      <td>0.017735</td>\n",
       "      <td>0.014158</td>\n",
       "      <td>0.020566</td>\n",
       "      <td>0.023547</td>\n",
       "      <td>0.023547</td>\n",
       "      <td>0.024590</td>\n",
       "      <td>0.021610</td>\n",
       "      <td>0.035171</td>\n",
       "      <td>0.025037</td>\n",
       "      <td>0.038152</td>\n",
       "    </tr>\n",
       "    <tr>\n",
       "      <th>31</th>\n",
       "      <td>0.001048</td>\n",
       "      <td>0.030983</td>\n",
       "      <td>0.039216</td>\n",
       "      <td>0.018111</td>\n",
       "      <td>0.038168</td>\n",
       "      <td>0.033378</td>\n",
       "      <td>0.022003</td>\n",
       "      <td>0.034725</td>\n",
       "      <td>0.023350</td>\n",
       "      <td>0.009430</td>\n",
       "      <td>...</td>\n",
       "      <td>0.020656</td>\n",
       "      <td>0.010627</td>\n",
       "      <td>0.020057</td>\n",
       "      <td>0.021703</td>\n",
       "      <td>0.023799</td>\n",
       "      <td>0.029786</td>\n",
       "      <td>0.018710</td>\n",
       "      <td>0.037420</td>\n",
       "      <td>0.029337</td>\n",
       "      <td>0.036372</td>\n",
       "    </tr>\n",
       "    <tr>\n",
       "      <th>41</th>\n",
       "      <td>0.000603</td>\n",
       "      <td>0.028054</td>\n",
       "      <td>0.042534</td>\n",
       "      <td>0.012821</td>\n",
       "      <td>0.042685</td>\n",
       "      <td>0.034992</td>\n",
       "      <td>0.018401</td>\n",
       "      <td>0.031674</td>\n",
       "      <td>0.024736</td>\n",
       "      <td>0.010407</td>\n",
       "      <td>...</td>\n",
       "      <td>0.017345</td>\n",
       "      <td>0.010407</td>\n",
       "      <td>0.019005</td>\n",
       "      <td>0.022021</td>\n",
       "      <td>0.023529</td>\n",
       "      <td>0.029110</td>\n",
       "      <td>0.018401</td>\n",
       "      <td>0.044796</td>\n",
       "      <td>0.034992</td>\n",
       "      <td>0.040271</td>\n",
       "    </tr>\n",
       "  </tbody>\n",
       "</table>\n",
       "<p>5 rows × 42 columns</p>\n",
       "</div>"
      ],
      "text/plain": [
       "           *       aac       aau       acg       aga       agc       agg  \\\n",
       "1   0.000000  0.000000  0.000000  0.000000  0.000000  0.000000  0.000000   \n",
       "11  0.000000  0.034123  0.037699  0.017583  0.037848  0.042766  0.026673   \n",
       "21  0.000000  0.041133  0.043666  0.014307  0.040984  0.039940  0.023398   \n",
       "31  0.001048  0.030983  0.039216  0.018111  0.038168  0.033378  0.022003   \n",
       "41  0.000603  0.028054  0.042534  0.012821  0.042685  0.034992  0.018401   \n",
       "\n",
       "         agu       caa       cac    ...          uau       ucc       ucu  \\\n",
       "1   0.000000  0.000000  0.000000    ...     0.000894  0.000000  0.000000   \n",
       "11  0.030398  0.023245  0.012368    ...     0.023096  0.011921  0.023394   \n",
       "21  0.040537  0.020417  0.016095    ...     0.017735  0.014158  0.020566   \n",
       "31  0.034725  0.023350  0.009430    ...     0.020656  0.010627  0.020057   \n",
       "41  0.031674  0.024736  0.010407    ...     0.017345  0.010407  0.019005   \n",
       "\n",
       "         uga       ugc       ugg       ugu       uuc       uug       uuu  \n",
       "1   0.000000  0.000000  0.000000  0.000000  0.000000  0.000000  0.000000  \n",
       "11  0.021010  0.025481  0.025779  0.016987  0.031441  0.024885  0.037103  \n",
       "21  0.023547  0.023547  0.024590  0.021610  0.035171  0.025037  0.038152  \n",
       "31  0.021703  0.023799  0.029786  0.018710  0.037420  0.029337  0.036372  \n",
       "41  0.022021  0.023529  0.029110  0.018401  0.044796  0.034992  0.040271  \n",
       "\n",
       "[5 rows x 42 columns]"
      ]
     },
     "execution_count": 89,
     "metadata": {},
     "output_type": "execute_result"
    }
   ],
   "source": [
    "anticodon_counter_sel.div(anticodon_counter_sel.sum(axis=1), axis=0).head()"
   ]
  },
  {
   "cell_type": "code",
   "execution_count": 90,
   "metadata": {
    "collapsed": false
   },
   "outputs": [
    {
     "data": {
      "text/plain": [
       "<matplotlib.legend.Legend at 0x7f20d5967bd0>"
      ]
     },
     "execution_count": 90,
     "metadata": {},
     "output_type": "execute_result"
    },
    {
     "data": {
      "image/png": "[encoded data removed]",
      "text/plain": [
       "<matplotlib.figure.Figure at 0x7f20f83af750>"
      ]
     },
     "metadata": {},
     "output_type": "display_data"
    }
   ],
   "source": [
    "anticodon_counter_sel.div(anticodon_counter_sel.sum(axis=1), \n",
    "                          axis=0).plot(kind='bar', stacked=True, figsize=(20, 15), colormap='cubehelix')\n",
    "plt.legend(loc='center left', bbox_to_anchor=(1, 0.5))"
   ]
  },
  {
   "cell_type": "markdown",
   "metadata": {},
   "source": [
    "Get data from https://github.com/gittenberg/TRSL/blob/master/workbooks/TRSL_check_observables.ipynb:"
   ]
  },
  {
   "cell_type": "code",
   "execution_count": 91,
   "metadata": {
    "collapsed": false
   },
   "outputs": [],
   "source": [
    "import collections as col\n",
    "counter = col.OrderedDict([('ccg', 143),\n",
    "             ('cca', 158),\n",
    "             ('ucu', 175),\n",
    "             ('acg', 221),\n",
    "             ('cuu', 240),\n",
    "             ('ugg', 250),\n",
    "             ('caa', 259),\n",
    "             ('gcc', 278),\n",
    "             ('aac', 281),\n",
    "             ('agu', 319),\n",
    "             ('agc', 336),\n",
    "             ('uug', 344),\n",
    "             ('uuc', 353),\n",
    "             ('uaa', 365),\n",
    "             ('gca', 366),\n",
    "             ('gug', 374),\n",
    "             ('cau', 380),\n",
    "             ('aga', 388),\n",
    "             ('ugu', 434),\n",
    "             ('aau', 442),\n",
    "             ('ugc', 476),\n",
    "             ('cac', 481),\n",
    "             ('gua', 494),\n",
    "             ('uac', 540),\n",
    "             ('uga', 555),\n",
    "             ('gaa', 566),\n",
    "             ('guc', 585),\n",
    "             ('ucc', 606),\n",
    "             ('uuu', 621),\n",
    "             ('cgu', 746),\n",
    "             ('uau', 793),\n",
    "             ('cga', 808),\n",
    "             ('ccu', 859),\n",
    "             ('guu', 890),\n",
    "             ('cuc', 928),\n",
    "             ('uag', 943),\n",
    "             ('gcu', 948),\n",
    "             ('cug', 1090),\n",
    "             ('agg', 1103),\n",
    "             ('gag', 2360)])"
   ]
  },
  {
   "cell_type": "markdown",
   "metadata": {},
   "source": [
    "The $n$ slowest anticodons:"
   ]
  },
  {
   "cell_type": "code",
   "execution_count": 92,
   "metadata": {
    "collapsed": false
   },
   "outputs": [
    {
     "data": {
      "text/plain": [
       "['cga', 'ccu', 'guu', 'cuc', 'uag', 'gcu', 'cug', 'agg', 'gag']"
      ]
     },
     "execution_count": 92,
     "metadata": {},
     "output_type": "execute_result"
    }
   ],
   "source": [
    "n = 9\n",
    "counter.keys()[-n:]"
   ]
  },
  {
   "cell_type": "code",
   "execution_count": 93,
   "metadata": {
    "collapsed": false
   },
   "outputs": [],
   "source": [
    "codons_slow = anticodon_counter_sel.div(anticodon_counter_sel.sum(axis=1), \n",
    "                                        axis=0)[counter.keys()[-n:]].sum(axis=1)\n",
    "codons_fast = anticodon_counter_sel.div(anticodon_counter_sel.sum(axis=1), \n",
    "                                            axis=0)[counter.keys()[:-n]].sum(axis=1)"
   ]
  },
  {
   "cell_type": "code",
   "execution_count": 94,
   "metadata": {
    "collapsed": false
   },
   "outputs": [],
   "source": [
    "anticodons_grouped = pd.concat([codons_slow, codons_fast], axis=1)\n",
    "anticodons_grouped.columns = ['codons_slow', 'codons_fast']"
   ]
  },
  {
   "cell_type": "code",
   "execution_count": 95,
   "metadata": {
    "collapsed": false
   },
   "outputs": [
    {
     "data": {
      "text/plain": [
       "<matplotlib.legend.Legend at 0x7f20ea85dad0>"
      ]
     },
     "execution_count": 95,
     "metadata": {},
     "output_type": "execute_result"
    },
    {
     "data": {
      "image/png": "[encoded data removed]",
      "text/plain": [
       "<matplotlib.figure.Figure at 0x7f20ea85da90>"
      ]
     },
     "metadata": {},
     "output_type": "display_data"
    }
   ],
   "source": [
    "anticodons_grouped.plot(kind='bar', stacked=True, figsize=(10, 10), colormap='bwr')\n",
    "plt.legend(loc='center left', bbox_to_anchor=(1, 0.5))"
   ]
  },
  {
   "cell_type": "markdown",
   "metadata": {},
   "source": [
    "No evidence that rare genes would be more frequent at the beginning of gene."
   ]
  },
  {
   "cell_type": "markdown",
   "metadata": {
    "collapsed": true
   },
   "source": [
    "Now not the slowest but the rarest anticodons:"
   ]
  },
  {
   "cell_type": "markdown",
   "metadata": {},
   "source": [
    "We need data from https://github.com/gittenberg/TRSL/blob/master/translation/TRSL_specific.py:"
   ]
  },
  {
   "cell_type": "code",
   "execution_count": 96,
   "metadata": {
    "collapsed": false
   },
   "outputs": [],
   "source": [
    "tRNA_types = {\n",
    "    1: {'anticodon': 'ugc', 'abundancy': 55351},  # reverse complement the anticodon to look it up\n",
    "    2: {'anticodon': 'agc', 'abundancy': 121771},\n",
    "    3: {'anticodon': 'ucu', 'abundancy': 121771},\n",
    "    4: {'anticodon': 'ccu', 'abundancy': 11070},\n",
    "    5: {'anticodon': 'ccg', 'abundancy': 11070},\n",
    "    6: {'anticodon': 'acg', 'abundancy': 66421},\n",
    "    7: {'anticodon': 'guu', 'abundancy': 110701},\n",
    "    8: {'anticodon': 'guc', 'abundancy': 177122},\n",
    "    9: {'anticodon': 'gca', 'abundancy': 44280},\n",
    "    10: {'anticodon': 'uug', 'abundancy': 88561},\n",
    "    11: {'anticodon': 'cug', 'abundancy': 11070},\n",
    "    12: {'anticodon': 'uuc', 'abundancy': 154982},\n",
    "    13: {'anticodon': 'ucc', 'abundancy': 33210},\n",
    "    14: {'anticodon': 'ccc', 'abundancy': 22140},\n",
    "    15: {'anticodon': 'gcc', 'abundancy': 177122},\n",
    "    16: {'anticodon': 'gug', 'abundancy': 77491},\n",
    "    17: {'anticodon': 'uau', 'abundancy': 22140},\n",
    "    18: {'anticodon': 'aau', 'abundancy': 143911},\n",
    "    19: {'anticodon': 'uag', 'abundancy': 33210},\n",
    "    20: {'anticodon': 'gag', 'abundancy': 11070},\n",
    "    21: {'anticodon': 'uaa', 'abundancy': 77491},\n",
    "    22: {'anticodon': 'caa', 'abundancy': 110701},\n",
    "    23: {'anticodon': 'uuu', 'abundancy': 77491},\n",
    "    24: {'anticodon': 'cuu', 'abundancy': 154982},\n",
    "    25: {'anticodon': 'cau', 'abundancy': 55351},  # 26 does not seem to exist\n",
    "    27: {'anticodon': 'gaa', 'abundancy': 110701},\n",
    "    28: {'anticodon': 'agg', 'abundancy': 22140},\n",
    "    29: {'anticodon': 'ugg', 'abundancy': 110701},\n",
    "    30: {'anticodon': 'gcu', 'abundancy': 33210},\n",
    "    31: {'anticodon': 'uga', 'abundancy': 33210},\n",
    "    32: {'anticodon': 'aga', 'abundancy': 121771},\n",
    "    33: {'anticodon': 'cga', 'abundancy': 11070},\n",
    "    34: {'anticodon': 'ugu', 'abundancy': 44280},\n",
    "    35: {'anticodon': 'agu', 'abundancy': 121771},\n",
    "    36: {'anticodon': 'cgu', 'abundancy': 11070},\n",
    "    37: {'anticodon': 'cca', 'abundancy': 66421},\n",
    "    38: {'anticodon': 'gua', 'abundancy': 88561},\n",
    "    39: {'anticodon': 'uac', 'abundancy': 22140},\n",
    "    40: {'anticodon': 'aac', 'abundancy': 154982},\n",
    "    41: {'anticodon': 'cac', 'abundancy': 22140},\n",
    "    42: {'anticodon': '*', 'abundancy': 18000},  # termination factor\n",
    "    43: {'anticodon': 'cuc', 'abundancy': 22140}\n",
    "}"
   ]
  },
  {
   "cell_type": "code",
   "execution_count": 97,
   "metadata": {
    "collapsed": true
   },
   "outputs": [],
   "source": [
    "tRNA_abundancies = {tRNA_types[type]['anticodon']: tRNA_types[type]['abundancy'] for type in tRNA_types}"
   ]
  },
  {
   "cell_type": "code",
   "execution_count": 98,
   "metadata": {
    "collapsed": false
   },
   "outputs": [
    {
     "data": {
      "text/plain": [
       "OrderedDict([('gcc', 177122),\n",
       "             ('guc', 177122),\n",
       "             ('cuu', 154982),\n",
       "             ('uuc', 154982),\n",
       "             ('aac', 154982),\n",
       "             ('aau', 143911),\n",
       "             ('ucu', 121771),\n",
       "             ('agu', 121771),\n",
       "             ('aga', 121771),\n",
       "             ('agc', 121771),\n",
       "             ('gaa', 110701),\n",
       "             ('ugg', 110701),\n",
       "             ('caa', 110701),\n",
       "             ('guu', 110701),\n",
       "             ('uug', 88561),\n",
       "             ('gua', 88561),\n",
       "             ('uaa', 77491),\n",
       "             ('uuu', 77491),\n",
       "             ('gug', 77491),\n",
       "             ('acg', 66421),\n",
       "             ('cca', 66421),\n",
       "             ('ugc', 55351),\n",
       "             ('cau', 55351),\n",
       "             ('gca', 44280),\n",
       "             ('ugu', 44280),\n",
       "             ('uga', 33210),\n",
       "             ('ucc', 33210),\n",
       "             ('uag', 33210),\n",
       "             ('gcu', 33210),\n",
       "             ('uau', 22140),\n",
       "             ('uac', 22140),\n",
       "             ('cuc', 22140),\n",
       "             ('agg', 22140),\n",
       "             ('cac', 22140),\n",
       "             ('ccc', 22140),\n",
       "             ('*', 18000),\n",
       "             ('cug', 11070),\n",
       "             ('cga', 11070),\n",
       "             ('gag', 11070),\n",
       "             ('cgu', 11070),\n",
       "             ('ccu', 11070),\n",
       "             ('ccg', 11070)])"
      ]
     },
     "execution_count": 98,
     "metadata": {},
     "output_type": "execute_result"
    }
   ],
   "source": [
    "counter = col.OrderedDict(sorted(tRNA_abundancies.items(), key=lambda t: -t[1]))\n",
    "counter"
   ]
  },
  {
   "cell_type": "code",
   "execution_count": 99,
   "metadata": {
    "collapsed": false
   },
   "outputs": [
    {
     "data": {
      "text/plain": [
       "Index([u'*', u'aac', u'aau', u'acg', u'aga', u'agc', u'agg', u'agu', u'caa',\n",
       "       u'cac', u'cau', u'cca', u'ccc', u'ccg', u'ccu', u'cga', u'cgu', u'cuc',\n",
       "       u'cug', u'cuu', u'gaa', u'gag', u'gca', u'gcc', u'gcu', u'gua', u'guc',\n",
       "       u'gug', u'guu', u'uaa', u'uac', u'uag', u'uau', u'ucc', u'ucu', u'uga',\n",
       "       u'ugc', u'ugg', u'ugu', u'uuc', u'uug', u'uuu'],\n",
       "      dtype='object')"
      ]
     },
     "execution_count": 99,
     "metadata": {},
     "output_type": "execute_result"
    }
   ],
   "source": [
    "n = 13\n",
    "counter.keys()[-n:]\n",
    "anticodon_counter_sel.columns"
   ]
  },
  {
   "cell_type": "code",
   "execution_count": 100,
   "metadata": {
    "collapsed": false
   },
   "outputs": [],
   "source": [
    "codons_rare = anticodon_counter_sel.div(anticodon_counter_sel.sum(axis=1), \n",
    "                                        axis=0)[counter.keys()[-n:]].sum(axis=1)\n",
    "codons_frequent = anticodon_counter_sel.div(anticodon_counter_sel.sum(axis=1), \n",
    "                                            axis=0)[counter.keys()[:-n]].sum(axis=1)"
   ]
  },
  {
   "cell_type": "code",
   "execution_count": 101,
   "metadata": {
    "collapsed": false
   },
   "outputs": [
    {
     "data": {
      "text/plain": [
       "1        0\n",
       "11      83\n",
       "21     108\n",
       "31      63\n",
       "41      69\n",
       "51      63\n",
       "61      80\n",
       "71      83\n",
       "81      88\n",
       "91      74\n",
       "101     79\n",
       "111     79\n",
       "121     83\n",
       "131     74\n",
       "141     62\n",
       "151     51\n",
       "161     81\n",
       "171     46\n",
       "181     55\n",
       "191     38\n",
       "201     49\n",
       "211     59\n",
       "221     38\n",
       "231     57\n",
       "241     43\n",
       "251     55\n",
       "261     43\n",
       "271     42\n",
       "281     50\n",
       "291     41\n",
       "301     41\n",
       "311     40\n",
       "321     42\n",
       "331     49\n",
       "341     36\n",
       "351     29\n",
       "361     33\n",
       "371     34\n",
       "381     29\n",
       "391     27\n",
       "401     34\n",
       "411     21\n",
       "421     23\n",
       "431     23\n",
       "441     31\n",
       "451     20\n",
       "461     21\n",
       "471     21\n",
       "481     23\n",
       "491     29\n",
       "Name: cac, dtype: int64"
      ]
     },
     "execution_count": 101,
     "metadata": {},
     "output_type": "execute_result"
    }
   ],
   "source": [
    "anticodon_counter_sel['cac']"
   ]
  },
  {
   "cell_type": "code",
   "execution_count": null,
   "metadata": {
    "collapsed": true
   },
   "outputs": [],
   "source": []
  }
 ],
 "metadata": {
  "kernelspec": {
   "display_name": "Python 2",
   "language": "python",
   "name": "python2"
  },
  "language_info": {
   "codemirror_mode": {
    "name": "ipython",
    "version": 2
   },
   "file_extension": ".py",
   "mimetype": "text/x-python",
   "name": "python",
   "nbconvert_exporter": "python",
   "pygments_lexer": "ipython2",
   "version": "2.7.6"
  }
 },
 "nbformat": 4,
 "nbformat_minor": 0
}
