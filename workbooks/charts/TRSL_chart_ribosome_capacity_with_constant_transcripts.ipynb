{
 "cells": [
  {
   "cell_type": "markdown",
   "metadata": {},
   "source": [
    "### Capacity chart as proposed by Ana"
   ]
  },
  {
   "cell_type": "markdown",
   "metadata": {},
   "source": [
    "The transcriptome and init rates are held constant (see /home/martin/git/TRSL/analysis/TRSL_vary_ribosomes_tRNA_uniform_transcriptome.py)."
   ]
  },
  {
   "cell_type": "code",
   "execution_count": 1,
   "metadata": {},
   "outputs": [],
   "source": [
    "import cPickle as pkl\n",
    "import numpy as np\n",
    "import matplotlib\n",
    "matplotlib.use(\"pgf\")\n",
    "pgf_with_rc_fonts = {\n",
    "    \"font.family\": \"serif\",\n",
    "    \"font.serif\": [u'Adobe Caslon Pro'],                   # use latex default serif font\n",
    "    \"font.sans-serif\": [\"DejaVu Sans\"], # use a specific sans-serif font\n",
    "}\n",
    "matplotlib.rcParams.update(pgf_with_rc_fonts)\n",
    "import matplotlib.pyplot as plt\n",
    "import matplotlib.ticker as ticker\n",
    "\n",
    "%matplotlib inline\n",
    "#matplotlib.style.use('ggplot')\n",
    "import pandas as pd\n",
    "\n",
    "from collections import defaultdict"
   ]
  },
  {
   "cell_type": "code",
   "execution_count": 2,
   "metadata": {},
   "outputs": [],
   "source": [
    "params = {'legend.fontsize': 'x-large',\n",
    "          'figure.figsize': (15, 5),\n",
    "         'axes.labelsize': 'x-large',\n",
    "         'axes.titlesize':'x-large',\n",
    "         'xtick.labelsize':'x-large',\n",
    "         'ytick.labelsize':'x-large'}\n",
    "plt.rcParams.update(params)"
   ]
  },
  {
   "cell_type": "markdown",
   "metadata": {},
   "source": [
    "Runs in which tRNAs are co-varied:"
   ]
  },
  {
   "cell_type": "markdown",
   "metadata": {},
   "source": [
    "Runs, produced with $\\Delta t = 0.2 \\mathrm{s}$:"
   ]
  },
  {
   "cell_type": "code",
   "execution_count": null,
   "metadata": {},
   "outputs": [],
   "source": [
    "runs = [\n",
    "r\"/home/martin/git/TRSL/results/50000 ribosomes, 60000 phase transcriptome, varying tRNAs, constant exome, no decay, median constant initiation rates, deltat=0.2s_20180315_1124_50000_ribosomes_1200s.p\",\n",
    "r\"/home/martin/git/TRSL/results/50000 ribosomes, 30061 phase transcriptome, varying tRNAs, constant exome, no decay, median constant initiation rates, deltat=0.2s_20180315_1311_50000_ribosomes_1200s.p\",\n",
    "r\"/home/martin/git/TRSL/results/100000 ribosomes, 60000 phase transcriptome, varying tRNAs, constant exome, no decay, median constant initiation rates, deltat=0.2s_20180315_1730_100000_ribosomes_1200s.p\",\n",
    "r\"/home/martin/git/TRSL/results/100000 ribosomes, 30061 phase transcriptome, varying tRNAs, constant exome, no decay, median constant initiation rates, deltat=0.2s_20180315_2037_100000_ribosomes_1200s.p\",\n",
    "r\"/home/martin/git/TRSL/results/150000 ribosomes, 60000 phase transcriptome, varying tRNAs, constant exome, no decay, median constant initiation rates, deltat=0.2s_20180316_0010_150000_ribosomes_1200s.p\",\n",
    "r\"/home/martin/git/TRSL/results/150000 ribosomes, 30061 phase transcriptome, varying tRNAs, constant exome, no decay, median constant initiation rates, deltat=0.2s_20180316_0220_150000_ribosomes_1200s.p\",\n",
    "r\"/home/martin/git/TRSL/results/200000 ribosomes, 60000 phase transcriptome, varying tRNAs, constant exome, no decay, median constant initiation rates, deltat=0.2s_20180316_0606_200000_ribosomes_1200s.p\",\n",
    "r\"/home/martin/git/TRSL/results/200000 ribosomes, 30061 phase transcriptome, varying tRNAs, constant exome, no decay, median constant initiation rates, deltat=0.2s_20180316_0849_200000_ribosomes_1200s.p\",\n",
    "r\"/home/martin/git/TRSL/results/250000 ribosomes, 60000 phase transcriptome, varying tRNAs, constant exome, no decay, median constant initiation rates, deltat=0.2s_20180316_1332_250000_ribosomes_1200s.p\",\n",
    "r\"/home/martin/git/TRSL/results/250000 ribosomes, 30061 phase transcriptome, varying tRNAs, constant exome, no decay, median constant initiation rates, deltat=0.2s_20180316_1657_250000_ribosomes_1200s.p\",\n",
    "r\"/home/martin/git/TRSL/results/300000 ribosomes, 60000 phase transcriptome, varying tRNAs, constant exome, no decay, median constant initiation rates, deltat=0.2s_20180316_2233_300000_ribosomes_1200s.p\",\n",
    "r\"/home/martin/git/TRSL/results/300000 ribosomes, 30061 phase transcriptome, varying tRNAs, constant exome, no decay, median constant initiation rates, deltat=0.2s_20180317_0229_300000_ribosomes_1200s.p\",\n",
    "r\"/home/martin/git/TRSL/results/350000 ribosomes, 60000 phase transcriptome, varying tRNAs, constant exome, no decay, median constant initiation rates, deltat=0.2s_20180317_0900_350000_ribosomes_1200s.p\",\n",
    "r\"/home/martin/git/TRSL/results/350000 ribosomes, 30061 phase transcriptome, varying tRNAs, constant exome, no decay, median constant initiation rates, deltat=0.2s_20180317_1339_350000_ribosomes_1200s.p\",\n",
    "r\"/home/martin/git/TRSL/results/400000 ribosomes, 60000 phase transcriptome, varying tRNAs, constant exome, no decay, median constant initiation rates, deltat=0.2s_20180317_2109_400000_ribosomes_1200s.p\",\n",
    "r\"/home/martin/git/TRSL/results/400000 ribosomes, 30061 phase transcriptome, varying tRNAs, constant exome, no decay, median constant initiation rates, deltat=0.2s_20180318_0230_400000_ribosomes_1200s.p\",\n",
    "r\"/home/martin/git/TRSL/results/450000 ribosomes, 60000 phase transcriptome, varying tRNAs, constant exome, no decay, median constant initiation rates, deltat=0.2s_20180318_1110_450000_ribosomes_1200s.p\",\n",
    "r\"/home/martin/git/TRSL/results/450000 ribosomes, 30061 phase transcriptome, varying tRNAs, constant exome, no decay, median constant initiation rates, deltat=0.2s_20180318_1714_450000_ribosomes_1200s.p\",\n",
    "r\"/home/martin/git/TRSL/results/500000 ribosomes, 60000 phase transcriptome, varying tRNAs, constant exome, no decay, median constant initiation rates, deltat=0.2s_20180319_0303_500000_ribosomes_1200s.p\",\n",
    "r\"/home/martin/git/TRSL/results/500000 ribosomes, 30061 phase transcriptome, varying tRNAs, constant exome, no decay, median constant initiation rates, deltat=0.2s_20180319_1000_500000_ribosomes_1200s.p\"\n",
    "]"
   ]
  },
  {
   "cell_type": "markdown",
   "metadata": {},
   "source": [
    "Runs, produced with $\\Delta t = 0.05 \\mathrm{s}$:"
   ]
  },
  {
   "cell_type": "code",
   "execution_count": 3,
   "metadata": {},
   "outputs": [],
   "source": [
    "runs = [\n",
    "r\"/home/martin/git/TRSL/results/50000 ribosomes, 60000 phase transcriptome, varying tRNAs, constant exome, no decay, median constant initiation rates, deltat=0.05s_20180320_1326_50000_ribosomes_1200s.p\",\n",
    "r\"/home/martin/git/TRSL/results/50000 ribosomes, 30061 phase transcriptome, varying tRNAs, constant exome, no decay, median constant initiation rates, deltat=0.05s_20180320_1513_50000_ribosomes_1200s.p\",\n",
    "r\"/home/martin/git/TRSL/results/100000 ribosomes, 60000 phase transcriptome, varying tRNAs, constant exome, no decay, median constant initiation rates, deltat=0.05s_20180320_1918_100000_ribosomes_1200s.p\",\n",
    "r\"/home/martin/git/TRSL/results/100000 ribosomes, 30061 phase transcriptome, varying tRNAs, constant exome, no decay, median constant initiation rates, deltat=0.05s_20180320_2209_100000_ribosomes_1200s.p\",\n",
    "r\"/home/martin/git/TRSL/results/150000 ribosomes, 60000 phase transcriptome, varying tRNAs, constant exome, no decay, median constant initiation rates, deltat=0.05s_20180321_0355_150000_ribosomes_1200s.p\",\n",
    "r\"/home/martin/git/TRSL/results/150000 ribosomes, 30061 phase transcriptome, varying tRNAs, constant exome, no decay, median constant initiation rates, deltat=0.05s_20180321_0802_150000_ribosomes_1200s.p\",\n",
    "]"
   ]
  },
  {
   "cell_type": "markdown",
   "metadata": {},
   "source": [
    "Test runs with low ribosome counts, produced with $\\Delta t = 0.05 \\mathrm{s}$:"
   ]
  },
  {
   "cell_type": "code",
   "execution_count": 26,
   "metadata": {},
   "outputs": [],
   "source": [
    "runs = [\n",
    "r\"/home/martin/git/TRSL/results/50 ribosomes, 60000 phase transcriptome, varying tRNAs, constant exome, no decay, median constant initiation rates, deltat=0.05s_20180321_1357_50_ribosomes_1200s.p\",\n",
    "r\"/home/martin/git/TRSL/results/50 ribosomes, 30061 phase transcriptome, varying tRNAs, constant exome, no decay, median constant initiation rates, deltat=0.05s_20180321_1418_50_ribosomes_1200s.p\",\n",
    "r\"/home/martin/git/TRSL/results/100 ribosomes, 60000 phase transcriptome, varying tRNAs, constant exome, no decay, median constant initiation rates, deltat=0.05s_20180321_1503_100_ribosomes_1200s.p\",\n",
    "r\"/home/martin/git/TRSL/results/100 ribosomes, 30061 phase transcriptome, varying tRNAs, constant exome, no decay, median constant initiation rates, deltat=0.05s_20180321_1527_100_ribosomes_1200s.p\",\n",
    "]"
   ]
  },
  {
   "cell_type": "code",
   "execution_count": 27,
   "metadata": {},
   "outputs": [],
   "source": [
    "from tempfile import mkstemp\n",
    "from shutil import move\n",
    "from os import remove, close\n",
    "\n",
    "def replace(file_path, pattern, subst):\n",
    "    #Create temp file\n",
    "    fh, abs_path = mkstemp()\n",
    "    with open(abs_path,'w') as new_file:\n",
    "        with open(file_path) as old_file:\n",
    "            for line in old_file:\n",
    "                new_file.write(line.replace(pattern, subst))\n",
    "    close(fh)\n",
    "    #Remove original file\n",
    "    remove(file_path)\n",
    "    #Move new file\n",
    "    move(abs_path, file_path)"
   ]
  },
  {
   "cell_type": "markdown",
   "metadata": {},
   "source": [
    "Only run once:"
   ]
  },
  {
   "cell_type": "code",
   "execution_count": 28,
   "metadata": {},
   "outputs": [
    {
     "name": "stdout",
     "output_type": "stream",
     "text": [
      "/home/martin/git/TRSL/results/50 ribosomes, 60000 phase transcriptome, varying tRNAs, constant exome, no decay, median constant initiation rates, deltat=0.05s_20180321_1357_50_ribosomes_1200s.p\n",
      "/home/martin/git/TRSL/results/50 ribosomes, 30061 phase transcriptome, varying tRNAs, constant exome, no decay, median constant initiation rates, deltat=0.05s_20180321_1418_50_ribosomes_1200s.p\n",
      "/home/martin/git/TRSL/results/100 ribosomes, 60000 phase transcriptome, varying tRNAs, constant exome, no decay, median constant initiation rates, deltat=0.05s_20180321_1503_100_ribosomes_1200s.p\n",
      "/home/martin/git/TRSL/results/100 ribosomes, 30061 phase transcriptome, varying tRNAs, constant exome, no decay, median constant initiation rates, deltat=0.05s_20180321_1527_100_ribosomes_1200s.p\n"
     ]
    }
   ],
   "source": [
    "for run in runs:\n",
    "    print run\n",
    "    replace(run, \"_numpypy.multiarray\", \"numpy.core.multiarray\")"
   ]
  },
  {
   "cell_type": "code",
   "execution_count": 29,
   "metadata": {},
   "outputs": [
    {
     "name": "stdout",
     "output_type": "stream",
     "text": [
      "transcriptome length: 56592\n",
      "50 ribosomes, 60000 phase transcriptome, varying tRNAs, constant exome, no decay, median constant initiation rates, deltat=0.05s\n",
      "transcriptome length: 28296\n",
      "50 ribosomes, 30061 phase transcriptome, varying tRNAs, constant exome, no decay, median constant initiation rates, deltat=0.05s\n",
      "transcriptome length: 56592\n",
      "100 ribosomes, 60000 phase transcriptome, varying tRNAs, constant exome, no decay, median constant initiation rates, deltat=0.05s\n",
      "transcriptome length: 28296\n",
      "100 ribosomes, 30061 phase transcriptome, varying tRNAs, constant exome, no decay, median constant initiation rates, deltat=0.05s\n"
     ]
    }
   ],
   "source": [
    "from matplotlib.font_manager import FontProperties\n",
    "\n",
    "ribo = {}\n",
    "ribo_free = {}\n",
    "ribo_bound = {}\n",
    "\n",
    "for run in runs:\n",
    "    results = pkl.load(open(run))\n",
    "    print \"transcriptome length: {}\".format(len(results['transcriptome']))\n",
    "    print results['description']\n",
    "    \n",
    "    if len(results['transcriptome']) in ribo:\n",
    "        ribo[len(results['transcriptome'])].append(results['n_ribosomes'])\n",
    "    else:\n",
    "        ribo[len(results['transcriptome'])] = [results['n_ribosomes']]\n",
    "        \n",
    "    if len(results['transcriptome']) in ribo_free:\n",
    "        ribo_free[len(results['transcriptome'])].append(results[\"timecourses\"][\"ribos._free\"][-1])\n",
    "    else:\n",
    "        ribo_free[len(results['transcriptome'])] = [results[\"timecourses\"][\"ribos._free\"][-1]]\n",
    "\n",
    "    if len(results['transcriptome']) in ribo_bound:\n",
    "        ribo_bound[len(results['transcriptome'])].append(results[\"timecourses\"][\"ribos._bound\"][-1])\n",
    "    else:\n",
    "        ribo_bound[len(results['transcriptome'])] = [results[\"timecourses\"][\"ribos._bound\"][-1]]"
   ]
  },
  {
   "cell_type": "code",
   "execution_count": 30,
   "metadata": {},
   "outputs": [],
   "source": [
    "orf_genomic_dict = pkl.load(open(\"../../parameters/orf_coding.p\"))"
   ]
  },
  {
   "cell_type": "code",
   "execution_count": 31,
   "metadata": {},
   "outputs": [
    {
     "name": "stdout",
     "output_type": "stream",
     "text": [
      "fixing uneven time series lengths...\n",
      "creating timecourses...\n",
      "fixing uneven time series lengths...\n",
      "creating timecourses...\n",
      "fixing uneven time series lengths...\n",
      "creating timecourses...\n",
      "fixing uneven time series lengths...\n",
      "creating timecourses...\n"
     ]
    }
   ],
   "source": [
    "timecourses = {}\n",
    "\n",
    "for run in runs:\n",
    "    labellist = run.split(r\"/\")[-1].split(r\",\")\n",
    "    ribos = int(labellist[0].split()[0])\n",
    "    timecourses[ribos] = {}\n",
    "    \n",
    "for run in runs:\n",
    "    labellist = run.split(r\"/\")[-1].split(r\",\")\n",
    "    ribos = int(labellist[0].split()[0])\n",
    "    phase = labellist[1].split(\"phase\")[0].strip()\n",
    "    results = pkl.load(open(run))\n",
    "    timecourses[ribos][phase] = results['timecourses'] # we can now address as timecourses[100000]['S'] etc.\n",
    "    \n",
    "    # some genes have 5999, some 6000 timepoints, we have to fix that\n",
    "    print \"fixing uneven time series lengths...\"\n",
    "    num_timepoints = min([len(timecourses[ribos][phase][gene]) for gene in timecourses[ribos][phase]])\n",
    "\n",
    "    print \"creating timecourses...\"\n",
    "    timecourses[ribos][phase] = {key: timecourses[ribos][phase][key][:num_timepoints] \n",
    "                                 for key in timecourses[ribos][phase]\n",
    "                                 if key in orf_genomic_dict}"
   ]
  },
  {
   "cell_type": "code",
   "execution_count": 32,
   "metadata": {},
   "outputs": [
    {
     "name": "stdout",
     "output_type": "stream",
     "text": [
      "[50, 100]\n"
     ]
    }
   ],
   "source": [
    "ribo_numbers = sorted(timecourses.keys())\n",
    "print ribo_numbers"
   ]
  },
  {
   "cell_type": "code",
   "execution_count": 33,
   "metadata": {},
   "outputs": [
    {
     "name": "stderr",
     "output_type": "stream",
     "text": [
      "/usr/lib/python2.7/dist-packages/ipykernel_launcher.py:1: FutureWarning: \n",
      "Panel4D is deprecated and will be removed in a future version.\n",
      "The recommended way to represent these types of n-dimensional data are with\n",
      "the `xarray package <http://xarray.pydata.org/en/stable/>`__.\n",
      "Pandas provides a `.to_xarray()` method to help automate this conversion.\n",
      "\n",
      "  \"\"\"Entry point for launching an IPython kernel.\n"
     ]
    },
    {
     "data": {
      "text/plain": [
       "<class 'pandas.core.panelnd.Panel4D'>\n",
       "Dimensions: 2 (labels) x 2 (items) x 23999 (major_axis) x 3725 (minor_axis)\n",
       "Labels axis: 50 to 100\n",
       "Items axis: 30061 to 60000\n",
       "Major_axis axis: 0 to 23998\n",
       "Minor_axis axis: YAL001C to YPR199C"
      ]
     },
     "execution_count": 33,
     "metadata": {},
     "output_type": "execute_result"
    }
   ],
   "source": [
    "data = pd.Panel4D(timecourses)\n",
    "data"
   ]
  },
  {
   "cell_type": "code",
   "execution_count": 34,
   "metadata": {},
   "outputs": [
    {
     "data": {
      "text/plain": [
       "<class 'pandas.core.panel.Panel'>\n",
       "Dimensions: 2 (items) x 2 (major_axis) x 23999 (minor_axis)\n",
       "Items axis: 50 to 100\n",
       "Major_axis axis: 30061 to 60000\n",
       "Minor_axis axis: 0 to 23998"
      ]
     },
     "execution_count": 34,
     "metadata": {},
     "output_type": "execute_result"
    }
   ],
   "source": [
    "total_protein = data.sum(axis=3)\n",
    "total_protein"
   ]
  },
  {
   "cell_type": "code",
   "execution_count": 35,
   "metadata": {},
   "outputs": [
    {
     "name": "stdout",
     "output_type": "stream",
     "text": [
      "RangeIndex(start=0, stop=23999, step=1)\n",
      "23999\n"
     ]
    }
   ],
   "source": [
    "#print total_protein.minor_xs(59.98000000000001)\n",
    "print total_protein.axes[2]\n",
    "print len(total_protein.axes[2])"
   ]
  },
  {
   "cell_type": "markdown",
   "metadata": {},
   "source": [
    "We accept this index as it might be quicker and easier to address."
   ]
  },
  {
   "cell_type": "code",
   "execution_count": 36,
   "metadata": {},
   "outputs": [],
   "source": [
    "deltat = 0.05  # or 0.2"
   ]
  },
  {
   "cell_type": "code",
   "execution_count": 37,
   "metadata": {},
   "outputs": [
    {
     "data": {
      "text/plain": [
       "<bound method Panel.minor_xs of <class 'pandas.core.panel.Panel'>\n",
       "Dimensions: 2 (items) x 2 (major_axis) x 23999 (minor_axis)\n",
       "Items axis: 50 to 100\n",
       "Major_axis axis: 30061 to 60000\n",
       "Minor_axis axis: 0 to 23998>"
      ]
     },
     "execution_count": 37,
     "metadata": {},
     "output_type": "execute_result"
    }
   ],
   "source": [
    "total_protein.minor_xs"
   ]
  },
  {
   "cell_type": "code",
   "execution_count": 38,
   "metadata": {},
   "outputs": [
    {
     "data": {
      "text/plain": [
       "<matplotlib.axes._subplots.AxesSubplot at 0x7fa0436b57d0>"
      ]
     },
     "execution_count": 38,
     "metadata": {},
     "output_type": "execute_result"
    },
    {
     "data": {
      "image/png": "[encoded data removed]",
      "text/plain": [
       "<matplotlib.figure.Figure at 0x7fa04323e9d0>"
      ]
     },
     "metadata": {},
     "output_type": "display_data"
    }
   ],
   "source": [
    "trans_eff_cell = (total_protein.minor_xs(5998) - total_protein.minor_xs(4498))/(1500 * deltat)\n",
    "trans_eff_cell.T.plot()"
   ]
  },
  {
   "cell_type": "code",
   "execution_count": 39,
   "metadata": {},
   "outputs": [
    {
     "data": {
      "text/plain": [
       "[50, 100]"
      ]
     },
     "execution_count": 39,
     "metadata": {},
     "output_type": "execute_result"
    }
   ],
   "source": [
    "ribo_numbers"
   ]
  },
  {
   "cell_type": "code",
   "execution_count": 40,
   "metadata": {},
   "outputs": [
    {
     "data": {
      "text/html": [
       "<div>\n",
       "<table border=\"1\" class=\"dataframe\">\n",
       "  <thead>\n",
       "    <tr style=\"text-align: right;\">\n",
       "      <th></th>\n",
       "      <th>50</th>\n",
       "      <th>100</th>\n",
       "    </tr>\n",
       "  </thead>\n",
       "  <tbody>\n",
       "    <tr>\n",
       "      <th>30061</th>\n",
       "      <td>0.866667</td>\n",
       "      <td>1.746667</td>\n",
       "    </tr>\n",
       "    <tr>\n",
       "      <th>60000</th>\n",
       "      <td>1.253333</td>\n",
       "      <td>2.453333</td>\n",
       "    </tr>\n",
       "  </tbody>\n",
       "</table>\n",
       "</div>"
      ],
      "text/plain": [
       "            50        100\n",
       "30061  0.866667  1.746667\n",
       "60000  1.253333  2.453333"
      ]
     },
     "execution_count": 40,
     "metadata": {},
     "output_type": "execute_result"
    }
   ],
   "source": [
    "trans_eff_cell"
   ]
  },
  {
   "cell_type": "code",
   "execution_count": 41,
   "metadata": {},
   "outputs": [],
   "source": [
    "trans_eff_per_ribo = trans_eff_cell/ribo_numbers"
   ]
  },
  {
   "cell_type": "code",
   "execution_count": 42,
   "metadata": {},
   "outputs": [
    {
     "data": {
      "text/plain": [
       "<matplotlib.axes._subplots.AxesSubplot at 0x7fa0428eced0>"
      ]
     },
     "execution_count": 42,
     "metadata": {},
     "output_type": "execute_result"
    },
    {
     "data": {
      "image/png": "[encoded data removed]",
      "text/plain": [
       "<matplotlib.figure.Figure at 0x7fa043344590>"
      ]
     },
     "metadata": {},
     "output_type": "display_data"
    }
   ],
   "source": [
    "trans_eff_per_ribo.T.plot()"
   ]
  },
  {
   "cell_type": "code",
   "execution_count": 48,
   "metadata": {},
   "outputs": [
    {
     "ename": "ValueError",
     "evalue": "Image size of 335496x613 pixels is too large. It must be less than 2^16 in each direction.",
     "output_type": "error",
     "traceback": [
      "\u001b[0;31m---------------------------------------------------------------------------\u001b[0m",
      "\u001b[0;31mValueError\u001b[0m                                Traceback (most recent call last)",
      "\u001b[0;32m/usr/lib/python2.7/dist-packages/IPython/core/formatters.pyc\u001b[0m in \u001b[0;36m__call__\u001b[0;34m(self, obj)\u001b[0m\n\u001b[1;32m    332\u001b[0m                 \u001b[0;32mpass\u001b[0m\u001b[0;34m\u001b[0m\u001b[0m\n\u001b[1;32m    333\u001b[0m             \u001b[0;32melse\u001b[0m\u001b[0;34m:\u001b[0m\u001b[0;34m\u001b[0m\u001b[0m\n\u001b[0;32m--> 334\u001b[0;31m                 \u001b[0;32mreturn\u001b[0m \u001b[0mprinter\u001b[0m\u001b[0;34m(\u001b[0m\u001b[0mobj\u001b[0m\u001b[0;34m)\u001b[0m\u001b[0;34m\u001b[0m\u001b[0m\n\u001b[0m\u001b[1;32m    335\u001b[0m             \u001b[0;31m# Finally look for special method names\u001b[0m\u001b[0;34m\u001b[0m\u001b[0;34m\u001b[0m\u001b[0m\n\u001b[1;32m    336\u001b[0m             \u001b[0mmethod\u001b[0m \u001b[0;34m=\u001b[0m \u001b[0mget_real_method\u001b[0m\u001b[0;34m(\u001b[0m\u001b[0mobj\u001b[0m\u001b[0;34m,\u001b[0m \u001b[0mself\u001b[0m\u001b[0;34m.\u001b[0m\u001b[0mprint_method\u001b[0m\u001b[0;34m)\u001b[0m\u001b[0;34m\u001b[0m\u001b[0m\n",
      "\u001b[0;32m/usr/lib/python2.7/dist-packages/IPython/core/pylabtools.pyc\u001b[0m in \u001b[0;36m<lambda>\u001b[0;34m(fig)\u001b[0m\n\u001b[1;32m    239\u001b[0m \u001b[0;34m\u001b[0m\u001b[0m\n\u001b[1;32m    240\u001b[0m     \u001b[0;32mif\u001b[0m \u001b[0;34m'png'\u001b[0m \u001b[0;32min\u001b[0m \u001b[0mformats\u001b[0m\u001b[0;34m:\u001b[0m\u001b[0;34m\u001b[0m\u001b[0m\n\u001b[0;32m--> 241\u001b[0;31m         \u001b[0mpng_formatter\u001b[0m\u001b[0;34m.\u001b[0m\u001b[0mfor_type\u001b[0m\u001b[0;34m(\u001b[0m\u001b[0mFigure\u001b[0m\u001b[0;34m,\u001b[0m \u001b[0;32mlambda\u001b[0m \u001b[0mfig\u001b[0m\u001b[0;34m:\u001b[0m \u001b[0mprint_figure\u001b[0m\u001b[0;34m(\u001b[0m\u001b[0mfig\u001b[0m\u001b[0;34m,\u001b[0m \u001b[0;34m'png'\u001b[0m\u001b[0;34m,\u001b[0m \u001b[0;34m**\u001b[0m\u001b[0mkwargs\u001b[0m\u001b[0;34m)\u001b[0m\u001b[0;34m)\u001b[0m\u001b[0;34m\u001b[0m\u001b[0m\n\u001b[0m\u001b[1;32m    242\u001b[0m     \u001b[0;32mif\u001b[0m \u001b[0;34m'retina'\u001b[0m \u001b[0;32min\u001b[0m \u001b[0mformats\u001b[0m \u001b[0;32mor\u001b[0m \u001b[0;34m'png2x'\u001b[0m \u001b[0;32min\u001b[0m \u001b[0mformats\u001b[0m\u001b[0;34m:\u001b[0m\u001b[0;34m\u001b[0m\u001b[0m\n\u001b[1;32m    243\u001b[0m         \u001b[0mpng_formatter\u001b[0m\u001b[0;34m.\u001b[0m\u001b[0mfor_type\u001b[0m\u001b[0;34m(\u001b[0m\u001b[0mFigure\u001b[0m\u001b[0;34m,\u001b[0m \u001b[0;32mlambda\u001b[0m \u001b[0mfig\u001b[0m\u001b[0;34m:\u001b[0m \u001b[0mretina_figure\u001b[0m\u001b[0;34m(\u001b[0m\u001b[0mfig\u001b[0m\u001b[0;34m,\u001b[0m \u001b[0;34m**\u001b[0m\u001b[0mkwargs\u001b[0m\u001b[0;34m)\u001b[0m\u001b[0;34m)\u001b[0m\u001b[0;34m\u001b[0m\u001b[0m\n",
      "\u001b[0;32m/usr/lib/python2.7/dist-packages/IPython/core/pylabtools.pyc\u001b[0m in \u001b[0;36mprint_figure\u001b[0;34m(fig, fmt, bbox_inches, **kwargs)\u001b[0m\n\u001b[1;32m    123\u001b[0m \u001b[0;34m\u001b[0m\u001b[0m\n\u001b[1;32m    124\u001b[0m     \u001b[0mbytes_io\u001b[0m \u001b[0;34m=\u001b[0m \u001b[0mBytesIO\u001b[0m\u001b[0;34m(\u001b[0m\u001b[0;34m)\u001b[0m\u001b[0;34m\u001b[0m\u001b[0m\n\u001b[0;32m--> 125\u001b[0;31m     \u001b[0mfig\u001b[0m\u001b[0;34m.\u001b[0m\u001b[0mcanvas\u001b[0m\u001b[0;34m.\u001b[0m\u001b[0mprint_figure\u001b[0m\u001b[0;34m(\u001b[0m\u001b[0mbytes_io\u001b[0m\u001b[0;34m,\u001b[0m \u001b[0;34m**\u001b[0m\u001b[0mkw\u001b[0m\u001b[0;34m)\u001b[0m\u001b[0;34m\u001b[0m\u001b[0m\n\u001b[0m\u001b[1;32m    126\u001b[0m     \u001b[0mdata\u001b[0m \u001b[0;34m=\u001b[0m \u001b[0mbytes_io\u001b[0m\u001b[0;34m.\u001b[0m\u001b[0mgetvalue\u001b[0m\u001b[0;34m(\u001b[0m\u001b[0;34m)\u001b[0m\u001b[0;34m\u001b[0m\u001b[0m\n\u001b[1;32m    127\u001b[0m     \u001b[0;32mif\u001b[0m \u001b[0mfmt\u001b[0m \u001b[0;34m==\u001b[0m \u001b[0;34m'svg'\u001b[0m\u001b[0;34m:\u001b[0m\u001b[0;34m\u001b[0m\u001b[0m\n",
      "\u001b[0;32m/home/martin/.local/lib/python2.7/site-packages/matplotlib/backend_bases.pyc\u001b[0m in \u001b[0;36mprint_figure\u001b[0;34m(self, filename, dpi, facecolor, edgecolor, orientation, format, **kwargs)\u001b[0m\n\u001b[1;32m   2265\u001b[0m                 \u001b[0morientation\u001b[0m\u001b[0;34m=\u001b[0m\u001b[0morientation\u001b[0m\u001b[0;34m,\u001b[0m\u001b[0;34m\u001b[0m\u001b[0m\n\u001b[1;32m   2266\u001b[0m                 \u001b[0mbbox_inches_restore\u001b[0m\u001b[0;34m=\u001b[0m\u001b[0m_bbox_inches_restore\u001b[0m\u001b[0;34m,\u001b[0m\u001b[0;34m\u001b[0m\u001b[0m\n\u001b[0;32m-> 2267\u001b[0;31m                 **kwargs)\n\u001b[0m\u001b[1;32m   2268\u001b[0m         \u001b[0;32mfinally\u001b[0m\u001b[0;34m:\u001b[0m\u001b[0;34m\u001b[0m\u001b[0m\n\u001b[1;32m   2269\u001b[0m             \u001b[0;32mif\u001b[0m \u001b[0mbbox_inches\u001b[0m \u001b[0;32mand\u001b[0m \u001b[0mrestore_bbox\u001b[0m\u001b[0;34m:\u001b[0m\u001b[0;34m\u001b[0m\u001b[0m\n",
      "\u001b[0;32m/home/martin/.local/lib/python2.7/site-packages/matplotlib/backends/backend_agg.pyc\u001b[0m in \u001b[0;36mprint_png\u001b[0;34m(self, filename_or_obj, *args, **kwargs)\u001b[0m\n\u001b[1;32m    505\u001b[0m \u001b[0;34m\u001b[0m\u001b[0m\n\u001b[1;32m    506\u001b[0m     \u001b[0;32mdef\u001b[0m \u001b[0mprint_png\u001b[0m\u001b[0;34m(\u001b[0m\u001b[0mself\u001b[0m\u001b[0;34m,\u001b[0m \u001b[0mfilename_or_obj\u001b[0m\u001b[0;34m,\u001b[0m \u001b[0;34m*\u001b[0m\u001b[0margs\u001b[0m\u001b[0;34m,\u001b[0m \u001b[0;34m**\u001b[0m\u001b[0mkwargs\u001b[0m\u001b[0;34m)\u001b[0m\u001b[0;34m:\u001b[0m\u001b[0;34m\u001b[0m\u001b[0m\n\u001b[0;32m--> 507\u001b[0;31m         \u001b[0mFigureCanvasAgg\u001b[0m\u001b[0;34m.\u001b[0m\u001b[0mdraw\u001b[0m\u001b[0;34m(\u001b[0m\u001b[0mself\u001b[0m\u001b[0;34m)\u001b[0m\u001b[0;34m\u001b[0m\u001b[0m\n\u001b[0m\u001b[1;32m    508\u001b[0m         \u001b[0mrenderer\u001b[0m \u001b[0;34m=\u001b[0m \u001b[0mself\u001b[0m\u001b[0;34m.\u001b[0m\u001b[0mget_renderer\u001b[0m\u001b[0;34m(\u001b[0m\u001b[0;34m)\u001b[0m\u001b[0;34m\u001b[0m\u001b[0m\n\u001b[1;32m    509\u001b[0m         \u001b[0moriginal_dpi\u001b[0m \u001b[0;34m=\u001b[0m \u001b[0mrenderer\u001b[0m\u001b[0;34m.\u001b[0m\u001b[0mdpi\u001b[0m\u001b[0;34m\u001b[0m\u001b[0m\n",
      "\u001b[0;32m/home/martin/.local/lib/python2.7/site-packages/matplotlib/backends/backend_agg.pyc\u001b[0m in \u001b[0;36mdraw\u001b[0;34m(self)\u001b[0m\n\u001b[1;32m    420\u001b[0m         \u001b[0mDraw\u001b[0m \u001b[0mthe\u001b[0m \u001b[0mfigure\u001b[0m \u001b[0musing\u001b[0m \u001b[0mthe\u001b[0m \u001b[0mrenderer\u001b[0m\u001b[0;34m\u001b[0m\u001b[0m\n\u001b[1;32m    421\u001b[0m         \"\"\"\n\u001b[0;32m--> 422\u001b[0;31m         \u001b[0mself\u001b[0m\u001b[0;34m.\u001b[0m\u001b[0mrenderer\u001b[0m \u001b[0;34m=\u001b[0m \u001b[0mself\u001b[0m\u001b[0;34m.\u001b[0m\u001b[0mget_renderer\u001b[0m\u001b[0;34m(\u001b[0m\u001b[0mcleared\u001b[0m\u001b[0;34m=\u001b[0m\u001b[0mTrue\u001b[0m\u001b[0;34m)\u001b[0m\u001b[0;34m\u001b[0m\u001b[0m\n\u001b[0m\u001b[1;32m    423\u001b[0m         \u001b[0;31m# acquire a lock on the shared font cache\u001b[0m\u001b[0;34m\u001b[0m\u001b[0;34m\u001b[0m\u001b[0m\n\u001b[1;32m    424\u001b[0m         \u001b[0mRendererAgg\u001b[0m\u001b[0;34m.\u001b[0m\u001b[0mlock\u001b[0m\u001b[0;34m.\u001b[0m\u001b[0macquire\u001b[0m\u001b[0;34m(\u001b[0m\u001b[0;34m)\u001b[0m\u001b[0;34m\u001b[0m\u001b[0m\n",
      "\u001b[0;32m/home/martin/.local/lib/python2.7/site-packages/matplotlib/backends/backend_agg.pyc\u001b[0m in \u001b[0;36mget_renderer\u001b[0;34m(self, cleared)\u001b[0m\n\u001b[1;32m    442\u001b[0m \u001b[0;34m\u001b[0m\u001b[0m\n\u001b[1;32m    443\u001b[0m         \u001b[0;32mif\u001b[0m \u001b[0mneed_new_renderer\u001b[0m\u001b[0;34m:\u001b[0m\u001b[0;34m\u001b[0m\u001b[0m\n\u001b[0;32m--> 444\u001b[0;31m             \u001b[0mself\u001b[0m\u001b[0;34m.\u001b[0m\u001b[0mrenderer\u001b[0m \u001b[0;34m=\u001b[0m \u001b[0mRendererAgg\u001b[0m\u001b[0;34m(\u001b[0m\u001b[0mw\u001b[0m\u001b[0;34m,\u001b[0m \u001b[0mh\u001b[0m\u001b[0;34m,\u001b[0m \u001b[0mself\u001b[0m\u001b[0;34m.\u001b[0m\u001b[0mfigure\u001b[0m\u001b[0;34m.\u001b[0m\u001b[0mdpi\u001b[0m\u001b[0;34m)\u001b[0m\u001b[0;34m\u001b[0m\u001b[0m\n\u001b[0m\u001b[1;32m    445\u001b[0m             \u001b[0mself\u001b[0m\u001b[0;34m.\u001b[0m\u001b[0m_lastKey\u001b[0m \u001b[0;34m=\u001b[0m \u001b[0mkey\u001b[0m\u001b[0;34m\u001b[0m\u001b[0m\n\u001b[1;32m    446\u001b[0m         \u001b[0;32melif\u001b[0m \u001b[0mcleared\u001b[0m\u001b[0;34m:\u001b[0m\u001b[0;34m\u001b[0m\u001b[0m\n",
      "\u001b[0;32m/home/martin/.local/lib/python2.7/site-packages/matplotlib/backends/backend_agg.pyc\u001b[0m in \u001b[0;36m__init__\u001b[0;34m(self, width, height, dpi)\u001b[0m\n\u001b[1;32m     90\u001b[0m         \u001b[0mself\u001b[0m\u001b[0;34m.\u001b[0m\u001b[0mwidth\u001b[0m \u001b[0;34m=\u001b[0m \u001b[0mwidth\u001b[0m\u001b[0;34m\u001b[0m\u001b[0m\n\u001b[1;32m     91\u001b[0m         \u001b[0mself\u001b[0m\u001b[0;34m.\u001b[0m\u001b[0mheight\u001b[0m \u001b[0;34m=\u001b[0m \u001b[0mheight\u001b[0m\u001b[0;34m\u001b[0m\u001b[0m\n\u001b[0;32m---> 92\u001b[0;31m         \u001b[0mself\u001b[0m\u001b[0;34m.\u001b[0m\u001b[0m_renderer\u001b[0m \u001b[0;34m=\u001b[0m \u001b[0m_RendererAgg\u001b[0m\u001b[0;34m(\u001b[0m\u001b[0mint\u001b[0m\u001b[0;34m(\u001b[0m\u001b[0mwidth\u001b[0m\u001b[0;34m)\u001b[0m\u001b[0;34m,\u001b[0m \u001b[0mint\u001b[0m\u001b[0;34m(\u001b[0m\u001b[0mheight\u001b[0m\u001b[0;34m)\u001b[0m\u001b[0;34m,\u001b[0m \u001b[0mdpi\u001b[0m\u001b[0;34m,\u001b[0m \u001b[0mdebug\u001b[0m\u001b[0;34m=\u001b[0m\u001b[0mFalse\u001b[0m\u001b[0;34m)\u001b[0m\u001b[0;34m\u001b[0m\u001b[0m\n\u001b[0m\u001b[1;32m     93\u001b[0m         \u001b[0mself\u001b[0m\u001b[0;34m.\u001b[0m\u001b[0m_filter_renderers\u001b[0m \u001b[0;34m=\u001b[0m \u001b[0;34m[\u001b[0m\u001b[0;34m]\u001b[0m\u001b[0;34m\u001b[0m\u001b[0m\n\u001b[1;32m     94\u001b[0m \u001b[0;34m\u001b[0m\u001b[0m\n",
      "\u001b[0;31mValueError\u001b[0m: Image size of 335496x613 pixels is too large. It must be less than 2^16 in each direction."
     ]
    },
    {
     "data": {
      "text/plain": [
       "<matplotlib.figure.Figure at 0x7fa027c83190>"
      ]
     },
     "metadata": {},
     "output_type": "display_data"
    }
   ],
   "source": [
    "plt.rcParams['figure.figsize'] = (6, 10)\n",
    "\n",
    "#######################################################################################################################\n",
    "# Two subplots sharing both x/y axes\n",
    "f, (ax1, ax2) = plt.subplots(2, sharex=True, sharey=False)\n",
    "\n",
    "#######################################################################################################################\n",
    "x1 = np.array(ribo[ribo.keys()[0]])\n",
    "y1 = np.array(ribo_bound[ribo.keys()[0]]) * 1.0 / np.array(ribo[ribo.keys()[0]])\n",
    "ax1.plot(x1, y1)\n",
    "\n",
    "x1 = np.array(ribo[ribo.keys()[1]])\n",
    "y1 = np.array(ribo_bound[ribo.keys()[1]]) * 1.0 / np.array(ribo[ribo.keys()[1]])\n",
    "ax1.plot(x1, y1)\n",
    "\n",
    "ax = ax1\n",
    "ax.set_ylabel(\"fraction of bound ribosomes\\n\", fontsize=16)\n",
    "plt.tick_params(axis='both', which='major', labelsize=16)\n",
    "\n",
    "xpos = np.array(ribo_numbers)\n",
    "ax.set_xticks(xpos)\n",
    "ax.set_xticklabels(xpos, fontsize=16)\n",
    "\n",
    "ypos = np.arange(0.5, 0.91, 0.1)\n",
    "ax.set_yticks(ypos)\n",
    "#ax.set_yticklabels(ypos, fontsize=16)\n",
    "ax.set_yticklabels([\"%.3f\" % round(p,1) for p in ypos], fontsize=16)\n",
    "\n",
    "ax.axhline(0.5, color='black', lw=2)\n",
    "\n",
    "ax.set_ylim([0.5, 0.9])\n",
    "\n",
    "ax.text(-50000, 0.9, \"A\", fontsize=16, weight=\"bold\")\n",
    "\n",
    "ax.legend(labels=[\"30000 mRNAs\", \"60000 mRNAs\"], loc='lower center', fancybox=True, framealpha=1.0)\n",
    "#ax1.set_title('Sharing both axes')\n",
    "\n",
    "#######################################################################################################################\n",
    "#ax2.plot(x2, y2, color='black')\n",
    "\n",
    "ax = ax2\n",
    "trans_eff_per_ribo.T.plot(ax=ax)\n",
    "ypos = np.arange(0.02, 0.03, 0.002)\n",
    "ax.set_yticks(ypos)\n",
    "ax.set_yticklabels([\"%.3f\" % round(p,3) for p in ypos], fontsize=16)\n",
    "ax.set_ylabel(\"translational efficiency of\\nribosome [proteins/ribosome/s]\", fontsize=16)\n",
    "\n",
    "ax.set_xlabel(\"ribosome count\", fontsize=16)\n",
    "\n",
    "#ax.set_ylim([0.02, 0.03])\n",
    "\n",
    "ax.text(-50000, 0.03, \"B\", fontsize=16, weight=\"bold\")\n",
    "\n",
    "plt.legend(labels=[\"30000 mRNAs\", \"60000 mRNAs\"], loc='lower center', fancybox=True, framealpha=1.0)\n",
    "\n",
    "#######################################################################################################################\n",
    "# Fine-tune figure; make subplots close to each other and hide x ticks for\n",
    "# all but bottom plot.\n",
    "f.subplots_adjust(hspace=0)\n",
    "plt.setp([a.get_xticklabels() for a in f.axes[:-1]], visible=False)\n",
    "\n",
    "plt.show()"
   ]
  },
  {
   "cell_type": "code",
   "execution_count": 49,
   "metadata": {},
   "outputs": [
    {
     "data": {
      "image/png": "[encoded data removed]",
      "text/plain": [
       "<matplotlib.figure.Figure at 0x7fa0430e8e10>"
      ]
     },
     "metadata": {},
     "output_type": "display_data"
    }
   ],
   "source": [
    "plt.close('all')\n",
    "\n",
    "plt.rc('font',family='serif')\n",
    "plt.rcParams['figure.figsize'] = (12, 5)\n",
    "plt.rcParams['axes.edgecolor']='black'\n",
    "plt.rcParams['axes.labelcolor']='black'\n",
    "plt.rcParams['xtick.color']='black'\n",
    "plt.rcParams['ytick.color']='black'\n",
    "plt.rcParams['grid.color']='grey'\n",
    "plt.rcParams['grid.alpha']='0.5'\n",
    "plt.rcParams['grid.linestyle']='-.'\n",
    "#plt.rcParams['figure.facecolor'] = 'white'\n",
    "\n",
    "hfont = {'fontname': u'Adobe Caslon Pro'}\n",
    "\n",
    "#######################################################################################################################\n",
    "# Two subplots sharing both x/y axes\n",
    "f, (ax1, ax2) = plt.subplots(1, 2, sharey=False, subplot_kw=dict(axisbg='white'))\n",
    "plt.grid()\n",
    "\n",
    "#######################################################################################################################\n",
    "x1 = np.array(ribo[ribo.keys()[0]])\n",
    "y1 = np.array(ribo_bound[ribo.keys()[0]]) * 1.0 / np.array(ribo[ribo.keys()[0]])\n",
    "ax1.plot(x1, y1, color='navy')\n",
    "\n",
    "x1 = np.array(ribo[ribo.keys()[1]])\n",
    "y1 = np.array(ribo_bound[ribo.keys()[1]]) * 1.0 / np.array(ribo[ribo.keys()[1]])\n",
    "ax1.plot(x1, y1, color='darkred')\n",
    "\n",
    "ax = ax1\n",
    "ax.set_ylabel(\"Fraction of bound ribosomes\", fontsize=16, **hfont)\n",
    "plt.tick_params(axis='both', which='major', labelsize=16)\n",
    "\n",
    "#xpos = np.arange(100000, 500001, 100000)\n",
    "#xpos = np.arange(50, 501, 50)\n",
    "xpos = np.array(ribo_numbers)\n",
    "ax.set_xticks(xpos)\n",
    "ax.set_xticklabels(xpos, fontsize=16, **hfont)\n",
    "\n",
    "ypos = np.arange(0.4, 0.71, 0.1)\n",
    "ax.set_yticks(ypos)\n",
    "ax.set_yticklabels(ypos, fontsize=16, **hfont)\n",
    "\n",
    "#ax.axhline(0.5, color='black', lw=2)\n",
    "\n",
    "ax.set_xlabel(\"Ribosome count\", fontsize=16, **hfont)\n",
    "\n",
    "#ax.set_ylim([0.4, 0.8])\n",
    "\n",
    "#ax.text(-50000, 0.9, \"A\", fontsize=16, weight=\"bold\", **hfont)\n",
    "\n",
    "ax.yaxis.set_major_formatter(ticker.FormatStrFormatter(\"%.1f\"))\n",
    "\n",
    "ax.legend(labels=[\"30000 mRNAs\", \"60000 mRNAs\"], loc='lower center', fancybox=True, framealpha=1.0,\n",
    "          facecolor='white')\n",
    "ax.grid()\n",
    "\n",
    "#ax1.set_title('Sharing both axes')\n",
    "\n",
    "#######################################################################################################################\n",
    "#ax2.plot(x2, y2, color='black')\n",
    "\n",
    "ax = ax2\n",
    "trans_eff_per_ribo.T.plot(ax=ax, color=['navy', 'darkred'])\n",
    "#xpos = np.arange(100000, 500001, 100000)\n",
    "#xpos = np.arange(50, 501, 50)\n",
    "xpos = np.array(ribo_numbers)\n",
    "\n",
    "ypos = np.arange(0.01, 0.04, 0.005)\n",
    "ax.set_xticks(xpos)\n",
    "ax.set_yticks(ypos)\n",
    "ax.set_yticklabels([\"%.3f\" % round(p, 3) for p in ypos], fontsize=16)\n",
    "ax.set_ylabel(\"Ribosome translational efficiency\\n[proteins/ribosome/s]\", fontsize=16, **hfont)\n",
    "\n",
    "ax.set_xlabel(\"Ribosome count\", fontsize=16, **hfont)\n",
    "\n",
    "#ax.set_ylim([0.01, 0.025])\n",
    "\n",
    "#ax.text(-50000, 0.03, \"B\", fontsize=16, weight=\"bold\", **hfont)\n",
    "\n",
    "plt.legend(labels=[\"30000 mRNAs\", \"60000 mRNAs\"], loc='lower center', fancybox=True, framealpha=1.0,\n",
    "          facecolor='white')\n",
    "ax.grid()\n",
    "\n",
    "#######################################################################################################################\n",
    "# Fine-tune figure; make subplots close to each other \n",
    "#f.subplots_adjust(hspace=0)\n",
    "f.tight_layout()\n",
    "\n",
    "#plt.setp([a.get_xticklabels() for a in f.axes[:-1]], visible=False)\n",
    "\n",
    "plt.savefig(\"ribosome_efficiency_constant_transcriptome.pgf\")"
   ]
  },
  {
   "cell_type": "code",
   "execution_count": null,
   "metadata": {},
   "outputs": [],
   "source": []
  }
 ],
 "metadata": {
  "kernelspec": {
   "display_name": "Python 2",
   "language": "python",
   "name": "python2"
  },
  "language_info": {
   "codemirror_mode": {
    "name": "ipython",
    "version": 2
   },
   "file_extension": ".py",
   "mimetype": "text/x-python",
   "name": "python",
   "nbconvert_exporter": "python",
   "pygments_lexer": "ipython2",
   "version": "2.7.12"
  }
 },
 "nbformat": 4,
 "nbformat_minor": 1
}
