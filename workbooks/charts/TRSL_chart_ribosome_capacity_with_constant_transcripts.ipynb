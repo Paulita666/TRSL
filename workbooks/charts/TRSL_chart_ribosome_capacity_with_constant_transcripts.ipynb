{
 "cells": [
  {
   "cell_type": "markdown",
   "metadata": {},
   "source": [
    "### Capacity chart as proposed by Ana"
   ]
  },
  {
   "cell_type": "markdown",
   "metadata": {},
   "source": [
    "The transcriptome and init rates are held constant (see /home/martin/git/TRSL/analysis/TRSL_vary_ribosomes_tRNA_uniform_transcriptome.py)."
   ]
  },
  {
   "cell_type": "code",
   "execution_count": 39,
   "metadata": {},
   "outputs": [
    {
     "name": "stderr",
     "output_type": "stream",
     "text": [
      "/usr/lib/python2.7/dist-packages/ipykernel_launcher.py:4: UserWarning: \n",
      "This call to matplotlib.use() has no effect because the backend has already\n",
      "been chosen; matplotlib.use() must be called *before* pylab, matplotlib.pyplot,\n",
      "or matplotlib.backends is imported for the first time.\n",
      "\n",
      "The backend was *originally* set to 'module://ipykernel.pylab.backend_inline' by the following code:\n",
      "  File \"/usr/lib/python2.7/runpy.py\", line 174, in _run_module_as_main\n",
      "    \"__main__\", fname, loader, pkg_name)\n",
      "  File \"/usr/lib/python2.7/runpy.py\", line 72, in _run_code\n",
      "    exec code in run_globals\n",
      "  File \"/usr/lib/python2.7/dist-packages/ipykernel_launcher.py\", line 16, in <module>\n",
      "    app.launch_new_instance()\n",
      "  File \"/usr/lib/python2.7/dist-packages/traitlets/config/application.py\", line 658, in launch_instance\n",
      "    app.start()\n",
      "  File \"/usr/lib/python2.7/dist-packages/ipykernel/kernelapp.py\", line 478, in start\n",
      "    self.io_loop.start()\n",
      "  File \"/usr/lib/python2.7/dist-packages/zmq/eventloop/ioloop.py\", line 162, in start\n",
      "    super(ZMQIOLoop, self).start()\n",
      "  File \"/usr/lib/python2.7/dist-packages/tornado/ioloop.py\", line 866, in start\n",
      "    handler_func(fd_obj, events)\n",
      "  File \"/usr/lib/python2.7/dist-packages/tornado/stack_context.py\", line 275, in null_wrapper\n",
      "    return fn(*args, **kwargs)\n",
      "  File \"/usr/lib/python2.7/dist-packages/zmq/eventloop/zmqstream.py\", line 440, in _handle_events\n",
      "    self._handle_recv()\n",
      "  File \"/usr/lib/python2.7/dist-packages/zmq/eventloop/zmqstream.py\", line 472, in _handle_recv\n",
      "    self._run_callback(callback, msg)\n",
      "  File \"/usr/lib/python2.7/dist-packages/zmq/eventloop/zmqstream.py\", line 414, in _run_callback\n",
      "    callback(*args, **kwargs)\n",
      "  File \"/usr/lib/python2.7/dist-packages/tornado/stack_context.py\", line 275, in null_wrapper\n",
      "    return fn(*args, **kwargs)\n",
      "  File \"/usr/lib/python2.7/dist-packages/ipykernel/kernelbase.py\", line 281, in dispatcher\n",
      "    return self.dispatch_shell(stream, msg)\n",
      "  File \"/usr/lib/python2.7/dist-packages/ipykernel/kernelbase.py\", line 232, in dispatch_shell\n",
      "    handler(stream, idents, msg)\n",
      "  File \"/usr/lib/python2.7/dist-packages/ipykernel/kernelbase.py\", line 397, in execute_request\n",
      "    user_expressions, allow_stdin)\n",
      "  File \"/usr/lib/python2.7/dist-packages/ipykernel/ipkernel.py\", line 208, in do_execute\n",
      "    res = shell.run_cell(code, store_history=store_history, silent=silent)\n",
      "  File \"/usr/lib/python2.7/dist-packages/ipykernel/zmqshell.py\", line 533, in run_cell\n",
      "    return super(ZMQInteractiveShell, self).run_cell(*args, **kwargs)\n",
      "  File \"/usr/lib/python2.7/dist-packages/IPython/core/interactiveshell.py\", line 2718, in run_cell\n",
      "    interactivity=interactivity, compiler=compiler, result=result)\n",
      "  File \"/usr/lib/python2.7/dist-packages/IPython/core/interactiveshell.py\", line 2822, in run_ast_nodes\n",
      "    if self.run_code(code, result):\n",
      "  File \"/usr/lib/python2.7/dist-packages/IPython/core/interactiveshell.py\", line 2882, in run_code\n",
      "    exec(code_obj, self.user_global_ns, self.user_ns)\n",
      "  File \"<ipython-input-1-6d32a9792bdf>\", line 14, in <module>\n",
      "    get_ipython().magic(u'matplotlib inline')\n",
      "  File \"/usr/lib/python2.7/dist-packages/IPython/core/interactiveshell.py\", line 2160, in magic\n",
      "    return self.run_line_magic(magic_name, magic_arg_s)\n",
      "  File \"/usr/lib/python2.7/dist-packages/IPython/core/interactiveshell.py\", line 2081, in run_line_magic\n",
      "    result = fn(*args,**kwargs)\n",
      "  File \"<decorator-gen-105>\", line 2, in matplotlib\n",
      "  File \"/usr/lib/python2.7/dist-packages/IPython/core/magic.py\", line 188, in <lambda>\n",
      "    call = lambda f, *a, **k: f(*a, **k)\n",
      "  File \"/usr/lib/python2.7/dist-packages/IPython/core/magics/pylab.py\", line 100, in matplotlib\n",
      "    gui, backend = self.shell.enable_matplotlib(args.gui)\n",
      "  File \"/usr/lib/python2.7/dist-packages/IPython/core/interactiveshell.py\", line 2950, in enable_matplotlib\n",
      "    pt.activate_matplotlib(backend)\n",
      "  File \"/usr/lib/python2.7/dist-packages/IPython/core/pylabtools.py\", line 309, in activate_matplotlib\n",
      "    matplotlib.pyplot.switch_backend(backend)\n",
      "  File \"/home/martin/.local/lib/python2.7/site-packages/matplotlib/pyplot.py\", line 234, in switch_backend\n",
      "    _backend_mod, new_figure_manager, draw_if_interactive, _show = pylab_setup()\n",
      "  File \"/home/martin/.local/lib/python2.7/site-packages/matplotlib/backends/__init__.py\", line 60, in pylab_setup\n",
      "    [backend_name], 0)\n",
      "  File \"/usr/lib/python2.7/dist-packages/ipykernel/pylab/backend_inline.py\", line 165, in <module>\n",
      "    _enable_matplotlib_integration()\n",
      "  File \"/usr/lib/python2.7/dist-packages/ipykernel/pylab/backend_inline.py\", line 155, in _enable_matplotlib_integration\n",
      "    activate_matplotlib(backend)\n",
      "  File \"/usr/lib/python2.7/dist-packages/IPython/core/pylabtools.py\", line 309, in activate_matplotlib\n",
      "    matplotlib.pyplot.switch_backend(backend)\n",
      "  File \"/home/martin/.local/lib/python2.7/site-packages/matplotlib/pyplot.py\", line 232, in switch_backend\n",
      "    matplotlib.use(newbackend, warn=False, force=True)\n",
      "  File \"/home/martin/.local/lib/python2.7/site-packages/matplotlib/__init__.py\", line 1305, in use\n",
      "    reload(sys.modules['matplotlib.backends'])\n",
      "  File \"/home/martin/.local/lib/python2.7/site-packages/matplotlib/backends/__init__.py\", line 14, in <module>\n",
      "    line for line in traceback.format_stack()\n",
      "\n",
      "\n",
      "  after removing the cwd from sys.path.\n"
     ]
    }
   ],
   "source": [
    "import cPickle as pkl\n",
    "import numpy as np\n",
    "import matplotlib\n",
    "matplotlib.use(\"pgf\")\n",
    "pgf_with_rc_fonts = {\n",
    "    \"font.family\": \"serif\",\n",
    "    \"font.serif\": [u'Adobe Caslon Pro'],                   # use latex default serif font\n",
    "    \"font.sans-serif\": [\"DejaVu Sans\"], # use a specific sans-serif font\n",
    "}\n",
    "matplotlib.rcParams.update(pgf_with_rc_fonts)\n",
    "import matplotlib.pyplot as plt\n",
    "import matplotlib.ticker as ticker\n",
    "\n",
    "%matplotlib inline\n",
    "#matplotlib.style.use('ggplot')\n",
    "import pandas as pd\n",
    "\n",
    "from collections import defaultdict"
   ]
  },
  {
   "cell_type": "code",
   "execution_count": 40,
   "metadata": {},
   "outputs": [],
   "source": [
    "params = {'legend.fontsize': 'x-large',\n",
    "          'figure.figsize': (15, 5),\n",
    "         'axes.labelsize': 'x-large',\n",
    "         'axes.titlesize':'x-large',\n",
    "         'xtick.labelsize':'x-large',\n",
    "         'ytick.labelsize':'x-large'}\n",
    "plt.rcParams.update(params)"
   ]
  },
  {
   "cell_type": "markdown",
   "metadata": {},
   "source": [
    "Runs in which tRNAs are co-varied:"
   ]
  },
  {
   "cell_type": "markdown",
   "metadata": {},
   "source": [
    "Runs, produced with $\\Delta t = 0.2 \\mathrm{s}$:"
   ]
  },
  {
   "cell_type": "raw",
   "metadata": {},
   "source": [
    "runs = [\n",
    "r\"/home/martin/git/TRSL/results/50000 ribosomes, 60000 phase transcriptome, varying tRNAs, constant exome, no decay, median constant initiation rates, deltat=0.2s_20180315_1124_50000_ribosomes_1200s.p\",\n",
    "r\"/home/martin/git/TRSL/results/50000 ribosomes, 30061 phase transcriptome, varying tRNAs, constant exome, no decay, median constant initiation rates, deltat=0.2s_20180315_1311_50000_ribosomes_1200s.p\",\n",
    "r\"/home/martin/git/TRSL/results/100000 ribosomes, 60000 phase transcriptome, varying tRNAs, constant exome, no decay, median constant initiation rates, deltat=0.2s_20180315_1730_100000_ribosomes_1200s.p\",\n",
    "r\"/home/martin/git/TRSL/results/100000 ribosomes, 30061 phase transcriptome, varying tRNAs, constant exome, no decay, median constant initiation rates, deltat=0.2s_20180315_2037_100000_ribosomes_1200s.p\",\n",
    "r\"/home/martin/git/TRSL/results/150000 ribosomes, 60000 phase transcriptome, varying tRNAs, constant exome, no decay, median constant initiation rates, deltat=0.2s_20180316_0010_150000_ribosomes_1200s.p\",\n",
    "r\"/home/martin/git/TRSL/results/150000 ribosomes, 30061 phase transcriptome, varying tRNAs, constant exome, no decay, median constant initiation rates, deltat=0.2s_20180316_0220_150000_ribosomes_1200s.p\",\n",
    "r\"/home/martin/git/TRSL/results/200000 ribosomes, 60000 phase transcriptome, varying tRNAs, constant exome, no decay, median constant initiation rates, deltat=0.2s_20180316_0606_200000_ribosomes_1200s.p\",\n",
    "r\"/home/martin/git/TRSL/results/200000 ribosomes, 30061 phase transcriptome, varying tRNAs, constant exome, no decay, median constant initiation rates, deltat=0.2s_20180316_0849_200000_ribosomes_1200s.p\",\n",
    "r\"/home/martin/git/TRSL/results/250000 ribosomes, 60000 phase transcriptome, varying tRNAs, constant exome, no decay, median constant initiation rates, deltat=0.2s_20180316_1332_250000_ribosomes_1200s.p\",\n",
    "r\"/home/martin/git/TRSL/results/250000 ribosomes, 30061 phase transcriptome, varying tRNAs, constant exome, no decay, median constant initiation rates, deltat=0.2s_20180316_1657_250000_ribosomes_1200s.p\",\n",
    "r\"/home/martin/git/TRSL/results/300000 ribosomes, 60000 phase transcriptome, varying tRNAs, constant exome, no decay, median constant initiation rates, deltat=0.2s_20180316_2233_300000_ribosomes_1200s.p\",\n",
    "r\"/home/martin/git/TRSL/results/300000 ribosomes, 30061 phase transcriptome, varying tRNAs, constant exome, no decay, median constant initiation rates, deltat=0.2s_20180317_0229_300000_ribosomes_1200s.p\",\n",
    "r\"/home/martin/git/TRSL/results/350000 ribosomes, 60000 phase transcriptome, varying tRNAs, constant exome, no decay, median constant initiation rates, deltat=0.2s_20180317_0900_350000_ribosomes_1200s.p\",\n",
    "r\"/home/martin/git/TRSL/results/350000 ribosomes, 30061 phase transcriptome, varying tRNAs, constant exome, no decay, median constant initiation rates, deltat=0.2s_20180317_1339_350000_ribosomes_1200s.p\",\n",
    "r\"/home/martin/git/TRSL/results/400000 ribosomes, 60000 phase transcriptome, varying tRNAs, constant exome, no decay, median constant initiation rates, deltat=0.2s_20180317_2109_400000_ribosomes_1200s.p\",\n",
    "r\"/home/martin/git/TRSL/results/400000 ribosomes, 30061 phase transcriptome, varying tRNAs, constant exome, no decay, median constant initiation rates, deltat=0.2s_20180318_0230_400000_ribosomes_1200s.p\",\n",
    "r\"/home/martin/git/TRSL/results/450000 ribosomes, 60000 phase transcriptome, varying tRNAs, constant exome, no decay, median constant initiation rates, deltat=0.2s_20180318_1110_450000_ribosomes_1200s.p\",\n",
    "r\"/home/martin/git/TRSL/results/450000 ribosomes, 30061 phase transcriptome, varying tRNAs, constant exome, no decay, median constant initiation rates, deltat=0.2s_20180318_1714_450000_ribosomes_1200s.p\",\n",
    "r\"/home/martin/git/TRSL/results/500000 ribosomes, 60000 phase transcriptome, varying tRNAs, constant exome, no decay, median constant initiation rates, deltat=0.2s_20180319_0303_500000_ribosomes_1200s.p\",\n",
    "r\"/home/martin/git/TRSL/results/500000 ribosomes, 30061 phase transcriptome, varying tRNAs, constant exome, no decay, median constant initiation rates, deltat=0.2s_20180319_1000_500000_ribosomes_1200s.p\"\n",
    "]"
   ]
  },
  {
   "cell_type": "markdown",
   "metadata": {},
   "source": [
    "Runs, produced with $\\Delta t = 0.05 \\mathrm{s}$:"
   ]
  },
  {
   "cell_type": "code",
   "execution_count": 41,
   "metadata": {},
   "outputs": [],
   "source": [
    "runs = [\n",
    "r\"/home/martin/git/TRSL/results/50000 ribosomes, 60000 phase transcriptome, varying tRNAs, constant exome, no decay, median constant initiation rates, deltat=0.05s_20180320_1326_50000_ribosomes_1200s.p\",\n",
    "r\"/home/martin/git/TRSL/results/50000 ribosomes, 30061 phase transcriptome, varying tRNAs, constant exome, no decay, median constant initiation rates, deltat=0.05s_20180320_1513_50000_ribosomes_1200s.p\",\n",
    "r\"/home/martin/git/TRSL/results/100000 ribosomes, 60000 phase transcriptome, varying tRNAs, constant exome, no decay, median constant initiation rates, deltat=0.05s_20180320_1918_100000_ribosomes_1200s.p\",\n",
    "r\"/home/martin/git/TRSL/results/100000 ribosomes, 30061 phase transcriptome, varying tRNAs, constant exome, no decay, median constant initiation rates, deltat=0.05s_20180320_2209_100000_ribosomes_1200s.p\",\n",
    "r\"/home/martin/git/TRSL/results/150000 ribosomes, 60000 phase transcriptome, varying tRNAs, constant exome, no decay, median constant initiation rates, deltat=0.05s_20180321_0355_150000_ribosomes_1200s.p\",\n",
    "r\"/home/martin/git/TRSL/results/150000 ribosomes, 30061 phase transcriptome, varying tRNAs, constant exome, no decay, median constant initiation rates, deltat=0.05s_20180321_0802_150000_ribosomes_1200s.p\",\n",
    "r\"/home/martin/git/TRSL/results/200000 ribosomes, 60000 phase transcriptome, varying tRNAs, constant exome, no decay, median constant initiation rates, deltat=0.05s_20180321_1945_200000_ribosomes_1200s.p\",\n",
    "r\"/home/martin/git/TRSL/results/200000 ribosomes, 30061 phase transcriptome, varying tRNAs, constant exome, no decay, median constant initiation rates, deltat=0.05s_20180322_0458_200000_ribosomes_1200s.p\",\n",
    "r\"/home/martin/git/TRSL/results/250000 ribosomes, 60000 phase transcriptome, varying tRNAs, constant exome, no decay, median constant initiation rates, deltat=0.05s_20180322_1509_250000_ribosomes_1200s.p\",\n",
    "r\"/home/martin/git/TRSL/results/250000 ribosomes, 30061 phase transcriptome, varying tRNAs, constant exome, no decay, median constant initiation rates, deltat=0.05s_20180322_2127_250000_ribosomes_1200s.p\",    \n",
    "]"
   ]
  },
  {
   "cell_type": "markdown",
   "metadata": {},
   "source": [
    "Test runs with low ribosome counts, produced with $\\Delta t = 0.05 \\mathrm{s}$:"
   ]
  },
  {
   "cell_type": "raw",
   "metadata": {},
   "source": [
    "runs = [\n",
    "r\"/home/martin/git/TRSL/results/50 ribosomes, 60000 phase transcriptome, varying tRNAs, constant exome, no decay, median constant initiation rates, deltat=0.05s_20180321_1357_50_ribosomes_1200s.p\",\n",
    "r\"/home/martin/git/TRSL/results/50 ribosomes, 30061 phase transcriptome, varying tRNAs, constant exome, no decay, median constant initiation rates, deltat=0.05s_20180321_1418_50_ribosomes_1200s.p\",\n",
    "r\"/home/martin/git/TRSL/results/100 ribosomes, 60000 phase transcriptome, varying tRNAs, constant exome, no decay, median constant initiation rates, deltat=0.05s_20180321_1503_100_ribosomes_1200s.p\",\n",
    "r\"/home/martin/git/TRSL/results/100 ribosomes, 30061 phase transcriptome, varying tRNAs, constant exome, no decay, median constant initiation rates, deltat=0.05s_20180321_1527_100_ribosomes_1200s.p\",\n",
    "r\"/home/martin/git/TRSL/results/150 ribosomes, 60000 phase transcriptome, varying tRNAs, constant exome, no decay, median constant initiation rates, deltat=0.05s_20180321_1617_150_ribosomes_1200s.p\",\n",
    "r\"/home/martin/git/TRSL/results/150 ribosomes, 30061 phase transcriptome, varying tRNAs, constant exome, no decay, median constant initiation rates, deltat=0.05s_20180321_1643_150_ribosomes_1200s.p\",\n",
    "r\"/home/martin/git/TRSL/results/200 ribosomes, 60000 phase transcriptome, varying tRNAs, constant exome, no decay, median constant initiation rates, deltat=0.05s_20180321_1731_200_ribosomes_1200s.p\",\n",
    "r\"/home/martin/git/TRSL/results/200 ribosomes, 30061 phase transcriptome, varying tRNAs, constant exome, no decay, median constant initiation rates, deltat=0.05s_20180321_1759_200_ribosomes_1200s.p\",\n",
    "r\"/home/martin/git/TRSL/results/250 ribosomes, 60000 phase transcriptome, varying tRNAs, constant exome, no decay, median constant initiation rates, deltat=0.05s_20180321_1850_250_ribosomes_1200s.p\",\n",
    "r\"/home/martin/git/TRSL/results/250 ribosomes, 30061 phase transcriptome, varying tRNAs, constant exome, no decay, median constant initiation rates, deltat=0.05s_20180321_1921_250_ribosomes_1200s.p\",\n",
    "r\"/home/martin/git/TRSL/results/300 ribosomes, 60000 phase transcriptome, varying tRNAs, constant exome, no decay, median constant initiation rates, deltat=0.05s_20180321_2013_300_ribosomes_1200s.p\",\n",
    "r\"/home/martin/git/TRSL/results/300 ribosomes, 30061 phase transcriptome, varying tRNAs, constant exome, no decay, median constant initiation rates, deltat=0.05s_20180321_2046_300_ribosomes_1200s.p\",\n",
    "r\"/home/martin/git/TRSL/results/350 ribosomes, 60000 phase transcriptome, varying tRNAs, constant exome, no decay, median constant initiation rates, deltat=0.05s_20180321_2141_350_ribosomes_1200s.p\",\n",
    "r\"/home/martin/git/TRSL/results/350 ribosomes, 30061 phase transcriptome, varying tRNAs, constant exome, no decay, median constant initiation rates, deltat=0.05s_20180321_2216_350_ribosomes_1200s.p\",\n",
    "r\"/home/martin/git/TRSL/results/400 ribosomes, 60000 phase transcriptome, varying tRNAs, constant exome, no decay, median constant initiation rates, deltat=0.05s_20180321_2312_400_ribosomes_1200s.p\",\n",
    "r\"/home/martin/git/TRSL/results/400 ribosomes, 30061 phase transcriptome, varying tRNAs, constant exome, no decay, median constant initiation rates, deltat=0.05s_20180321_2348_400_ribosomes_1200s.p\",\n",
    "r\"/home/martin/git/TRSL/results/450 ribosomes, 60000 phase transcriptome, varying tRNAs, constant exome, no decay, median constant initiation rates, deltat=0.05s_20180322_0046_450_ribosomes_1200s.p\",\n",
    "r\"/home/martin/git/TRSL/results/450 ribosomes, 30061 phase transcriptome, varying tRNAs, constant exome, no decay, median constant initiation rates, deltat=0.05s_20180322_0124_450_ribosomes_1200s.p\",\n",
    "r\"/home/martin/git/TRSL/results/500 ribosomes, 60000 phase transcriptome, varying tRNAs, constant exome, no decay, median constant initiation rates, deltat=0.05s_20180322_0226_500_ribosomes_1200s.p\",\n",
    "r\"/home/martin/git/TRSL/results/500 ribosomes, 30061 phase transcriptome, varying tRNAs, constant exome, no decay, median constant initiation rates, deltat=0.05s_20180322_0305_500_ribosomes_1200s.p\",\n",
    "]"
   ]
  },
  {
   "cell_type": "code",
   "execution_count": 42,
   "metadata": {},
   "outputs": [],
   "source": [
    "from tempfile import mkstemp\n",
    "from shutil import move\n",
    "from os import remove, close\n",
    "\n",
    "def replace(file_path, pattern, subst):\n",
    "    #Create temp file\n",
    "    fh, abs_path = mkstemp()\n",
    "    with open(abs_path,'w') as new_file:\n",
    "        with open(file_path) as old_file:\n",
    "            for line in old_file:\n",
    "                new_file.write(line.replace(pattern, subst))\n",
    "    close(fh)\n",
    "    #Remove original file\n",
    "    remove(file_path)\n",
    "    #Move new file\n",
    "    move(abs_path, file_path)"
   ]
  },
  {
   "cell_type": "markdown",
   "metadata": {},
   "source": [
    "Only run once:"
   ]
  },
  {
   "cell_type": "code",
   "execution_count": null,
   "metadata": {},
   "outputs": [
    {
     "name": "stdout",
     "output_type": "stream",
     "text": [
      "/home/martin/git/TRSL/results/200000 ribosomes, 60000 phase transcriptome, varying tRNAs, constant exome, no decay, median constant initiation rates, deltat=0.05s_20180321_1945_200000_ribosomes_1200s.p\n",
      "/home/martin/git/TRSL/results/200000 ribosomes, 30061 phase transcriptome, varying tRNAs, constant exome, no decay, median constant initiation rates, deltat=0.05s_20180322_0458_200000_ribosomes_1200s.p\n",
      "/home/martin/git/TRSL/results/250000 ribosomes, 60000 phase transcriptome, varying tRNAs, constant exome, no decay, median constant initiation rates, deltat=0.05s_20180322_1509_250000_ribosomes_1200s.p\n",
      "/home/martin/git/TRSL/results/250000 ribosomes, 30061 phase transcriptome, varying tRNAs, constant exome, no decay, median constant initiation rates, deltat=0.05s_20180322_2127_250000_ribosomes_1200s.p\n"
     ]
    }
   ],
   "source": [
    "for run in runs[-4:]:\n",
    "    print run\n",
    "    replace(run, \"_numpypy.multiarray\", \"numpy.core.multiarray\")"
   ]
  },
  {
   "cell_type": "code",
   "execution_count": null,
   "metadata": {},
   "outputs": [
    {
     "name": "stdout",
     "output_type": "stream",
     "text": [
      "transcriptome length: 56592\n",
      "50000 ribosomes, 60000 phase transcriptome, varying tRNAs, constant exome, no decay, median constant initiation rates, deltat=0.05s\n",
      "transcriptome length: 28296\n",
      "50000 ribosomes, 30061 phase transcriptome, varying tRNAs, constant exome, no decay, median constant initiation rates, deltat=0.05s\n",
      "transcriptome length: 56592\n",
      "100000 ribosomes, 60000 phase transcriptome, varying tRNAs, constant exome, no decay, median constant initiation rates, deltat=0.05s\n",
      "transcriptome length: 28296\n",
      "100000 ribosomes, 30061 phase transcriptome, varying tRNAs, constant exome, no decay, median constant initiation rates, deltat=0.05s\n",
      "transcriptome length: 56592\n",
      "150000 ribosomes, 60000 phase transcriptome, varying tRNAs, constant exome, no decay, median constant initiation rates, deltat=0.05s\n",
      "transcriptome length: 28296\n",
      "150000 ribosomes, 30061 phase transcriptome, varying tRNAs, constant exome, no decay, median constant initiation rates, deltat=0.05s\n",
      "transcriptome length: 56592\n",
      "200000 ribosomes, 60000 phase transcriptome, varying tRNAs, constant exome, no decay, median constant initiation rates, deltat=0.05s\n",
      "transcriptome length: 28296\n",
      "200000 ribosomes, 30061 phase transcriptome, varying tRNAs, constant exome, no decay, median constant initiation rates, deltat=0.05s\n"
     ]
    }
   ],
   "source": [
    "from matplotlib.font_manager import FontProperties\n",
    "\n",
    "ribo = {}\n",
    "ribo_free = {}\n",
    "ribo_bound = {}\n",
    "\n",
    "for run in runs:\n",
    "    results = pkl.load(open(run))\n",
    "    print \"transcriptome length: {}\".format(len(results['transcriptome']))\n",
    "    print results['description']\n",
    "    \n",
    "    if len(results['transcriptome']) in ribo:\n",
    "        ribo[len(results['transcriptome'])].append(results['n_ribosomes'])\n",
    "    else:\n",
    "        ribo[len(results['transcriptome'])] = [results['n_ribosomes']]\n",
    "        \n",
    "    if len(results['transcriptome']) in ribo_free:\n",
    "        ribo_free[len(results['transcriptome'])].append(results[\"timecourses\"][\"ribos._free\"][-1])\n",
    "    else:\n",
    "        ribo_free[len(results['transcriptome'])] = [results[\"timecourses\"][\"ribos._free\"][-1]]\n",
    "\n",
    "    if len(results['transcriptome']) in ribo_bound:\n",
    "        ribo_bound[len(results['transcriptome'])].append(results[\"timecourses\"][\"ribos._bound\"][-1])\n",
    "    else:\n",
    "        ribo_bound[len(results['transcriptome'])] = [results[\"timecourses\"][\"ribos._bound\"][-1]]"
   ]
  },
  {
   "cell_type": "code",
   "execution_count": null,
   "metadata": {},
   "outputs": [],
   "source": [
    "orf_genomic_dict = pkl.load(open(\"../../parameters/orf_coding.p\"))"
   ]
  },
  {
   "cell_type": "code",
   "execution_count": null,
   "metadata": {},
   "outputs": [],
   "source": [
    "timecourses = {}\n",
    "\n",
    "for run in runs:\n",
    "    labellist = run.split(r\"/\")[-1].split(r\",\")\n",
    "    ribos = int(labellist[0].split()[0])\n",
    "    timecourses[ribos] = {}\n",
    "    \n",
    "for run in runs:\n",
    "    labellist = run.split(r\"/\")[-1].split(r\",\")\n",
    "    ribos = int(labellist[0].split()[0])\n",
    "    phase = labellist[1].split(\"phase\")[0].strip()\n",
    "    results = pkl.load(open(run))\n",
    "    timecourses[ribos][phase] = results['timecourses'] # we can now address as timecourses[100000]['S'] etc.\n",
    "    \n",
    "    # some genes have 5999, some 6000 timepoints, we have to fix that\n",
    "    print \"fixing uneven time series lengths...\"\n",
    "    num_timepoints = min([len(timecourses[ribos][phase][gene]) for gene in timecourses[ribos][phase]])\n",
    "\n",
    "    print \"creating timecourses...\"\n",
    "    timecourses[ribos][phase] = {key: timecourses[ribos][phase][key][:num_timepoints] \n",
    "                                 for key in timecourses[ribos][phase]\n",
    "                                 if key in orf_genomic_dict}"
   ]
  },
  {
   "cell_type": "code",
   "execution_count": null,
   "metadata": {},
   "outputs": [],
   "source": [
    "ribo_numbers = sorted(timecourses.keys())\n",
    "print ribo_numbers"
   ]
  },
  {
   "cell_type": "code",
   "execution_count": null,
   "metadata": {},
   "outputs": [],
   "source": [
    "data = pd.Panel4D(timecourses)\n",
    "data"
   ]
  },
  {
   "cell_type": "code",
   "execution_count": null,
   "metadata": {},
   "outputs": [],
   "source": [
    "total_protein = data.sum(axis=3)\n",
    "total_protein"
   ]
  },
  {
   "cell_type": "code",
   "execution_count": null,
   "metadata": {},
   "outputs": [],
   "source": [
    "#print total_protein.minor_xs(59.98000000000001)\n",
    "print total_protein.axes[2]\n",
    "print len(total_protein.axes[2])"
   ]
  },
  {
   "cell_type": "markdown",
   "metadata": {},
   "source": [
    "We accept this index as it might be quicker and easier to address."
   ]
  },
  {
   "cell_type": "code",
   "execution_count": null,
   "metadata": {},
   "outputs": [],
   "source": [
    "deltat = 0.05  # or 0.2"
   ]
  },
  {
   "cell_type": "code",
   "execution_count": null,
   "metadata": {},
   "outputs": [],
   "source": [
    "total_protein.minor_xs"
   ]
  },
  {
   "cell_type": "markdown",
   "metadata": {},
   "source": [
    "TODO: the 5998 and 4498 should be different depending on the delta t"
   ]
  },
  {
   "cell_type": "code",
   "execution_count": null,
   "metadata": {},
   "outputs": [],
   "source": [
    "trans_eff_cell = (total_protein.minor_xs(23998) - total_protein.minor_xs(17998))/(300.0)\n",
    "trans_eff_cell.T.plot()"
   ]
  },
  {
   "cell_type": "code",
   "execution_count": null,
   "metadata": {},
   "outputs": [],
   "source": [
    "ribo_numbers"
   ]
  },
  {
   "cell_type": "code",
   "execution_count": null,
   "metadata": {},
   "outputs": [],
   "source": [
    "trans_eff_cell"
   ]
  },
  {
   "cell_type": "code",
   "execution_count": null,
   "metadata": {},
   "outputs": [],
   "source": [
    "trans_eff_per_ribo = trans_eff_cell/ribo_numbers"
   ]
  },
  {
   "cell_type": "code",
   "execution_count": null,
   "metadata": {},
   "outputs": [],
   "source": [
    "trans_eff_per_ribo.T.plot()"
   ]
  },
  {
   "cell_type": "code",
   "execution_count": null,
   "metadata": {},
   "outputs": [],
   "source": [
    "plt.rcParams['figure.figsize'] = (6, 10)\n",
    "\n",
    "#######################################################################################################################\n",
    "# Two subplots sharing both x/y axes\n",
    "f, (ax1, ax2) = plt.subplots(2, sharex=True, sharey=False)\n",
    "\n",
    "#######################################################################################################################\n",
    "x1 = np.array(ribo[ribo.keys()[0]])\n",
    "y1 = np.array(ribo_bound[ribo.keys()[0]]) * 1.0 / np.array(ribo[ribo.keys()[0]])\n",
    "ax1.plot(x1, y1)\n",
    "\n",
    "x1 = np.array(ribo[ribo.keys()[1]])\n",
    "y1 = np.array(ribo_bound[ribo.keys()[1]]) * 1.0 / np.array(ribo[ribo.keys()[1]])\n",
    "ax1.plot(x1, y1)\n",
    "\n",
    "ax = ax1\n",
    "ax.set_ylabel(\"fraction of bound ribosomes\\n\", fontsize=16)\n",
    "plt.tick_params(axis='both', which='major', labelsize=16)\n",
    "\n",
    "xpos = np.array(ribo_numbers)\n",
    "ax.set_xticks(xpos)\n",
    "ax.set_xticklabels(xpos, fontsize=16)\n",
    "\n",
    "ypos = np.arange(0.5, 0.91, 0.1)\n",
    "ax.set_yticks(ypos)\n",
    "#ax.set_yticklabels(ypos, fontsize=16)\n",
    "ax.set_yticklabels([\"%.3f\" % round(p,1) for p in ypos], fontsize=16)\n",
    "\n",
    "ax.axhline(0.5, color='black', lw=2)\n",
    "\n",
    "ax.set_ylim([0.5, 0.9])\n",
    "\n",
    "ax.text(-50000, 0.9, \"A\", fontsize=16, weight=\"bold\")\n",
    "\n",
    "ax.legend(labels=[\"30000 mRNAs\", \"60000 mRNAs\"], loc='lower center', fancybox=True, framealpha=1.0)\n",
    "#ax1.set_title('Sharing both axes')\n",
    "\n",
    "#######################################################################################################################\n",
    "#ax2.plot(x2, y2, color='black')\n",
    "\n",
    "ax = ax2\n",
    "trans_eff_per_ribo.T.plot(ax=ax)\n",
    "ypos = np.arange(0.02, 0.03, 0.002)\n",
    "ax.set_yticks(ypos)\n",
    "ax.set_yticklabels([\"%.3f\" % round(p,3) for p in ypos], fontsize=16)\n",
    "ax.set_ylabel(\"translational efficiency of\\nribosome [proteins/ribosome/s]\", fontsize=16)\n",
    "\n",
    "ax.set_xlabel(\"ribosome count\", fontsize=16)\n",
    "\n",
    "#ax.set_ylim([0.02, 0.03])\n",
    "\n",
    "ax.text(-50000, 0.03, \"B\", fontsize=16, weight=\"bold\")\n",
    "\n",
    "plt.legend(labels=[\"30000 mRNAs\", \"60000 mRNAs\"], loc='lower center', fancybox=True, framealpha=1.0)\n",
    "\n",
    "#######################################################################################################################\n",
    "# Fine-tune figure; make subplots close to each other and hide x ticks for\n",
    "# all but bottom plot.\n",
    "f.subplots_adjust(hspace=0)\n",
    "plt.setp([a.get_xticklabels() for a in f.axes[:-1]], visible=False)\n",
    "\n",
    "plt.show()"
   ]
  },
  {
   "cell_type": "code",
   "execution_count": null,
   "metadata": {},
   "outputs": [],
   "source": [
    "plt.close('all')\n",
    "\n",
    "plt.rc('font',family='serif')\n",
    "plt.rcParams['figure.figsize'] = (12, 5)\n",
    "plt.rcParams['axes.edgecolor']='black'\n",
    "plt.rcParams['axes.labelcolor']='black'\n",
    "plt.rcParams['xtick.color']='black'\n",
    "plt.rcParams['ytick.color']='black'\n",
    "plt.rcParams['grid.color']='grey'\n",
    "plt.rcParams['grid.alpha']='0.5'\n",
    "plt.rcParams['grid.linestyle']='-.'\n",
    "#plt.rcParams['figure.facecolor'] = 'white'\n",
    "\n",
    "hfont = {'fontname': u'Adobe Caslon Pro'}\n",
    "\n",
    "#######################################################################################################################\n",
    "# Two subplots sharing both x/y axes\n",
    "f, (ax1, ax2) = plt.subplots(1, 2, sharey=False, subplot_kw=dict(axisbg='white'))\n",
    "plt.grid()\n",
    "\n",
    "#######################################################################################################################\n",
    "x1 = np.array(ribo[ribo.keys()[0]])\n",
    "y1 = np.array(ribo_bound[ribo.keys()[0]]) * 1.0 / np.array(ribo[ribo.keys()[0]])\n",
    "ax1.plot(x1, y1, color='navy')\n",
    "\n",
    "x1 = np.array(ribo[ribo.keys()[1]])\n",
    "y1 = np.array(ribo_bound[ribo.keys()[1]]) * 1.0 / np.array(ribo[ribo.keys()[1]])\n",
    "ax1.plot(x1, y1, color='darkred')\n",
    "\n",
    "ax = ax1\n",
    "ax.set_ylabel(\"Fraction of bound ribosomes\", fontsize=16, **hfont)\n",
    "plt.tick_params(axis='both', which='major', labelsize=16)\n",
    "\n",
    "#xpos = np.arange(100000, 500001, 100000)\n",
    "#xpos = np.arange(50, 501, 50)\n",
    "xpos = np.array(ribo_numbers)\n",
    "ax.set_xticks(xpos)\n",
    "ax.set_xticklabels(xpos, fontsize=16, **hfont)\n",
    "\n",
    "ypos = np.arange(0.4, 0.71, 0.1)\n",
    "ax.set_yticks(ypos)\n",
    "ax.set_yticklabels(ypos, fontsize=16, **hfont)\n",
    "\n",
    "#ax.axhline(0.5, color='black', lw=2)\n",
    "\n",
    "ax.set_xlabel(\"Ribosome count\", fontsize=16, **hfont)\n",
    "\n",
    "#ax.set_ylim([0.4, 0.8])\n",
    "\n",
    "#ax.text(-50000, 0.9, \"A\", fontsize=16, weight=\"bold\", **hfont)\n",
    "\n",
    "ax.yaxis.set_major_formatter(ticker.FormatStrFormatter(\"%.1f\"))\n",
    "\n",
    "ax.legend(labels=[\"30000 mRNAs\", \"60000 mRNAs\"], loc='lower center', fancybox=True, framealpha=1.0,\n",
    "          facecolor='white')\n",
    "ax.grid()\n",
    "\n",
    "#ax1.set_title('Sharing both axes')\n",
    "\n",
    "#######################################################################################################################\n",
    "#ax2.plot(x2, y2, color='black')\n",
    "\n",
    "ax = ax2\n",
    "trans_eff_per_ribo.T.plot(ax=ax, color=['navy', 'darkred'])\n",
    "#xpos = np.arange(100000, 500001, 100000)\n",
    "#xpos = np.arange(50, 501, 50)\n",
    "xpos = np.array(ribo_numbers)\n",
    "\n",
    "ypos = np.arange(0.01, 0.04, 0.005)\n",
    "ax.set_xticks(xpos)\n",
    "ax.set_yticks(ypos)\n",
    "ax.set_yticklabels([\"%.3f\" % round(p, 3) for p in ypos], fontsize=16)\n",
    "ax.set_ylabel(\"Ribosome translational efficiency\\n[proteins/ribosome/s]\", fontsize=16, **hfont)\n",
    "\n",
    "ax.set_xlabel(\"Ribosome count\", fontsize=16, **hfont)\n",
    "\n",
    "#ax.set_ylim([0.01, 0.025])\n",
    "\n",
    "#ax.text(-50000, 0.03, \"B\", fontsize=16, weight=\"bold\", **hfont)\n",
    "\n",
    "plt.legend(labels=[\"30000 mRNAs\", \"60000 mRNAs\"], loc='lower center', fancybox=True, framealpha=1.0,\n",
    "          facecolor='white')\n",
    "ax.grid()\n",
    "\n",
    "#######################################################################################################################\n",
    "# Fine-tune figure; make subplots close to each other \n",
    "#f.subplots_adjust(hspace=0)\n",
    "f.tight_layout()\n",
    "\n",
    "#plt.setp([a.get_xticklabels() for a in f.axes[:-1]], visible=False)\n",
    "\n",
    "plt.savefig(\"ribosome_efficiency_constant_transcriptome.pgf\")"
   ]
  },
  {
   "cell_type": "code",
   "execution_count": 31,
   "metadata": {},
   "outputs": [],
   "source": [
    "ribo_variation_df = trans_eff_per_ribo.T"
   ]
  },
  {
   "cell_type": "code",
   "execution_count": 32,
   "metadata": {},
   "outputs": [],
   "source": [
    "ribo_variation_df.columns = ['TE_30061', 'TE_60000']"
   ]
  },
  {
   "cell_type": "code",
   "execution_count": 34,
   "metadata": {},
   "outputs": [
    {
     "data": {
      "text/plain": [
       "{28296: [24, 52, 65, 103, 115, 154, 174, 210, 218, 248],\n",
       " 56592: [35, 74, 88, 127, 164, 199, 234, 269, 306, 346]}"
      ]
     },
     "execution_count": 34,
     "metadata": {},
     "output_type": "execute_result"
    }
   ],
   "source": [
    "ribo_bound"
   ]
  },
  {
   "cell_type": "code",
   "execution_count": 35,
   "metadata": {},
   "outputs": [],
   "source": [
    "ribo_variation_df['bound_28296'] = ribo_bound[28296]"
   ]
  },
  {
   "cell_type": "code",
   "execution_count": 36,
   "metadata": {},
   "outputs": [],
   "source": [
    "ribo_variation_df['bound_56592'] = ribo_bound[56592]"
   ]
  },
  {
   "cell_type": "code",
   "execution_count": 37,
   "metadata": {},
   "outputs": [
    {
     "data": {
      "text/html": [
       "<div>\n",
       "<table border=\"1\" class=\"dataframe\">\n",
       "  <thead>\n",
       "    <tr style=\"text-align: right;\">\n",
       "      <th></th>\n",
       "      <th>TE_30061</th>\n",
       "      <th>TE_60000</th>\n",
       "      <th>bound_28296</th>\n",
       "      <th>bound_56592</th>\n",
       "    </tr>\n",
       "  </thead>\n",
       "  <tbody>\n",
       "    <tr>\n",
       "      <th>50</th>\n",
       "      <td>0.018200</td>\n",
       "      <td>0.023533</td>\n",
       "      <td>24</td>\n",
       "      <td>35</td>\n",
       "    </tr>\n",
       "    <tr>\n",
       "      <th>100</th>\n",
       "      <td>0.017500</td>\n",
       "      <td>0.023433</td>\n",
       "      <td>52</td>\n",
       "      <td>74</td>\n",
       "    </tr>\n",
       "    <tr>\n",
       "      <th>150</th>\n",
       "      <td>0.018178</td>\n",
       "      <td>0.024556</td>\n",
       "      <td>65</td>\n",
       "      <td>88</td>\n",
       "    </tr>\n",
       "    <tr>\n",
       "      <th>200</th>\n",
       "      <td>0.018300</td>\n",
       "      <td>0.024233</td>\n",
       "      <td>103</td>\n",
       "      <td>127</td>\n",
       "    </tr>\n",
       "    <tr>\n",
       "      <th>250</th>\n",
       "      <td>0.018120</td>\n",
       "      <td>0.023787</td>\n",
       "      <td>115</td>\n",
       "      <td>164</td>\n",
       "    </tr>\n",
       "    <tr>\n",
       "      <th>300</th>\n",
       "      <td>0.018178</td>\n",
       "      <td>0.024144</td>\n",
       "      <td>154</td>\n",
       "      <td>199</td>\n",
       "    </tr>\n",
       "    <tr>\n",
       "      <th>350</th>\n",
       "      <td>0.017943</td>\n",
       "      <td>0.024400</td>\n",
       "      <td>174</td>\n",
       "      <td>234</td>\n",
       "    </tr>\n",
       "    <tr>\n",
       "      <th>400</th>\n",
       "      <td>0.017725</td>\n",
       "      <td>0.024083</td>\n",
       "      <td>210</td>\n",
       "      <td>269</td>\n",
       "    </tr>\n",
       "    <tr>\n",
       "      <th>450</th>\n",
       "      <td>0.018504</td>\n",
       "      <td>0.024178</td>\n",
       "      <td>218</td>\n",
       "      <td>306</td>\n",
       "    </tr>\n",
       "    <tr>\n",
       "      <th>500</th>\n",
       "      <td>0.018340</td>\n",
       "      <td>0.023827</td>\n",
       "      <td>248</td>\n",
       "      <td>346</td>\n",
       "    </tr>\n",
       "  </tbody>\n",
       "</table>\n",
       "</div>"
      ],
      "text/plain": [
       "     TE_30061  TE_60000  bound_28296  bound_56592\n",
       "50   0.018200  0.023533           24           35\n",
       "100  0.017500  0.023433           52           74\n",
       "150  0.018178  0.024556           65           88\n",
       "200  0.018300  0.024233          103          127\n",
       "250  0.018120  0.023787          115          164\n",
       "300  0.018178  0.024144          154          199\n",
       "350  0.017943  0.024400          174          234\n",
       "400  0.017725  0.024083          210          269\n",
       "450  0.018504  0.024178          218          306\n",
       "500  0.018340  0.023827          248          346"
      ]
     },
     "execution_count": 37,
     "metadata": {},
     "output_type": "execute_result"
    }
   ],
   "source": [
    "ribo_variation_df"
   ]
  },
  {
   "cell_type": "code",
   "execution_count": 38,
   "metadata": {},
   "outputs": [],
   "source": [
    "with open('../../results/ribo_variation_uniform_df.p', 'wb') as handle:\n",
    "    pkl.dump(ribo_variation_df, handle)"
   ]
  },
  {
   "cell_type": "code",
   "execution_count": null,
   "metadata": {},
   "outputs": [],
   "source": []
  }
 ],
 "metadata": {
  "kernelspec": {
   "display_name": "Python 2",
   "language": "python",
   "name": "python2"
  },
  "language_info": {
   "codemirror_mode": {
    "name": "ipython",
    "version": 2
   },
   "file_extension": ".py",
   "mimetype": "text/x-python",
   "name": "python",
   "nbconvert_exporter": "python",
   "pygments_lexer": "ipython2",
   "version": "2.7.12"
  }
 },
 "nbformat": 4,
 "nbformat_minor": 1
}
