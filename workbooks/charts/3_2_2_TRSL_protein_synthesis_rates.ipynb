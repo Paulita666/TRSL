{
 "cells": [
  {
   "cell_type": "code",
   "execution_count": 1,
   "metadata": {},
   "outputs": [],
   "source": [
    "import matplotlib\n",
    "matplotlib.use(\"pgf\")\n",
    "pgf_with_rc_fonts = {\n",
    "    \"font.family\": \"serif\",\n",
    "    \"font.serif\": [u'Adobe Caslon Pro'],                   # use latex default serif font\n",
    "    \"font.sans-serif\": [\"DejaVu Sans\"], # use a specific sans-serif font\n",
    "}\n",
    "matplotlib.rcParams.update(pgf_with_rc_fonts)\n",
    "%matplotlib inline\n",
    "matplotlib.style.use('ggplot')\n",
    "\n",
    "import matplotlib.pyplot as plt"
   ]
  },
  {
   "cell_type": "code",
   "execution_count": 2,
   "metadata": {},
   "outputs": [],
   "source": [
    "import cPickle as pkl\n",
    "import pandas as pd\n",
    "import numpy as np"
   ]
  },
  {
   "cell_type": "code",
   "execution_count": 3,
   "metadata": {},
   "outputs": [],
   "source": [
    "filepath = \"../../results/updated Shah transcriptome, full exome, no decay, updated initiation rates according to Shah_20170331_2025_200000_ribosomes_3600s.p\""
   ]
  },
  {
   "cell_type": "code",
   "execution_count": 4,
   "metadata": {},
   "outputs": [],
   "source": [
    "results = pkl.load(open(filepath))"
   ]
  },
  {
   "cell_type": "code",
   "execution_count": 5,
   "metadata": {},
   "outputs": [
    {
     "data": {
      "text/plain": [
       "['n_tRNA',\n",
       " 'description',\n",
       " 'n_ribosomes',\n",
       " 'timerange',\n",
       " 'proteome',\n",
       " 'transcriptome',\n",
       " 'time_stamp',\n",
       " 'duration',\n",
       " 'peptide_bonds',\n",
       " 'timecourses']"
      ]
     },
     "execution_count": 5,
     "metadata": {},
     "output_type": "execute_result"
    }
   ],
   "source": [
    "results.keys()"
   ]
  },
  {
   "cell_type": "markdown",
   "metadata": {},
   "source": [
    "Remove blacklisted names from protein names list:"
   ]
  },
  {
   "cell_type": "code",
   "execution_count": 6,
   "metadata": {},
   "outputs": [],
   "source": [
    "protnames = results['timecourses'].keys()\n",
    "blacklist = ['ribos._bound', 'ribos._free', 'tRNA_free', 'tRNA_bound', 'ATP', 'GTP', 'AMP', 'GDP', 'protein', \n",
    "             'peptide_bonds']\n",
    "for fragment in blacklist:\n",
    "    protnames = [name for name in protnames if fragment not in name]"
   ]
  },
  {
   "cell_type": "markdown",
   "metadata": {},
   "source": [
    "Define equilibrated protein synthesis rates:"
   ]
  },
  {
   "cell_type": "code",
   "execution_count": 7,
   "metadata": {},
   "outputs": [
    {
     "name": "stdout",
     "output_type": "stream",
     "text": [
      "YKL060C 145.73251336288234\n",
      "YAL038W 123.38209092480422\n",
      "YJL189W 115.12959770118529\n",
      "YCR012W 112.47428013107705\n",
      "YOL086C 117.84700270134138\n",
      "YLR110C 108.4815219265813\n",
      "YLR044C 193.92298850580755\n",
      "YKL152C 115.67130294848134\n"
     ]
    }
   ],
   "source": [
    "prot_speeds = {}\n",
    "\n",
    "for prot in protnames:\n",
    "    start, stop = 599, len(results['timecourses'][prot]) - 1  # 599 to exclude the \"burn in\" phase\n",
    "    prot_speeds[prot] = (results['timecourses'][prot][stop] - results['timecourses'][prot][start]) / (1.0 * results['timerange'][stop] - results['timerange'][start])\n",
    "    if prot_speeds[prot] > 100: \n",
    "        print prot, prot_speeds[prot]"
   ]
  },
  {
   "cell_type": "code",
   "execution_count": 8,
   "metadata": {},
   "outputs": [
    {
     "data": {
      "text/plain": [
       "count    4475.000000\n",
       "mean        1.349305\n",
       "std         7.847669\n",
       "min         0.001149\n",
       "25%         0.049425\n",
       "50%         0.122989\n",
       "75%         0.379763\n",
       "max       193.922989\n",
       "dtype: float64"
      ]
     },
     "execution_count": 8,
     "metadata": {},
     "output_type": "execute_result"
    }
   ],
   "source": [
    "pd.Series(prot_speeds.values()).describe()"
   ]
  },
  {
   "cell_type": "markdown",
   "metadata": {},
   "source": [
    "Same but normalized per transcript:"
   ]
  },
  {
   "cell_type": "code",
   "execution_count": 9,
   "metadata": {},
   "outputs": [],
   "source": [
    "transcriptome_shah = pkl.load(open('../../parameters/transcriptome_shah.p'))"
   ]
  },
  {
   "cell_type": "code",
   "execution_count": 10,
   "metadata": {},
   "outputs": [
    {
     "name": "stdout",
     "output_type": "stream",
     "text": [
      "YJL189W 0.20833333333339824\n",
      "YJL158C 0.22127708489000514\n",
      "YDR461W 0.23591954022995856\n",
      "YLR325C 0.20028735632190148\n",
      "YDR224C 0.2241508132652\n",
      "YLR061W 0.20057471264374063\n",
      "YLR388W 0.23132183908053183\n"
     ]
    }
   ],
   "source": [
    "prot_per_transcript_speeds = {}\n",
    "\n",
    "for prot in protnames:\n",
    "    start, stop = 599, len(results['timecourses'][prot]) - 1  # 599 to exclude the \"burn in\" phase\n",
    "    prot_per_transcript_speeds[prot] = (results['timecourses'][prot][stop] - results['timecourses'][prot][start]) / \\\n",
    "        transcriptome_shah[prot] / (1.0 * results['timerange'][stop] - results['timerange'][start])\n",
    "    if prot_per_transcript_speeds[prot] > 0.20: \n",
    "        print prot, prot_per_transcript_speeds[prot]"
   ]
  },
  {
   "cell_type": "code",
   "execution_count": 11,
   "metadata": {},
   "outputs": [
    {
     "data": {
      "text/plain": [
       "count    4475.000000\n",
       "mean        0.046298\n",
       "std         0.029389\n",
       "min         0.000575\n",
       "25%         0.026149\n",
       "50%         0.039370\n",
       "75%         0.058621\n",
       "max         0.235920\n",
       "dtype: float64"
      ]
     },
     "execution_count": 11,
     "metadata": {},
     "output_type": "execute_result"
    }
   ],
   "source": [
    "pd.Series(prot_per_transcript_speeds).describe()"
   ]
  },
  {
   "cell_type": "code",
   "execution_count": 12,
   "metadata": {},
   "outputs": [],
   "source": [
    "plt.rcParams['axes.facecolor']='white'\n",
    "plt.rcParams['axes.edgecolor']='black'\n",
    "plt.rcParams['axes.labelcolor']='black'\n",
    "plt.rcParams['xtick.color']='black'\n",
    "plt.rcParams['ytick.color']='black'\n",
    "plt.rcParams['grid.color']='grey'\n",
    "plt.rcParams['grid.alpha']='0.5'\n",
    "plt.rcParams['grid.linestyle']='-.'"
   ]
  },
  {
   "cell_type": "code",
   "execution_count": 18,
   "metadata": {},
   "outputs": [],
   "source": [
    "plt.rcParams['figure.figsize'] = (16, 8)"
   ]
  },
  {
   "cell_type": "code",
   "execution_count": 19,
   "metadata": {},
   "outputs": [
    {
     "data": {
      "image/png": "[encoded data removed]",
      "text/plain": [
       "<matplotlib.figure.Figure at 0x7f75a09ac290>"
      ]
     },
     "metadata": {},
     "output_type": "display_data"
    }
   ],
   "source": [
    "myedgecolor = 'powderblue'\n",
    "myfacecolor = 'steelblue'\n",
    "\n",
    "plt.figure(1)\n",
    "plt.subplot(121)\n",
    "plt.hist(prot_speeds.values(), bins = 10**np.linspace(np.log10(min(prot_speeds.values())+0.0001), \n",
    "                                                      np.log10(max(prot_speeds.values())), 30), \n",
    "         edgecolor=myedgecolor, facecolor=myfacecolor)\n",
    "plt.gca().set_xscale(\"log\")\n",
    "plt.gca().set_xlim([min(prot_speeds.values())+0.001, max(prot_speeds.values())])\n",
    "plt.gca().set_xlabel('Synthesis rate [proteins/s]', fontsize=16)\n",
    "plt.gca().set_ylabel('Protein count', fontsize=16)\n",
    "plt.setp(plt.gca().get_xticklabels(), fontsize=16)\n",
    "plt.setp(plt.gca().get_yticklabels(), fontsize=16)\n",
    "\n",
    "plt.subplot(122)\n",
    "plt.hist(prot_per_transcript_speeds.values(), bins = 10**np.linspace(np.log10(min(prot_per_transcript_speeds.values())+0.0001), \n",
    "                                                                     np.log10(max(prot_per_transcript_speeds.values())), 30),\n",
    "         edgecolor=myedgecolor, facecolor=myfacecolor)\n",
    "plt.gca().set_xscale(\"log\")\n",
    "plt.gca().set_xlim([min(prot_per_transcript_speeds.values())+0.002, max(prot_per_transcript_speeds.values())])\n",
    "plt.gca().set_xlabel('Synthesis rate per transcript [proteins/transcript/s]', fontsize=16)\n",
    "plt.gca().set_ylabel('Protein count', fontsize=16)\n",
    "plt.setp(plt.gca().get_xticklabels(), fontsize=16)\n",
    "plt.setp(plt.gca().get_yticklabels(), fontsize=16)\n",
    "\n",
    "plt.savefig('TRSL_synthesis_rate_distribution.pgf', bbox_inches='tight')"
   ]
  },
  {
   "cell_type": "code",
   "execution_count": null,
   "metadata": {},
   "outputs": [],
   "source": []
  }
 ],
 "metadata": {
  "kernelspec": {
   "display_name": "Python 2",
   "language": "python",
   "name": "python2"
  },
  "language_info": {
   "codemirror_mode": {
    "name": "ipython",
    "version": 2
   },
   "file_extension": ".py",
   "mimetype": "text/x-python",
   "name": "python",
   "nbconvert_exporter": "python",
   "pygments_lexer": "ipython2",
   "version": "2.7.12"
  }
 },
 "nbformat": 4,
 "nbformat_minor": 2
}
