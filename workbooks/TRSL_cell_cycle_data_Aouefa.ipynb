{
 "cells": [
  {
   "cell_type": "markdown",
   "metadata": {},
   "source": [
    "# Read time-dependent FISH transcriptome data from Aouefa"
   ]
  },
  {
   "cell_type": "markdown",
   "metadata": {},
   "source": [
    "#### Read Excel sheet:"
   ]
  },
  {
   "cell_type": "code",
   "execution_count": 1,
   "metadata": {
    "collapsed": true
   },
   "outputs": [],
   "source": [
    "import pandas as pd\n",
    "import csv\n",
    "import cPickle as pkl\n",
    "import numpy as np\n",
    "import matplotlib.pyplot as plt\n",
    "import collections\n",
    "\n",
    "%matplotlib inline\n",
    "\n",
    "from pygenome import sg"
   ]
  },
  {
   "cell_type": "code",
   "execution_count": 2,
   "metadata": {
    "collapsed": false
   },
   "outputs": [
    {
     "data": {
      "text/plain": [
       "127.10000000000001"
      ]
     },
     "execution_count": 2,
     "metadata": {},
     "output_type": "execute_result"
    }
   ],
   "source": [
    "phase_lengths = collections.OrderedDict([('early G1', 27.2), ('late G1', 33.7), ('S', 20.5), ('G2', 21.4), ('P/M', 9.8), \n",
    "                                         ('Ana', 10.4), ('T/C', 4.1)])\n",
    "sum(phase_lengths.values())"
   ]
  },
  {
   "cell_type": "code",
   "execution_count": 3,
   "metadata": {
    "collapsed": false
   },
   "outputs": [
    {
     "data": {
      "text/plain": [
       "[27.2, 33.7, 20.5, 21.4, 9.8, 10.4, 4.1]"
      ]
     },
     "execution_count": 3,
     "metadata": {},
     "output_type": "execute_result"
    }
   ],
   "source": [
    "phase_lengths.values()"
   ]
  },
  {
   "cell_type": "markdown",
   "metadata": {},
   "source": [
    "Note that these are ordered as in the `OrderedDict`."
   ]
  },
  {
   "cell_type": "markdown",
   "metadata": {},
   "source": [
    "Aouefa's pivot table file containing distributions from the FISH experiments:"
   ]
  },
  {
   "cell_type": "code",
   "execution_count": 4,
   "metadata": {
    "collapsed": false
   },
   "outputs": [],
   "source": [
    "mrna_file = '../data/Sup_PivotTable_RNA_forPubli_AllGenes.xlsx'"
   ]
  },
  {
   "cell_type": "code",
   "execution_count": 5,
   "metadata": {
    "collapsed": true
   },
   "outputs": [],
   "source": [
    "df = {}\n",
    "df_mult = {}\n",
    "df_means = {}"
   ]
  },
  {
   "cell_type": "markdown",
   "metadata": {},
   "source": [
    "In the following we make sure to only read the first table as the ones underneath contain data from osmostressed experiments."
   ]
  },
  {
   "cell_type": "code",
   "execution_count": 6,
   "metadata": {
    "collapsed": false
   },
   "outputs": [
    {
     "data": {
      "text/html": [
       "<div>\n",
       "<table border=\"1\" class=\"dataframe\">\n",
       "  <thead>\n",
       "    <tr style=\"text-align: right;\">\n",
       "      <th></th>\n",
       "      <th># RNA/cell</th>\n",
       "      <th>early G1</th>\n",
       "      <th>late G1</th>\n",
       "      <th>S</th>\n",
       "      <th>G2</th>\n",
       "      <th>P/M</th>\n",
       "      <th>Ana</th>\n",
       "      <th>T/C</th>\n",
       "    </tr>\n",
       "  </thead>\n",
       "  <tbody>\n",
       "    <tr>\n",
       "      <th>0</th>\n",
       "      <td>0</td>\n",
       "      <td>22</td>\n",
       "      <td>24</td>\n",
       "      <td>22</td>\n",
       "      <td>24</td>\n",
       "      <td>6</td>\n",
       "      <td>1</td>\n",
       "      <td>0</td>\n",
       "    </tr>\n",
       "    <tr>\n",
       "      <th>1</th>\n",
       "      <td>1</td>\n",
       "      <td>35</td>\n",
       "      <td>53</td>\n",
       "      <td>41</td>\n",
       "      <td>45</td>\n",
       "      <td>22</td>\n",
       "      <td>1</td>\n",
       "      <td>0</td>\n",
       "    </tr>\n",
       "    <tr>\n",
       "      <th>2</th>\n",
       "      <td>2</td>\n",
       "      <td>48</td>\n",
       "      <td>74</td>\n",
       "      <td>54</td>\n",
       "      <td>36</td>\n",
       "      <td>20</td>\n",
       "      <td>10</td>\n",
       "      <td>0</td>\n",
       "    </tr>\n",
       "    <tr>\n",
       "      <th>3</th>\n",
       "      <td>3</td>\n",
       "      <td>30</td>\n",
       "      <td>52</td>\n",
       "      <td>22</td>\n",
       "      <td>19</td>\n",
       "      <td>10</td>\n",
       "      <td>6</td>\n",
       "      <td>0</td>\n",
       "    </tr>\n",
       "    <tr>\n",
       "      <th>4</th>\n",
       "      <td>4</td>\n",
       "      <td>10</td>\n",
       "      <td>19</td>\n",
       "      <td>9</td>\n",
       "      <td>10</td>\n",
       "      <td>6</td>\n",
       "      <td>4</td>\n",
       "      <td>0</td>\n",
       "    </tr>\n",
       "  </tbody>\n",
       "</table>\n",
       "</div>"
      ],
      "text/plain": [
       "   # RNA/cell  early G1  late G1   S  G2  P/M  Ana  T/C\n",
       "0           0        22       24  22  24    6    1    0\n",
       "1           1        35       53  41  45   22    1    0\n",
       "2           2        48       74  54  36   20   10    0\n",
       "3           3        30       52  22  19   10    6    0\n",
       "4           4        10       19   9  10    6    4    0"
      ]
     },
     "execution_count": 6,
     "metadata": {},
     "output_type": "execute_result"
    }
   ],
   "source": [
    "df['SIC1'] = pd.read_excel(mrna_file, sheetname='SIC1', skiprows=1, skipfooter=251, parse_cols='A, C:I')\n",
    "df['SIC1'].head()"
   ]
  },
  {
   "cell_type": "code",
   "execution_count": 7,
   "metadata": {
    "collapsed": false
   },
   "outputs": [
    {
     "data": {
      "text/html": [
       "<div>\n",
       "<table border=\"1\" class=\"dataframe\">\n",
       "  <thead>\n",
       "    <tr style=\"text-align: right;\">\n",
       "      <th></th>\n",
       "      <th># RNA/cell</th>\n",
       "      <th>early G1</th>\n",
       "      <th>late G1</th>\n",
       "      <th>S</th>\n",
       "      <th>G2</th>\n",
       "      <th>P/M</th>\n",
       "      <th>Ana</th>\n",
       "      <th>T/C</th>\n",
       "    </tr>\n",
       "  </thead>\n",
       "  <tbody>\n",
       "    <tr>\n",
       "      <th>0</th>\n",
       "      <td>0</td>\n",
       "      <td>123</td>\n",
       "      <td>15</td>\n",
       "      <td>38</td>\n",
       "      <td>105</td>\n",
       "      <td>55</td>\n",
       "      <td>35</td>\n",
       "      <td>11</td>\n",
       "    </tr>\n",
       "    <tr>\n",
       "      <th>1</th>\n",
       "      <td>1</td>\n",
       "      <td>27</td>\n",
       "      <td>8</td>\n",
       "      <td>22</td>\n",
       "      <td>37</td>\n",
       "      <td>12</td>\n",
       "      <td>23</td>\n",
       "      <td>6</td>\n",
       "    </tr>\n",
       "    <tr>\n",
       "      <th>2</th>\n",
       "      <td>2</td>\n",
       "      <td>11</td>\n",
       "      <td>11</td>\n",
       "      <td>9</td>\n",
       "      <td>20</td>\n",
       "      <td>6</td>\n",
       "      <td>3</td>\n",
       "      <td>3</td>\n",
       "    </tr>\n",
       "    <tr>\n",
       "      <th>3</th>\n",
       "      <td>3</td>\n",
       "      <td>12</td>\n",
       "      <td>7</td>\n",
       "      <td>12</td>\n",
       "      <td>4</td>\n",
       "      <td>1</td>\n",
       "      <td>2</td>\n",
       "      <td>1</td>\n",
       "    </tr>\n",
       "    <tr>\n",
       "      <th>4</th>\n",
       "      <td>4</td>\n",
       "      <td>10</td>\n",
       "      <td>2</td>\n",
       "      <td>2</td>\n",
       "      <td>1</td>\n",
       "      <td>0</td>\n",
       "      <td>2</td>\n",
       "      <td>0</td>\n",
       "    </tr>\n",
       "  </tbody>\n",
       "</table>\n",
       "</div>"
      ],
      "text/plain": [
       "   # RNA/cell  early G1  late G1   S   G2  P/M  Ana  T/C\n",
       "0           0       123       15  38  105   55   35   11\n",
       "1           1        27        8  22   37   12   23    6\n",
       "2           2        11       11   9   20    6    3    3\n",
       "3           3        12        7  12    4    1    2    1\n",
       "4           4        10        2   2    1    0    2    0"
      ]
     },
     "execution_count": 7,
     "metadata": {},
     "output_type": "execute_result"
    }
   ],
   "source": [
    "df['CLN2'] = pd.read_excel(mrna_file, sheetname='CLN2', skiprows=1, skipfooter=260, parse_cols='A, C:I')\n",
    "df['CLN2'].head()"
   ]
  },
  {
   "cell_type": "code",
   "execution_count": 8,
   "metadata": {
    "collapsed": false
   },
   "outputs": [
    {
     "data": {
      "text/html": [
       "<div>\n",
       "<table border=\"1\" class=\"dataframe\">\n",
       "  <thead>\n",
       "    <tr style=\"text-align: right;\">\n",
       "      <th></th>\n",
       "      <th># RNA/cell</th>\n",
       "      <th>early G1</th>\n",
       "      <th>late G1</th>\n",
       "      <th>S</th>\n",
       "      <th>G2</th>\n",
       "      <th>P/M</th>\n",
       "      <th>Ana</th>\n",
       "      <th>T/C</th>\n",
       "    </tr>\n",
       "  </thead>\n",
       "  <tbody>\n",
       "    <tr>\n",
       "      <th>0</th>\n",
       "      <td>0</td>\n",
       "      <td>69</td>\n",
       "      <td>35</td>\n",
       "      <td>55</td>\n",
       "      <td>94</td>\n",
       "      <td>43</td>\n",
       "      <td>45</td>\n",
       "      <td>6</td>\n",
       "    </tr>\n",
       "    <tr>\n",
       "      <th>1</th>\n",
       "      <td>1</td>\n",
       "      <td>46</td>\n",
       "      <td>47</td>\n",
       "      <td>47</td>\n",
       "      <td>31</td>\n",
       "      <td>19</td>\n",
       "      <td>26</td>\n",
       "      <td>10</td>\n",
       "    </tr>\n",
       "    <tr>\n",
       "      <th>2</th>\n",
       "      <td>2</td>\n",
       "      <td>27</td>\n",
       "      <td>27</td>\n",
       "      <td>27</td>\n",
       "      <td>12</td>\n",
       "      <td>8</td>\n",
       "      <td>5</td>\n",
       "      <td>1</td>\n",
       "    </tr>\n",
       "    <tr>\n",
       "      <th>3</th>\n",
       "      <td>3</td>\n",
       "      <td>10</td>\n",
       "      <td>25</td>\n",
       "      <td>22</td>\n",
       "      <td>5</td>\n",
       "      <td>0</td>\n",
       "      <td>3</td>\n",
       "      <td>2</td>\n",
       "    </tr>\n",
       "    <tr>\n",
       "      <th>4</th>\n",
       "      <td>4</td>\n",
       "      <td>4</td>\n",
       "      <td>32</td>\n",
       "      <td>12</td>\n",
       "      <td>3</td>\n",
       "      <td>0</td>\n",
       "      <td>4</td>\n",
       "      <td>3</td>\n",
       "    </tr>\n",
       "  </tbody>\n",
       "</table>\n",
       "</div>"
      ],
      "text/plain": [
       "   # RNA/cell  early G1  late G1   S  G2  P/M  Ana  T/C\n",
       "0           0        69       35  55  94   43   45    6\n",
       "1           1        46       47  47  31   19   26   10\n",
       "2           2        27       27  27  12    8    5    1\n",
       "3           3        10       25  22   5    0    3    2\n",
       "4           4         4       32  12   3    0    4    3"
      ]
     },
     "execution_count": 8,
     "metadata": {},
     "output_type": "execute_result"
    }
   ],
   "source": [
    "df['CLB5'] = pd.read_excel(mrna_file, sheetname='CLB5', skiprows=1, skipfooter=89, parse_cols='A, C:I')\n",
    "df['CLB5'].head()"
   ]
  },
  {
   "cell_type": "markdown",
   "metadata": {},
   "source": [
    "#### Calculate means per cell cycle phase:"
   ]
  },
  {
   "cell_type": "code",
   "execution_count": 9,
   "metadata": {
    "collapsed": false
   },
   "outputs": [
    {
     "data": {
      "text/plain": [
       "early G1     4.084577\n",
       "late G1      3.449275\n",
       "S            2.343195\n",
       "G2           2.055944\n",
       "P/M          2.101449\n",
       "Ana         14.231884\n",
       "T/C         24.933333\n",
       "dtype: float64"
      ]
     },
     "execution_count": 9,
     "metadata": {},
     "output_type": "execute_result"
    }
   ],
   "source": [
    "df_mult['SIC1'] = df['SIC1'].mul(df['SIC1']['# RNA/cell'], axis=0).drop('# RNA/cell', axis=1)\n",
    "df_means['SIC1'] = df_mult['SIC1'].sum(axis=0) / df['SIC1'].sum(axis=0).drop('# RNA/cell')\n",
    "df_means['SIC1']"
   ]
  },
  {
   "cell_type": "code",
   "execution_count": 10,
   "metadata": {
    "collapsed": false
   },
   "outputs": [
    {
     "data": {
      "text/plain": [
       "early G1     3.254237\n",
       "late G1     18.021277\n",
       "S            5.644628\n",
       "G2           0.666667\n",
       "P/M          0.364865\n",
       "Ana          1.119403\n",
       "T/C          2.592593\n",
       "dtype: float64"
      ]
     },
     "execution_count": 10,
     "metadata": {},
     "output_type": "execute_result"
    }
   ],
   "source": [
    "df_mult['CLN2'] = df['CLN2'].mul(df['CLN2']['# RNA/cell'], axis=0).drop('# RNA/cell', axis=1)\n",
    "df_means['CLN2'] = df_mult['CLN2'].sum(axis=0) / df['CLN2'].sum(axis=0).drop('# RNA/cell')\n",
    "df_means['CLN2']"
   ]
  },
  {
   "cell_type": "code",
   "execution_count": 11,
   "metadata": {
    "collapsed": false
   },
   "outputs": [
    {
     "data": {
      "text/plain": [
       "early G1    1.321429\n",
       "late G1     3.783784\n",
       "S           1.826816\n",
       "G2          0.565517\n",
       "P/M         0.619718\n",
       "Ana         0.977273\n",
       "T/C         2.793103\n",
       "dtype: float64"
      ]
     },
     "execution_count": 11,
     "metadata": {},
     "output_type": "execute_result"
    }
   ],
   "source": [
    "df_mult['CLB5'] = df['CLB5'].mul(df['CLB5']['# RNA/cell'], axis=0).drop('# RNA/cell', axis=1)\n",
    "df_means['CLB5'] = df_mult['CLB5'].sum(axis=0) / df['CLB5'].sum(axis=0).drop('# RNA/cell')\n",
    "df_means['CLB5']"
   ]
  },
  {
   "cell_type": "markdown",
   "metadata": {},
   "source": [
    "We know have absolute abundance values of three transcript types during the whole cell cycle. The next step will be to combine this information with the relative abundance data from Lotte's RNAseq experiments."
   ]
  },
  {
   "cell_type": "markdown",
   "metadata": {},
   "source": [
    "#### Discover corresponding genes in Lotte transcriptome:"
   ]
  },
  {
   "cell_type": "markdown",
   "metadata": {
    "collapsed": true
   },
   "source": [
    "YLR079W is Sic1\n",
    "\n",
    "YPL256C is Cln2\n",
    "\n",
    "YPR120C is Clb5"
   ]
  },
  {
   "cell_type": "markdown",
   "metadata": {},
   "source": [
    "Read file:"
   ]
  },
  {
   "cell_type": "code",
   "execution_count": 12,
   "metadata": {
    "collapsed": false
   },
   "outputs": [],
   "source": [
    "filename = \"../data/nostress_WT_R1.csv\"\n",
    "orf_genomic_dict = pkl.load(open(\"../parameters/orf_coding.p\"))\n",
    "\n",
    "transcripts = pd.DataFrame()\n",
    "\n",
    "with open(filename, mode='r') as infile:\n",
    "    reader = csv.reader(infile, delimiter=',')\n",
    "    times = [int(float(val)) for val in reader.next()[1:]]\n",
    "    ntimes = len(times)\n",
    "    for rows in reader:\n",
    "        try:\n",
    "            # convert to systematic names\n",
    "            colname = rows[0] if rows[0] in orf_genomic_dict else sg.systematic_name(rows[0])\n",
    "            transcript_values = pd.Series(data=[float(rows[i]) for i in range(2, ntimes + 1)])  # the time point -1 is not needed\n",
    "            transcripts[colname] = transcript_values\n",
    "        except:\n",
    "            pass"
   ]
  },
  {
   "cell_type": "code",
   "execution_count": 13,
   "metadata": {
    "collapsed": false
   },
   "outputs": [
    {
     "name": "stdout",
     "output_type": "stream",
     "text": [
      "5795\n"
     ]
    }
   ],
   "source": [
    "transcripts.index = times[1:]\n",
    "print len(transcripts.columns)"
   ]
  },
  {
   "cell_type": "markdown",
   "metadata": {},
   "source": [
    "Create \"normalized\" transcriptome (containing percentages at each point in time):"
   ]
  },
  {
   "cell_type": "code",
   "execution_count": 14,
   "metadata": {
    "collapsed": true
   },
   "outputs": [],
   "source": [
    "transcripts_norm = (transcripts.T / transcripts.sum(axis=1)).T"
   ]
  },
  {
   "cell_type": "markdown",
   "metadata": {},
   "source": [
    "Plot cell cycle genes in Lotte data:"
   ]
  },
  {
   "cell_type": "code",
   "execution_count": 15,
   "metadata": {
    "collapsed": false
   },
   "outputs": [],
   "source": [
    "sic1 = transcripts_norm['YLR079W']\n",
    "cln2 = transcripts_norm['YPL256C']\n",
    "clb5 = transcripts_norm['YPR120C']"
   ]
  },
  {
   "cell_type": "code",
   "execution_count": 16,
   "metadata": {
    "collapsed": false
   },
   "outputs": [
    {
     "data": {
      "text/plain": [
       "<matplotlib.axes._subplots.AxesSubplot at 0x7efe1f931550>"
      ]
     },
     "execution_count": 16,
     "metadata": {},
     "output_type": "execute_result"
    },
    {
     "data": {
      "image/png": "[encoded data removed]",
      "text/plain": [
       "<matplotlib.figure.Figure at 0x7efe1fbcb1d0>"
      ]
     },
     "metadata": {},
     "output_type": "display_data"
    }
   ],
   "source": [
    "sic1.plot(legend=True, color='r')\n",
    "cln2.plot(legend=True, color='g')\n",
    "clb5.plot(legend=True, color='b')"
   ]
  },
  {
   "cell_type": "markdown",
   "metadata": {},
   "source": [
    "According to Lotte, the  G1 phase of the first cell cycle is missing because cells are released from the G1 phase.\n",
    "\n",
    "According to Max/Marcus, the  G1 phase of the second cell cycle is also shortened because cells were kept in arrest and were allowed to build capacity to shorten the G1 phase."
   ]
  },
  {
   "cell_type": "markdown",
   "metadata": {},
   "source": [
    "Plot Aouefa's data for comparison:"
   ]
  },
  {
   "cell_type": "code",
   "execution_count": 17,
   "metadata": {
    "collapsed": false
   },
   "outputs": [],
   "source": [
    "df_means['SIC1'].index = np.cumsum(phase_lengths.values()) - np.array(phase_lengths.values()) / 2.\n",
    "df_means['CLN2'].index = np.cumsum(phase_lengths.values()) - np.array(phase_lengths.values()) / 2.\n",
    "df_means['CLB5'].index = np.cumsum(phase_lengths.values()) - np.array(phase_lengths.values()) / 2."
   ]
  },
  {
   "cell_type": "code",
   "execution_count": 18,
   "metadata": {
    "collapsed": false
   },
   "outputs": [],
   "source": [
    "means = pd.DataFrame(df_means)"
   ]
  },
  {
   "cell_type": "code",
   "execution_count": 19,
   "metadata": {
    "collapsed": false
   },
   "outputs": [
    {
     "data": {
      "text/plain": [
       "<matplotlib.axes._subplots.AxesSubplot at 0x7efe1f7862d0>"
      ]
     },
     "execution_count": 19,
     "metadata": {},
     "output_type": "execute_result"
    },
    {
     "data": {
      "image/png": "[encoded data removed]",
      "text/plain": [
       "<matplotlib.figure.Figure at 0x7efe1fbcb3d0>"
      ]
     },
     "metadata": {},
     "output_type": "display_data"
    }
   ],
   "source": [
    "means.plot()"
   ]
  },
  {
   "cell_type": "markdown",
   "metadata": {},
   "source": [
    "The data look qualitatively similar but with a longer G1 phase."
   ]
  },
  {
   "cell_type": "markdown",
   "metadata": {},
   "source": [
    "Next steps: \n",
    "\n",
    "* assume that the very first data point of RNAseq data represents the G1 phase\n",
    "* find boundaries of other phases\n",
    "* calculate averages of RNAseq data per cell cycle phase\n",
    "* calculate multipliers per cell cycle phase for each cell cycle gene\n",
    "* find \"best\" multiplier (e.g. average of the three multipliers)\n",
    "* use multipliers to calculate absolute transcriptome"
   ]
  },
  {
   "cell_type": "markdown",
   "metadata": {
    "collapsed": true
   },
   "source": [
    "#### Find total length of RNAseq cell cycle:"
   ]
  },
  {
   "cell_type": "code",
   "execution_count": 20,
   "metadata": {
    "collapsed": false
   },
   "outputs": [
    {
     "data": {
      "text/plain": [
       "10     0.000446\n",
       "70     0.000411\n",
       "130    0.000249\n",
       "Name: YPL256C, dtype: float64"
      ]
     },
     "execution_count": 20,
     "metadata": {},
     "output_type": "execute_result"
    }
   ],
   "source": [
    "cln2.sort_values(axis=0, ascending=False, inplace=False)[:3]"
   ]
  },
  {
   "cell_type": "markdown",
   "metadata": {
    "collapsed": true
   },
   "source": [
    "We see that the sum of all phases except the absent G1 phase is 60 mins."
   ]
  },
  {
   "cell_type": "markdown",
   "metadata": {},
   "source": [
    "Corresponding duration in Aouefa's data:"
   ]
  },
  {
   "cell_type": "code",
   "execution_count": 21,
   "metadata": {
    "collapsed": false
   },
   "outputs": [
    {
     "data": {
      "text/plain": [
       "66.2"
      ]
     },
     "execution_count": 21,
     "metadata": {},
     "output_type": "execute_result"
    }
   ],
   "source": [
    "sum(phase_lengths.values()[2:])"
   ]
  },
  {
   "cell_type": "markdown",
   "metadata": {},
   "source": [
    "To match the cell cycle we will scale Aouefa's values down by 66.2/60.0 (except the G1 lengths):"
   ]
  },
  {
   "cell_type": "code",
   "execution_count": 39,
   "metadata": {
    "collapsed": false
   },
   "outputs": [],
   "source": [
    "rnaseq_phase_lengths = collections.OrderedDict([('early G1', round(27.2 * 60.0/66.2, 1)), \n",
    "                                                ('late G1', round(33.7 * 60.0/66.2, 1)), \n",
    "                                                ('S', round(20.5 * 60.0/66.2, 1)), \n",
    "                                                ('G2', round(21.4 * 60.0/66.2, 1)), ('P/M', round(9.8 * 60.0/66.2, 1)), \n",
    "                                                ('Ana', round(10.4 * 60.0/66.2, 1)), ('T/C', round(4.1 * 60.0/66.2,1))])"
   ]
  },
  {
   "cell_type": "code",
   "execution_count": 40,
   "metadata": {
    "collapsed": false
   },
   "outputs": [
    {
     "data": {
      "text/plain": [
       "OrderedDict([('early G1', 24.7), ('late G1', 30.5), ('S', 18.6), ('G2', 19.4), ('P/M', 8.9), ('Ana', 9.4), ('T/C', 3.7)])"
      ]
     },
     "execution_count": 40,
     "metadata": {},
     "output_type": "execute_result"
    }
   ],
   "source": [
    "rnaseq_phase_lengths"
   ]
  },
  {
   "cell_type": "code",
   "execution_count": 50,
   "metadata": {
    "collapsed": false
   },
   "outputs": [
    {
     "data": {
      "text/plain": [
       "115.2"
      ]
     },
     "execution_count": 50,
     "metadata": {},
     "output_type": "execute_result"
    }
   ],
   "source": [
    "round(sum(rnaseq_phase_lengths.values()), 1)"
   ]
  },
  {
   "cell_type": "markdown",
   "metadata": {
    "collapsed": true
   },
   "source": [
    "Next we calculate the averages of the cell cycle genes in RNAseq per cell cycle phase. \n",
    "\n",
    "* The first measurement is used as a proxy for the entire G1 phase.\n",
    "* Only the first cell cycle is considered.\n",
    "* To be able to map the times accurately, we first \"blow up\" the RNAseq data in units of 0.1 min"
   ]
  },
  {
   "cell_type": "code",
   "execution_count": 42,
   "metadata": {
    "collapsed": false
   },
   "outputs": [],
   "source": [
    "rnaseq_means = {}\n",
    "rnaseq_means['SIC1'] = {'early G1': sic1[0], 'late G1': sic1[0]}"
   ]
  },
  {
   "cell_type": "code",
   "execution_count": 43,
   "metadata": {
    "collapsed": false
   },
   "outputs": [
    {
     "data": {
      "text/plain": [
       "{'SIC1': {'early G1': 3.3234762501156854e-05,\n",
       "  'late G1': 3.3234762501156854e-05}}"
      ]
     },
     "execution_count": 43,
     "metadata": {},
     "output_type": "execute_result"
    }
   ],
   "source": [
    "rnaseq_means"
   ]
  },
  {
   "cell_type": "markdown",
   "metadata": {},
   "source": [
    "The other values are defined in the following."
   ]
  },
  {
   "cell_type": "markdown",
   "metadata": {},
   "source": [
    "TODO: The index should begin at the beginning of S phase (24.7 + 30.5 + 0.1) and end after T/C phase (115.2)"
   ]
  },
  {
   "cell_type": "code",
   "execution_count": 60,
   "metadata": {
    "collapsed": false
   },
   "outputs": [],
   "source": [
    "detail_df = pd.DataFrame(np.arange(0, round(sum(rnaseq_phase_lengths.values()), 1), 0.1))"
   ]
  },
  {
   "cell_type": "code",
   "execution_count": 61,
   "metadata": {
    "collapsed": false
   },
   "outputs": [],
   "source": [
    "detail_df = detail_df.set_index(np.arange(0, round(sum(rnaseq_phase_lengths.values()), 1), 0.1))"
   ]
  },
  {
   "cell_type": "code",
   "execution_count": 62,
   "metadata": {
    "collapsed": false
   },
   "outputs": [],
   "source": [
    "detail_sic1_df = detail_df.join(sic1)"
   ]
  },
  {
   "cell_type": "code",
   "execution_count": 65,
   "metadata": {
    "collapsed": false
   },
   "outputs": [],
   "source": [
    "detail_sic1_df.drop(0, axis=1, inplace=True)"
   ]
  },
  {
   "cell_type": "code",
   "execution_count": 66,
   "metadata": {
    "collapsed": false
   },
   "outputs": [
    {
     "data": {
      "text/html": [
       "<div>\n",
       "<table border=\"1\" class=\"dataframe\">\n",
       "  <thead>\n",
       "    <tr style=\"text-align: right;\">\n",
       "      <th></th>\n",
       "      <th>YLR079W</th>\n",
       "    </tr>\n",
       "  </thead>\n",
       "  <tbody>\n",
       "    <tr>\n",
       "      <th>0</th>\n",
       "      <td>0.000033</td>\n",
       "    </tr>\n",
       "    <tr>\n",
       "      <th>10</th>\n",
       "      <td>0.000052</td>\n",
       "    </tr>\n",
       "    <tr>\n",
       "      <th>15</th>\n",
       "      <td>0.000039</td>\n",
       "    </tr>\n",
       "    <tr>\n",
       "      <th>20</th>\n",
       "      <td>0.000047</td>\n",
       "    </tr>\n",
       "    <tr>\n",
       "      <th>25</th>\n",
       "      <td>0.000044</td>\n",
       "    </tr>\n",
       "    <tr>\n",
       "      <th>30</th>\n",
       "      <td>0.000017</td>\n",
       "    </tr>\n",
       "    <tr>\n",
       "      <th>35</th>\n",
       "      <td>0.000034</td>\n",
       "    </tr>\n",
       "    <tr>\n",
       "      <th>40</th>\n",
       "      <td>0.000039</td>\n",
       "    </tr>\n",
       "    <tr>\n",
       "      <th>45</th>\n",
       "      <td>0.000077</td>\n",
       "    </tr>\n",
       "    <tr>\n",
       "      <th>50</th>\n",
       "      <td>0.000057</td>\n",
       "    </tr>\n",
       "    <tr>\n",
       "      <th>55</th>\n",
       "      <td>0.000182</td>\n",
       "    </tr>\n",
       "    <tr>\n",
       "      <th>60</th>\n",
       "      <td>0.000210</td>\n",
       "    </tr>\n",
       "    <tr>\n",
       "      <th>70</th>\n",
       "      <td>0.000097</td>\n",
       "    </tr>\n",
       "    <tr>\n",
       "      <th>80</th>\n",
       "      <td>0.000042</td>\n",
       "    </tr>\n",
       "    <tr>\n",
       "      <th>90</th>\n",
       "      <td>0.000033</td>\n",
       "    </tr>\n",
       "    <tr>\n",
       "      <th>100</th>\n",
       "      <td>0.000045</td>\n",
       "    </tr>\n",
       "    <tr>\n",
       "      <th>110</th>\n",
       "      <td>0.000052</td>\n",
       "    </tr>\n",
       "  </tbody>\n",
       "</table>\n",
       "</div>"
      ],
      "text/plain": [
       "      YLR079W\n",
       "0    0.000033\n",
       "10   0.000052\n",
       "15   0.000039\n",
       "20   0.000047\n",
       "25   0.000044\n",
       "30   0.000017\n",
       "35   0.000034\n",
       "40   0.000039\n",
       "45   0.000077\n",
       "50   0.000057\n",
       "55   0.000182\n",
       "60   0.000210\n",
       "70   0.000097\n",
       "80   0.000042\n",
       "90   0.000033\n",
       "100  0.000045\n",
       "110  0.000052"
      ]
     },
     "execution_count": 66,
     "metadata": {},
     "output_type": "execute_result"
    }
   ],
   "source": [
    "detail_sic1_df[detail_sic1_df['YLR079W']>0]"
   ]
  },
  {
   "cell_type": "code",
   "execution_count": 41,
   "metadata": {
    "collapsed": false
   },
   "outputs": [],
   "source": [
    "#detail_sic1_df.interpolate(method='polynomial', order=2, axis=0)\n",
    "detail_sic1_df = detail_sic1_df.interpolate(method='index', axis=0)"
   ]
  },
  {
   "cell_type": "code",
   "execution_count": 42,
   "metadata": {
    "collapsed": false
   },
   "outputs": [
    {
     "data": {
      "text/plain": [
       "<matplotlib.axes._subplots.AxesSubplot at 0x7f8681c4cd50>"
      ]
     },
     "execution_count": 42,
     "metadata": {},
     "output_type": "execute_result"
    },
    {
     "data": {
      "image/png": "[encoded data removed]",
      "text/plain": [
       "<matplotlib.figure.Figure at 0x7f8681bc9850>"
      ]
     },
     "metadata": {},
     "output_type": "display_data"
    }
   ],
   "source": [
    "detail_sic1_df.plot()"
   ]
  },
  {
   "cell_type": "code",
   "execution_count": null,
   "metadata": {
    "collapsed": true
   },
   "outputs": [],
   "source": []
  }
 ],
 "metadata": {
  "kernelspec": {
   "display_name": "Python 2",
   "language": "python",
   "name": "python2"
  },
  "language_info": {
   "codemirror_mode": {
    "name": "ipython",
    "version": 2
   },
   "file_extension": ".py",
   "mimetype": "text/x-python",
   "name": "python",
   "nbconvert_exporter": "python",
   "pygments_lexer": "ipython2",
   "version": "2.7.6"
  }
 },
 "nbformat": 4,
 "nbformat_minor": 0
}
