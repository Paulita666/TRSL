{
 "cells": [
  {
   "cell_type": "markdown",
   "metadata": {},
   "source": [
    "# Read time-dependent transcriptome data from Aouefa"
   ]
  },
  {
   "cell_type": "markdown",
   "metadata": {},
   "source": [
    "#### Read Excel sheet:"
   ]
  },
  {
   "cell_type": "code",
   "execution_count": 34,
   "metadata": {
    "collapsed": true
   },
   "outputs": [],
   "source": [
    "import pandas as pd\n",
    "import csv\n",
    "import cPickle as pkl\n",
    "import numpy as np\n",
    "import matplotlib.pyplot as plt\n",
    "import collections\n",
    "\n",
    "%matplotlib inline\n",
    "\n",
    "from pygenome import sg"
   ]
  },
  {
   "cell_type": "code",
   "execution_count": 59,
   "metadata": {
    "collapsed": false
   },
   "outputs": [
    {
     "data": {
      "text/plain": [
       "127.10000000000001"
      ]
     },
     "execution_count": 59,
     "metadata": {},
     "output_type": "execute_result"
    }
   ],
   "source": [
    "phase_lengths = collections.OrderedDict([('early G1', 27.2), ('late G1', 33.7), ('S', 20.5), ('G2', 21.4), ('P/M', 9.8), \n",
    "                                         ('Ana', 10.4), ('T/C', 4.1)])\n",
    "sum(phase_lengths.values())"
   ]
  },
  {
   "cell_type": "code",
   "execution_count": 53,
   "metadata": {
    "collapsed": false
   },
   "outputs": [
    {
     "data": {
      "text/plain": [
       "[27.2, 33.7, 20.5, 21.4, 9.8, 10.4, 4.1]"
      ]
     },
     "execution_count": 53,
     "metadata": {},
     "output_type": "execute_result"
    }
   ],
   "source": [
    "phase_lengths.values()"
   ]
  },
  {
   "cell_type": "markdown",
   "metadata": {},
   "source": [
    "Note that these are ordered."
   ]
  },
  {
   "cell_type": "code",
   "execution_count": 3,
   "metadata": {
    "collapsed": false
   },
   "outputs": [],
   "source": [
    "mrna_file = '../data/Sup_PivotTable_RNA_forPubli_AllGenes.xlsx'"
   ]
  },
  {
   "cell_type": "code",
   "execution_count": 4,
   "metadata": {
    "collapsed": true
   },
   "outputs": [],
   "source": [
    "df = {}\n",
    "df_mult = {}\n",
    "df_means = {}"
   ]
  },
  {
   "cell_type": "code",
   "execution_count": 5,
   "metadata": {
    "collapsed": false
   },
   "outputs": [
    {
     "data": {
      "text/html": [
       "<div style=\"max-height:1000px;max-width:1500px;overflow:auto;\">\n",
       "<table border=\"1\" class=\"dataframe\">\n",
       "  <thead>\n",
       "    <tr style=\"text-align: right;\">\n",
       "      <th></th>\n",
       "      <th># RNA/cell</th>\n",
       "      <th>early G1</th>\n",
       "      <th>late G1</th>\n",
       "      <th>S</th>\n",
       "      <th>G2</th>\n",
       "      <th>P/M</th>\n",
       "      <th>Ana</th>\n",
       "      <th>T/C</th>\n",
       "    </tr>\n",
       "  </thead>\n",
       "  <tbody>\n",
       "    <tr>\n",
       "      <th>0</th>\n",
       "      <td> 0</td>\n",
       "      <td> 22</td>\n",
       "      <td> 24</td>\n",
       "      <td> 22</td>\n",
       "      <td> 24</td>\n",
       "      <td>  6</td>\n",
       "      <td>  1</td>\n",
       "      <td> 0</td>\n",
       "    </tr>\n",
       "    <tr>\n",
       "      <th>1</th>\n",
       "      <td> 1</td>\n",
       "      <td> 35</td>\n",
       "      <td> 53</td>\n",
       "      <td> 41</td>\n",
       "      <td> 45</td>\n",
       "      <td> 22</td>\n",
       "      <td>  1</td>\n",
       "      <td> 0</td>\n",
       "    </tr>\n",
       "    <tr>\n",
       "      <th>2</th>\n",
       "      <td> 2</td>\n",
       "      <td> 48</td>\n",
       "      <td> 74</td>\n",
       "      <td> 54</td>\n",
       "      <td> 36</td>\n",
       "      <td> 20</td>\n",
       "      <td> 10</td>\n",
       "      <td> 0</td>\n",
       "    </tr>\n",
       "    <tr>\n",
       "      <th>3</th>\n",
       "      <td> 3</td>\n",
       "      <td> 30</td>\n",
       "      <td> 52</td>\n",
       "      <td> 22</td>\n",
       "      <td> 19</td>\n",
       "      <td> 10</td>\n",
       "      <td>  6</td>\n",
       "      <td> 0</td>\n",
       "    </tr>\n",
       "    <tr>\n",
       "      <th>4</th>\n",
       "      <td> 4</td>\n",
       "      <td> 10</td>\n",
       "      <td> 19</td>\n",
       "      <td>  9</td>\n",
       "      <td> 10</td>\n",
       "      <td>  6</td>\n",
       "      <td>  4</td>\n",
       "      <td> 0</td>\n",
       "    </tr>\n",
       "  </tbody>\n",
       "</table>\n",
       "<p>5 rows × 8 columns</p>\n",
       "</div>"
      ],
      "text/plain": [
       "   # RNA/cell  early G1  late G1   S  G2  P/M  Ana  T/C\n",
       "0           0        22       24  22  24    6    1    0\n",
       "1           1        35       53  41  45   22    1    0\n",
       "2           2        48       74  54  36   20   10    0\n",
       "3           3        30       52  22  19   10    6    0\n",
       "4           4        10       19   9  10    6    4    0\n",
       "\n",
       "[5 rows x 8 columns]"
      ]
     },
     "execution_count": 5,
     "metadata": {},
     "output_type": "execute_result"
    }
   ],
   "source": [
    "df['SIC1'] = pd.read_excel(mrna_file, sheetname='SIC1', skiprows=1, skipfooter=251, parse_cols='A, C:I')\n",
    "df['SIC1'].head()"
   ]
  },
  {
   "cell_type": "code",
   "execution_count": 6,
   "metadata": {
    "collapsed": false
   },
   "outputs": [
    {
     "data": {
      "text/html": [
       "<div style=\"max-height:1000px;max-width:1500px;overflow:auto;\">\n",
       "<table border=\"1\" class=\"dataframe\">\n",
       "  <thead>\n",
       "    <tr style=\"text-align: right;\">\n",
       "      <th></th>\n",
       "      <th># RNA/cell</th>\n",
       "      <th>early G1</th>\n",
       "      <th>late G1</th>\n",
       "      <th>S</th>\n",
       "      <th>G2</th>\n",
       "      <th>P/M</th>\n",
       "      <th>Ana</th>\n",
       "      <th>T/C</th>\n",
       "    </tr>\n",
       "  </thead>\n",
       "  <tbody>\n",
       "    <tr>\n",
       "      <th>0</th>\n",
       "      <td> 0</td>\n",
       "      <td> 123</td>\n",
       "      <td> 15</td>\n",
       "      <td> 38</td>\n",
       "      <td> 105</td>\n",
       "      <td> 55</td>\n",
       "      <td> 35</td>\n",
       "      <td> 11</td>\n",
       "    </tr>\n",
       "    <tr>\n",
       "      <th>1</th>\n",
       "      <td> 1</td>\n",
       "      <td>  27</td>\n",
       "      <td>  8</td>\n",
       "      <td> 22</td>\n",
       "      <td>  37</td>\n",
       "      <td> 12</td>\n",
       "      <td> 23</td>\n",
       "      <td>  6</td>\n",
       "    </tr>\n",
       "    <tr>\n",
       "      <th>2</th>\n",
       "      <td> 2</td>\n",
       "      <td>  11</td>\n",
       "      <td> 11</td>\n",
       "      <td>  9</td>\n",
       "      <td>  20</td>\n",
       "      <td>  6</td>\n",
       "      <td>  3</td>\n",
       "      <td>  3</td>\n",
       "    </tr>\n",
       "    <tr>\n",
       "      <th>3</th>\n",
       "      <td> 3</td>\n",
       "      <td>  12</td>\n",
       "      <td>  7</td>\n",
       "      <td> 12</td>\n",
       "      <td>   4</td>\n",
       "      <td>  1</td>\n",
       "      <td>  2</td>\n",
       "      <td>  1</td>\n",
       "    </tr>\n",
       "    <tr>\n",
       "      <th>4</th>\n",
       "      <td> 4</td>\n",
       "      <td>  10</td>\n",
       "      <td>  2</td>\n",
       "      <td>  2</td>\n",
       "      <td>   1</td>\n",
       "      <td>  0</td>\n",
       "      <td>  2</td>\n",
       "      <td>  0</td>\n",
       "    </tr>\n",
       "  </tbody>\n",
       "</table>\n",
       "<p>5 rows × 8 columns</p>\n",
       "</div>"
      ],
      "text/plain": [
       "   # RNA/cell  early G1  late G1   S   G2  P/M  Ana  T/C\n",
       "0           0       123       15  38  105   55   35   11\n",
       "1           1        27        8  22   37   12   23    6\n",
       "2           2        11       11   9   20    6    3    3\n",
       "3           3        12        7  12    4    1    2    1\n",
       "4           4        10        2   2    1    0    2    0\n",
       "\n",
       "[5 rows x 8 columns]"
      ]
     },
     "execution_count": 6,
     "metadata": {},
     "output_type": "execute_result"
    }
   ],
   "source": [
    "df['CLN2'] = pd.read_excel(mrna_file, sheetname='CLN2', skiprows=1, skipfooter=260, parse_cols='A, C:I')\n",
    "df['CLN2'].head()"
   ]
  },
  {
   "cell_type": "code",
   "execution_count": 7,
   "metadata": {
    "collapsed": false
   },
   "outputs": [
    {
     "data": {
      "text/html": [
       "<div style=\"max-height:1000px;max-width:1500px;overflow:auto;\">\n",
       "<table border=\"1\" class=\"dataframe\">\n",
       "  <thead>\n",
       "    <tr style=\"text-align: right;\">\n",
       "      <th></th>\n",
       "      <th># RNA/cell</th>\n",
       "      <th>early G1</th>\n",
       "      <th>late G1</th>\n",
       "      <th>S</th>\n",
       "      <th>G2</th>\n",
       "      <th>P/M</th>\n",
       "      <th>Ana</th>\n",
       "      <th>T/C</th>\n",
       "    </tr>\n",
       "  </thead>\n",
       "  <tbody>\n",
       "    <tr>\n",
       "      <th>0</th>\n",
       "      <td> 0</td>\n",
       "      <td> 69</td>\n",
       "      <td> 35</td>\n",
       "      <td> 55</td>\n",
       "      <td> 94</td>\n",
       "      <td> 43</td>\n",
       "      <td> 45</td>\n",
       "      <td>  6</td>\n",
       "    </tr>\n",
       "    <tr>\n",
       "      <th>1</th>\n",
       "      <td> 1</td>\n",
       "      <td> 46</td>\n",
       "      <td> 47</td>\n",
       "      <td> 47</td>\n",
       "      <td> 31</td>\n",
       "      <td> 19</td>\n",
       "      <td> 26</td>\n",
       "      <td> 10</td>\n",
       "    </tr>\n",
       "    <tr>\n",
       "      <th>2</th>\n",
       "      <td> 2</td>\n",
       "      <td> 27</td>\n",
       "      <td> 27</td>\n",
       "      <td> 27</td>\n",
       "      <td> 12</td>\n",
       "      <td>  8</td>\n",
       "      <td>  5</td>\n",
       "      <td>  1</td>\n",
       "    </tr>\n",
       "    <tr>\n",
       "      <th>3</th>\n",
       "      <td> 3</td>\n",
       "      <td> 10</td>\n",
       "      <td> 25</td>\n",
       "      <td> 22</td>\n",
       "      <td>  5</td>\n",
       "      <td>  0</td>\n",
       "      <td>  3</td>\n",
       "      <td>  2</td>\n",
       "    </tr>\n",
       "    <tr>\n",
       "      <th>4</th>\n",
       "      <td> 4</td>\n",
       "      <td>  4</td>\n",
       "      <td> 32</td>\n",
       "      <td> 12</td>\n",
       "      <td>  3</td>\n",
       "      <td>  0</td>\n",
       "      <td>  4</td>\n",
       "      <td>  3</td>\n",
       "    </tr>\n",
       "  </tbody>\n",
       "</table>\n",
       "<p>5 rows × 8 columns</p>\n",
       "</div>"
      ],
      "text/plain": [
       "   # RNA/cell  early G1  late G1   S  G2  P/M  Ana  T/C\n",
       "0           0        69       35  55  94   43   45    6\n",
       "1           1        46       47  47  31   19   26   10\n",
       "2           2        27       27  27  12    8    5    1\n",
       "3           3        10       25  22   5    0    3    2\n",
       "4           4         4       32  12   3    0    4    3\n",
       "\n",
       "[5 rows x 8 columns]"
      ]
     },
     "execution_count": 7,
     "metadata": {},
     "output_type": "execute_result"
    }
   ],
   "source": [
    "df['CLB5'] = pd.read_excel(mrna_file, sheetname='CLB5', skiprows=1, skipfooter=89, parse_cols='A, C:I')\n",
    "df['CLB5'].head()"
   ]
  },
  {
   "cell_type": "markdown",
   "metadata": {},
   "source": [
    "#### Calculate means per cell cycle phase:"
   ]
  },
  {
   "cell_type": "code",
   "execution_count": 76,
   "metadata": {
    "collapsed": false
   },
   "outputs": [
    {
     "data": {
      "text/plain": [
       "early G1     4.084577\n",
       "late G1      3.449275\n",
       "S            2.343195\n",
       "G2           2.055944\n",
       "P/M          2.101449\n",
       "Ana         14.231884\n",
       "T/C         24.933333\n",
       "dtype: float64"
      ]
     },
     "execution_count": 76,
     "metadata": {},
     "output_type": "execute_result"
    }
   ],
   "source": [
    "df_mult['SIC1'] = df['SIC1'].mul(df['SIC1']['# RNA/cell'], axis=0).drop('# RNA/cell', axis=1)\n",
    "df_means['SIC1'] = df_mult['SIC1'].sum(axis=0) / df['SIC1'].sum(axis=0).drop('# RNA/cell')\n",
    "df_means['SIC1']"
   ]
  },
  {
   "cell_type": "code",
   "execution_count": 77,
   "metadata": {
    "collapsed": false
   },
   "outputs": [
    {
     "data": {
      "text/plain": [
       "early G1     3.254237\n",
       "late G1     18.021277\n",
       "S            5.644628\n",
       "G2           0.666667\n",
       "P/M          0.364865\n",
       "Ana          1.119403\n",
       "T/C          2.592593\n",
       "dtype: float64"
      ]
     },
     "execution_count": 77,
     "metadata": {},
     "output_type": "execute_result"
    }
   ],
   "source": [
    "df_mult['CLN2'] = df['CLN2'].mul(df['CLN2']['# RNA/cell'], axis=0).drop('# RNA/cell', axis=1)\n",
    "df_means['CLN2'] = df_mult['CLN2'].sum(axis=0) / df['CLN2'].sum(axis=0).drop('# RNA/cell')\n",
    "df_means['CLN2']"
   ]
  },
  {
   "cell_type": "code",
   "execution_count": 78,
   "metadata": {
    "collapsed": false
   },
   "outputs": [
    {
     "data": {
      "text/plain": [
       "early G1    1.321429\n",
       "late G1     3.783784\n",
       "S           1.826816\n",
       "G2          0.565517\n",
       "P/M         0.619718\n",
       "Ana         0.977273\n",
       "T/C         2.793103\n",
       "dtype: float64"
      ]
     },
     "execution_count": 78,
     "metadata": {},
     "output_type": "execute_result"
    }
   ],
   "source": [
    "df_mult['CLB5'] = df['CLB5'].mul(df['CLB5']['# RNA/cell'], axis=0).drop('# RNA/cell', axis=1)\n",
    "df_means['CLB5'] = df_mult['CLB5'].sum(axis=0) / df['CLB5'].sum(axis=0).drop('# RNA/cell')\n",
    "df_means['CLB5']"
   ]
  },
  {
   "cell_type": "markdown",
   "metadata": {},
   "source": [
    "We know have absolute abundance values of three transcript types during the whole cell cycle. The next step will be to combine this information with the relative abundance data."
   ]
  },
  {
   "cell_type": "markdown",
   "metadata": {},
   "source": [
    "#### Discover corresponding genes in Lotte transcriptome:"
   ]
  },
  {
   "cell_type": "code",
   "execution_count": 126,
   "metadata": {
    "collapsed": true
   },
   "outputs": [],
   "source": [
    "# ['YLR079W']  # Sic1\n",
    "# ['YPL256C']  # Cln2\n",
    "# ['YPR120C']  # Clb5"
   ]
  },
  {
   "cell_type": "code",
   "execution_count": 11,
   "metadata": {
    "collapsed": false
   },
   "outputs": [],
   "source": [
    "filename = \"../data/nostress_WT_R1.csv\"\n",
    "orf_genomic_dict = pkl.load(open(\"../parameters/orf_coding.p\"))\n",
    "\n",
    "transcripts = pd.DataFrame()\n",
    "\n",
    "with open(filename, mode='r') as infile:\n",
    "    reader = csv.reader(infile, delimiter=',')\n",
    "    times = [int(float(val)) for val in reader.next()[1:]]\n",
    "    ntimes = len(times)\n",
    "    for rows in reader:\n",
    "        try:\n",
    "            # convert to systematic names\n",
    "            colname = rows[0] if rows[0] in orf_genomic_dict else sg.systematic_name(rows[0])\n",
    "            transcript_values = pd.Series(data=[float(rows[i]) for i in range(2, ntimes + 1)])  # the time point -1 is not needed\n",
    "            transcripts[colname] = transcript_values\n",
    "        except:\n",
    "            pass"
   ]
  },
  {
   "cell_type": "code",
   "execution_count": 12,
   "metadata": {
    "collapsed": false
   },
   "outputs": [
    {
     "name": "stdout",
     "output_type": "stream",
     "text": [
      "5795\n"
     ]
    }
   ],
   "source": [
    "transcripts.index = times[1:]\n",
    "print len(transcripts.columns)"
   ]
  },
  {
   "cell_type": "markdown",
   "metadata": {},
   "source": [
    "Create \"normalized\" transcriptome (containing percentages at each point in time):"
   ]
  },
  {
   "cell_type": "code",
   "execution_count": 13,
   "metadata": {
    "collapsed": true
   },
   "outputs": [],
   "source": [
    "transcripts_norm = (transcripts.T / transcripts.sum(axis=1)).T"
   ]
  },
  {
   "cell_type": "markdown",
   "metadata": {},
   "source": [
    "Plot cell cycle genes in Lotte data:"
   ]
  },
  {
   "cell_type": "code",
   "execution_count": 23,
   "metadata": {
    "collapsed": false
   },
   "outputs": [],
   "source": [
    "sic1 = transcripts_norm['YLR079W']\n",
    "cln2 = transcripts_norm['YPL256C']\n",
    "clb5 = transcripts_norm['YPR120C']"
   ]
  },
  {
   "cell_type": "code",
   "execution_count": 24,
   "metadata": {
    "collapsed": false
   },
   "outputs": [
    {
     "data": {
      "text/plain": [
       "<matplotlib.axes._subplots.AxesSubplot at 0x7f2cbd4d4350>"
      ]
     },
     "execution_count": 24,
     "metadata": {},
     "output_type": "execute_result"
    },
    {
     "data": {
      "image/png": "[encoded data removed]",
      "text/plain": [
       "<matplotlib.figure.Figure at 0x7f2cbd4e4310>"
      ]
     },
     "metadata": {},
     "output_type": "display_data"
    }
   ],
   "source": [
    "sic1.plot(legend=True)\n",
    "cln2.plot()\n",
    "clb5.plot()"
   ]
  },
  {
   "cell_type": "markdown",
   "metadata": {},
   "source": [
    "We assume that this data set has a shortened (early) G1 phase."
   ]
  },
  {
   "cell_type": "markdown",
   "metadata": {},
   "source": [
    "Plot Aouefa's data for comparison:"
   ]
  },
  {
   "cell_type": "code",
   "execution_count": 87,
   "metadata": {
    "collapsed": false
   },
   "outputs": [],
   "source": [
    "df_means['SIC1'].index = np.cumsum(phase_lengths.values()) - np.array(phase_lengths.values()) / 2.\n",
    "df_means['CLN2'].index = np.cumsum(phase_lengths.values()) - np.array(phase_lengths.values()) / 2.\n",
    "df_means['CLB5'].index = np.cumsum(phase_lengths.values()) - np.array(phase_lengths.values()) / 2."
   ]
  },
  {
   "cell_type": "code",
   "execution_count": 80,
   "metadata": {
    "collapsed": false
   },
   "outputs": [],
   "source": [
    "means = pd.DataFrame(df_means)"
   ]
  },
  {
   "cell_type": "code",
   "execution_count": 86,
   "metadata": {
    "collapsed": false
   },
   "outputs": [
    {
     "data": {
      "text/plain": [
       "<matplotlib.axes._subplots.AxesSubplot at 0x7f2cbc7f0d10>"
      ]
     },
     "execution_count": 86,
     "metadata": {},
     "output_type": "execute_result"
    },
    {
     "data": {
      "image/png": "[encoded data removed]",
      "text/plain": [
       "<matplotlib.figure.Figure at 0x7f2cbc81a350>"
      ]
     },
     "metadata": {},
     "output_type": "display_data"
    }
   ],
   "source": [
    "means.plot()"
   ]
  },
  {
   "cell_type": "markdown",
   "metadata": {},
   "source": [
    "The data look qualitatively similar but with a longer G1 phase."
   ]
  },
  {
   "cell_type": "markdown",
   "metadata": {},
   "source": [
    "Next steps: \n",
    "\n",
    "* put Lotte and Aouefa data on same time scale\n",
    "* calculate averages per cell cycle phase\n",
    "* calculate multipliers per cell cycle phase for each cell cycle gene\n",
    "* find \"best\" multiplier (e.g. average of the three multipliers)\n",
    "* use multipliers to calculate absolute transcriptome"
   ]
  },
  {
   "cell_type": "code",
   "execution_count": 85,
   "metadata": {
    "collapsed": false
   },
   "outputs": [],
   "source": [
    "means=means.drop('t', axis = 1)"
   ]
  },
  {
   "cell_type": "code",
   "execution_count": null,
   "metadata": {
    "collapsed": true
   },
   "outputs": [],
   "source": []
  }
 ],
 "metadata": {
  "kernelspec": {
   "display_name": "Python 2",
   "language": "python",
   "name": "python2"
  },
  "language_info": {
   "codemirror_mode": {
    "name": "ipython",
    "version": 2
   },
   "file_extension": ".py",
   "mimetype": "text/x-python",
   "name": "python",
   "nbconvert_exporter": "python",
   "pygments_lexer": "ipython2",
   "version": "2.7.6"
  }
 },
 "nbformat": 4,
 "nbformat_minor": 0
}
