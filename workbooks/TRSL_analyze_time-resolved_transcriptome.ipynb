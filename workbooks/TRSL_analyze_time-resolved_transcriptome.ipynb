{
 "cells": [
  {
   "cell_type": "markdown",
   "metadata": {},
   "source": [
    "##Analyze time-resolved transcriptome data"
   ]
  },
  {
   "cell_type": "code",
   "execution_count": 7,
   "metadata": {
    "collapsed": false
   },
   "outputs": [],
   "source": [
    "import csv\n",
    "import pandas as pd\n",
    "import cPickle as pkl\n",
    "\n",
    "from pygenome import sg"
   ]
  },
  {
   "cell_type": "markdown",
   "metadata": {},
   "source": [
    "First we get all the systematic names from `yeastgenome.org`:"
   ]
  },
  {
   "cell_type": "code",
   "execution_count": 9,
   "metadata": {
    "collapsed": false
   },
   "outputs": [
    {
     "data": {
      "text/plain": [
       "5917"
      ]
     },
     "execution_count": 9,
     "metadata": {},
     "output_type": "execute_result"
    }
   ],
   "source": [
    "orf_genomic_dict = pkl.load(open(\"../parameters/orf_coding.p\"))\n",
    "len(orf_genomic_dict)"
   ]
  },
  {
   "cell_type": "markdown",
   "metadata": {},
   "source": [
    "Some appear to be missing (expected were >6000)."
   ]
  },
  {
   "cell_type": "code",
   "execution_count": 82,
   "metadata": {
    "collapsed": false
   },
   "outputs": [],
   "source": [
    "filename = \"../data/nostress_WT_R1.csv\"\n",
    "transcripts = pd.DataFrame()\n",
    "\n",
    "with open(filename, mode='r') as infile:\n",
    "    reader = csv.reader(infile, delimiter=',')\n",
    "    times = [int(float(val)) for val in reader.next()[1:]]\n",
    "    ntimes = len(times)\n",
    "    for rows in reader:\n",
    "        try:\n",
    "            # convert to systematic names\n",
    "            colname = rows[0] if rows[0] in orf_genomic_dict else sg.systematic_name(rows[0])\n",
    "            transcript_values = pd.Series(data=[float(rows[i]) for i in range(2, ntimes + 1)])  # the time point -1 is not needed\n",
    "            transcripts[colname] = transcript_values\n",
    "        except:\n",
    "            pass"
   ]
  },
  {
   "cell_type": "markdown",
   "metadata": {},
   "source": [
    "TODO: to normalize or not to normalize?"
   ]
  },
  {
   "cell_type": "markdown",
   "metadata": {},
   "source": [
    "Create row labels (time points):"
   ]
  },
  {
   "cell_type": "code",
   "execution_count": 83,
   "metadata": {
    "collapsed": false
   },
   "outputs": [],
   "source": [
    "transcripts.index = times[1:]"
   ]
  },
  {
   "cell_type": "code",
   "execution_count": 84,
   "metadata": {
    "collapsed": false
   },
   "outputs": [
    {
     "name": "stdout",
     "output_type": "stream",
     "text": [
      "5795\n"
     ]
    }
   ],
   "source": [
    "print len(transcripts.columns)"
   ]
  },
  {
   "cell_type": "code",
   "execution_count": 85,
   "metadata": {
    "collapsed": false,
    "scrolled": true
   },
   "outputs": [
    {
     "data": {
      "text/html": [
       "<div style=\"max-height:1000px;max-width:1500px;overflow:auto;\">\n",
       "<table border=\"1\" class=\"dataframe\">\n",
       "  <thead>\n",
       "    <tr style=\"text-align: right;\">\n",
       "      <th></th>\n",
       "      <th>YAL001C</th>\n",
       "      <th>YAL002W</th>\n",
       "      <th>YAL003W</th>\n",
       "      <th>YAL005C</th>\n",
       "      <th>YAL007C</th>\n",
       "      <th>YAL008W</th>\n",
       "      <th>YAL009W</th>\n",
       "      <th>YAL010C</th>\n",
       "      <th>YAL011W</th>\n",
       "      <th>YAL012W</th>\n",
       "    </tr>\n",
       "  </thead>\n",
       "  <tbody>\n",
       "    <tr>\n",
       "      <th>0 </th>\n",
       "      <td> 4</td>\n",
       "      <td> 5</td>\n",
       "      <td> 227</td>\n",
       "      <td> 386.259074</td>\n",
       "      <td> 18</td>\n",
       "      <td>  9</td>\n",
       "      <td>  7</td>\n",
       "      <td> 3</td>\n",
       "      <td> 7</td>\n",
       "      <td> 228</td>\n",
       "    </tr>\n",
       "    <tr>\n",
       "      <th>10</th>\n",
       "      <td> 5</td>\n",
       "      <td> 4</td>\n",
       "      <td> 180</td>\n",
       "      <td> 233.285132</td>\n",
       "      <td> 23</td>\n",
       "      <td> 14</td>\n",
       "      <td>  7</td>\n",
       "      <td> 1</td>\n",
       "      <td> 5</td>\n",
       "      <td> 245</td>\n",
       "    </tr>\n",
       "    <tr>\n",
       "      <th>15</th>\n",
       "      <td> 5</td>\n",
       "      <td> 5</td>\n",
       "      <td> 256</td>\n",
       "      <td> 234.858509</td>\n",
       "      <td> 25</td>\n",
       "      <td> 13</td>\n",
       "      <td> 10</td>\n",
       "      <td> 3</td>\n",
       "      <td> 8</td>\n",
       "      <td> 303</td>\n",
       "    </tr>\n",
       "    <tr>\n",
       "      <th>20</th>\n",
       "      <td> 7</td>\n",
       "      <td> 5</td>\n",
       "      <td> 291</td>\n",
       "      <td> 283.728916</td>\n",
       "      <td> 27</td>\n",
       "      <td> 10</td>\n",
       "      <td> 12</td>\n",
       "      <td> 2</td>\n",
       "      <td> 8</td>\n",
       "      <td> 312</td>\n",
       "    </tr>\n",
       "    <tr>\n",
       "      <th>25</th>\n",
       "      <td> 5</td>\n",
       "      <td> 4</td>\n",
       "      <td> 224</td>\n",
       "      <td> 186.376147</td>\n",
       "      <td> 17</td>\n",
       "      <td> 10</td>\n",
       "      <td> 14</td>\n",
       "      <td> 1</td>\n",
       "      <td> 2</td>\n",
       "      <td> 181</td>\n",
       "    </tr>\n",
       "  </tbody>\n",
       "</table>\n",
       "<p>5 rows × 10 columns</p>\n",
       "</div>"
      ],
      "text/plain": [
       "    YAL001C  YAL002W  YAL003W     YAL005C  YAL007C  YAL008W  YAL009W  YAL010C  \\\n",
       "0         4        5      227  386.259074       18        9        7        3   \n",
       "10        5        4      180  233.285132       23       14        7        1   \n",
       "15        5        5      256  234.858509       25       13       10        3   \n",
       "20        7        5      291  283.728916       27       10       12        2   \n",
       "25        5        4      224  186.376147       17       10       14        1   \n",
       "\n",
       "    YAL011W  YAL012W  \n",
       "0         7      228  \n",
       "10        5      245  \n",
       "15        8      303  \n",
       "20        8      312  \n",
       "25        2      181  \n",
       "\n",
       "[5 rows x 10 columns]"
      ]
     },
     "execution_count": 85,
     "metadata": {},
     "output_type": "execute_result"
    }
   ],
   "source": [
    "transcripts.ix[:25, :10]"
   ]
  },
  {
   "cell_type": "markdown",
   "metadata": {},
   "source": [
    "Calculate measure of transcriptional load:"
   ]
  },
  {
   "cell_type": "markdown",
   "metadata": {},
   "source": [
    "Attempt 1: by weighting transcript abundance with transcript length"
   ]
  },
  {
   "cell_type": "code",
   "execution_count": 86,
   "metadata": {
    "collapsed": false
   },
   "outputs": [],
   "source": [
    "orf_lengths = {prot: len(orf_genomic_dict[prot]) for prot in orf_genomic_dict}"
   ]
  },
  {
   "cell_type": "code",
   "execution_count": 89,
   "metadata": {
    "collapsed": false
   },
   "outputs": [],
   "source": [
    "tr_load_l = pd.DataFrame()\n",
    "\n",
    "for column in transcripts:\n",
    "    tr_load_l[column] = transcripts[column] * orf_lengths[column]"
   ]
  },
  {
   "cell_type": "code",
   "execution_count": 90,
   "metadata": {
    "collapsed": false
   },
   "outputs": [
    {
     "data": {
      "text/html": [
       "<div style=\"max-height:1000px;max-width:1500px;overflow:auto;\">\n",
       "<table border=\"1\" class=\"dataframe\">\n",
       "  <thead>\n",
       "    <tr style=\"text-align: right;\">\n",
       "      <th></th>\n",
       "      <th>YAL001C</th>\n",
       "      <th>YAL002W</th>\n",
       "      <th>YAL003W</th>\n",
       "      <th>YAL005C</th>\n",
       "      <th>YAL007C</th>\n",
       "      <th>YAL008W</th>\n",
       "      <th>YAL009W</th>\n",
       "      <th>YAL010C</th>\n",
       "      <th>YAL011W</th>\n",
       "      <th>YAL012W</th>\n",
       "    </tr>\n",
       "  </thead>\n",
       "  <tbody>\n",
       "    <tr>\n",
       "      <th>0 </th>\n",
       "      <td> 13932</td>\n",
       "      <td> 19125</td>\n",
       "      <td> 140967</td>\n",
       "      <td> 745093.753746</td>\n",
       "      <td> 11664</td>\n",
       "      <td> 5373</td>\n",
       "      <td>  5460</td>\n",
       "      <td> 4446</td>\n",
       "      <td> 13146</td>\n",
       "      <td> 270180</td>\n",
       "    </tr>\n",
       "    <tr>\n",
       "      <th>10</th>\n",
       "      <td> 17415</td>\n",
       "      <td> 15300</td>\n",
       "      <td> 111780</td>\n",
       "      <td> 450007.019628</td>\n",
       "      <td> 14904</td>\n",
       "      <td> 8358</td>\n",
       "      <td>  5460</td>\n",
       "      <td> 1482</td>\n",
       "      <td>  9390</td>\n",
       "      <td> 290325</td>\n",
       "    </tr>\n",
       "    <tr>\n",
       "      <th>15</th>\n",
       "      <td> 17415</td>\n",
       "      <td> 19125</td>\n",
       "      <td> 158976</td>\n",
       "      <td> 453042.063861</td>\n",
       "      <td> 16200</td>\n",
       "      <td> 7761</td>\n",
       "      <td>  7800</td>\n",
       "      <td> 4446</td>\n",
       "      <td> 15024</td>\n",
       "      <td> 359055</td>\n",
       "    </tr>\n",
       "    <tr>\n",
       "      <th>20</th>\n",
       "      <td> 24381</td>\n",
       "      <td> 19125</td>\n",
       "      <td> 180711</td>\n",
       "      <td> 547313.078964</td>\n",
       "      <td> 17496</td>\n",
       "      <td> 5970</td>\n",
       "      <td>  9360</td>\n",
       "      <td> 2964</td>\n",
       "      <td> 15024</td>\n",
       "      <td> 369720</td>\n",
       "    </tr>\n",
       "    <tr>\n",
       "      <th>25</th>\n",
       "      <td> 17415</td>\n",
       "      <td> 15300</td>\n",
       "      <td> 139104</td>\n",
       "      <td> 359519.587563</td>\n",
       "      <td> 11016</td>\n",
       "      <td> 5970</td>\n",
       "      <td> 10920</td>\n",
       "      <td> 1482</td>\n",
       "      <td>  3756</td>\n",
       "      <td> 214485</td>\n",
       "    </tr>\n",
       "  </tbody>\n",
       "</table>\n",
       "<p>5 rows × 10 columns</p>\n",
       "</div>"
      ],
      "text/plain": [
       "    YAL001C  YAL002W  YAL003W        YAL005C  YAL007C  YAL008W  YAL009W  \\\n",
       "0     13932    19125   140967  745093.753746    11664     5373     5460   \n",
       "10    17415    15300   111780  450007.019628    14904     8358     5460   \n",
       "15    17415    19125   158976  453042.063861    16200     7761     7800   \n",
       "20    24381    19125   180711  547313.078964    17496     5970     9360   \n",
       "25    17415    15300   139104  359519.587563    11016     5970    10920   \n",
       "\n",
       "    YAL010C  YAL011W  YAL012W  \n",
       "0      4446    13146   270180  \n",
       "10     1482     9390   290325  \n",
       "15     4446    15024   359055  \n",
       "20     2964    15024   369720  \n",
       "25     1482     3756   214485  \n",
       "\n",
       "[5 rows x 10 columns]"
      ]
     },
     "execution_count": 90,
     "metadata": {},
     "output_type": "execute_result"
    }
   ],
   "source": [
    "tr_load_l.ix[:25, :10]"
   ]
  },
  {
   "cell_type": "markdown",
   "metadata": {},
   "source": [
    "Attempt 2: by weighting transcript abundance with initiation probability"
   ]
  },
  {
   "cell_type": "code",
   "execution_count": 91,
   "metadata": {
    "collapsed": true
   },
   "outputs": [],
   "source": [
    "init_rates_plotkin = pkl.load(open('../parameters/init_rates_plotkin.p'))"
   ]
  },
  {
   "cell_type": "code",
   "execution_count": 95,
   "metadata": {
    "collapsed": false
   },
   "outputs": [],
   "source": [
    "tr_load_i = pd.DataFrame()\n",
    "\n",
    "for column in transcripts:\n",
    "    if column in init_rates_plotkin:\n",
    "        tr_load_i[column] = transcripts[column] * init_rates_plotkin[column]"
   ]
  },
  {
   "cell_type": "code",
   "execution_count": 97,
   "metadata": {
    "collapsed": false
   },
   "outputs": [
    {
     "data": {
      "text/html": [
       "<div style=\"max-height:1000px;max-width:1500px;overflow:auto;\">\n",
       "<table border=\"1\" class=\"dataframe\">\n",
       "  <thead>\n",
       "    <tr style=\"text-align: right;\">\n",
       "      <th></th>\n",
       "      <th>YAL001C</th>\n",
       "      <th>YAL002W</th>\n",
       "      <th>YAL003W</th>\n",
       "      <th>YAL007C</th>\n",
       "      <th>YAL008W</th>\n",
       "      <th>YAL009W</th>\n",
       "      <th>YAL010C</th>\n",
       "      <th>YAL011W</th>\n",
       "      <th>YAL012W</th>\n",
       "      <th>YAL013W</th>\n",
       "    </tr>\n",
       "  </thead>\n",
       "  <tbody>\n",
       "    <tr>\n",
       "      <th>0 </th>\n",
       "      <td> 0.000003</td>\n",
       "      <td> 0.000002</td>\n",
       "      <td> 0.001358</td>\n",
       "      <td> 0.000036</td>\n",
       "      <td> 0.000027</td>\n",
       "      <td> 0.000005</td>\n",
       "      <td> 0.000003</td>\n",
       "      <td> 0.000007</td>\n",
       "      <td> 0.001024</td>\n",
       "      <td> 0.000020</td>\n",
       "    </tr>\n",
       "    <tr>\n",
       "      <th>10</th>\n",
       "      <td> 0.000004</td>\n",
       "      <td> 0.000002</td>\n",
       "      <td> 0.001077</td>\n",
       "      <td> 0.000047</td>\n",
       "      <td> 0.000042</td>\n",
       "      <td> 0.000005</td>\n",
       "      <td> 0.000001</td>\n",
       "      <td> 0.000005</td>\n",
       "      <td> 0.001101</td>\n",
       "      <td> 0.000013</td>\n",
       "    </tr>\n",
       "    <tr>\n",
       "      <th>15</th>\n",
       "      <td> 0.000004</td>\n",
       "      <td> 0.000002</td>\n",
       "      <td> 0.001532</td>\n",
       "      <td> 0.000051</td>\n",
       "      <td> 0.000039</td>\n",
       "      <td> 0.000008</td>\n",
       "      <td> 0.000003</td>\n",
       "      <td> 0.000008</td>\n",
       "      <td> 0.001361</td>\n",
       "      <td> 0.000030</td>\n",
       "    </tr>\n",
       "    <tr>\n",
       "      <th>20</th>\n",
       "      <td> 0.000005</td>\n",
       "      <td> 0.000002</td>\n",
       "      <td> 0.001741</td>\n",
       "      <td> 0.000055</td>\n",
       "      <td> 0.000030</td>\n",
       "      <td> 0.000009</td>\n",
       "      <td> 0.000002</td>\n",
       "      <td> 0.000008</td>\n",
       "      <td> 0.001402</td>\n",
       "      <td> 0.000050</td>\n",
       "    </tr>\n",
       "    <tr>\n",
       "      <th>25</th>\n",
       "      <td> 0.000004</td>\n",
       "      <td> 0.000002</td>\n",
       "      <td> 0.001340</td>\n",
       "      <td> 0.000034</td>\n",
       "      <td> 0.000030</td>\n",
       "      <td> 0.000011</td>\n",
       "      <td> 0.000001</td>\n",
       "      <td> 0.000002</td>\n",
       "      <td> 0.000813</td>\n",
       "      <td> 0.000020</td>\n",
       "    </tr>\n",
       "  </tbody>\n",
       "</table>\n",
       "<p>5 rows × 10 columns</p>\n",
       "</div>"
      ],
      "text/plain": [
       "     YAL001C   YAL002W   YAL003W   YAL007C   YAL008W   YAL009W   YAL010C  \\\n",
       "0   0.000003  0.000002  0.001358  0.000036  0.000027  0.000005  0.000003   \n",
       "10  0.000004  0.000002  0.001077  0.000047  0.000042  0.000005  0.000001   \n",
       "15  0.000004  0.000002  0.001532  0.000051  0.000039  0.000008  0.000003   \n",
       "20  0.000005  0.000002  0.001741  0.000055  0.000030  0.000009  0.000002   \n",
       "25  0.000004  0.000002  0.001340  0.000034  0.000030  0.000011  0.000001   \n",
       "\n",
       "     YAL011W   YAL012W   YAL013W  \n",
       "0   0.000007  0.001024  0.000020  \n",
       "10  0.000005  0.001101  0.000013  \n",
       "15  0.000008  0.001361  0.000030  \n",
       "20  0.000008  0.001402  0.000050  \n",
       "25  0.000002  0.000813  0.000020  \n",
       "\n",
       "[5 rows x 10 columns]"
      ]
     },
     "execution_count": 97,
     "metadata": {},
     "output_type": "execute_result"
    }
   ],
   "source": [
    "tr_load_i.ix[:25, :10]"
   ]
  },
  {
   "cell_type": "code",
   "execution_count": null,
   "metadata": {
    "collapsed": true
   },
   "outputs": [],
   "source": []
  }
 ],
 "metadata": {
  "kernelspec": {
   "display_name": "Python 2",
   "language": "python",
   "name": "python2"
  },
  "language_info": {
   "codemirror_mode": {
    "name": "ipython",
    "version": 2
   },
   "file_extension": ".py",
   "mimetype": "text/x-python",
   "name": "python",
   "nbconvert_exporter": "python",
   "pygments_lexer": "ipython2",
   "version": "2.7.6"
  }
 },
 "nbformat": 4,
 "nbformat_minor": 0
}
