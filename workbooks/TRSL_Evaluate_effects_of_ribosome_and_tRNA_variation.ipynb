{
 "cells": [
  {
   "cell_type": "markdown",
   "metadata": {},
   "source": [
    "# Evaluate effects of ribosome and tRNA variation"
   ]
  },
  {
   "cell_type": "code",
   "execution_count": 5,
   "metadata": {
    "collapsed": true
   },
   "outputs": [],
   "source": [
    "import cPickle as pkl\n",
    "import matplotlib\n",
    "import matplotlib.pyplot as plt\n",
    "%matplotlib inline\n",
    "matplotlib.style.use('ggplot')"
   ]
  },
  {
   "cell_type": "markdown",
   "metadata": {},
   "source": [
    "## 1. Ribosome capacity utilization"
   ]
  },
  {
   "cell_type": "code",
   "execution_count": 24,
   "metadata": {
    "collapsed": true
   },
   "outputs": [],
   "source": [
    "runs = [\n",
    "#r\"/home/martin/git/TRSL/results/100000 ribosomes, early G1 phase transcriptome, full exome, no decay, median-enhanced initiation rates according to Shah_20160422_1623_1200s.p\",\n",
    "r\"/home/martin/git/TRSL/results/100000 ribosomes, S phase transcriptome, full exome, no decay, median-enhanced initiation rates according to Shah_20160422_1717_1200s.p\",\n",
    "r\"/home/martin/git/TRSL/results/200000 ribosomes, early G1 phase transcriptome, full exome, no decay, median-enhanced initiation rates according to Shah_20160422_1812_1200s.p\",\n",
    "r\"/home/martin/git/TRSL/results/200000 ribosomes, S phase transcriptome, full exome, no decay, median-enhanced initiation rates according to Shah_20160422_1955_1200s.p\",\n",
    "r\"/home/martin/git/TRSL/results/300000 ribosomes, early G1 phase transcriptome, full exome, no decay, median-enhanced initiation rates according to Shah_20160422_2115_1200s.p\",\n",
    "r\"/home/martin/git/TRSL/results/300000 ribosomes, S phase transcriptome, full exome, no decay, median-enhanced initiation rates according to Shah_20160422_2349_1200s.p\"]"
   ]
  },
  {
   "cell_type": "markdown",
   "metadata": {},
   "source": [
    "Function to replace `_numpypy.multiarray` by `numpy.core.multiarray`. Source: http://stackoverflow.com/questions/39086/search-and-replace-a-line-in-a-file-in-python"
   ]
  },
  {
   "cell_type": "code",
   "execution_count": 15,
   "metadata": {
    "collapsed": true
   },
   "outputs": [],
   "source": [
    "from tempfile import mkstemp\n",
    "from shutil import move\n",
    "from os import remove, close\n",
    "\n",
    "def replace(file_path, pattern, subst):\n",
    "    # Create temp file\n",
    "    fh, abs_path = mkstemp()\n",
    "    with open(abs_path, 'w') as new_file:\n",
    "        with open(file_path) as old_file:\n",
    "            for line in old_file:\n",
    "                new_file.write(line.replace(pattern, subst))\n",
    "    close(fh)\n",
    "    # Remove original file\n",
    "    remove(file_path)\n",
    "    # Move new file\n",
    "    move(abs_path, file_path)"
   ]
  },
  {
   "cell_type": "code",
   "execution_count": 25,
   "metadata": {
    "collapsed": false
   },
   "outputs": [
    {
     "name": "stdout",
     "output_type": "stream",
     "text": [
      "/home/martin/git/TRSL/results/100000 ribosomes, S phase transcriptome, full exome, no decay, median-enhanced initiation rates according to Shah_20160422_1717_1200s.p\n",
      "/home/martin/git/TRSL/results/200000 ribosomes, early G1 phase transcriptome, full exome, no decay, median-enhanced initiation rates according to Shah_20160422_1812_1200s.p\n",
      "/home/martin/git/TRSL/results/200000 ribosomes, S phase transcriptome, full exome, no decay, median-enhanced initiation rates according to Shah_20160422_1955_1200s.p\n",
      "/home/martin/git/TRSL/results/300000 ribosomes, early G1 phase transcriptome, full exome, no decay, median-enhanced initiation rates according to Shah_20160422_2115_1200s.p\n",
      "/home/martin/git/TRSL/results/300000 ribosomes, S phase transcriptome, full exome, no decay, median-enhanced initiation rates according to Shah_20160422_2349_1200s.p\n"
     ]
    }
   ],
   "source": [
    "for run in runs:\n",
    "    print run\n",
    "    # replace(run, \"_numpypy.multiarray\", \"numpy.core.multiarray\") # takes long time"
   ]
  },
  {
   "cell_type": "code",
   "execution_count": null,
   "metadata": {
    "collapsed": false
   },
   "outputs": [
    {
     "name": "stdout",
     "output_type": "stream",
     "text": [
      "/home/martin/git/TRSL/results/100000 ribosomes, S phase transcriptome, full exome, no decay, median-enhanced initiation rates according to Shah_20160422_1717_1200s.p\n",
      "100000 ribosomes, S phase transcriptome, full exome, no decay, median-enhanced initiation rates according to Shah\n",
      "/home/martin/git/TRSL/results/200000 ribosomes, early G1 phase transcriptome, full exome, no decay, median-enhanced initiation rates according to Shah_20160422_1812_1200s.p\n",
      "200000 ribosomes, early G1 phase transcriptome, full exome, no decay, median-enhanced initiation rates according to Shah"
     ]
    }
   ],
   "source": [
    "for run in runs:\n",
    "    results = pkl.load(open(run))\n",
    "    print results['description']\n",
    "    plt.plot(results[\"timerange\"], results[\"timecourses\"][\"ribos._free\"])"
   ]
  },
  {
   "cell_type": "code",
   "execution_count": null,
   "metadata": {
    "collapsed": true
   },
   "outputs": [],
   "source": []
  },
  {
   "cell_type": "code",
   "execution_count": null,
   "metadata": {
    "collapsed": true
   },
   "outputs": [],
   "source": []
  },
  {
   "cell_type": "code",
   "execution_count": 6,
   "metadata": {
    "collapsed": false
   },
   "outputs": [
    {
     "ename": "NameError",
     "evalue": "name 'results' is not defined",
     "output_type": "error",
     "traceback": [
      "\u001b[1;31m---------------------------------------------------------------------------\u001b[0m",
      "\u001b[1;31mNameError\u001b[0m                                 Traceback (most recent call last)",
      "\u001b[1;32m<ipython-input-6-22677bba0cde>\u001b[0m in \u001b[0;36m<module>\u001b[1;34m()\u001b[0m\n\u001b[1;32m----> 1\u001b[1;33m \u001b[0mplt\u001b[0m\u001b[1;33m.\u001b[0m\u001b[0mplot\u001b[0m\u001b[1;33m(\u001b[0m\u001b[0mresults\u001b[0m\u001b[1;33m[\u001b[0m\u001b[1;34m\"timerange\"\u001b[0m\u001b[1;33m]\u001b[0m\u001b[1;33m,\u001b[0m \u001b[0mresults\u001b[0m\u001b[1;33m[\u001b[0m\u001b[1;34m\"timecourses\"\u001b[0m\u001b[1;33m]\u001b[0m\u001b[1;33m[\u001b[0m\u001b[1;34m\"ribos._free\"\u001b[0m\u001b[1;33m]\u001b[0m\u001b[1;33m)\u001b[0m\u001b[1;33m\u001b[0m\u001b[0m\n\u001b[0m\u001b[0;32m      2\u001b[0m \u001b[1;31m#plt.xlim([0, 200])\u001b[0m\u001b[1;33m\u001b[0m\u001b[1;33m\u001b[0m\u001b[0m\n\u001b[0;32m      3\u001b[0m \u001b[1;31m#plt.ylim([0, 70000])\u001b[0m\u001b[1;33m\u001b[0m\u001b[1;33m\u001b[0m\u001b[0m\n",
      "\u001b[1;31mNameError\u001b[0m: name 'results' is not defined"
     ]
    }
   ],
   "source": [
    "plt.plot(results[\"timerange\"], results[\"timecourses\"][\"ribos._free\"])\n",
    "#plt.xlim([0, 200])\n",
    "#plt.ylim([0, 70000])"
   ]
  },
  {
   "cell_type": "code",
   "execution_count": null,
   "metadata": {
    "collapsed": true
   },
   "outputs": [],
   "source": []
  }
 ],
 "metadata": {
  "kernelspec": {
   "display_name": "Python 2",
   "language": "python",
   "name": "python2"
  },
  "language_info": {
   "codemirror_mode": {
    "name": "ipython",
    "version": 2
   },
   "file_extension": ".py",
   "mimetype": "text/x-python",
   "name": "python",
   "nbconvert_exporter": "python",
   "pygments_lexer": "ipython2",
   "version": "2.7.6"
  }
 },
 "nbformat": 4,
 "nbformat_minor": 0
}
