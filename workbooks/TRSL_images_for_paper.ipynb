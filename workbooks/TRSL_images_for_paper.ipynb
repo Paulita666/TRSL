{
 "cells": [
  {
   "cell_type": "code",
   "execution_count": 1,
   "metadata": {
    "collapsed": false
   },
   "outputs": [
    {
     "data": {
      "text/plain": [
       "'\\nimport random\\nimport pandas as pd\\nfrom statsmodels.nonparametric.smoothers_lowess import lowess\\n'"
      ]
     },
     "execution_count": 1,
     "metadata": {},
     "output_type": "execute_result"
    }
   ],
   "source": [
    "import cPickle as pkl\n",
    "import numpy as np\n",
    "\n",
    "%matplotlib inline\n",
    "import matplotlib\n",
    "import matplotlib.pyplot as plt\n",
    "matplotlib.style.use('ggplot')\n",
    "\n",
    "'''\n",
    "import random\n",
    "import pandas as pd\n",
    "from statsmodels.nonparametric.smoothers_lowess import lowess\n",
    "'''"
   ]
  },
  {
   "cell_type": "code",
   "execution_count": 2,
   "metadata": {
    "collapsed": true
   },
   "outputs": [],
   "source": [
    "filepath = \"../results/updated Shah transcriptome, full exome, no decay, updated initiation rates according to Shah_20151120_2051_3600s.p\""
   ]
  },
  {
   "cell_type": "code",
   "execution_count": 3,
   "metadata": {
    "collapsed": true
   },
   "outputs": [],
   "source": [
    "results = pkl.load(open(filepath))"
   ]
  },
  {
   "cell_type": "code",
   "execution_count": 4,
   "metadata": {
    "collapsed": true
   },
   "outputs": [],
   "source": [
    "protnames = results['timecourses'].keys()\n",
    "blacklist = ['ribos._bound', 'ribos._free', 'tRNA_free', 'tRNA_bound', 'ATP', 'GTP', 'AMP', 'GDP', 'protein']\n",
    "for fragment in blacklist:\n",
    "    protnames = [name for name in protnames if fragment not in name]"
   ]
  },
  {
   "cell_type": "code",
   "execution_count": 5,
   "metadata": {
    "collapsed": false
   },
   "outputs": [
    {
     "name": "stdout",
     "output_type": "stream",
     "text": [
      "YKL060C 167.580508475\n",
      "YAL038W 141.609887006\n",
      "YJL189W 133.568361582\n",
      "YCR012W 129.352259887\n",
      "YOL086C 135.939548023\n",
      "YLR110C 124.482047516\n",
      "YLR044C 223.223163842\n",
      "YKL152C 132.904884319\n"
     ]
    }
   ],
   "source": [
    "prot_speeds = {}\n",
    "\n",
    "for prot in protnames:\n",
    "    start, stop = 599, len(results['timecourses'][prot]) - 1  # 599 to exclude the \"burn in\" phase\n",
    "    prot_speeds[prot] = (results['timecourses'][prot][stop] - results['timecourses'][prot][start]) / (1.0 * results['timerange'][stop] - results['timerange'][start])\n",
    "    if prot_speeds[prot] > 100: \n",
    "        print prot, prot_speeds[prot]"
   ]
  },
  {
   "cell_type": "code",
   "execution_count": 16,
   "metadata": {
    "collapsed": true
   },
   "outputs": [],
   "source": [
    "transcriptome_shah = pkl.load(open('../parameters/transcriptome_shah.p'))"
   ]
  },
  {
   "cell_type": "code",
   "execution_count": 17,
   "metadata": {
    "collapsed": false
   },
   "outputs": [
    {
     "name": "stdout",
     "output_type": "stream",
     "text": [
      "YJL158C 0.251702025481\n",
      "YDR461W 0.267514124294\n",
      "YDR224C 0.258764371875\n",
      "YLR388W 0.266384180791\n"
     ]
    }
   ],
   "source": [
    "prot_per_transcript_speeds = {}\n",
    "\n",
    "for prot in protnames:\n",
    "    start, stop = 599, len(results['timecourses'][prot]) - 1  # 599 to exclude the \"burn in\" phase\n",
    "    prot_per_transcript_speeds[prot] = (results['timecourses'][prot][stop] - results['timecourses'][prot][start]) / \\\n",
    "        transcriptome_shah[prot] / (1.0 * results['timerange'][stop] - results['timerange'][start])\n",
    "    if prot_per_transcript_speeds[prot] > 0.25: \n",
    "        print prot, prot_per_transcript_speeds[prot]"
   ]
  },
  {
   "cell_type": "code",
   "execution_count": 35,
   "metadata": {
    "collapsed": false
   },
   "outputs": [
    {
     "data": {
      "image/png": "[encoded data removed]",
      "text/plain": [
       "<matplotlib.figure.Figure at 0x7fe6c4646a90>"
      ]
     },
     "metadata": {},
     "output_type": "display_data"
    }
   ],
   "source": [
    "plt.rcParams['figure.figsize'] = (12, 5)\n",
    "\n",
    "fig = plt.figure()\n",
    "fig.subplots_adjust(wspace=0.3)\n",
    "\n",
    "ax = fig.add_subplot(121)\n",
    "n, bins, patches = ax.hist(prot_speeds.values(), bins = 10**np.linspace(np.log10(min(prot_speeds.values())+0.0001), \n",
    "                                                              np.log10(max(prot_speeds.values())), 25))\n",
    "ax.set_xscale(\"log\")\n",
    "ax.set_xlim([min(prot_speeds.values())+0.0001, max(prot_speeds.values())])\n",
    "ax.set_xlabel('translation speed [proteins/s]', fontsize=16)\n",
    "ax.set_ylabel('protein count', fontsize=16)\n",
    "plt.setp(ax.get_xticklabels(), fontsize=16)\n",
    "plt.setp(ax.get_yticklabels(), fontsize=16)\n",
    "\n",
    "ax = fig.add_subplot(122)\n",
    "n, bins, patches = ax.hist(prot_per_transcript_speeds.values(), bins = 10**np.linspace(np.log10(min(prot_per_transcript_speeds.values())+0.0001), \n",
    "                                                              np.log10(max(prot_per_transcript_speeds.values())), 32))\n",
    "plt.gca().set_xscale(\"log\")\n",
    "plt.gca().set_xlim([min(prot_per_transcript_speeds.values())+0.002, max(prot_per_transcript_speeds.values())])\n",
    "plt.gca().set_xlabel('translation efficiency [proteins/transcript/s]', fontsize=16)\n",
    "plt.gca().set_ylabel('protein count', fontsize=16)\n",
    "plt.setp(plt.gca().get_xticklabels(), fontsize=16)\n",
    "plt.setp(plt.gca().get_yticklabels(), fontsize=16)\n",
    "\n",
    "plt.show()"
   ]
  },
  {
   "cell_type": "code",
   "execution_count": null,
   "metadata": {
    "collapsed": true
   },
   "outputs": [],
   "source": []
  }
 ],
 "metadata": {
  "kernelspec": {
   "display_name": "Python 2",
   "language": "python",
   "name": "python2"
  },
  "language_info": {
   "codemirror_mode": {
    "name": "ipython",
    "version": 2
   },
   "file_extension": ".py",
   "mimetype": "text/x-python",
   "name": "python",
   "nbconvert_exporter": "python",
   "pygments_lexer": "ipython2",
   "version": "2.7.11+"
  }
 },
 "nbformat": 4,
 "nbformat_minor": 0
}
