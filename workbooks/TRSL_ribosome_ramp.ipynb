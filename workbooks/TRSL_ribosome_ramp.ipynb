{
 "cells": [
  {
   "cell_type": "markdown",
   "metadata": {},
   "source": [
    "### Ribosome ramp"
   ]
  },
  {
   "cell_type": "markdown",
   "metadata": {},
   "source": [
    "Improved Ribosome-Footprint and mRNA Measurements Provide Insights into Dynamics and Regulation of Yeast Translation\n",
    "\n",
    "http://www.cell.com/cell-reports/abstract/S2211-1247(16)30021-3"
   ]
  },
  {
   "cell_type": "code",
   "execution_count": 48,
   "metadata": {
    "collapsed": true
   },
   "outputs": [],
   "source": [
    "import cPickle as pkl\n",
    "import numpy as np\n",
    "import pandas as pd\n",
    "import shelve\n",
    "import matplotlib\n",
    "import matplotlib.pyplot as plt\n",
    "%matplotlib inline\n",
    "matplotlib.style.use('ggplot')"
   ]
  },
  {
   "cell_type": "code",
   "execution_count": 6,
   "metadata": {
    "collapsed": true
   },
   "outputs": [],
   "source": [
    "filepath_general = \"../results/updated Shah transcriptome, full exome, no decay, updated initiation rates according to Shah_20151120_2051_3600s.p\"\n",
    "filepath_polysomes = \"../results/ribosome_timecourses_updated Shah transcriptome, full exome, no decay, updated initiation rates according to Shah_20151120_2052.db\""
   ]
  },
  {
   "cell_type": "markdown",
   "metadata": {},
   "source": [
    "Regular results:"
   ]
  },
  {
   "cell_type": "markdown",
   "metadata": {},
   "source": [
    "Make file readable by ipython in case it was created by pypy:"
   ]
  },
  {
   "cell_type": "code",
   "execution_count": 29,
   "metadata": {
    "collapsed": true
   },
   "outputs": [],
   "source": [
    "from tempfile import mkstemp\n",
    "from shutil import move\n",
    "from os import remove, close\n",
    "\n",
    "def replace(file_path, pattern, subst):\n",
    "    #Create temp file\n",
    "    fh, abs_path = mkstemp()\n",
    "    with open(abs_path, 'w') as new_file:\n",
    "        with open(file_path) as old_file:\n",
    "            for line in old_file:\n",
    "                new_file.write(line.replace(pattern, subst))\n",
    "    close(fh)\n",
    "    #Remove original file\n",
    "    remove(file_path)\n",
    "    #Move new file\n",
    "    move(abs_path, file_path)\n",
    "    \n",
    "# replace(filepath, \"_numpypy.multiarray\", \"numpy.core.multiarray\")"
   ]
  },
  {
   "cell_type": "code",
   "execution_count": 10,
   "metadata": {
    "collapsed": false
   },
   "outputs": [],
   "source": [
    "results = pkl.load(open(filepath_general))"
   ]
  },
  {
   "cell_type": "code",
   "execution_count": 11,
   "metadata": {
    "collapsed": false
   },
   "outputs": [
    {
     "name": "stdout",
     "output_type": "stream",
     "text": [
      "['n_tRNA', 'description', 'n_ribosomes', 'timerange', 'proteome', 'transcriptome', 'duration', 'time_stamp', 'timecourses']\n"
     ]
    }
   ],
   "source": [
    "print results.keys()"
   ]
  },
  {
   "cell_type": "markdown",
   "metadata": {},
   "source": [
    "Detailed results/ribosome timecourses:"
   ]
  },
  {
   "cell_type": "code",
   "execution_count": 7,
   "metadata": {
    "collapsed": true
   },
   "outputs": [],
   "source": [
    "d = shelve.open(filepath_polysomes)"
   ]
  },
  {
   "cell_type": "markdown",
   "metadata": {},
   "source": [
    "Generate the ribosome lattice dict (for every gene the total of ribos at all positions):"
   ]
  },
  {
   "cell_type": "code",
   "execution_count": 13,
   "metadata": {
    "collapsed": true
   },
   "outputs": [],
   "source": [
    "ribo_lattice_dict = {}\n",
    "\n",
    "for mRNA in results['transcriptome']:\n",
    "    n_nucleotides = len(mRNA.sequence)\n",
    "    last_polysome = d['mRNA_'+str(mRNA.index).zfill(5)][-1]  # we look at last polysome to catch steady state\n",
    "\n",
    "    # Select only every third element (the others are zero anyway):\n",
    "    # translate the model's polysome format to lattice of ones and zeros:\n",
    "    ribos = np.array([1 if pos in last_polysome else 0 for pos in range(0, n_nucleotides, 3)])\n",
    "    \n",
    "    if mRNA.geneID in ribo_lattice_dict:  # if this gene has been encountered before\n",
    "        ribo_lattice_dict[mRNA.geneID] += ribos\n",
    "    else:                                 # if this gene is new\n",
    "        ribo_lattice_dict[mRNA.geneID] = ribos"
   ]
  },
  {
   "cell_type": "code",
   "execution_count": 14,
   "metadata": {
    "collapsed": true
   },
   "outputs": [],
   "source": [
    "avg_ribos_per_gene = {}\n",
    "\n",
    "for gene in ribo_lattice_dict:\n",
    "    avg_ribos_per_gene[gene] = np.mean(ribo_lattice_dict[gene])"
   ]
  },
  {
   "cell_type": "code",
   "execution_count": 16,
   "metadata": {
    "collapsed": false
   },
   "outputs": [
    {
     "data": {
      "text/plain": [
       "count    4475.000000\n",
       "mean        0.120880\n",
       "std         0.573657\n",
       "min         0.000000\n",
       "25%         0.007296\n",
       "50%         0.018478\n",
       "75%         0.053223\n",
       "max        12.544326\n",
       "dtype: float64"
      ]
     },
     "execution_count": 16,
     "metadata": {},
     "output_type": "execute_result"
    }
   ],
   "source": [
    "pd.Series(avg_ribos_per_gene).describe()"
   ]
  },
  {
   "cell_type": "markdown",
   "metadata": {},
   "source": [
    "Check by means of an example:"
   ]
  },
  {
   "cell_type": "code",
   "execution_count": 28,
   "metadata": {
    "collapsed": false
   },
   "outputs": [
    {
     "name": "stdout",
     "output_type": "stream",
     "text": [
      "0.0109223300971\n",
      "0.0109223300971\n",
      "0.0109223300971\n"
     ]
    }
   ],
   "source": [
    "print sum(ribo_lattice_dict['YIL140W'])*1.0/len(ribo_lattice_dict['YIL140W'])\n",
    "print avg_ribos_per_gene['YIL140W']\n",
    "print np.mean(ribo_lattice_dict['YIL140W'])"
   ]
  },
  {
   "cell_type": "markdown",
   "metadata": {},
   "source": [
    "#### Analysis of all genes (no count restriction)"
   ]
  },
  {
   "cell_type": "markdown",
   "metadata": {},
   "source": [
    "Define Weinberg's z (eq. S7):"
   ]
  },
  {
   "cell_type": "code",
   "execution_count": 32,
   "metadata": {
    "collapsed": true
   },
   "outputs": [],
   "source": [
    "z = {}\n",
    "\n",
    "for gene in ribo_lattice_dict:\n",
    "    if avg_ribos_per_gene[gene]>0:\n",
    "        z[gene] = ribo_lattice_dict[gene] / avg_ribos_per_gene[gene]"
   ]
  },
  {
   "cell_type": "markdown",
   "metadata": {},
   "source": [
    "Excess ribosome densities:"
   ]
  },
  {
   "cell_type": "code",
   "execution_count": 33,
   "metadata": {
    "collapsed": false
   },
   "outputs": [
    {
     "name": "stdout",
     "output_type": "stream",
     "text": [
      "4911\n"
     ]
    }
   ],
   "source": [
    "max_length = max([len(ribo_lattice_dict[gene]) for gene in ribo_lattice_dict])\n",
    "print max_length"
   ]
  },
  {
   "cell_type": "code",
   "execution_count": 50,
   "metadata": {
    "collapsed": false
   },
   "outputs": [],
   "source": [
    "import math\n",
    "\n",
    "excess = []\n",
    "\n",
    "for pos in range(max_length):\n",
    "    numer = sum([z[gene][pos] for gene in z if len(ribo_lattice_dict[gene]) > pos])\n",
    "    denom = sum([1.0          for gene in z if len(ribo_lattice_dict[gene]) > pos])\n",
    "    excess.append(numer / denom)"
   ]
  },
  {
   "cell_type": "code",
   "execution_count": 51,
   "metadata": {
    "collapsed": false
   },
   "outputs": [
    {
     "data": {
      "text/plain": [
       "[<matplotlib.lines.Line2D at 0x7fc5cb9dded0>]"
      ]
     },
     "execution_count": 51,
     "metadata": {},
     "output_type": "execute_result"
    },
    {
     "data": {
      "image/png": "[encoded data removed]",
      "text/plain": [
       "<matplotlib.figure.Figure at 0x7fc5be7bfc50>"
      ]
     },
     "metadata": {},
     "output_type": "display_data"
    }
   ],
   "source": [
    "plt.plot(excess)"
   ]
  },
  {
   "cell_type": "code",
   "execution_count": null,
   "metadata": {
    "collapsed": true
   },
   "outputs": [],
   "source": []
  }
 ],
 "metadata": {
  "kernelspec": {
   "display_name": "Python 2",
   "language": "python",
   "name": "python2"
  },
  "language_info": {
   "codemirror_mode": {
    "name": "ipython",
    "version": 2
   },
   "file_extension": ".py",
   "mimetype": "text/x-python",
   "name": "python",
   "nbconvert_exporter": "python",
   "pygments_lexer": "ipython2",
   "version": "2.7.6"
  }
 },
 "nbformat": 4,
 "nbformat_minor": 0
}
