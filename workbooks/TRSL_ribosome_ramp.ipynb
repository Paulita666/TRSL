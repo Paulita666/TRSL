{
 "cells": [
  {
   "cell_type": "markdown",
   "metadata": {},
   "source": [
    "### Ribosome ramp"
   ]
  },
  {
   "cell_type": "markdown",
   "metadata": {},
   "source": [
    "Improved Ribosome-Footprint and mRNA Measurements Provide Insights into Dynamics and Regulation of Yeast Translation\n",
    "\n",
    "http://www.cell.com/cell-reports/abstract/S2211-1247(16)30021-3"
   ]
  },
  {
   "cell_type": "code",
   "execution_count": 1,
   "metadata": {
    "collapsed": true
   },
   "outputs": [],
   "source": [
    "import cPickle as pkl\n",
    "import numpy as np\n",
    "import pandas as pd\n",
    "import shelve\n",
    "import matplotlib\n",
    "import matplotlib.pyplot as plt\n",
    "%matplotlib inline\n",
    "matplotlib.style.use('ggplot')"
   ]
  },
  {
   "cell_type": "code",
   "execution_count": 2,
   "metadata": {
    "collapsed": true
   },
   "outputs": [],
   "source": [
    "#filepath_general = \"../results/updated Shah transcriptome, full exome, no decay, updated initiation rates according to Shah_20151120_2051_3600s.p\"\n",
    "#filepath_polysomes = \"../results/ribosome_timecourses_updated Shah transcriptome, full exome, no decay, updated initiation rates according to Shah_20151120_2052.db\"\n",
    "\n",
    "filepath_general = \"../results/updated Shah transcriptome, full exome, no decay, updated initiation rates according to Shah_20160810_1513_1800s.p\"\n",
    "filepath_polysomes = \"../results/ribosome_timecourses_updated Shah transcriptome, full exome, no decay, updated initiation rates according to Shah_20160810_1513.db\""
   ]
  },
  {
   "cell_type": "markdown",
   "metadata": {},
   "source": [
    "Regular results:"
   ]
  },
  {
   "cell_type": "markdown",
   "metadata": {},
   "source": [
    "Make file readable by ipython in case it was created by pypy:"
   ]
  },
  {
   "cell_type": "code",
   "execution_count": 3,
   "metadata": {
    "collapsed": false
   },
   "outputs": [],
   "source": [
    "from tempfile import mkstemp\n",
    "from shutil import move\n",
    "from os import remove, close\n",
    "\n",
    "def replace(file_path, pattern, subst):\n",
    "    #Create temp file\n",
    "    fh, abs_path = mkstemp()\n",
    "    with open(abs_path, 'w') as new_file:\n",
    "        with open(file_path) as old_file:\n",
    "            for line in old_file:\n",
    "                new_file.write(line.replace(pattern, subst))\n",
    "    close(fh)\n",
    "    #Remove original file\n",
    "    remove(file_path)\n",
    "    #Move new file\n",
    "    move(abs_path, file_path)\n",
    "    \n",
    "#replace(filepath_general, \"_numpypy.multiarray\", \"numpy.core.multiarray\")"
   ]
  },
  {
   "cell_type": "code",
   "execution_count": 4,
   "metadata": {
    "collapsed": false
   },
   "outputs": [],
   "source": [
    "results = pkl.load(open(filepath_general))"
   ]
  },
  {
   "cell_type": "code",
   "execution_count": 5,
   "metadata": {
    "collapsed": false
   },
   "outputs": [
    {
     "name": "stdout",
     "output_type": "stream",
     "text": [
      "['n_tRNA', 'description', 'n_ribosomes', 'timerange', 'proteome', 'transcriptome', 'duration', 'time_stamp', 'timecourses']\n"
     ]
    }
   ],
   "source": [
    "print results.keys()"
   ]
  },
  {
   "cell_type": "markdown",
   "metadata": {},
   "source": [
    "Detailed results/ribosome timecourses:"
   ]
  },
  {
   "cell_type": "code",
   "execution_count": 6,
   "metadata": {
    "collapsed": false
   },
   "outputs": [],
   "source": [
    "d = shelve.open(filepath_polysomes)"
   ]
  },
  {
   "cell_type": "markdown",
   "metadata": {},
   "source": [
    "Generate the ribosome lattice dict (for every gene the total of ribos at all positions):"
   ]
  },
  {
   "cell_type": "code",
   "execution_count": 7,
   "metadata": {
    "collapsed": true
   },
   "outputs": [],
   "source": [
    "ribo_lattice_dict = {}\n",
    "\n",
    "for mRNA in results['transcriptome']:\n",
    "    n_nucleotides = len(mRNA.sequence)\n",
    "    last_polysome = d['mRNA_'+str(mRNA.index).zfill(5)][-1]  # we look at last polysome to catch steady state\n",
    "\n",
    "    # Select only every third element (the others are zero anyway):\n",
    "    # translate the model's polysome format to lattice of ones and zeros:\n",
    "    ribos = np.array([1 if pos in last_polysome else 0 for pos in range(0, n_nucleotides, 3)])\n",
    "    \n",
    "    if mRNA.geneID in ribo_lattice_dict:  # if this gene has been encountered before\n",
    "        ribo_lattice_dict[mRNA.geneID] += ribos\n",
    "    else:                                 # if this gene is new\n",
    "        ribo_lattice_dict[mRNA.geneID] = ribos"
   ]
  },
  {
   "cell_type": "code",
   "execution_count": 8,
   "metadata": {
    "collapsed": true
   },
   "outputs": [],
   "source": [
    "avg_ribos_per_gene = {}\n",
    "\n",
    "for gene in ribo_lattice_dict:\n",
    "    avg_ribos_per_gene[gene] = np.mean(ribo_lattice_dict[gene])"
   ]
  },
  {
   "cell_type": "code",
   "execution_count": 9,
   "metadata": {
    "collapsed": false
   },
   "outputs": [
    {
     "data": {
      "text/plain": [
       "count    4475.000000\n",
       "mean        0.124851\n",
       "std         0.626385\n",
       "min         0.000000\n",
       "25%         0.006701\n",
       "50%         0.017291\n",
       "75%         0.051025\n",
       "max        14.365248\n",
       "dtype: float64"
      ]
     },
     "execution_count": 9,
     "metadata": {},
     "output_type": "execute_result"
    }
   ],
   "source": [
    "pd.Series(avg_ribos_per_gene).describe()"
   ]
  },
  {
   "cell_type": "markdown",
   "metadata": {},
   "source": [
    "Check by means of an example:"
   ]
  },
  {
   "cell_type": "code",
   "execution_count": 10,
   "metadata": {
    "collapsed": false
   },
   "outputs": [
    {
     "name": "stdout",
     "output_type": "stream",
     "text": [
      "0.00970873786408\n",
      "0.00970873786408\n",
      "0.00970873786408\n"
     ]
    }
   ],
   "source": [
    "print sum(ribo_lattice_dict['YIL140W'])*1.0/len(ribo_lattice_dict['YIL140W'])\n",
    "print avg_ribos_per_gene['YIL140W']\n",
    "print np.mean(ribo_lattice_dict['YIL140W'])"
   ]
  },
  {
   "cell_type": "markdown",
   "metadata": {},
   "source": [
    "#### Analysis of all genes (no count restriction)"
   ]
  },
  {
   "cell_type": "markdown",
   "metadata": {},
   "source": [
    "Define Weinberg's z (eq. S7):"
   ]
  },
  {
   "cell_type": "code",
   "execution_count": 11,
   "metadata": {
    "collapsed": true
   },
   "outputs": [],
   "source": [
    "z = {}\n",
    "\n",
    "for gene in ribo_lattice_dict:\n",
    "    if avg_ribos_per_gene[gene]>0:\n",
    "        z[gene] = ribo_lattice_dict[gene] / avg_ribos_per_gene[gene]"
   ]
  },
  {
   "cell_type": "markdown",
   "metadata": {},
   "source": [
    "Test of z:"
   ]
  },
  {
   "cell_type": "code",
   "execution_count": 12,
   "metadata": {
    "collapsed": false
   },
   "outputs": [
    {
     "data": {
      "text/plain": [
       "2278366.0"
      ]
     },
     "execution_count": 12,
     "metadata": {},
     "output_type": "execute_result"
    }
   ],
   "source": [
    "sum([sum(z[gene]) for gene in z])"
   ]
  },
  {
   "cell_type": "code",
   "execution_count": 13,
   "metadata": {
    "collapsed": false
   },
   "outputs": [
    {
     "data": {
      "text/plain": [
       "6713"
      ]
     },
     "execution_count": 13,
     "metadata": {},
     "output_type": "execute_result"
    }
   ],
   "source": [
    "orf_genomic_dict = pkl.load(open(\"../parameters/orf_coding.p\"))\n",
    "len(orf_genomic_dict)"
   ]
  },
  {
   "cell_type": "code",
   "execution_count": 14,
   "metadata": {
    "collapsed": false
   },
   "outputs": [],
   "source": [
    "orf_lengths = {prot: len(orf_genomic_dict[prot]) for prot in orf_genomic_dict}"
   ]
  },
  {
   "cell_type": "markdown",
   "metadata": {},
   "source": [
    "Artificially restrict ribo_lattice_dict (for testing):"
   ]
  },
  {
   "cell_type": "code",
   "execution_count": 15,
   "metadata": {
    "collapsed": false
   },
   "outputs": [],
   "source": [
    "# ribo_lattice_dict = {key: ribo_lattice_dict[key] for key in ribo_lattice_dict if key in orf_lengths}"
   ]
  },
  {
   "cell_type": "markdown",
   "metadata": {},
   "source": [
    "Excess ribosome densities:"
   ]
  },
  {
   "cell_type": "code",
   "execution_count": 16,
   "metadata": {
    "collapsed": false
   },
   "outputs": [
    {
     "name": "stdout",
     "output_type": "stream",
     "text": [
      "4911\n"
     ]
    }
   ],
   "source": [
    "max_length = max([len(ribo_lattice_dict[gene]) for gene in ribo_lattice_dict])\n",
    "print max_length"
   ]
  },
  {
   "cell_type": "code",
   "execution_count": 17,
   "metadata": {
    "collapsed": false
   },
   "outputs": [],
   "source": [
    "import math\n",
    "\n",
    "excess = []\n",
    "\n",
    "for pos in range(max_length):\n",
    "    \n",
    "    numer = sum([z[gene][pos] for gene in z if len(ribo_lattice_dict[gene]) > pos])\n",
    "    denom = sum([1.0          for gene in z if len(ribo_lattice_dict[gene]) > pos])\n",
    "    # denom = sum([1 if len(ribo_lattice_dict[gene]) > pos else 0 for gene in z]) * 1.0 # daran liegt's nicht\n",
    "    excess.append(numer / denom)\n",
    "excess = np.array(excess)"
   ]
  },
  {
   "cell_type": "code",
   "execution_count": 18,
   "metadata": {
    "collapsed": false
   },
   "outputs": [
    {
     "name": "stdout",
     "output_type": "stream",
     "text": [
      "5433.690733\n"
     ]
    }
   ],
   "source": [
    "print sum(excess)"
   ]
  },
  {
   "cell_type": "markdown",
   "metadata": {},
   "source": [
    "Testing code from previous notebook:"
   ]
  },
  {
   "cell_type": "code",
   "execution_count": 19,
   "metadata": {
    "collapsed": false
   },
   "outputs": [],
   "source": [
    "import math\n",
    "\n",
    "e = []\n",
    "for j in range(4911):\n",
    "    numer = 0.0\n",
    "    denom = 0.0\n",
    "    for gene in z:\n",
    "        if orf_lengths[gene]/3 > j:\n",
    "            if not math.isnan(z[gene][j]):\n",
    "                numer += z[gene][j]\n",
    "                denom += 1\n",
    "        #  denom = sum([1 if orf_lengths[gene] >= j else 0 for gene in ribo_lattice_dict]) * 1.0\n",
    "    e.append(numer/denom)"
   ]
  },
  {
   "cell_type": "code",
   "execution_count": 20,
   "metadata": {
    "collapsed": false
   },
   "outputs": [
    {
     "data": {
      "text/plain": [
       "5433.690733004727"
      ]
     },
     "execution_count": 20,
     "metadata": {},
     "output_type": "execute_result"
    }
   ],
   "source": [
    "sum(e)"
   ]
  },
  {
   "cell_type": "markdown",
   "metadata": {},
   "source": [
    "Seem to have found the problem; to be continued."
   ]
  },
  {
   "cell_type": "code",
   "execution_count": 21,
   "metadata": {
    "collapsed": false
   },
   "outputs": [
    {
     "name": "stdout",
     "output_type": "stream",
     "text": [
      "1.04781186509\n"
     ]
    }
   ],
   "source": [
    "normalization = sum(excess[449:500]) / 51.0\n",
    "print normalization"
   ]
  },
  {
   "cell_type": "code",
   "execution_count": 22,
   "metadata": {
    "collapsed": true
   },
   "outputs": [],
   "source": [
    "relative_excess = excess / normalization"
   ]
  },
  {
   "cell_type": "code",
   "execution_count": 23,
   "metadata": {
    "collapsed": false
   },
   "outputs": [
    {
     "data": {
      "text/plain": [
       "<matplotlib.axes._subplots.AxesSubplot at 0x7efc89c70810>"
      ]
     },
     "execution_count": 23,
     "metadata": {},
     "output_type": "execute_result"
    },
    {
     "data": {
      "image/png": "[encoded data removed]",
      "text/plain": [
       "<matplotlib.figure.Figure at 0x7efcb853f5d0>"
      ]
     },
     "metadata": {},
     "output_type": "display_data"
    }
   ],
   "source": [
    "plt.plot(relative_excess[:500])\n",
    "plt.xlabel('codon position', fontsize=16)\n",
    "plt.ylabel('Excess ribosome density', fontsize=16)\n",
    "pd.rolling_mean(pd.Series(relative_excess[:500]), 25).plot(style='k')"
   ]
  },
  {
   "cell_type": "markdown",
   "metadata": {
    "collapsed": true
   },
   "source": [
    "### Restriction to subset of genes"
   ]
  },
  {
   "cell_type": "markdown",
   "metadata": {
    "collapsed": true
   },
   "source": [
    "We look at the distribution of ribosomes per ORF before we restrict. "
   ]
  },
  {
   "cell_type": "code",
   "execution_count": 24,
   "metadata": {
    "collapsed": false
   },
   "outputs": [],
   "source": [
    "ribo_total_dict = {gene: sum(ribo_lattice_dict[gene]) \n",
    "                   for gene in ribo_lattice_dict}"
   ]
  },
  {
   "cell_type": "code",
   "execution_count": 25,
   "metadata": {
    "collapsed": false
   },
   "outputs": [
    {
     "data": {
      "text/plain": [
       "count    4475.000000\n",
       "mean       37.403352\n",
       "std       201.084458\n",
       "min         0.000000\n",
       "25%         3.000000\n",
       "50%         8.000000\n",
       "75%        20.000000\n",
       "max      8102.000000\n",
       "dtype: float64"
      ]
     },
     "execution_count": 25,
     "metadata": {},
     "output_type": "execute_result"
    }
   ],
   "source": [
    "pd.Series(ribo_total_dict.values()).describe()"
   ]
  },
  {
   "cell_type": "code",
   "execution_count": 26,
   "metadata": {
    "collapsed": false
   },
   "outputs": [
    {
     "data": {
      "text/plain": [
       "167380.0"
      ]
     },
     "execution_count": 26,
     "metadata": {},
     "output_type": "execute_result"
    }
   ],
   "source": [
    "len(ribo_total_dict) * np.mean(ribo_total_dict.values())"
   ]
  },
  {
   "cell_type": "markdown",
   "metadata": {},
   "source": [
    "This is approximately the expected number of bound ribosomes (81% of 200000)."
   ]
  },
  {
   "cell_type": "code",
   "execution_count": 27,
   "metadata": {
    "collapsed": true
   },
   "outputs": [],
   "source": [
    "critical_count = 128"
   ]
  },
  {
   "cell_type": "markdown",
   "metadata": {},
   "source": [
    "Weinberg et al. use 128, this would yield 216 genes."
   ]
  },
  {
   "cell_type": "code",
   "execution_count": 28,
   "metadata": {
    "collapsed": false
   },
   "outputs": [
    {
     "data": {
      "text/plain": [
       "217"
      ]
     },
     "execution_count": 28,
     "metadata": {},
     "output_type": "execute_result"
    }
   ],
   "source": [
    "len([gene for gene in ribo_total_dict \n",
    "     if ribo_total_dict[gene] >= critical_count])"
   ]
  },
  {
   "cell_type": "markdown",
   "metadata": {
    "collapsed": true
   },
   "source": [
    "Filter only genes above critical count:"
   ]
  },
  {
   "cell_type": "code",
   "execution_count": 29,
   "metadata": {
    "collapsed": true
   },
   "outputs": [],
   "source": [
    "ribo_lattice_dict = {gene: ribo_lattice_dict[gene] for gene in \n",
    "                     ribo_lattice_dict if ribo_total_dict[gene] >= \n",
    "                     critical_count}"
   ]
  },
  {
   "cell_type": "code",
   "execution_count": 30,
   "metadata": {
    "collapsed": true
   },
   "outputs": [],
   "source": [
    "avg_ribos_per_gene = {}\n",
    "\n",
    "for gene in ribo_lattice_dict:\n",
    "    avg_ribos_per_gene[gene] = np.mean(ribo_lattice_dict[gene])"
   ]
  },
  {
   "cell_type": "code",
   "execution_count": 31,
   "metadata": {
    "collapsed": false
   },
   "outputs": [
    {
     "data": {
      "text/plain": [
       "count    217.000000\n",
       "mean       1.761030\n",
       "std        2.273229\n",
       "min        0.059646\n",
       "25%        0.332231\n",
       "50%        0.636943\n",
       "75%        2.719626\n",
       "max       14.365248\n",
       "dtype: float64"
      ]
     },
     "execution_count": 31,
     "metadata": {},
     "output_type": "execute_result"
    }
   ],
   "source": [
    "pd.Series(avg_ribos_per_gene.values()).describe()"
   ]
  },
  {
   "cell_type": "code",
   "execution_count": 32,
   "metadata": {
    "collapsed": true
   },
   "outputs": [],
   "source": [
    "z = {}\n",
    "\n",
    "for gene in ribo_lattice_dict:\n",
    "    if avg_ribos_per_gene[gene]>0:\n",
    "        z[gene] = ribo_lattice_dict[gene] / avg_ribos_per_gene[gene]"
   ]
  },
  {
   "cell_type": "code",
   "execution_count": 33,
   "metadata": {
    "collapsed": false
   },
   "outputs": [
    {
     "name": "stdout",
     "output_type": "stream",
     "text": [
      "2673\n"
     ]
    }
   ],
   "source": [
    "max_length = max([len(ribo_lattice_dict[gene]) for gene in ribo_lattice_dict])\n",
    "print max_length"
   ]
  },
  {
   "cell_type": "code",
   "execution_count": 34,
   "metadata": {
    "collapsed": true
   },
   "outputs": [],
   "source": [
    "import math\n",
    "\n",
    "excess = []\n",
    "\n",
    "for pos in range(max_length):\n",
    "    \n",
    "    numer = sum([z[gene][pos] for gene in z if len(ribo_lattice_dict[gene]) > pos])\n",
    "    denom = sum([1.0          for gene in z if len(ribo_lattice_dict[gene]) > pos])\n",
    "    # denom = sum([1 if len(ribo_lattice_dict[gene]) > pos else 0 for gene in z]) * 1.0 # daran liegt's nicht\n",
    "    excess.append(numer / denom)\n",
    "excess = np.array(excess)"
   ]
  },
  {
   "cell_type": "code",
   "execution_count": 35,
   "metadata": {
    "collapsed": false
   },
   "outputs": [
    {
     "name": "stdout",
     "output_type": "stream",
     "text": [
      "2574.88339298\n"
     ]
    }
   ],
   "source": [
    "print sum(excess)"
   ]
  },
  {
   "cell_type": "code",
   "execution_count": 36,
   "metadata": {
    "collapsed": false
   },
   "outputs": [
    {
     "name": "stdout",
     "output_type": "stream",
     "text": [
      "1.00500383572\n"
     ]
    }
   ],
   "source": [
    "normalization = sum(excess[449:500]) / 51.0\n",
    "print normalization"
   ]
  },
  {
   "cell_type": "code",
   "execution_count": 37,
   "metadata": {
    "collapsed": true
   },
   "outputs": [],
   "source": [
    "relative_excess = excess / normalization"
   ]
  },
  {
   "cell_type": "code",
   "execution_count": 38,
   "metadata": {
    "collapsed": false
   },
   "outputs": [
    {
     "data": {
      "text/plain": [
       "<matplotlib.axes._subplots.AxesSubplot at 0x7efc83f21950>"
      ]
     },
     "execution_count": 38,
     "metadata": {},
     "output_type": "execute_result"
    },
    {
     "data": {
      "image/png": "[encoded data removed]",
      "text/plain": [
       "<matplotlib.figure.Figure at 0x7efc843a8c50>"
      ]
     },
     "metadata": {},
     "output_type": "display_data"
    }
   ],
   "source": [
    "plt.plot(relative_excess[:500])\n",
    "plt.xlabel('codon position', fontsize=16)\n",
    "plt.ylabel('Excess ribosome density', fontsize=16)\n",
    "pd.rolling_mean(pd.Series(relative_excess[:500]), 25).plot(style='k')"
   ]
  },
  {
   "cell_type": "markdown",
   "metadata": {},
   "source": [
    "The ribosome ramp has disappeared."
   ]
  }
 ],
 "metadata": {
  "kernelspec": {
   "display_name": "Python 2",
   "language": "python",
   "name": "python2"
  },
  "language_info": {
   "codemirror_mode": {
    "name": "ipython",
    "version": 2
   },
   "file_extension": ".py",
   "mimetype": "text/x-python",
   "name": "python",
   "nbconvert_exporter": "python",
   "pygments_lexer": "ipython2",
   "version": "2.7.6"
  }
 },
 "nbformat": 4,
 "nbformat_minor": 0
}
