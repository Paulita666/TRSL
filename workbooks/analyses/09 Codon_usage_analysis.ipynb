{
 "cells": [
  {
   "cell_type": "markdown",
   "metadata": {},
   "source": [
    "## Comparison of CAI, tAI and modelled translation efficiencies"
   ]
  },
  {
   "cell_type": "markdown",
   "metadata": {},
   "source": [
    "### tRNA adaptation index (tAI)"
   ]
  },
  {
   "cell_type": "markdown",
   "metadata": {},
   "source": [
    "From https://github.com/smsaladi/tAI:"
   ]
  },
  {
   "cell_type": "code",
   "execution_count": 1,
   "metadata": {
    "collapsed": true
   },
   "outputs": [],
   "source": [
    "import tAI"
   ]
  },
  {
   "cell_type": "markdown",
   "metadata": {},
   "source": [
    "Probably for *E. coli* so handle with care:"
   ]
  },
  {
   "cell_type": "code",
   "execution_count": 2,
   "metadata": {
    "collapsed": false
   },
   "outputs": [
    {
     "data": {
      "text/html": [
       "<div>\n",
       "<style>\n",
       "    .dataframe thead tr:only-child th {\n",
       "        text-align: right;\n",
       "    }\n",
       "\n",
       "    .dataframe thead th {\n",
       "        text-align: left;\n",
       "    }\n",
       "\n",
       "    .dataframe tbody tr th {\n",
       "        vertical-align: top;\n",
       "    }\n",
       "</style>\n",
       "<table border=\"1\" class=\"dataframe\">\n",
       "  <thead>\n",
       "    <tr style=\"text-align: right;\">\n",
       "      <th></th>\n",
       "      <th>lowelab</th>\n",
       "      <th>codonR</th>\n",
       "    </tr>\n",
       "    <tr>\n",
       "      <th>codon</th>\n",
       "      <th></th>\n",
       "      <th></th>\n",
       "    </tr>\n",
       "  </thead>\n",
       "  <tbody>\n",
       "    <tr>\n",
       "      <th>TTT</th>\n",
       "      <td>0</td>\n",
       "      <td>0</td>\n",
       "    </tr>\n",
       "    <tr>\n",
       "      <th>TTC</th>\n",
       "      <td>2</td>\n",
       "      <td>2</td>\n",
       "    </tr>\n",
       "    <tr>\n",
       "      <th>TTA</th>\n",
       "      <td>1</td>\n",
       "      <td>1</td>\n",
       "    </tr>\n",
       "    <tr>\n",
       "      <th>TTG</th>\n",
       "      <td>1</td>\n",
       "      <td>1</td>\n",
       "    </tr>\n",
       "    <tr>\n",
       "      <th>TCT</th>\n",
       "      <td>0</td>\n",
       "      <td>0</td>\n",
       "    </tr>\n",
       "  </tbody>\n",
       "</table>\n",
       "</div>"
      ],
      "text/plain": [
       "       lowelab  codonR\n",
       "codon                 \n",
       "TTT          0       0\n",
       "TTC          2       2\n",
       "TTA          1       1\n",
       "TTG          1       1\n",
       "TCT          0       0"
      ]
     },
     "execution_count": 2,
     "metadata": {},
     "output_type": "execute_result"
    }
   ],
   "source": [
    "tAI.tAI.trna_table().head()"
   ]
  },
  {
   "cell_type": "markdown",
   "metadata": {},
   "source": [
    "Codon Usage from http://www.kazusa.or.jp/codon/cgi-bin/showcodon.cgi?species=4932:"
   ]
  },
  {
   "cell_type": "markdown",
   "metadata": {},
   "source": [
    "```\n",
    "Saccharomyces cerevisiae [gbpln]: 14411 CDS's (6534504 codons)\n",
    "fields: [triplet] [frequency: per thousand] ([number])\n",
    "UUU 26.1(170666)  UCU 23.5(153557)  UAU 18.8(122728)  UGU  8.1( 52903)\n",
    "UUC 18.4(120510)  UCC 14.2( 92923)  UAC 14.8( 96596)  UGC  4.8( 31095)\n",
    "UUA 26.2(170884)  UCA 18.7(122028)  UAA  1.1(  6913)  UGA  0.7(  4447)\n",
    "UUG 27.2(177573)  UCG  8.6( 55951)  UAG  0.5(  3312)  UGG 10.4( 67789)\n",
    "\n",
    "CUU 12.3( 80076)  CCU 13.5( 88263)  CAU 13.6( 89007)  CGU  6.4( 41791)\n",
    "CUC  5.4( 35545)  CCC  6.8( 44309)  CAC  7.8( 50785)  CGC  2.6( 16993)\n",
    "CUA 13.4( 87619)  CCA 18.3(119641)  CAA 27.3(178251)  CGA  3.0( 19562)\n",
    "CUG 10.5( 68494)  CCG  5.3( 34597)  CAG 12.1( 79121)  CGG  1.7( 11351)\n",
    "\n",
    "AUU 30.1(196893)  ACU 20.3(132522)  AAU 35.7(233124)  AGU 14.2( 92466)\n",
    "AUC 17.2(112176)  ACC 12.7( 83207)  AAC 24.8(162199)  AGC  9.8( 63726)\n",
    "AUA 17.8(116254)  ACA 17.8(116084)  AAA 41.9(273618)  AGA 21.3(139081)\n",
    "AUG 20.9(136805)  ACG  8.0( 52045)  AAG 30.8(201361)  AGG  9.2( 60289)\n",
    "\n",
    "GUU 22.1(144243)  GCU 21.2(138358)  GAU 37.6(245641)  GGU 23.9(156109)\n",
    "GUC 11.8( 76947)  GCC 12.6( 82357)  GAC 20.2(132048)  GGC  9.8( 63903)\n",
    "GUA 11.8( 76927)  GCA 16.2(105910)  GAA 45.6(297944)  GGA 10.9( 71216)\n",
    "GUG 10.8( 70337)  GCG  6.2( 40358)  GAG 19.2(125717)  GGG  6.0( 39359)\n",
    "```"
   ]
  },
  {
   "cell_type": "code",
   "execution_count": 3,
   "metadata": {
    "collapsed": true
   },
   "outputs": [],
   "source": [
    "tRNA_types = {\n",
    "    1: {'anticodon': 'ugc', 'abundancy': 55351},  # reverse complement the anticodon to look it up\n",
    "    2: {'anticodon': 'agc', 'abundancy': 121771},\n",
    "    3: {'anticodon': 'ucu', 'abundancy': 121771},\n",
    "    4: {'anticodon': 'ccu', 'abundancy': 11070},\n",
    "    5: {'anticodon': 'ccg', 'abundancy': 11070},\n",
    "    6: {'anticodon': 'acg', 'abundancy': 66421},\n",
    "    7: {'anticodon': 'guu', 'abundancy': 110701},\n",
    "    8: {'anticodon': 'guc', 'abundancy': 177122},\n",
    "    9: {'anticodon': 'gca', 'abundancy': 44280},\n",
    "    10: {'anticodon': 'uug', 'abundancy': 88561},\n",
    "    11: {'anticodon': 'cug', 'abundancy': 11070},\n",
    "    12: {'anticodon': 'uuc', 'abundancy': 154982},\n",
    "    13: {'anticodon': 'ucc', 'abundancy': 33210},\n",
    "    14: {'anticodon': 'ccc', 'abundancy': 22140},\n",
    "    15: {'anticodon': 'gcc', 'abundancy': 177122},\n",
    "    16: {'anticodon': 'gug', 'abundancy': 77491},\n",
    "    17: {'anticodon': 'uau', 'abundancy': 22140},\n",
    "    18: {'anticodon': 'aau', 'abundancy': 143911},\n",
    "    19: {'anticodon': 'uag', 'abundancy': 33210},\n",
    "    20: {'anticodon': 'gag', 'abundancy': 11070},\n",
    "    21: {'anticodon': 'uaa', 'abundancy': 77491},\n",
    "    22: {'anticodon': 'caa', 'abundancy': 110701},\n",
    "    23: {'anticodon': 'uuu', 'abundancy': 77491},\n",
    "    24: {'anticodon': 'cuu', 'abundancy': 154982},\n",
    "    25: {'anticodon': 'cau', 'abundancy': 55351},  # 26 does not seem to exist\n",
    "    27: {'anticodon': 'gaa', 'abundancy': 110701},\n",
    "    28: {'anticodon': 'agg', 'abundancy': 22140},\n",
    "    29: {'anticodon': 'ugg', 'abundancy': 110701},\n",
    "    30: {'anticodon': 'gcu', 'abundancy': 33210},\n",
    "    31: {'anticodon': 'uga', 'abundancy': 33210},\n",
    "    32: {'anticodon': 'aga', 'abundancy': 121771},\n",
    "    33: {'anticodon': 'cga', 'abundancy': 11070},\n",
    "    34: {'anticodon': 'ugu', 'abundancy': 44280},\n",
    "    35: {'anticodon': 'agu', 'abundancy': 121771},\n",
    "    36: {'anticodon': 'cgu', 'abundancy': 11070},\n",
    "    37: {'anticodon': 'cca', 'abundancy': 66421},\n",
    "    38: {'anticodon': 'gua', 'abundancy': 88561},\n",
    "    39: {'anticodon': 'uac', 'abundancy': 22140},\n",
    "    40: {'anticodon': 'aac', 'abundancy': 154982},\n",
    "    41: {'anticodon': 'cac', 'abundancy': 22140},\n",
    "    42: {'anticodon': '*', 'abundancy': 18000},  # termination factor\n",
    "    43: {'anticodon': 'cuc', 'abundancy': 22140}\n",
    "}"
   ]
  },
  {
   "cell_type": "code",
   "execution_count": 4,
   "metadata": {
    "collapsed": true
   },
   "outputs": [],
   "source": [
    "codon_anticodon = {\n",
    "    'uuu': 'gaa', 'ucu': 'aga', 'uau': 'gua', 'ugu': 'gca',\n",
    "    'uuc': 'gaa', 'ucc': 'aga', 'uac': 'gua', 'ugc': 'gca',\n",
    "    'uua': 'uaa', 'uca': 'uga', 'uaa': '*', 'uga': '*',  # '*'==stop\n",
    "    'uug': 'caa', 'ucg': 'cga', 'uag': '*', 'ugg': 'cca',\n",
    "    'cuu': 'gag', 'ccu': 'agg', 'cau': 'gug', 'cgu': 'acg',\n",
    "    'cuc': 'gag', 'ccc': 'agg', 'cac': 'gug', 'cgc': 'acg',\n",
    "    'cua': 'uag', 'cca': 'ugg', 'caa': 'uug', 'cga': 'acg',\n",
    "    'cug': 'uag', 'ccg': 'ugg', 'cag': 'cug', 'cgg': 'ccg',\n",
    "    'auu': 'aau', 'acu': 'agu', 'aau': 'guu', 'agu': 'gcu',\n",
    "    'auc': 'aau', 'acc': 'agu', 'aac': 'guu', 'agc': 'gcu',\n",
    "    'aua': 'uau', 'aca': 'ugu', 'aaa': 'uuu', 'aga': 'ucu',\n",
    "    'aug': 'cau', 'acg': 'cgu', 'aag': 'cuu', 'agg': 'ccu',\n",
    "    'guu': 'aac', 'gcu': 'agc', 'gau': 'guc', 'ggu': 'gcc',\n",
    "    'guc': 'aac', 'gcc': 'agc', 'gac': 'guc', 'ggc': 'gcc',\n",
    "    'gua': 'uac', 'gca': 'ugc', 'gaa': 'uuc', 'gga': 'ucc',\n",
    "    'gug': 'cac', 'gcg': 'ugc', 'gag': 'cuc', 'ggg': 'ccc'\n",
    "}"
   ]
  },
  {
   "cell_type": "markdown",
   "metadata": {},
   "source": [
    "From https://github.com/gittenberg/TRSL/blob/master/workbooks/analyses/03%20TRSL_check_observables.ipynb:"
   ]
  },
  {
   "cell_type": "code",
   "execution_count": 5,
   "metadata": {
    "collapsed": false
   },
   "outputs": [
    {
     "data": {
      "text/plain": [
       "{'*': 18000,\n",
       " 'aac': 154982,\n",
       " 'aau': 143911,\n",
       " 'acg': 66421,\n",
       " 'aga': 121771,\n",
       " 'agc': 121771,\n",
       " 'agg': 22140,\n",
       " 'agu': 121771,\n",
       " 'caa': 110701,\n",
       " 'cac': 22140,\n",
       " 'cau': 55351,\n",
       " 'cca': 66421,\n",
       " 'ccc': 22140,\n",
       " 'ccg': 11070,\n",
       " 'ccu': 11070,\n",
       " 'cga': 11070,\n",
       " 'cgu': 11070,\n",
       " 'cuc': 22140,\n",
       " 'cug': 11070,\n",
       " 'cuu': 154982,\n",
       " 'gaa': 110701,\n",
       " 'gag': 11070,\n",
       " 'gca': 44280,\n",
       " 'gcc': 177122,\n",
       " 'gcu': 33210,\n",
       " 'gua': 88561,\n",
       " 'guc': 177122,\n",
       " 'gug': 77491,\n",
       " 'guu': 110701,\n",
       " 'uaa': 77491,\n",
       " 'uac': 22140,\n",
       " 'uag': 33210,\n",
       " 'uau': 22140,\n",
       " 'ucc': 33210,\n",
       " 'ucu': 121771,\n",
       " 'uga': 33210,\n",
       " 'ugc': 55351,\n",
       " 'ugg': 110701,\n",
       " 'ugu': 44280,\n",
       " 'uuc': 154982,\n",
       " 'uug': 88561,\n",
       " 'uuu': 77491}"
      ]
     },
     "execution_count": 5,
     "metadata": {},
     "output_type": "execute_result"
    }
   ],
   "source": [
    "anticodon_tRNA_abundancy = {tRNA_types[id]['anticodon']: tRNA_types[id]['abundancy'] for id in tRNA_types}\n",
    "anticodon_tRNA_abundancy"
   ]
  },
  {
   "cell_type": "code",
   "execution_count": 6,
   "metadata": {
    "collapsed": false
   },
   "outputs": [
    {
     "data": {
      "text/plain": [
       "{'aaa': 77491,\n",
       " 'aac': 110701,\n",
       " 'aag': 154982,\n",
       " 'aau': 110701,\n",
       " 'aca': 44280,\n",
       " 'acc': 121771,\n",
       " 'acg': 11070,\n",
       " 'acu': 121771,\n",
       " 'aga': 121771,\n",
       " 'agc': 33210,\n",
       " 'agg': 11070,\n",
       " 'agu': 33210,\n",
       " 'aua': 22140,\n",
       " 'auc': 143911,\n",
       " 'aug': 55351,\n",
       " 'auu': 143911,\n",
       " 'caa': 88561,\n",
       " 'cac': 77491,\n",
       " 'cag': 11070,\n",
       " 'cau': 77491,\n",
       " 'cca': 110701,\n",
       " 'ccc': 22140,\n",
       " 'ccg': 110701,\n",
       " 'ccu': 22140,\n",
       " 'cga': 66421,\n",
       " 'cgc': 66421,\n",
       " 'cgg': 11070,\n",
       " 'cgu': 66421,\n",
       " 'cua': 33210,\n",
       " 'cuc': 11070,\n",
       " 'cug': 33210,\n",
       " 'cuu': 11070,\n",
       " 'gaa': 154982,\n",
       " 'gac': 177122,\n",
       " 'gag': 22140,\n",
       " 'gau': 177122,\n",
       " 'gca': 55351,\n",
       " 'gcc': 121771,\n",
       " 'gcg': 55351,\n",
       " 'gcu': 121771,\n",
       " 'gga': 33210,\n",
       " 'ggc': 177122,\n",
       " 'ggg': 22140,\n",
       " 'ggu': 177122,\n",
       " 'gua': 22140,\n",
       " 'guc': 154982,\n",
       " 'gug': 22140,\n",
       " 'guu': 154982,\n",
       " 'uaa': 18000,\n",
       " 'uac': 88561,\n",
       " 'uag': 18000,\n",
       " 'uau': 88561,\n",
       " 'uca': 33210,\n",
       " 'ucc': 121771,\n",
       " 'ucg': 11070,\n",
       " 'ucu': 121771,\n",
       " 'uga': 18000,\n",
       " 'ugc': 44280,\n",
       " 'ugg': 66421,\n",
       " 'ugu': 44280,\n",
       " 'uua': 77491,\n",
       " 'uuc': 110701,\n",
       " 'uug': 110701,\n",
       " 'uuu': 110701}"
      ]
     },
     "execution_count": 6,
     "metadata": {},
     "output_type": "execute_result"
    }
   ],
   "source": [
    "codon_tRNA_abundancy = {codon: anticodon_tRNA_abundancy[codon_anticodon[codon]] for codon in codon_anticodon}\n",
    "codon_tRNA_abundancy"
   ]
  },
  {
   "cell_type": "code",
   "execution_count": 7,
   "metadata": {
    "collapsed": true
   },
   "outputs": [],
   "source": [
    "nucseq = \"ATGGATACATCAAACTCTTGGTTTGATGCCTCAAAAGTACAAAGCCTAAATTTTGACCTA\\\n",
    "CAAACCAACTCTTATTACTCAAATGCTAGAGGCAGTGACCCTTCGAGTTATGCAATAGAA\\\n",
    "GGCGAATATAAAACACTAGCAACAGATGATTTAGGCAATATATTGAACCTAAACTATGGT\\\n",
    "GAAACCAACGAAGTTATAATGAATGAAATAAATGACTTAAACCTTCCGCTGGGACCACTT\\\n",
    "TCTGATGAAAAATCTGTCAAGGTTTCTACTTTCTCCGAGTTAATAGGAAATGATTGGCAA\\\n",
    "AGTATGAACTTTGACTTAGAAAATAATTCAAGAGAAGTGACTCTAAATGCAACTAGCTTG\\\n",
    "TTGAATGAAAATAGATTAAATCAAGACAGTGGTATGACTGTTTATCAAAAAACAATGAGT\\\n",
    "GATAAGCCCCACGATGAAAAGAAGATTTCCATGGCGGATAATTTATTGTCGACTATAAAC\\\n",
    "AAAAGTGAAATTAATAAAGGCTTCGATAGAAACCTCGGGGAATTACTGTTACAGCAACAA\\\n",
    "CAAGAGTTGCGCGAGCAATTGAGAGCACAACAAGAGGCTAATAAGAAGTTAGAGTTAGAA\\\n",
    "CTCAAACAAACACAATACAAGCAACAACAACTACAGGCTACCTTAGAGAACTCTGATGGT\\\n",
    "CCACAGTTTTTATCTCCCAAAAGGAAGATCTCTCCTGCTTCAGAAAATGTGGAGGATGTA\\\n",
    "TACGCAAATAGCCTTTCACCAATGATTTCCCCACCAATGTCTAATACTTCGTTCACTGGG\\\n",
    "TCACCTTCTAGGAGAAACAATAGACAAAAGTACTGCCTGCAGAGAAAAAACTCTAGTGGT\\\n",
    "ACTGTAGGACCACTATGTTTCCAGGAATTGAACGAAGGTTTCAATGACTCCCTCATTTCA\\\n",
    "CCAAAGAAAATTCGCTCGAATCCAAATGAAAACCTCAGTTCAAAAACCAAATTTATTACG\\\n",
    "CCCTTCACTCCAAAGAGTAGAGTTAGTTCAGCTACGTCCAACTCTGCTAACATTACCCCT\\\n",
    "AATAACTTAAGGTTAGATTTCAAGATTAATGTTGAAGATCAGGAAAGCGAATATTCAGAG\\\n",
    "AAACCTTTGGGCCTGGGTATTGAACTTCTTGGAAAACCAGGTCCTTCTCCTACAAAATCA\\\n",
    "GTGTCTTTAAAGAGTGCTTCTGTGGATATTATGCCTACAATTCCTGGGTCTGTAAATAAT\\\n",
    "ACTCCATCAGTCAATAAAGTATCCCTTTCCTCCAGTTATATAGACCAATATACACCAAGA\\\n",
    "GGTAAGCAGTTACACTTTAGCTCTATCAGTGAGAATGCATTGGGTATCAATGCTGCGACA\\\n",
    "CCACATCTAAAGCCGCCGAGCCAGCAAGCACGACATCGGGAAGGCGTTTTCAATGATTTA\\\n",
    "GACCCTAATGTACTTACGAAAAATACAGACAATGAAGGAGATGATAATGAGGAAAATGAG\\\n",
    "CCTGAAAGTAGATTTGTTATTTCCGAAACGCCTTCTCCCGTTCTTAAGTCACAAAGTAAG\\\n",
    "TACGAAGGAAGATCTCCTCAATTCGGCACACACATTAAGGAAATCAACACATATACCACA\\\n",
    "AATAGTCCCTCAAAAATCACAAGAAAACTCACAACACTGCCCAGAGGTTCAATCGATAAA\\\n",
    "TATGTGAAGGAAATGCCTGATAAAACATTTGAATGTTTATTTCCTGGATGTACAAAAACA\\\n",
    "TTCAAGAGAAGGTATAACATCAGATCTCATATTCAAACACATTTGGAAGATCGGCCATAT\\\n",
    "TCCTGTGATCACCCTGGATGTGATAAGGCATTTGTACGAAATCATGACTTGATAAGACAC\\\n",
    "AAAAAATCGCACCAAGAAAAGGCGTATGCATGTCCCTGTGGTAAGAAATTCAATAGAGAA\\\n",
    "GACGCTTTGGTTGTGCACAGAAGTAGAATGATTTGCAGCGGTGGTAAAAAGTATGAAAAC\\\n",
    "GTGGTAATTAAAAGGTCTCCAAGAAAAAGAGGAAGACCAAGAAAAGATGGAACTTCAAGT\\\n",
    "GTTTCTAGTAGTCCAATCAAAGAAAATATTAACAAGGATCATAATGGACAGTTGATGTTC\\\n",
    "AAGCTTGAAGATCAACTCAGAAGAGAGCGTAGTTATGATGGGAATGGAACGGGGATTATG\\\n",
    "GTTTCGCCAATGAAAACTAATCAAAGGTAA\""
   ]
  },
  {
   "cell_type": "code",
   "execution_count": 9,
   "metadata": {
    "collapsed": false
   },
   "outputs": [
    {
     "ename": "ValueError",
     "evalue": "cannot reindex from a duplicate axis",
     "output_type": "error",
     "traceback": [
      "\u001b[0;31m---------------------------------------------------------------------------\u001b[0m",
      "\u001b[0;31mValueError\u001b[0m                                Traceback (most recent call last)",
      "\u001b[0;32m<ipython-input-9-36b5b2ac0713>\u001b[0m in \u001b[0;36m<module>\u001b[0;34m()\u001b[0m\n\u001b[0;32m----> 1\u001b[0;31m \u001b[0mtAI\u001b[0m\u001b[0;34m.\u001b[0m\u001b[0mcalc_tAI\u001b[0m\u001b[0;34m(\u001b[0m\u001b[0mnucseq\u001b[0m\u001b[0;34m,\u001b[0m \u001b[0mref_trna\u001b[0m\u001b[0;34m=\u001b[0m\u001b[0mcodon_tRNA_abundancy\u001b[0m\u001b[0;34m,\u001b[0m \u001b[0mrecalc_weights\u001b[0m\u001b[0;34m=\u001b[0m\u001b[0mTrue\u001b[0m\u001b[0;34m,\u001b[0m \u001b[0momit_first\u001b[0m\u001b[0;34m=\u001b[0m\u001b[0mTrue\u001b[0m\u001b[0;34m,\u001b[0m \u001b[0mbacteria\u001b[0m\u001b[0;34m=\u001b[0m\u001b[0mFalse\u001b[0m\u001b[0;34m,\u001b[0m \u001b[0moptimized_weights\u001b[0m\u001b[0;34m=\u001b[0m\u001b[0mTrue\u001b[0m\u001b[0;34m,\u001b[0m \u001b[0mkeep_codonR_err\u001b[0m\u001b[0;34m=\u001b[0m\u001b[0mFalse\u001b[0m\u001b[0;34m,\u001b[0m \u001b[0;34m)\u001b[0m\u001b[0;34m\u001b[0m\u001b[0m\n\u001b[0m",
      "\u001b[0;32mc:\\python27\\lib\\site-packages\\tAI\\tAI.pyc\u001b[0m in \u001b[0;36mcalc_tAI\u001b[0;34m(nucseq, ref_trna, recalc_weights, omit_first, bacteria, optimized_weights, keep_codonR_err)\u001b[0m\n\u001b[1;32m    112\u001b[0m                          \u001b[0mbacteria\u001b[0m\u001b[0;34m=\u001b[0m\u001b[0mbacteria\u001b[0m\u001b[0;34m,\u001b[0m\u001b[0;34m\u001b[0m\u001b[0m\n\u001b[1;32m    113\u001b[0m                          \u001b[0moptimized_weights\u001b[0m\u001b[0;34m=\u001b[0m\u001b[0moptimized_weights\u001b[0m\u001b[0;34m,\u001b[0m\u001b[0;34m\u001b[0m\u001b[0m\n\u001b[0;32m--> 114\u001b[0;31m                          keep_codonR_err=keep_codonR_err)\n\u001b[0m\u001b[1;32m    115\u001b[0m \u001b[0;34m\u001b[0m\u001b[0m\n\u001b[1;32m    116\u001b[0m     \u001b[0mln_weights\u001b[0m \u001b[0;34m=\u001b[0m \u001b[0mtrna_table\u001b[0m\u001b[0;34m(\u001b[0m\u001b[0;34m)\u001b[0m\u001b[0;34m[\u001b[0m\u001b[0mlnweights_colname\u001b[0m\u001b[0;34m]\u001b[0m\u001b[0;34m\u001b[0m\u001b[0m\n",
      "\u001b[0;32mc:\\python27\\lib\\site-packages\\tAI\\tAI.pyc\u001b[0m in \u001b[0;36mcalc_weights\u001b[0;34m(trna_count, bacteria, optimized_weights, keep_codonR_err)\u001b[0m\n\u001b[1;32m    225\u001b[0m             \u001b[0mweights\u001b[0m\u001b[0;34m[\u001b[0m\u001b[0mcodon\u001b[0m\u001b[0;34m]\u001b[0m \u001b[0;34m=\u001b[0m \u001b[0mtrna_count\u001b[0m\u001b[0;34m[\u001b[0m\u001b[0mcodon\u001b[0m\u001b[0;34m]\u001b[0m \u001b[0;34m+\u001b[0m \u001b[0mp\u001b[0m\u001b[0;34m[\u001b[0m\u001b[0;34m'A'\u001b[0m\u001b[0;34m]\u001b[0m\u001b[0;34m*\u001b[0m\u001b[0mtrna_count\u001b[0m\u001b[0;34m[\u001b[0m\u001b[0mbase\u001b[0m\u001b[0;34m+\u001b[0m\u001b[0;34m'T'\u001b[0m\u001b[0;34m]\u001b[0m\u001b[0;34m\u001b[0m\u001b[0m\n\u001b[1;32m    226\u001b[0m         \u001b[0;32melif\u001b[0m \u001b[0mcodon\u001b[0m\u001b[0;34m[\u001b[0m\u001b[0;36m2\u001b[0m\u001b[0;34m]\u001b[0m \u001b[0;34m==\u001b[0m \u001b[0;34m'G'\u001b[0m\u001b[0;34m:\u001b[0m                \u001b[0;31m# CNN -> NNG\u001b[0m\u001b[0;34m\u001b[0m\u001b[0m\n\u001b[0;32m--> 227\u001b[0;31m             \u001b[0mweights\u001b[0m\u001b[0;34m[\u001b[0m\u001b[0mcodon\u001b[0m\u001b[0;34m]\u001b[0m \u001b[0;34m=\u001b[0m \u001b[0mtrna_count\u001b[0m\u001b[0;34m[\u001b[0m\u001b[0mcodon\u001b[0m\u001b[0;34m]\u001b[0m \u001b[0;34m+\u001b[0m \u001b[0mp\u001b[0m\u001b[0;34m[\u001b[0m\u001b[0;34m'G'\u001b[0m\u001b[0;34m]\u001b[0m\u001b[0;34m*\u001b[0m\u001b[0mtrna_count\u001b[0m\u001b[0;34m[\u001b[0m\u001b[0mbase\u001b[0m\u001b[0;34m+\u001b[0m\u001b[0;34m'A'\u001b[0m\u001b[0;34m]\u001b[0m\u001b[0;34m\u001b[0m\u001b[0m\n\u001b[0m\u001b[1;32m    228\u001b[0m         \u001b[0;32melse\u001b[0m\u001b[0;34m:\u001b[0m\u001b[0;34m\u001b[0m\u001b[0m\n\u001b[1;32m    229\u001b[0m             \u001b[0;32mraise\u001b[0m \u001b[0mValueError\u001b[0m\u001b[0;34m(\u001b[0m\u001b[0;34m'Non-standard codon or notation'\u001b[0m\u001b[0;34m)\u001b[0m\u001b[0;34m\u001b[0m\u001b[0m\n",
      "\u001b[0;32mc:\\python27\\lib\\site-packages\\pandas\\core\\series.pyc\u001b[0m in \u001b[0;36m__setitem__\u001b[0;34m(self, key, value)\u001b[0m\n\u001b[1;32m    769\u001b[0m         \u001b[0;31m# do the setitem\u001b[0m\u001b[0;34m\u001b[0m\u001b[0;34m\u001b[0m\u001b[0m\n\u001b[1;32m    770\u001b[0m         \u001b[0mcacher_needs_updating\u001b[0m \u001b[0;34m=\u001b[0m \u001b[0mself\u001b[0m\u001b[0;34m.\u001b[0m\u001b[0m_check_is_chained_assignment_possible\u001b[0m\u001b[0;34m(\u001b[0m\u001b[0;34m)\u001b[0m\u001b[0;34m\u001b[0m\u001b[0m\n\u001b[0;32m--> 771\u001b[0;31m         \u001b[0msetitem\u001b[0m\u001b[0;34m(\u001b[0m\u001b[0mkey\u001b[0m\u001b[0;34m,\u001b[0m \u001b[0mvalue\u001b[0m\u001b[0;34m)\u001b[0m\u001b[0;34m\u001b[0m\u001b[0m\n\u001b[0m\u001b[1;32m    772\u001b[0m         \u001b[0;32mif\u001b[0m \u001b[0mcacher_needs_updating\u001b[0m\u001b[0;34m:\u001b[0m\u001b[0;34m\u001b[0m\u001b[0m\n\u001b[1;32m    773\u001b[0m             \u001b[0mself\u001b[0m\u001b[0;34m.\u001b[0m\u001b[0m_maybe_update_cacher\u001b[0m\u001b[0;34m(\u001b[0m\u001b[0;34m)\u001b[0m\u001b[0;34m\u001b[0m\u001b[0m\n",
      "\u001b[0;32mc:\\python27\\lib\\site-packages\\pandas\\core\\series.pyc\u001b[0m in \u001b[0;36msetitem\u001b[0;34m(key, value)\u001b[0m\n\u001b[1;32m    745\u001b[0m                             \u001b[0;32mpass\u001b[0m\u001b[0;34m\u001b[0m\u001b[0m\n\u001b[1;32m    746\u001b[0m \u001b[0;34m\u001b[0m\u001b[0m\n\u001b[0;32m--> 747\u001b[0;31m                 \u001b[0mself\u001b[0m\u001b[0;34m.\u001b[0m\u001b[0mloc\u001b[0m\u001b[0;34m[\u001b[0m\u001b[0mkey\u001b[0m\u001b[0;34m]\u001b[0m \u001b[0;34m=\u001b[0m \u001b[0mvalue\u001b[0m\u001b[0;34m\u001b[0m\u001b[0m\n\u001b[0m\u001b[1;32m    748\u001b[0m                 \u001b[0;32mreturn\u001b[0m\u001b[0;34m\u001b[0m\u001b[0m\n\u001b[1;32m    749\u001b[0m \u001b[0;34m\u001b[0m\u001b[0m\n",
      "\u001b[0;32mc:\\python27\\lib\\site-packages\\pandas\\core\\indexing.pyc\u001b[0m in \u001b[0;36m__setitem__\u001b[0;34m(self, key, value)\u001b[0m\n\u001b[1;32m    177\u001b[0m             \u001b[0mkey\u001b[0m \u001b[0;34m=\u001b[0m \u001b[0mcom\u001b[0m\u001b[0;34m.\u001b[0m\u001b[0m_apply_if_callable\u001b[0m\u001b[0;34m(\u001b[0m\u001b[0mkey\u001b[0m\u001b[0;34m,\u001b[0m \u001b[0mself\u001b[0m\u001b[0;34m.\u001b[0m\u001b[0mobj\u001b[0m\u001b[0;34m)\u001b[0m\u001b[0;34m\u001b[0m\u001b[0m\n\u001b[1;32m    178\u001b[0m         \u001b[0mindexer\u001b[0m \u001b[0;34m=\u001b[0m \u001b[0mself\u001b[0m\u001b[0;34m.\u001b[0m\u001b[0m_get_setitem_indexer\u001b[0m\u001b[0;34m(\u001b[0m\u001b[0mkey\u001b[0m\u001b[0;34m)\u001b[0m\u001b[0;34m\u001b[0m\u001b[0m\n\u001b[0;32m--> 179\u001b[0;31m         \u001b[0mself\u001b[0m\u001b[0;34m.\u001b[0m\u001b[0m_setitem_with_indexer\u001b[0m\u001b[0;34m(\u001b[0m\u001b[0mindexer\u001b[0m\u001b[0;34m,\u001b[0m \u001b[0mvalue\u001b[0m\u001b[0;34m)\u001b[0m\u001b[0;34m\u001b[0m\u001b[0m\n\u001b[0m\u001b[1;32m    180\u001b[0m \u001b[0;34m\u001b[0m\u001b[0m\n\u001b[1;32m    181\u001b[0m     \u001b[0;32mdef\u001b[0m \u001b[0m_has_valid_type\u001b[0m\u001b[0;34m(\u001b[0m\u001b[0mself\u001b[0m\u001b[0;34m,\u001b[0m \u001b[0mk\u001b[0m\u001b[0;34m,\u001b[0m \u001b[0maxis\u001b[0m\u001b[0;34m)\u001b[0m\u001b[0;34m:\u001b[0m\u001b[0;34m\u001b[0m\u001b[0m\n",
      "\u001b[0;32mc:\\python27\\lib\\site-packages\\pandas\\core\\indexing.pyc\u001b[0m in \u001b[0;36m_setitem_with_indexer\u001b[0;34m(self, indexer, value)\u001b[0m\n\u001b[1;32m    603\u001b[0m \u001b[0;34m\u001b[0m\u001b[0m\n\u001b[1;32m    604\u001b[0m             \u001b[0;32mif\u001b[0m \u001b[0misinstance\u001b[0m\u001b[0;34m(\u001b[0m\u001b[0mvalue\u001b[0m\u001b[0;34m,\u001b[0m \u001b[0;34m(\u001b[0m\u001b[0mABCSeries\u001b[0m\u001b[0;34m,\u001b[0m \u001b[0mdict\u001b[0m\u001b[0;34m)\u001b[0m\u001b[0;34m)\u001b[0m\u001b[0;34m:\u001b[0m\u001b[0;34m\u001b[0m\u001b[0m\n\u001b[0;32m--> 605\u001b[0;31m                 \u001b[0mvalue\u001b[0m \u001b[0;34m=\u001b[0m \u001b[0mself\u001b[0m\u001b[0;34m.\u001b[0m\u001b[0m_align_series\u001b[0m\u001b[0;34m(\u001b[0m\u001b[0mindexer\u001b[0m\u001b[0;34m,\u001b[0m \u001b[0mSeries\u001b[0m\u001b[0;34m(\u001b[0m\u001b[0mvalue\u001b[0m\u001b[0;34m)\u001b[0m\u001b[0;34m)\u001b[0m\u001b[0;34m\u001b[0m\u001b[0m\n\u001b[0m\u001b[1;32m    606\u001b[0m \u001b[0;34m\u001b[0m\u001b[0m\n\u001b[1;32m    607\u001b[0m             \u001b[0;32melif\u001b[0m \u001b[0misinstance\u001b[0m\u001b[0;34m(\u001b[0m\u001b[0mvalue\u001b[0m\u001b[0;34m,\u001b[0m \u001b[0mABCDataFrame\u001b[0m\u001b[0;34m)\u001b[0m\u001b[0;34m:\u001b[0m\u001b[0;34m\u001b[0m\u001b[0m\n",
      "\u001b[0;32mc:\\python27\\lib\\site-packages\\pandas\\core\\indexing.pyc\u001b[0m in \u001b[0;36m_align_series\u001b[0;34m(self, indexer, ser, multiindex_indexer)\u001b[0m\n\u001b[1;32m    676\u001b[0m             if (sum_aligners == self.ndim and\n\u001b[1;32m    677\u001b[0m                     all([is_sequence(_) for _ in indexer])):\n\u001b[0;32m--> 678\u001b[0;31m                 \u001b[0mser\u001b[0m \u001b[0;34m=\u001b[0m \u001b[0mser\u001b[0m\u001b[0;34m.\u001b[0m\u001b[0mreindex\u001b[0m\u001b[0;34m(\u001b[0m\u001b[0mobj\u001b[0m\u001b[0;34m.\u001b[0m\u001b[0maxes\u001b[0m\u001b[0;34m[\u001b[0m\u001b[0;36m0\u001b[0m\u001b[0;34m]\u001b[0m\u001b[0;34m[\u001b[0m\u001b[0mindexer\u001b[0m\u001b[0;34m[\u001b[0m\u001b[0;36m0\u001b[0m\u001b[0;34m]\u001b[0m\u001b[0;34m]\u001b[0m\u001b[0;34m,\u001b[0m \u001b[0mcopy\u001b[0m\u001b[0;34m=\u001b[0m\u001b[0mTrue\u001b[0m\u001b[0;34m)\u001b[0m\u001b[0;34m.\u001b[0m\u001b[0m_values\u001b[0m\u001b[0;34m\u001b[0m\u001b[0m\n\u001b[0m\u001b[1;32m    679\u001b[0m \u001b[0;34m\u001b[0m\u001b[0m\n\u001b[1;32m    680\u001b[0m                 \u001b[0;31m# single indexer\u001b[0m\u001b[0;34m\u001b[0m\u001b[0;34m\u001b[0m\u001b[0m\n",
      "\u001b[0;32mc:\\python27\\lib\\site-packages\\pandas\\core\\series.pyc\u001b[0m in \u001b[0;36mreindex\u001b[0;34m(self, index, **kwargs)\u001b[0m\n\u001b[1;32m   2424\u001b[0m     \u001b[0;34m@\u001b[0m\u001b[0mAppender\u001b[0m\u001b[0;34m(\u001b[0m\u001b[0mgeneric\u001b[0m\u001b[0;34m.\u001b[0m\u001b[0m_shared_docs\u001b[0m\u001b[0;34m[\u001b[0m\u001b[0;34m'reindex'\u001b[0m\u001b[0;34m]\u001b[0m \u001b[0;34m%\u001b[0m \u001b[0m_shared_doc_kwargs\u001b[0m\u001b[0;34m)\u001b[0m\u001b[0;34m\u001b[0m\u001b[0m\n\u001b[1;32m   2425\u001b[0m     \u001b[0;32mdef\u001b[0m \u001b[0mreindex\u001b[0m\u001b[0;34m(\u001b[0m\u001b[0mself\u001b[0m\u001b[0;34m,\u001b[0m \u001b[0mindex\u001b[0m\u001b[0;34m=\u001b[0m\u001b[0mNone\u001b[0m\u001b[0;34m,\u001b[0m \u001b[0;34m**\u001b[0m\u001b[0mkwargs\u001b[0m\u001b[0;34m)\u001b[0m\u001b[0;34m:\u001b[0m\u001b[0;34m\u001b[0m\u001b[0m\n\u001b[0;32m-> 2426\u001b[0;31m         \u001b[0;32mreturn\u001b[0m \u001b[0msuper\u001b[0m\u001b[0;34m(\u001b[0m\u001b[0mSeries\u001b[0m\u001b[0;34m,\u001b[0m \u001b[0mself\u001b[0m\u001b[0;34m)\u001b[0m\u001b[0;34m.\u001b[0m\u001b[0mreindex\u001b[0m\u001b[0;34m(\u001b[0m\u001b[0mindex\u001b[0m\u001b[0;34m=\u001b[0m\u001b[0mindex\u001b[0m\u001b[0;34m,\u001b[0m \u001b[0;34m**\u001b[0m\u001b[0mkwargs\u001b[0m\u001b[0;34m)\u001b[0m\u001b[0;34m\u001b[0m\u001b[0m\n\u001b[0m\u001b[1;32m   2427\u001b[0m \u001b[0;34m\u001b[0m\u001b[0m\n\u001b[1;32m   2428\u001b[0m     \u001b[0;34m@\u001b[0m\u001b[0mAppender\u001b[0m\u001b[0;34m(\u001b[0m\u001b[0mgeneric\u001b[0m\u001b[0;34m.\u001b[0m\u001b[0m_shared_docs\u001b[0m\u001b[0;34m[\u001b[0m\u001b[0;34m'fillna'\u001b[0m\u001b[0;34m]\u001b[0m \u001b[0;34m%\u001b[0m \u001b[0m_shared_doc_kwargs\u001b[0m\u001b[0;34m)\u001b[0m\u001b[0;34m\u001b[0m\u001b[0m\n",
      "\u001b[0;32mc:\\python27\\lib\\site-packages\\pandas\\core\\generic.pyc\u001b[0m in \u001b[0;36mreindex\u001b[0;34m(self, *args, **kwargs)\u001b[0m\n\u001b[1;32m   2513\u001b[0m         \u001b[0;31m# perform the reindex on the axes\u001b[0m\u001b[0;34m\u001b[0m\u001b[0;34m\u001b[0m\u001b[0m\n\u001b[1;32m   2514\u001b[0m         return self._reindex_axes(axes, level, limit, tolerance, method,\n\u001b[0;32m-> 2515\u001b[0;31m                                   fill_value, copy).__finalize__(self)\n\u001b[0m\u001b[1;32m   2516\u001b[0m \u001b[0;34m\u001b[0m\u001b[0m\n\u001b[1;32m   2517\u001b[0m     def _reindex_axes(self, axes, level, limit, tolerance, method, fill_value,\n",
      "\u001b[0;32mc:\\python27\\lib\\site-packages\\pandas\\core\\generic.pyc\u001b[0m in \u001b[0;36m_reindex_axes\u001b[0;34m(self, axes, level, limit, tolerance, method, fill_value, copy)\u001b[0m\n\u001b[1;32m   2531\u001b[0m             obj = obj._reindex_with_indexers({axis: [new_index, indexer]},\n\u001b[1;32m   2532\u001b[0m                                              \u001b[0mfill_value\u001b[0m\u001b[0;34m=\u001b[0m\u001b[0mfill_value\u001b[0m\u001b[0;34m,\u001b[0m\u001b[0;34m\u001b[0m\u001b[0m\n\u001b[0;32m-> 2533\u001b[0;31m                                              copy=copy, allow_dups=False)\n\u001b[0m\u001b[1;32m   2534\u001b[0m \u001b[0;34m\u001b[0m\u001b[0m\n\u001b[1;32m   2535\u001b[0m         \u001b[0;32mreturn\u001b[0m \u001b[0mobj\u001b[0m\u001b[0;34m\u001b[0m\u001b[0m\n",
      "\u001b[0;32mc:\\python27\\lib\\site-packages\\pandas\\core\\generic.pyc\u001b[0m in \u001b[0;36m_reindex_with_indexers\u001b[0;34m(self, reindexers, fill_value, copy, allow_dups)\u001b[0m\n\u001b[1;32m   2625\u001b[0m                                                 \u001b[0mfill_value\u001b[0m\u001b[0;34m=\u001b[0m\u001b[0mfill_value\u001b[0m\u001b[0;34m,\u001b[0m\u001b[0;34m\u001b[0m\u001b[0m\n\u001b[1;32m   2626\u001b[0m                                                 \u001b[0mallow_dups\u001b[0m\u001b[0;34m=\u001b[0m\u001b[0mallow_dups\u001b[0m\u001b[0;34m,\u001b[0m\u001b[0;34m\u001b[0m\u001b[0m\n\u001b[0;32m-> 2627\u001b[0;31m                                                 copy=copy)\n\u001b[0m\u001b[1;32m   2628\u001b[0m \u001b[0;34m\u001b[0m\u001b[0m\n\u001b[1;32m   2629\u001b[0m         \u001b[0;32mif\u001b[0m \u001b[0mcopy\u001b[0m \u001b[0;32mand\u001b[0m \u001b[0mnew_data\u001b[0m \u001b[0;32mis\u001b[0m \u001b[0mself\u001b[0m\u001b[0;34m.\u001b[0m\u001b[0m_data\u001b[0m\u001b[0;34m:\u001b[0m\u001b[0;34m\u001b[0m\u001b[0m\n",
      "\u001b[0;32mc:\\python27\\lib\\site-packages\\pandas\\core\\internals.pyc\u001b[0m in \u001b[0;36mreindex_indexer\u001b[0;34m(self, new_axis, indexer, axis, fill_value, allow_dups, copy)\u001b[0m\n\u001b[1;32m   3884\u001b[0m         \u001b[0;31m# some axes don't allow reindexing with dups\u001b[0m\u001b[0;34m\u001b[0m\u001b[0;34m\u001b[0m\u001b[0m\n\u001b[1;32m   3885\u001b[0m         \u001b[0;32mif\u001b[0m \u001b[0;32mnot\u001b[0m \u001b[0mallow_dups\u001b[0m\u001b[0;34m:\u001b[0m\u001b[0;34m\u001b[0m\u001b[0m\n\u001b[0;32m-> 3886\u001b[0;31m             \u001b[0mself\u001b[0m\u001b[0;34m.\u001b[0m\u001b[0maxes\u001b[0m\u001b[0;34m[\u001b[0m\u001b[0maxis\u001b[0m\u001b[0;34m]\u001b[0m\u001b[0;34m.\u001b[0m\u001b[0m_can_reindex\u001b[0m\u001b[0;34m(\u001b[0m\u001b[0mindexer\u001b[0m\u001b[0;34m)\u001b[0m\u001b[0;34m\u001b[0m\u001b[0m\n\u001b[0m\u001b[1;32m   3887\u001b[0m \u001b[0;34m\u001b[0m\u001b[0m\n\u001b[1;32m   3888\u001b[0m         \u001b[0;32mif\u001b[0m \u001b[0maxis\u001b[0m \u001b[0;34m>=\u001b[0m \u001b[0mself\u001b[0m\u001b[0;34m.\u001b[0m\u001b[0mndim\u001b[0m\u001b[0;34m:\u001b[0m\u001b[0;34m\u001b[0m\u001b[0m\n",
      "\u001b[0;32mc:\\python27\\lib\\site-packages\\pandas\\core\\indexes\\base.pyc\u001b[0m in \u001b[0;36m_can_reindex\u001b[0;34m(self, indexer)\u001b[0m\n\u001b[1;32m   2834\u001b[0m         \u001b[0;31m# trying to reindex on an axis with duplicates\u001b[0m\u001b[0;34m\u001b[0m\u001b[0;34m\u001b[0m\u001b[0m\n\u001b[1;32m   2835\u001b[0m         \u001b[0;32mif\u001b[0m \u001b[0;32mnot\u001b[0m \u001b[0mself\u001b[0m\u001b[0;34m.\u001b[0m\u001b[0mis_unique\u001b[0m \u001b[0;32mand\u001b[0m \u001b[0mlen\u001b[0m\u001b[0;34m(\u001b[0m\u001b[0mindexer\u001b[0m\u001b[0;34m)\u001b[0m\u001b[0;34m:\u001b[0m\u001b[0;34m\u001b[0m\u001b[0m\n\u001b[0;32m-> 2836\u001b[0;31m             \u001b[0;32mraise\u001b[0m \u001b[0mValueError\u001b[0m\u001b[0;34m(\u001b[0m\u001b[0;34m\"cannot reindex from a duplicate axis\"\u001b[0m\u001b[0;34m)\u001b[0m\u001b[0;34m\u001b[0m\u001b[0m\n\u001b[0m\u001b[1;32m   2837\u001b[0m \u001b[0;34m\u001b[0m\u001b[0m\n\u001b[1;32m   2838\u001b[0m     def reindex(self, target, method=None, level=None, limit=None,\n",
      "\u001b[0;31mValueError\u001b[0m: cannot reindex from a duplicate axis"
     ]
    }
   ],
   "source": [
    "tAI.calc_tAI(nucseq, ref_trna=codon_tRNA_abundancy, recalc_weights=True, omit_first=True, bacteria=False, optimized_weights=True, keep_codonR_err=False, )"
   ]
  },
  {
   "cell_type": "code",
   "execution_count": null,
   "metadata": {
    "collapsed": true
   },
   "outputs": [],
   "source": []
  },
  {
   "cell_type": "markdown",
   "metadata": {},
   "source": [
    "### Codon Adaptation Index (CAI)"
   ]
  },
  {
   "cell_type": "markdown",
   "metadata": {},
   "source": [
    "This is the tRNA independent version."
   ]
  },
  {
   "cell_type": "markdown",
   "metadata": {},
   "source": [
    "TODO: improve on https://github.com/gittenberg/TRSL/blob/master/workbooks/analyses/04%20TRSL_analysis_by_CAI.ipynb"
   ]
  },
  {
   "cell_type": "code",
   "execution_count": null,
   "metadata": {
    "collapsed": true
   },
   "outputs": [],
   "source": []
  },
  {
   "cell_type": "code",
   "execution_count": null,
   "metadata": {
    "collapsed": true
   },
   "outputs": [],
   "source": []
  }
 ],
 "metadata": {
  "kernelspec": {
   "display_name": "Python 2",
   "language": "python",
   "name": "python2"
  },
  "language_info": {
   "codemirror_mode": {
    "name": "ipython",
    "version": 2
   },
   "file_extension": ".py",
   "mimetype": "text/x-python",
   "name": "python",
   "nbconvert_exporter": "python",
   "pygments_lexer": "ipython2",
   "version": "2.7.11"
  }
 },
 "nbformat": 4,
 "nbformat_minor": 2
}
