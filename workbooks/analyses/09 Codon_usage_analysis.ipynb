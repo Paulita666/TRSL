{
 "cells": [
  {
   "cell_type": "markdown",
   "metadata": {},
   "source": [
    "## Comparison of CAI, tAI and modelled translation efficiencies"
   ]
  },
  {
   "cell_type": "markdown",
   "metadata": {},
   "source": [
    "### tRNA adaptation index (tAI)"
   ]
  },
  {
   "cell_type": "markdown",
   "metadata": {},
   "source": [
    "From https://github.com/smsaladi/tAI:"
   ]
  },
  {
   "cell_type": "code",
   "execution_count": 1,
   "metadata": {},
   "outputs": [],
   "source": [
    "import tAI"
   ]
  },
  {
   "cell_type": "markdown",
   "metadata": {},
   "source": [
    "Probably for *E. coli* so handle with care:"
   ]
  },
  {
   "cell_type": "code",
   "execution_count": 2,
   "metadata": {},
   "outputs": [
    {
     "data": {
      "text/html": [
       "<div>\n",
       "<style>\n",
       "    .dataframe thead tr:only-child th {\n",
       "        text-align: right;\n",
       "    }\n",
       "\n",
       "    .dataframe thead th {\n",
       "        text-align: left;\n",
       "    }\n",
       "\n",
       "    .dataframe tbody tr th {\n",
       "        vertical-align: top;\n",
       "    }\n",
       "</style>\n",
       "<table border=\"1\" class=\"dataframe\">\n",
       "  <thead>\n",
       "    <tr style=\"text-align: right;\">\n",
       "      <th></th>\n",
       "      <th>lowelab</th>\n",
       "      <th>codonR</th>\n",
       "    </tr>\n",
       "    <tr>\n",
       "      <th>codon</th>\n",
       "      <th></th>\n",
       "      <th></th>\n",
       "    </tr>\n",
       "  </thead>\n",
       "  <tbody>\n",
       "    <tr>\n",
       "      <th>TTT</th>\n",
       "      <td>0</td>\n",
       "      <td>0</td>\n",
       "    </tr>\n",
       "    <tr>\n",
       "      <th>TTC</th>\n",
       "      <td>2</td>\n",
       "      <td>2</td>\n",
       "    </tr>\n",
       "    <tr>\n",
       "      <th>TTA</th>\n",
       "      <td>1</td>\n",
       "      <td>1</td>\n",
       "    </tr>\n",
       "    <tr>\n",
       "      <th>TTG</th>\n",
       "      <td>1</td>\n",
       "      <td>1</td>\n",
       "    </tr>\n",
       "    <tr>\n",
       "      <th>TCT</th>\n",
       "      <td>0</td>\n",
       "      <td>0</td>\n",
       "    </tr>\n",
       "  </tbody>\n",
       "</table>\n",
       "</div>"
      ],
      "text/plain": [
       "       lowelab  codonR\n",
       "codon                 \n",
       "TTT          0       0\n",
       "TTC          2       2\n",
       "TTA          1       1\n",
       "TTG          1       1\n",
       "TCT          0       0"
      ]
     },
     "execution_count": 2,
     "metadata": {},
     "output_type": "execute_result"
    }
   ],
   "source": [
    "tAI.tAI.trna_table().head()"
   ]
  },
  {
   "cell_type": "markdown",
   "metadata": {},
   "source": [
    "Codon Usage from http://www.kazusa.or.jp/codon/cgi-bin/showcodon.cgi?species=4932:"
   ]
  },
  {
   "cell_type": "markdown",
   "metadata": {},
   "source": [
    "```\n",
    "Saccharomyces cerevisiae [gbpln]: 14411 CDS's (6534504 codons)\n",
    "fields: [triplet] [frequency: per thousand] ([number])\n",
    "UUU 26.1(170666)  UCU 23.5(153557)  UAU 18.8(122728)  UGU  8.1( 52903)\n",
    "UUC 18.4(120510)  UCC 14.2( 92923)  UAC 14.8( 96596)  UGC  4.8( 31095)\n",
    "UUA 26.2(170884)  UCA 18.7(122028)  UAA  1.1(  6913)  UGA  0.7(  4447)\n",
    "UUG 27.2(177573)  UCG  8.6( 55951)  UAG  0.5(  3312)  UGG 10.4( 67789)\n",
    "\n",
    "CUU 12.3( 80076)  CCU 13.5( 88263)  CAU 13.6( 89007)  CGU  6.4( 41791)\n",
    "CUC  5.4( 35545)  CCC  6.8( 44309)  CAC  7.8( 50785)  CGC  2.6( 16993)\n",
    "CUA 13.4( 87619)  CCA 18.3(119641)  CAA 27.3(178251)  CGA  3.0( 19562)\n",
    "CUG 10.5( 68494)  CCG  5.3( 34597)  CAG 12.1( 79121)  CGG  1.7( 11351)\n",
    "\n",
    "AUU 30.1(196893)  ACU 20.3(132522)  AAU 35.7(233124)  AGU 14.2( 92466)\n",
    "AUC 17.2(112176)  ACC 12.7( 83207)  AAC 24.8(162199)  AGC  9.8( 63726)\n",
    "AUA 17.8(116254)  ACA 17.8(116084)  AAA 41.9(273618)  AGA 21.3(139081)\n",
    "AUG 20.9(136805)  ACG  8.0( 52045)  AAG 30.8(201361)  AGG  9.2( 60289)\n",
    "\n",
    "GUU 22.1(144243)  GCU 21.2(138358)  GAU 37.6(245641)  GGU 23.9(156109)\n",
    "GUC 11.8( 76947)  GCC 12.6( 82357)  GAC 20.2(132048)  GGC  9.8( 63903)\n",
    "GUA 11.8( 76927)  GCA 16.2(105910)  GAA 45.6(297944)  GGA 10.9( 71216)\n",
    "GUG 10.8( 70337)  GCG  6.2( 40358)  GAG 19.2(125717)  GGG  6.0( 39359)\n",
    "```"
   ]
  },
  {
   "cell_type": "code",
   "execution_count": 3,
   "metadata": {},
   "outputs": [],
   "source": [
    "tRNA_types = {\n",
    "    1: {'anticodon': 'ugc', 'abundancy': 55351},  # reverse complement the anticodon to look it up\n",
    "    2: {'anticodon': 'agc', 'abundancy': 121771},\n",
    "    3: {'anticodon': 'ucu', 'abundancy': 121771},\n",
    "    4: {'anticodon': 'ccu', 'abundancy': 11070},\n",
    "    5: {'anticodon': 'ccg', 'abundancy': 11070},\n",
    "    6: {'anticodon': 'acg', 'abundancy': 66421},\n",
    "    7: {'anticodon': 'guu', 'abundancy': 110701},\n",
    "    8: {'anticodon': 'guc', 'abundancy': 177122},\n",
    "    9: {'anticodon': 'gca', 'abundancy': 44280},\n",
    "    10: {'anticodon': 'uug', 'abundancy': 88561},\n",
    "    11: {'anticodon': 'cug', 'abundancy': 11070},\n",
    "    12: {'anticodon': 'uuc', 'abundancy': 154982},\n",
    "    13: {'anticodon': 'ucc', 'abundancy': 33210},\n",
    "    14: {'anticodon': 'ccc', 'abundancy': 22140},\n",
    "    15: {'anticodon': 'gcc', 'abundancy': 177122},\n",
    "    16: {'anticodon': 'gug', 'abundancy': 77491},\n",
    "    17: {'anticodon': 'uau', 'abundancy': 22140},\n",
    "    18: {'anticodon': 'aau', 'abundancy': 143911},\n",
    "    19: {'anticodon': 'uag', 'abundancy': 33210},\n",
    "    20: {'anticodon': 'gag', 'abundancy': 11070},\n",
    "    21: {'anticodon': 'uaa', 'abundancy': 77491},\n",
    "    22: {'anticodon': 'caa', 'abundancy': 110701},\n",
    "    23: {'anticodon': 'uuu', 'abundancy': 77491},\n",
    "    24: {'anticodon': 'cuu', 'abundancy': 154982},\n",
    "    25: {'anticodon': 'cau', 'abundancy': 55351},  # 26 does not seem to exist\n",
    "    27: {'anticodon': 'gaa', 'abundancy': 110701},\n",
    "    28: {'anticodon': 'agg', 'abundancy': 22140},\n",
    "    29: {'anticodon': 'ugg', 'abundancy': 110701},\n",
    "    30: {'anticodon': 'gcu', 'abundancy': 33210},\n",
    "    31: {'anticodon': 'uga', 'abundancy': 33210},\n",
    "    32: {'anticodon': 'aga', 'abundancy': 121771},\n",
    "    33: {'anticodon': 'cga', 'abundancy': 11070},\n",
    "    34: {'anticodon': 'ugu', 'abundancy': 44280},\n",
    "    35: {'anticodon': 'agu', 'abundancy': 121771},\n",
    "    36: {'anticodon': 'cgu', 'abundancy': 11070},\n",
    "    37: {'anticodon': 'cca', 'abundancy': 66421},\n",
    "    38: {'anticodon': 'gua', 'abundancy': 88561},\n",
    "    39: {'anticodon': 'uac', 'abundancy': 22140},\n",
    "    40: {'anticodon': 'aac', 'abundancy': 154982},\n",
    "    41: {'anticodon': 'cac', 'abundancy': 22140},\n",
    "    42: {'anticodon': '*', 'abundancy': 18000},  # termination factor\n",
    "    43: {'anticodon': 'cuc', 'abundancy': 22140}\n",
    "}"
   ]
  },
  {
   "cell_type": "code",
   "execution_count": 4,
   "metadata": {},
   "outputs": [],
   "source": [
    "codon_anticodon = {\n",
    "    'uuu': 'gaa', 'ucu': 'aga', 'uau': 'gua', 'ugu': 'gca',\n",
    "    'uuc': 'gaa', 'ucc': 'aga', 'uac': 'gua', 'ugc': 'gca',\n",
    "    'uua': 'uaa', 'uca': 'uga', 'uaa': '*', 'uga': '*',  # '*'==stop\n",
    "    'uug': 'caa', 'ucg': 'cga', 'uag': '*', 'ugg': 'cca',\n",
    "    'cuu': 'gag', 'ccu': 'agg', 'cau': 'gug', 'cgu': 'acg',\n",
    "    'cuc': 'gag', 'ccc': 'agg', 'cac': 'gug', 'cgc': 'acg',\n",
    "    'cua': 'uag', 'cca': 'ugg', 'caa': 'uug', 'cga': 'acg',\n",
    "    'cug': 'uag', 'ccg': 'ugg', 'cag': 'cug', 'cgg': 'ccg',\n",
    "    'auu': 'aau', 'acu': 'agu', 'aau': 'guu', 'agu': 'gcu',\n",
    "    'auc': 'aau', 'acc': 'agu', 'aac': 'guu', 'agc': 'gcu',\n",
    "    'aua': 'uau', 'aca': 'ugu', 'aaa': 'uuu', 'aga': 'ucu',\n",
    "    'aug': 'cau', 'acg': 'cgu', 'aag': 'cuu', 'agg': 'ccu',\n",
    "    'guu': 'aac', 'gcu': 'agc', 'gau': 'guc', 'ggu': 'gcc',\n",
    "    'guc': 'aac', 'gcc': 'agc', 'gac': 'guc', 'ggc': 'gcc',\n",
    "    'gua': 'uac', 'gca': 'ugc', 'gaa': 'uuc', 'gga': 'ucc',\n",
    "    'gug': 'cac', 'gcg': 'ugc', 'gag': 'cuc', 'ggg': 'ccc'\n",
    "}"
   ]
  },
  {
   "cell_type": "markdown",
   "metadata": {},
   "source": [
    "From https://github.com/gittenberg/TRSL/blob/master/workbooks/analyses/03%20TRSL_check_observables.ipynb:"
   ]
  },
  {
   "cell_type": "code",
   "execution_count": 5,
   "metadata": {},
   "outputs": [],
   "source": [
    "anticodon_tRNA_abundancy = {tRNA_types[id]['anticodon']: tRNA_types[id]['abundancy'] for id in tRNA_types}"
   ]
  },
  {
   "cell_type": "code",
   "execution_count": 6,
   "metadata": {},
   "outputs": [
    {
     "data": {
      "text/plain": [
       "{'aaa': 77491,\n",
       " 'aac': 110701,\n",
       " 'aag': 154982,\n",
       " 'aau': 110701,\n",
       " 'aca': 44280,\n",
       " 'acc': 121771,\n",
       " 'acg': 11070,\n",
       " 'acu': 121771,\n",
       " 'aga': 121771,\n",
       " 'agc': 33210,\n",
       " 'agg': 11070,\n",
       " 'agu': 33210,\n",
       " 'aua': 22140,\n",
       " 'auc': 143911,\n",
       " 'aug': 55351,\n",
       " 'auu': 143911,\n",
       " 'caa': 88561,\n",
       " 'cac': 77491,\n",
       " 'cag': 11070,\n",
       " 'cau': 77491,\n",
       " 'cca': 110701,\n",
       " 'ccc': 22140,\n",
       " 'ccg': 110701,\n",
       " 'ccu': 22140,\n",
       " 'cga': 66421,\n",
       " 'cgc': 66421,\n",
       " 'cgg': 11070,\n",
       " 'cgu': 66421,\n",
       " 'cua': 33210,\n",
       " 'cuc': 11070,\n",
       " 'cug': 33210,\n",
       " 'cuu': 11070,\n",
       " 'gaa': 154982,\n",
       " 'gac': 177122,\n",
       " 'gag': 22140,\n",
       " 'gau': 177122,\n",
       " 'gca': 55351,\n",
       " 'gcc': 121771,\n",
       " 'gcg': 55351,\n",
       " 'gcu': 121771,\n",
       " 'gga': 33210,\n",
       " 'ggc': 177122,\n",
       " 'ggg': 22140,\n",
       " 'ggu': 177122,\n",
       " 'gua': 22140,\n",
       " 'guc': 154982,\n",
       " 'gug': 22140,\n",
       " 'guu': 154982,\n",
       " 'uaa': 18000,\n",
       " 'uac': 88561,\n",
       " 'uag': 18000,\n",
       " 'uau': 88561,\n",
       " 'uca': 33210,\n",
       " 'ucc': 121771,\n",
       " 'ucg': 11070,\n",
       " 'ucu': 121771,\n",
       " 'uga': 18000,\n",
       " 'ugc': 44280,\n",
       " 'ugg': 66421,\n",
       " 'ugu': 44280,\n",
       " 'uua': 77491,\n",
       " 'uuc': 110701,\n",
       " 'uug': 110701,\n",
       " 'uuu': 110701}"
      ]
     },
     "execution_count": 6,
     "metadata": {},
     "output_type": "execute_result"
    }
   ],
   "source": [
    "codon_tRNA_abundancy = {codon: anticodon_tRNA_abundancy[codon_anticodon[codon]] for codon in codon_anticodon}\n",
    "codon_tRNA_abundancy"
   ]
  },
  {
   "cell_type": "markdown",
   "metadata": {},
   "source": [
    "Delete stop codons:"
   ]
  },
  {
   "cell_type": "code",
   "execution_count": 7,
   "metadata": {},
   "outputs": [],
   "source": [
    "del codon_tRNA_abundancy['uaa']\n",
    "del codon_tRNA_abundancy['uga']\n",
    "del codon_tRNA_abundancy['uag']"
   ]
  },
  {
   "cell_type": "markdown",
   "metadata": {},
   "source": [
    "Test case (SWI5, YDR146C):"
   ]
  },
  {
   "cell_type": "code",
   "execution_count": 8,
   "metadata": {},
   "outputs": [],
   "source": [
    "nucseq = \"ATGGATACATCAAACTCTTGGTTTGATGCCTCAAAAGTACAAAGCCTAAATTTTGACCTA\\\n",
    "CAAACCAACTCTTATTACTCAAATGCTAGAGGCAGTGACCCTTCGAGTTATGCAATAGAA\\\n",
    "GGCGAATATAAAACACTAGCAACAGATGATTTAGGCAATATATTGAACCTAAACTATGGT\\\n",
    "GAAACCAACGAAGTTATAATGAATGAAATAAATGACTTAAACCTTCCGCTGGGACCACTT\\\n",
    "TCTGATGAAAAATCTGTCAAGGTTTCTACTTTCTCCGAGTTAATAGGAAATGATTGGCAA\\\n",
    "AGTATGAACTTTGACTTAGAAAATAATTCAAGAGAAGTGACTCTAAATGCAACTAGCTTG\\\n",
    "TTGAATGAAAATAGATTAAATCAAGACAGTGGTATGACTGTTTATCAAAAAACAATGAGT\\\n",
    "GATAAGCCCCACGATGAAAAGAAGATTTCCATGGCGGATAATTTATTGTCGACTATAAAC\\\n",
    "AAAAGTGAAATTAATAAAGGCTTCGATAGAAACCTCGGGGAATTACTGTTACAGCAACAA\\\n",
    "CAAGAGTTGCGCGAGCAATTGAGAGCACAACAAGAGGCTAATAAGAAGTTAGAGTTAGAA\\\n",
    "CTCAAACAAACACAATACAAGCAACAACAACTACAGGCTACCTTAGAGAACTCTGATGGT\\\n",
    "CCACAGTTTTTATCTCCCAAAAGGAAGATCTCTCCTGCTTCAGAAAATGTGGAGGATGTA\\\n",
    "TACGCAAATAGCCTTTCACCAATGATTTCCCCACCAATGTCTAATACTTCGTTCACTGGG\\\n",
    "TCACCTTCTAGGAGAAACAATAGACAAAAGTACTGCCTGCAGAGAAAAAACTCTAGTGGT\\\n",
    "ACTGTAGGACCACTATGTTTCCAGGAATTGAACGAAGGTTTCAATGACTCCCTCATTTCA\\\n",
    "CCAAAGAAAATTCGCTCGAATCCAAATGAAAACCTCAGTTCAAAAACCAAATTTATTACG\\\n",
    "CCCTTCACTCCAAAGAGTAGAGTTAGTTCAGCTACGTCCAACTCTGCTAACATTACCCCT\\\n",
    "AATAACTTAAGGTTAGATTTCAAGATTAATGTTGAAGATCAGGAAAGCGAATATTCAGAG\\\n",
    "AAACCTTTGGGCCTGGGTATTGAACTTCTTGGAAAACCAGGTCCTTCTCCTACAAAATCA\\\n",
    "GTGTCTTTAAAGAGTGCTTCTGTGGATATTATGCCTACAATTCCTGGGTCTGTAAATAAT\\\n",
    "ACTCCATCAGTCAATAAAGTATCCCTTTCCTCCAGTTATATAGACCAATATACACCAAGA\\\n",
    "GGTAAGCAGTTACACTTTAGCTCTATCAGTGAGAATGCATTGGGTATCAATGCTGCGACA\\\n",
    "CCACATCTAAAGCCGCCGAGCCAGCAAGCACGACATCGGGAAGGCGTTTTCAATGATTTA\\\n",
    "GACCCTAATGTACTTACGAAAAATACAGACAATGAAGGAGATGATAATGAGGAAAATGAG\\\n",
    "CCTGAAAGTAGATTTGTTATTTCCGAAACGCCTTCTCCCGTTCTTAAGTCACAAAGTAAG\\\n",
    "TACGAAGGAAGATCTCCTCAATTCGGCACACACATTAAGGAAATCAACACATATACCACA\\\n",
    "AATAGTCCCTCAAAAATCACAAGAAAACTCACAACACTGCCCAGAGGTTCAATCGATAAA\\\n",
    "TATGTGAAGGAAATGCCTGATAAAACATTTGAATGTTTATTTCCTGGATGTACAAAAACA\\\n",
    "TTCAAGAGAAGGTATAACATCAGATCTCATATTCAAACACATTTGGAAGATCGGCCATAT\\\n",
    "TCCTGTGATCACCCTGGATGTGATAAGGCATTTGTACGAAATCATGACTTGATAAGACAC\\\n",
    "AAAAAATCGCACCAAGAAAAGGCGTATGCATGTCCCTGTGGTAAGAAATTCAATAGAGAA\\\n",
    "GACGCTTTGGTTGTGCACAGAAGTAGAATGATTTGCAGCGGTGGTAAAAAGTATGAAAAC\\\n",
    "GTGGTAATTAAAAGGTCTCCAAGAAAAAGAGGAAGACCAAGAAAAGATGGAACTTCAAGT\\\n",
    "GTTTCTAGTAGTCCAATCAAAGAAAATATTAACAAGGATCATAATGGACAGTTGATGTTC\\\n",
    "AAGCTTGAAGATCAACTCAGAAGAGAGCGTAGTTATGATGGGAATGGAACGGGGATTATG\\\n",
    "GTTTCGCCAATGAAAACTAATCAAAGGTAA\""
   ]
  },
  {
   "cell_type": "code",
   "execution_count": 9,
   "metadata": {},
   "outputs": [
    {
     "data": {
      "text/plain": [
       "0.28820590352954201"
      ]
     },
     "execution_count": 9,
     "metadata": {},
     "output_type": "execute_result"
    }
   ],
   "source": [
    "tAI.calc_tAI(nucseq, ref_trna=codon_tRNA_abundancy, recalc_weights=True, omit_first=True, bacteria=False, \n",
    "             optimized_weights=True, keep_codonR_err=True, )"
   ]
  },
  {
   "cell_type": "markdown",
   "metadata": {},
   "source": [
    "Import tAIs from R:"
   ]
  },
  {
   "cell_type": "code",
   "execution_count": 10,
   "metadata": {},
   "outputs": [],
   "source": [
    "with open('/home/martin/git/TRSL/workbooks/analyses/tAI_misc/yeast.json','r') as inf:\n",
    "    tai_dict = eval(inf.read())"
   ]
  },
  {
   "cell_type": "code",
   "execution_count": 12,
   "metadata": {},
   "outputs": [
    {
     "data": {
      "text/plain": [
       "0.33496"
      ]
     },
     "execution_count": 12,
     "metadata": {},
     "output_type": "execute_result"
    }
   ],
   "source": [
    "tai_dict['YDR146C']"
   ]
  },
  {
   "cell_type": "code",
   "execution_count": null,
   "metadata": {},
   "outputs": [],
   "source": []
  },
  {
   "cell_type": "code",
   "execution_count": null,
   "metadata": {},
   "outputs": [],
   "source": []
  },
  {
   "cell_type": "code",
   "execution_count": null,
   "metadata": {},
   "outputs": [],
   "source": []
  },
  {
   "cell_type": "code",
   "execution_count": null,
   "metadata": {},
   "outputs": [],
   "source": []
  },
  {
   "cell_type": "code",
   "execution_count": null,
   "metadata": {},
   "outputs": [],
   "source": []
  },
  {
   "cell_type": "code",
   "execution_count": null,
   "metadata": {},
   "outputs": [],
   "source": []
  },
  {
   "cell_type": "markdown",
   "metadata": {},
   "source": [
    "### Codon Adaptation Index (CAI)"
   ]
  },
  {
   "cell_type": "markdown",
   "metadata": {},
   "source": [
    "This is the tRNA independent version."
   ]
  },
  {
   "cell_type": "markdown",
   "metadata": {},
   "source": [
    "TODO: improve on https://github.com/gittenberg/TRSL/blob/master/workbooks/analyses/04%20TRSL_analysis_by_CAI.ipynb"
   ]
  },
  {
   "cell_type": "code",
   "execution_count": null,
   "metadata": {},
   "outputs": [],
   "source": []
  },
  {
   "cell_type": "code",
   "execution_count": null,
   "metadata": {},
   "outputs": [],
   "source": []
  }
 ],
 "metadata": {
  "kernelspec": {
   "display_name": "Python 2",
   "language": "python",
   "name": "python2"
  },
  "language_info": {
   "codemirror_mode": {
    "name": "ipython",
    "version": 2
   },
   "file_extension": ".py",
   "mimetype": "text/x-python",
   "name": "python",
   "nbconvert_exporter": "python",
   "pygments_lexer": "ipython2",
   "version": "2.7.12"
  }
 },
 "nbformat": 4,
 "nbformat_minor": 2
}
