{
 "cells": [
  {
   "cell_type": "code",
   "execution_count": 1,
   "metadata": {
    "collapsed": true
   },
   "outputs": [],
   "source": [
    "import scipy"
   ]
  },
  {
   "cell_type": "code",
   "execution_count": 2,
   "metadata": {
    "collapsed": false
   },
   "outputs": [
    {
     "data": {
      "text/plain": [
       "'0.19.1'"
      ]
     },
     "execution_count": 2,
     "metadata": {},
     "output_type": "execute_result"
    }
   ],
   "source": [
    "scipy.__version__"
   ]
  },
  {
   "cell_type": "code",
   "execution_count": 3,
   "metadata": {
    "collapsed": true
   },
   "outputs": [],
   "source": [
    "import numpy"
   ]
  },
  {
   "cell_type": "code",
   "execution_count": 4,
   "metadata": {
    "collapsed": false
   },
   "outputs": [
    {
     "data": {
      "text/plain": [
       "'1.13.3'"
      ]
     },
     "execution_count": 4,
     "metadata": {},
     "output_type": "execute_result"
    }
   ],
   "source": [
    "numpy.__version__"
   ]
  },
  {
   "cell_type": "code",
   "execution_count": 5,
   "metadata": {
    "collapsed": false
   },
   "outputs": [
    {
     "name": "stdout",
     "output_type": "stream",
     "text": [
      "lapack_opt_info:\n",
      "    libraries = ['mkl_lapack95', 'mkl_blas95', 'mkl_intel_c', 'mkl_intel_thread', 'mkl_core', 'libiomp5md', 'libifportmd']\n",
      "    library_dirs = ['C:/Program Files (x86)/Intel/Composer XE/mkl/lib/ia32']\n",
      "    define_macros = [('SCIPY_MKL_H', None), ('HAVE_CBLAS', None)]\n",
      "    include_dirs = ['C:/Program Files (x86)/Intel/Composer XE/mkl/include']\n",
      "blas_opt_info:\n",
      "    libraries = ['mkl_lapack95', 'mkl_blas95', 'mkl_intel_c', 'mkl_intel_thread', 'mkl_core', 'libiomp5md', 'libifportmd']\n",
      "    library_dirs = ['C:/Program Files (x86)/Intel/Composer XE/mkl/lib/ia32']\n",
      "    define_macros = [('SCIPY_MKL_H', None), ('HAVE_CBLAS', None)]\n",
      "    include_dirs = ['C:/Program Files (x86)/Intel/Composer XE/mkl/include']\n",
      "lapack_mkl_info:\n",
      "    libraries = ['mkl_lapack95', 'mkl_blas95', 'mkl_intel_c', 'mkl_intel_thread', 'mkl_core', 'libiomp5md', 'libifportmd']\n",
      "    library_dirs = ['C:/Program Files (x86)/Intel/Composer XE/mkl/lib/ia32']\n",
      "    define_macros = [('SCIPY_MKL_H', None), ('HAVE_CBLAS', None)]\n",
      "    include_dirs = ['C:/Program Files (x86)/Intel/Composer XE/mkl/include']\n",
      "blas_mkl_info:\n",
      "    libraries = ['mkl_lapack95', 'mkl_blas95', 'mkl_intel_c', 'mkl_intel_thread', 'mkl_core', 'libiomp5md', 'libifportmd']\n",
      "    library_dirs = ['C:/Program Files (x86)/Intel/Composer XE/mkl/lib/ia32']\n",
      "    define_macros = [('SCIPY_MKL_H', None), ('HAVE_CBLAS', None)]\n",
      "    include_dirs = ['C:/Program Files (x86)/Intel/Composer XE/mkl/include']\n"
     ]
    }
   ],
   "source": [
    "numpy.show_config()"
   ]
  },
  {
   "cell_type": "code",
   "execution_count": 12,
   "metadata": {
    "collapsed": false
   },
   "outputs": [],
   "source": [
    "import Bio.SeqIO"
   ]
  },
  {
   "cell_type": "code",
   "execution_count": 7,
   "metadata": {
    "collapsed": false
   },
   "outputs": [],
   "source": [
    "import tAI"
   ]
  },
  {
   "cell_type": "code",
   "execution_count": 13,
   "metadata": {
    "collapsed": true
   },
   "outputs": [],
   "source": [
    "filename = r\"C:\\Users\\mjs\\git\\TRSL\\workbooks\\analyses\\tAI-master\\test\\data\\sacCer3-tRNAs.fa\""
   ]
  },
  {
   "cell_type": "code",
   "execution_count": 14,
   "metadata": {
    "collapsed": false
   },
   "outputs": [],
   "source": [
    "with open(filename, 'r+') as fh:\n",
    "    seq_records = list(Bio.SeqIO.parse(fh, \"fasta\"))"
   ]
  },
  {
   "cell_type": "code",
   "execution_count": 17,
   "metadata": {
    "collapsed": false
   },
   "outputs": [],
   "source": [
    "my_tai = tAI.tAI.from_named_reference('codonR')"
   ]
  },
  {
   "cell_type": "code",
   "execution_count": 24,
   "metadata": {
    "collapsed": false
   },
   "outputs": [
    {
     "ename": "KeyError",
     "evalue": "'AAT'",
     "output_type": "error",
     "traceback": [
      "\u001b[1;31m---------------------------------------------------------------------------\u001b[0m",
      "\u001b[1;31mKeyError\u001b[0m                                  Traceback (most recent call last)",
      "\u001b[1;32m<ipython-input-24-4616b8a8377b>\u001b[0m in \u001b[0;36m<module>\u001b[1;34m()\u001b[0m\n\u001b[1;32m----> 1\u001b[1;33m \u001b[0mmy_tai\u001b[0m \u001b[1;33m=\u001b[0m \u001b[0mtAI\u001b[0m\u001b[1;33m.\u001b[0m\u001b[0mtAI\u001b[0m\u001b[1;33m.\u001b[0m\u001b[0mfrom_gtRNAdb\u001b[0m\u001b[1;33m(\u001b[0m\u001b[1;34mr\"C:\\Users\\mjs\\git\\TRSL\\workbooks\\analyses\\tAI-master\\test\\data\\sacCer3-tRNAs.bed\"\u001b[0m\u001b[1;33m)\u001b[0m\u001b[1;33m\u001b[0m\u001b[0m\n\u001b[0m",
      "\u001b[1;32mC:\\Users\\mjs\\git\\TRSL\\workbooks\\analyses\\tAI-master\\tAI\\tAI.pyc\u001b[0m in \u001b[0;36mfrom_gtRNAdb\u001b[1;34m(cls, bed_filename, discard_undetermined, discard_iMet, **kwargs)\u001b[0m\n\u001b[0;32m    197\u001b[0m                        .str[::-1])\n\u001b[0;32m    198\u001b[0m \u001b[1;33m\u001b[0m\u001b[0m\n\u001b[1;32m--> 199\u001b[1;33m         \u001b[1;32mreturn\u001b[0m \u001b[0mcls\u001b[0m\u001b[1;33m(\u001b[0m\u001b[0mseries_revcomp\u001b[0m\u001b[1;33m(\u001b[0m\u001b[0mdf\u001b[0m\u001b[1;33m[\u001b[0m\u001b[1;34m'anti'\u001b[0m\u001b[1;33m]\u001b[0m\u001b[1;33m)\u001b[0m\u001b[1;33m.\u001b[0m\u001b[0mvalue_counts\u001b[0m\u001b[1;33m(\u001b[0m\u001b[0msort\u001b[0m\u001b[1;33m=\u001b[0m\u001b[0mFalse\u001b[0m\u001b[1;33m)\u001b[0m\u001b[1;33m,\u001b[0m \u001b[1;33m**\u001b[0m\u001b[0mkwargs\u001b[0m\u001b[1;33m)\u001b[0m\u001b[1;33m\u001b[0m\u001b[0m\n\u001b[0m\u001b[0;32m    200\u001b[0m \u001b[1;33m\u001b[0m\u001b[0m\n\u001b[0;32m    201\u001b[0m \u001b[1;33m\u001b[0m\u001b[0m\n",
      "\u001b[1;32mC:\\Users\\mjs\\git\\TRSL\\workbooks\\analyses\\tAI-master\\tAI\\tAI.pyc\u001b[0m in \u001b[0;36m__init__\u001b[1;34m(self, trna_count, bacteria, optimized_weights, keep_codonR_err)\u001b[0m\n\u001b[0;32m     49\u001b[0m         \"\"\"\n\u001b[0;32m     50\u001b[0m \u001b[1;33m\u001b[0m\u001b[0m\n\u001b[1;32m---> 51\u001b[1;33m         \u001b[0mself\u001b[0m\u001b[1;33m.\u001b[0m\u001b[0mweights\u001b[0m \u001b[1;33m=\u001b[0m \u001b[0mself\u001b[0m\u001b[1;33m.\u001b[0m\u001b[0m_weights_from_codons\u001b[0m\u001b[1;33m(\u001b[0m\u001b[0mtrna_count\u001b[0m\u001b[1;33m,\u001b[0m \u001b[0mbacteria\u001b[0m\u001b[1;33m,\u001b[0m \u001b[0moptimized_weights\u001b[0m\u001b[1;33m,\u001b[0m \u001b[0mkeep_codonR_err\u001b[0m\u001b[1;33m)\u001b[0m\u001b[1;33m\u001b[0m\u001b[0m\n\u001b[0m\u001b[0;32m     52\u001b[0m         \u001b[1;32mreturn\u001b[0m\u001b[1;33m\u001b[0m\u001b[0m\n\u001b[0;32m     53\u001b[0m \u001b[1;33m\u001b[0m\u001b[0m\n",
      "\u001b[1;32mC:\\Users\\mjs\\git\\TRSL\\workbooks\\analyses\\tAI-master\\tAI\\tAI.pyc\u001b[0m in \u001b[0;36m_weights_from_codons\u001b[1;34m(trna_count, bacteria, optimized_weights, keep_codonR_err)\u001b[0m\n\u001b[0;32m    108\u001b[0m                 \u001b[0mweights\u001b[0m\u001b[1;33m[\u001b[0m\u001b[0mcodon\u001b[0m\u001b[1;33m]\u001b[0m \u001b[1;33m=\u001b[0m \u001b[0mtrna_count\u001b[0m\u001b[1;33m[\u001b[0m\u001b[0mcodon\u001b[0m\u001b[1;33m]\u001b[0m \u001b[1;33m+\u001b[0m \u001b[0mp\u001b[0m\u001b[1;33m[\u001b[0m\u001b[1;34m'C'\u001b[0m\u001b[1;33m]\u001b[0m\u001b[1;33m*\u001b[0m\u001b[0mtrna_count\u001b[0m\u001b[1;33m[\u001b[0m\u001b[0mbase\u001b[0m\u001b[1;33m+\u001b[0m\u001b[1;34m'T'\u001b[0m\u001b[1;33m]\u001b[0m\u001b[1;33m\u001b[0m\u001b[0m\n\u001b[0;32m    109\u001b[0m             \u001b[1;32melif\u001b[0m \u001b[0mcodon\u001b[0m\u001b[1;33m[\u001b[0m\u001b[1;36m2\u001b[0m\u001b[1;33m]\u001b[0m \u001b[1;33m==\u001b[0m \u001b[1;34m'A'\u001b[0m\u001b[1;33m:\u001b[0m                \u001b[1;31m# TNN -> NNA, NNG\u001b[0m\u001b[1;33m\u001b[0m\u001b[0m\n\u001b[1;32m--> 110\u001b[1;33m                 \u001b[0mweights\u001b[0m\u001b[1;33m[\u001b[0m\u001b[0mcodon\u001b[0m\u001b[1;33m]\u001b[0m \u001b[1;33m=\u001b[0m \u001b[0mtrna_count\u001b[0m\u001b[1;33m[\u001b[0m\u001b[0mcodon\u001b[0m\u001b[1;33m]\u001b[0m \u001b[1;33m+\u001b[0m \u001b[0mp\u001b[0m\u001b[1;33m[\u001b[0m\u001b[1;34m'A'\u001b[0m\u001b[1;33m]\u001b[0m\u001b[1;33m*\u001b[0m\u001b[0mtrna_count\u001b[0m\u001b[1;33m[\u001b[0m\u001b[0mbase\u001b[0m\u001b[1;33m+\u001b[0m\u001b[1;34m'T'\u001b[0m\u001b[1;33m]\u001b[0m\u001b[1;33m\u001b[0m\u001b[0m\n\u001b[0m\u001b[0;32m    111\u001b[0m             \u001b[1;32melif\u001b[0m \u001b[0mcodon\u001b[0m\u001b[1;33m[\u001b[0m\u001b[1;36m2\u001b[0m\u001b[1;33m]\u001b[0m \u001b[1;33m==\u001b[0m \u001b[1;34m'G'\u001b[0m\u001b[1;33m:\u001b[0m                \u001b[1;31m# CNN -> NNG\u001b[0m\u001b[1;33m\u001b[0m\u001b[0m\n\u001b[0;32m    112\u001b[0m                 \u001b[0mweights\u001b[0m\u001b[1;33m[\u001b[0m\u001b[0mcodon\u001b[0m\u001b[1;33m]\u001b[0m \u001b[1;33m=\u001b[0m \u001b[0mtrna_count\u001b[0m\u001b[1;33m[\u001b[0m\u001b[0mcodon\u001b[0m\u001b[1;33m]\u001b[0m \u001b[1;33m+\u001b[0m \u001b[0mp\u001b[0m\u001b[1;33m[\u001b[0m\u001b[1;34m'G'\u001b[0m\u001b[1;33m]\u001b[0m\u001b[1;33m*\u001b[0m\u001b[0mtrna_count\u001b[0m\u001b[1;33m[\u001b[0m\u001b[0mbase\u001b[0m\u001b[1;33m+\u001b[0m\u001b[1;34m'A'\u001b[0m\u001b[1;33m]\u001b[0m\u001b[1;33m\u001b[0m\u001b[0m\n",
      "\u001b[1;32mc:\\python27\\lib\\site-packages\\pandas\\core\\series.pyc\u001b[0m in \u001b[0;36m__getitem__\u001b[1;34m(self, key)\u001b[0m\n\u001b[0;32m    599\u001b[0m         \u001b[0mkey\u001b[0m \u001b[1;33m=\u001b[0m \u001b[0mcom\u001b[0m\u001b[1;33m.\u001b[0m\u001b[0m_apply_if_callable\u001b[0m\u001b[1;33m(\u001b[0m\u001b[0mkey\u001b[0m\u001b[1;33m,\u001b[0m \u001b[0mself\u001b[0m\u001b[1;33m)\u001b[0m\u001b[1;33m\u001b[0m\u001b[0m\n\u001b[0;32m    600\u001b[0m         \u001b[1;32mtry\u001b[0m\u001b[1;33m:\u001b[0m\u001b[1;33m\u001b[0m\u001b[0m\n\u001b[1;32m--> 601\u001b[1;33m             \u001b[0mresult\u001b[0m \u001b[1;33m=\u001b[0m \u001b[0mself\u001b[0m\u001b[1;33m.\u001b[0m\u001b[0mindex\u001b[0m\u001b[1;33m.\u001b[0m\u001b[0mget_value\u001b[0m\u001b[1;33m(\u001b[0m\u001b[0mself\u001b[0m\u001b[1;33m,\u001b[0m \u001b[0mkey\u001b[0m\u001b[1;33m)\u001b[0m\u001b[1;33m\u001b[0m\u001b[0m\n\u001b[0m\u001b[0;32m    602\u001b[0m \u001b[1;33m\u001b[0m\u001b[0m\n\u001b[0;32m    603\u001b[0m             \u001b[1;32mif\u001b[0m \u001b[1;32mnot\u001b[0m \u001b[0mis_scalar\u001b[0m\u001b[1;33m(\u001b[0m\u001b[0mresult\u001b[0m\u001b[1;33m)\u001b[0m\u001b[1;33m:\u001b[0m\u001b[1;33m\u001b[0m\u001b[0m\n",
      "\u001b[1;32mc:\\python27\\lib\\site-packages\\pandas\\core\\indexes\\base.pyc\u001b[0m in \u001b[0;36mget_value\u001b[1;34m(self, series, key)\u001b[0m\n\u001b[0;32m   2489\u001b[0m                     \u001b[1;32mraise\u001b[0m \u001b[0mInvalidIndexError\u001b[0m\u001b[1;33m(\u001b[0m\u001b[0mkey\u001b[0m\u001b[1;33m)\u001b[0m\u001b[1;33m\u001b[0m\u001b[0m\n\u001b[0;32m   2490\u001b[0m                 \u001b[1;32melse\u001b[0m\u001b[1;33m:\u001b[0m\u001b[1;33m\u001b[0m\u001b[0m\n\u001b[1;32m-> 2491\u001b[1;33m                     \u001b[1;32mraise\u001b[0m \u001b[0me1\u001b[0m\u001b[1;33m\u001b[0m\u001b[0m\n\u001b[0m\u001b[0;32m   2492\u001b[0m             \u001b[1;32mexcept\u001b[0m \u001b[0mException\u001b[0m\u001b[1;33m:\u001b[0m  \u001b[1;31m# pragma: no cover\u001b[0m\u001b[1;33m\u001b[0m\u001b[0m\n\u001b[0;32m   2493\u001b[0m                 \u001b[1;32mraise\u001b[0m \u001b[0me1\u001b[0m\u001b[1;33m\u001b[0m\u001b[0m\n",
      "\u001b[1;31mKeyError\u001b[0m: 'AAT'"
     ]
    }
   ],
   "source": [
    "my_tai = tAI.tAI.from_gtRNAdb(r\"C:\\Users\\mjs\\git\\TRSL\\workbooks\\analyses\\tAI-master\\test\\data\\sacCer3-tRNAs.bed\")"
   ]
  },
  {
   "cell_type": "code",
   "execution_count": 19,
   "metadata": {
    "collapsed": false
   },
   "outputs": [
    {
     "ename": "NotImplementedError",
     "evalue": "Batch calculation is not implemented yet, please pass sequences as individual strings",
     "output_type": "error",
     "traceback": [
      "\u001b[1;31m---------------------------------------------------------------------------\u001b[0m",
      "\u001b[1;31mNotImplementedError\u001b[0m                       Traceback (most recent call last)",
      "\u001b[1;32m<ipython-input-19-be216242baaf>\u001b[0m in \u001b[0;36m<module>\u001b[1;34m()\u001b[0m\n\u001b[1;32m----> 1\u001b[1;33m \u001b[1;32mprint\u001b[0m\u001b[1;33m(\u001b[0m\u001b[0mmy_tai\u001b[0m\u001b[1;33m.\u001b[0m\u001b[0mcalc\u001b[0m\u001b[1;33m(\u001b[0m\u001b[1;33m[\u001b[0m\u001b[0mstr\u001b[0m\u001b[1;33m(\u001b[0m\u001b[0mr\u001b[0m\u001b[1;33m.\u001b[0m\u001b[0mseq\u001b[0m\u001b[1;33m)\u001b[0m \u001b[1;32mfor\u001b[0m \u001b[0mr\u001b[0m \u001b[1;32min\u001b[0m \u001b[0mseq_records\u001b[0m\u001b[1;33m]\u001b[0m\u001b[1;33m)\u001b[0m\u001b[1;33m)\u001b[0m\u001b[1;33m\u001b[0m\u001b[0m\n\u001b[0m",
      "\u001b[1;32mC:\\Users\\mjs\\git\\TRSL\\workbooks\\analyses\\tAI-master\\tAI\\tAI.pyc\u001b[0m in \u001b[0;36mcalc\u001b[1;34m(self, seqdata, omit_first)\u001b[0m\n\u001b[0;32m    278\u001b[0m             \u001b[1;32mreturn\u001b[0m \u001b[0mself\u001b[0m\u001b[1;33m.\u001b[0m\u001b[0m_calc_str\u001b[0m\u001b[1;33m(\u001b[0m\u001b[0mseqdata\u001b[0m\u001b[1;33m,\u001b[0m \u001b[0momit_first\u001b[0m\u001b[1;33m)\u001b[0m\u001b[1;33m\u001b[0m\u001b[0m\n\u001b[0;32m    279\u001b[0m         \u001b[1;32melif\u001b[0m \u001b[0misinstance\u001b[0m\u001b[1;33m(\u001b[0m\u001b[0mseqdata\u001b[0m\u001b[1;33m,\u001b[0m \u001b[0mlist\u001b[0m\u001b[1;33m)\u001b[0m\u001b[1;33m:\u001b[0m\u001b[1;33m\u001b[0m\u001b[0m\n\u001b[1;32m--> 280\u001b[1;33m             \u001b[1;32mreturn\u001b[0m \u001b[0mself\u001b[0m\u001b[1;33m.\u001b[0m\u001b[0m_calc_batch\u001b[0m\u001b[1;33m(\u001b[0m\u001b[0mseqdata\u001b[0m\u001b[1;33m,\u001b[0m \u001b[0momit_first\u001b[0m\u001b[1;33m)\u001b[0m\u001b[1;33m\u001b[0m\u001b[0m\n\u001b[0m\u001b[0;32m    281\u001b[0m         \u001b[1;32melse\u001b[0m\u001b[1;33m:\u001b[0m\u001b[1;33m\u001b[0m\u001b[0m\n\u001b[0;32m    282\u001b[0m             \u001b[1;32mraise\u001b[0m \u001b[0mValueError\u001b[0m\u001b[1;33m(\u001b[0m\u001b[0mtype\u001b[0m\u001b[1;33m(\u001b[0m\u001b[0mseqdata\u001b[0m\u001b[1;33m)\u001b[0m \u001b[1;33m+\u001b[0m \u001b[1;34m\" not recognized. Provide `str` or `list(str)`\"\u001b[0m\u001b[1;33m)\u001b[0m\u001b[1;33m\u001b[0m\u001b[0m\n",
      "\u001b[1;32mC:\\Users\\mjs\\git\\TRSL\\workbooks\\analyses\\tAI-master\\tAI\\tAI.pyc\u001b[0m in \u001b[0;36m_calc_batch\u001b[1;34m(self, seqs, omit_first)\u001b[0m\n\u001b[0;32m    320\u001b[0m         \"\"\"Method to calculate tAI scores a list of sequences\n\u001b[0;32m    321\u001b[0m         \"\"\"\n\u001b[1;32m--> 322\u001b[1;33m         raise NotImplementedError('Batch calculation is not implemented yet, please pass '\n\u001b[0m\u001b[0;32m    323\u001b[0m                                   'sequences as individual strings')\n\u001b[0;32m    324\u001b[0m         \u001b[1;32mreturn\u001b[0m\u001b[1;33m\u001b[0m\u001b[0m\n",
      "\u001b[1;31mNotImplementedError\u001b[0m: Batch calculation is not implemented yet, please pass sequences as individual strings"
     ]
    }
   ],
   "source": [
    "print(my_tai.calc([str(r.seq) for r in seq_records]))"
   ]
  },
  {
   "cell_type": "code",
   "execution_count": 21,
   "metadata": {
    "collapsed": false
   },
   "outputs": [
    {
     "name": "stdout",
     "output_type": "stream",
     "text": [
      "0.275736906791\n",
      "0.275736906791\n",
      "0.275736906791\n",
      "0.275736906791\n",
      "0.275736906791\n",
      "0.275736906791\n",
      "0.275736906791\n",
      "0.275736906791\n",
      "0.275736906791\n",
      "0.275736906791\n",
      "0.275736906791\n",
      "0.2801063375\n",
      "0.2801063375\n",
      "0.2801063375\n",
      "0.2801063375\n",
      "0.2801063375\n",
      "0.282625567746\n",
      "0.282625567746\n",
      "0.282625567746\n",
      "0.282625567746\n",
      "0.282625567746\n",
      "0.281059099789\n",
      "0.154653019749\n",
      "0.166284883119\n",
      "0.147754602437\n",
      "0.147754602437\n",
      "0.147754602437\n",
      "0.147754602437\n",
      "0.147754602437\n",
      "0.147754602437\n",
      "0.147754602437\n",
      "0.147754602437\n",
      "0.147754602437\n",
      "0.147754602437\n",
      "0.147754602437\n",
      "0.278519304552\n",
      "0.278519304552\n",
      "0.278519304552\n",
      "0.278519304552\n",
      "0.278519304552\n",
      "0.278519304552\n",
      "0.278519304552\n",
      "0.278519304552\n",
      "0.278519304552\n",
      "0.278519304552\n",
      "0.211477958136\n",
      "0.211477958136\n",
      "0.211477958136\n",
      "0.211477958136\n",
      "0.211477958136\n",
      "0.211477958136\n",
      "0.211477958136\n",
      "0.211477958136\n",
      "0.211477958136\n",
      "0.211477958136\n",
      "0.211477958136\n",
      "0.211477958136\n",
      "0.211477958136\n",
      "0.211477958136\n",
      "0.211477958136\n",
      "0.301986563556\n",
      "0.114241644319\n",
      "0.114241644319\n",
      "0.114241644319\n",
      "0.114241644319\n",
      "0.090082366961\n",
      "0.0939489206549\n",
      "0.129915339319\n",
      "0.129915339319\n",
      "0.129915339319\n",
      "0.129915339319\n",
      "0.129915339319\n",
      "0.129915339319\n",
      "0.129915339319\n",
      "0.134073705842\n",
      "0.15012617996\n",
      "0.15012617996\n",
      "0.139091051967\n",
      "0.139091051967\n",
      "0.139091051967\n",
      "0.139091051967\n",
      "0.139091051967\n",
      "0.139091051967\n",
      "0.139091051967\n",
      "0.139091051967\n",
      "0.139091051967\n",
      "0.139091051967\n",
      "0.139091051967\n",
      "0.139091051967\n",
      "0.139091051967\n",
      "0.137092187255\n",
      "0.162973490095\n",
      "0.176931398164\n",
      "0.235502737204\n",
      "0.235502737204\n",
      "0.235502737204\n",
      "0.235502737204\n",
      "0.235502737204\n",
      "0.235502737204\n",
      "0.235502737204\n",
      "0.235502737204\n",
      "0.235502737204\n",
      "0.235502737204\n",
      "0.235502737204\n",
      "0.235502737204\n",
      "0.235502737204\n",
      "0.235502737204\n",
      "0.235502737204\n",
      "0.235502737204\n",
      "0.153554230436\n",
      "0.153554230436\n",
      "0.153554230436\n",
      "0.21657183971\n",
      "0.21657183971\n",
      "0.21657183971\n",
      "0.21657183971\n",
      "0.21657183971\n",
      "0.21657183971\n",
      "0.21657183971\n",
      "0.272974466156\n",
      "0.272974466156\n",
      "0.272974466156\n",
      "0.272974466156\n",
      "0.272974466156\n",
      "0.272974466156\n",
      "0.272974466156\n",
      "0.272974466156\n",
      "0.272974466156\n",
      "0.272974466156\n",
      "0.272974466156\n",
      "0.272974466156\n",
      "0.272974466156\n",
      "0.290472120759\n",
      "0.288535266992\n",
      "0.215393179147\n",
      "0.2135274524\n",
      "0.2135274524\n",
      "0.276646344662\n",
      "0.2135274524\n",
      "0.2135274524\n",
      "0.2135274524\n",
      "0.2135274524\n",
      "0.267505804877\n",
      "0.2135274524\n",
      "0.190554081806\n",
      "0.115778464031\n",
      "0.115778464031\n",
      "0.115778464031\n",
      "0.115778464031\n",
      "0.115778464031\n",
      "0.115778464031\n",
      "0.115778464031\n",
      "0.225222770414\n",
      "0.227389296525\n",
      "0.225222770414\n",
      "0.250883909656\n",
      "0.250883909656\n",
      "0.250883909656\n",
      "0.250883909656\n",
      "0.250883909656\n",
      "0.250883909656\n",
      "0.250883909656\n",
      "0.250883909656\n",
      "0.250883909656\n",
      "0.250883909656\n",
      "0.250883909656\n",
      "0.250883909656\n",
      "0.250883909656\n",
      "0.250883909656\n",
      "0.203878974904\n",
      "0.203878974904\n",
      "0.206123745157\n",
      "0.203878974904\n",
      "0.203878974904\n",
      "0.203878974904\n",
      "0.203878974904\n",
      "0.280139016929\n",
      "0.280139016929\n",
      "0.280139016929\n",
      "0.280139016929\n",
      "0.280139016929\n",
      "0.252531144593\n",
      "0.278264686992\n",
      "0.277094913405\n",
      "0.280691593737\n",
      "0.280691593737\n",
      "0.280691593737\n",
      "0.280691593737\n",
      "0.250722196719\n",
      "0.280691593737\n",
      "0.280691593737\n",
      "0.180845661475\n",
      "0.180845661475\n",
      "0.136587824176\n",
      "0.14035079522\n",
      "0.137145178627\n",
      "0.139011347482\n",
      "0.136587824176\n",
      "0.137145178627\n",
      "0.137145178627\n",
      "0.203100426756\n",
      "0.214108798771\n",
      "0.217882964798\n",
      "0.189433840967\n",
      "0.189433840967\n",
      "0.189433840967\n",
      "0.189433840967\n",
      "0.189433840967\n",
      "0.189433840967\n",
      "0.189433840967\n",
      "0.189433840967\n",
      "0.189433840967\n",
      "0.189433840967\n",
      "0.191066150967\n",
      "0.1425557165\n",
      "0.223075755087\n",
      "0.223075755087\n",
      "0.194206457877\n",
      "0.194206457877\n",
      "0.194206457877\n",
      "0.271189006603\n",
      "0.271189006603\n",
      "0.271189006603\n",
      "0.271189006603\n",
      "0.271189006603\n",
      "0.271189006603\n",
      "0.271189006603\n",
      "0.271189006603\n",
      "0.271189006603\n",
      "0.271189006603\n",
      "0.271189006603\n",
      "0.274327866882\n",
      "0.25549585847\n",
      "0.261305692445\n",
      "0.261305692445\n",
      "0.261305692445\n",
      "0.155580859833\n",
      "0.155580859833\n",
      "0.155580859833\n",
      "0.155580859833\n",
      "0.155580859833\n",
      "0.155580859833\n",
      "0.300418448045\n",
      "0.295585378864\n",
      "0.295585378864\n",
      "0.295585378864\n",
      "0.300418448045\n",
      "0.295585378864\n",
      "0.295585378864\n",
      "0.300418448045\n",
      "0.212872173335\n",
      "0.212872173335\n",
      "0.189992792875\n",
      "0.189992792875\n",
      "0.189992792875\n",
      "0.189992792875\n",
      "0.189992792875\n",
      "0.189992792875\n",
      "0.189992792875\n",
      "0.189992792875\n",
      "0.189992792875\n",
      "0.189992792875\n",
      "0.189992792875\n",
      "0.189992792875\n",
      "0.189992792875\n",
      "0.189992792875\n",
      "0.222136984764\n",
      "0.222136984764\n",
      "0.257749275781\n",
      "0.257749275781\n",
      "0.117591772329\n",
      "0.117591772329\n",
      "0.117591772329\n",
      "0.117591772329\n",
      "0.117591772329\n"
     ]
    }
   ],
   "source": [
    "for r in seq_records:\n",
    "    print my_tai.calc(str(r.seq))"
   ]
  },
  {
   "cell_type": "code",
   "execution_count": 22,
   "metadata": {
    "collapsed": false
   },
   "outputs": [
    {
     "name": "stdout",
     "output_type": "stream",
     "text": [
      "ID: Saccharomyces_cerevisiae_tRNA-iMet-CAT-1-5\n",
      "Name: Saccharomyces_cerevisiae_tRNA-iMet-CAT-1-5\n",
      "Description: Saccharomyces_cerevisiae_tRNA-iMet-CAT-1-5 (tRNAscan-SE ID: chrXVI.trna15) chrXVI:338848-338919 (-) Met (CAT) 72 bp Sc: 69.0\n",
      "Number of features: 0\n",
      "Seq('AGCGCCGTGGCGCAGTGGAAGCGCGCAGGGCTCATAACCCTGATGtCCTCGGAT...CTA', SingleLetterAlphabet())\n"
     ]
    }
   ],
   "source": [
    "print r"
   ]
  },
  {
   "cell_type": "code",
   "execution_count": null,
   "metadata": {
    "collapsed": true
   },
   "outputs": [],
   "source": []
  }
 ],
 "metadata": {
  "kernelspec": {
   "display_name": "Python 2",
   "language": "python",
   "name": "python2"
  },
  "language_info": {
   "codemirror_mode": {
    "name": "ipython",
    "version": 2
   },
   "file_extension": ".py",
   "mimetype": "text/x-python",
   "name": "python",
   "nbconvert_exporter": "python",
   "pygments_lexer": "ipython2",
   "version": "2.7.11"
  }
 },
 "nbformat": 4,
 "nbformat_minor": 0
}
