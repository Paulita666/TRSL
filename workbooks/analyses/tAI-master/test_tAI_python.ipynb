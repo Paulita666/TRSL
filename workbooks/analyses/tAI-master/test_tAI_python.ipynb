{
 "cells": [
  {
   "cell_type": "code",
   "execution_count": 11,
   "metadata": {},
   "outputs": [],
   "source": [
    "import os\n",
    "\n",
    "import Bio.SeqIO"
   ]
  },
  {
   "cell_type": "code",
   "execution_count": 14,
   "metadata": {},
   "outputs": [],
   "source": [
    "import scipy\n",
    "import numpy"
   ]
  },
  {
   "cell_type": "code",
   "execution_count": 15,
   "metadata": {},
   "outputs": [
    {
     "data": {
      "text/plain": [
       "'0.19.1'"
      ]
     },
     "execution_count": 15,
     "metadata": {},
     "output_type": "execute_result"
    }
   ],
   "source": [
    "scipy.__version__"
   ]
  },
  {
   "cell_type": "code",
   "execution_count": 4,
   "metadata": {},
   "outputs": [
    {
     "data": {
      "text/plain": [
       "'1.13.3'"
      ]
     },
     "execution_count": 4,
     "metadata": {},
     "output_type": "execute_result"
    }
   ],
   "source": [
    "numpy.__version__"
   ]
  },
  {
   "cell_type": "code",
   "execution_count": 5,
   "metadata": {},
   "outputs": [
    {
     "name": "stdout",
     "output_type": "stream",
     "text": [
      "lapack_opt_info:\n",
      "    libraries = ['openblas', 'openblas']\n",
      "    library_dirs = ['/usr/local/lib']\n",
      "    define_macros = [('HAVE_CBLAS', None)]\n",
      "    language = c\n",
      "blas_opt_info:\n",
      "    libraries = ['openblas', 'openblas']\n",
      "    library_dirs = ['/usr/local/lib']\n",
      "    define_macros = [('HAVE_CBLAS', None)]\n",
      "    language = c\n",
      "openblas_info:\n",
      "    libraries = ['openblas', 'openblas']\n",
      "    library_dirs = ['/usr/local/lib']\n",
      "    define_macros = [('HAVE_CBLAS', None)]\n",
      "    language = c\n",
      "blis_info:\n",
      "  NOT AVAILABLE\n",
      "openblas_lapack_info:\n",
      "    libraries = ['openblas', 'openblas']\n",
      "    library_dirs = ['/usr/local/lib']\n",
      "    define_macros = [('HAVE_CBLAS', None)]\n",
      "    language = c\n",
      "lapack_mkl_info:\n",
      "  NOT AVAILABLE\n",
      "blas_mkl_info:\n",
      "  NOT AVAILABLE\n"
     ]
    }
   ],
   "source": [
    "numpy.show_config()"
   ]
  },
  {
   "cell_type": "code",
   "execution_count": 7,
   "metadata": {},
   "outputs": [],
   "source": [
    "import tAI"
   ]
  },
  {
   "cell_type": "code",
   "execution_count": 16,
   "metadata": {},
   "outputs": [],
   "source": [
    "rootdir = os.getcwd()\n",
    "datadir = os.path.join(os.getcwd(), \"test/data\")"
   ]
  },
  {
   "cell_type": "code",
   "execution_count": 17,
   "metadata": {},
   "outputs": [
    {
     "name": "stdout",
     "output_type": "stream",
     "text": [
      "/home/martin/git/TRSL/workbooks/analyses/tAI-master/test/data/sacCer3-tRNAs.fa\n"
     ]
    }
   ],
   "source": [
    "filename = os.path.join(datadir, r\"sacCer3-tRNAs.fa\")\n",
    "print filename"
   ]
  },
  {
   "cell_type": "code",
   "execution_count": 18,
   "metadata": {},
   "outputs": [],
   "source": [
    "with open(filename, 'r+') as fh:\n",
    "    seq_records = list(Bio.SeqIO.parse(fh, \"fasta\"))"
   ]
  },
  {
   "cell_type": "markdown",
   "metadata": {},
   "source": [
    "Test (not used for yeast):"
   ]
  },
  {
   "cell_type": "code",
   "execution_count": 20,
   "metadata": {},
   "outputs": [],
   "source": [
    "my_tai = tAI.tAI.from_named_reference('codonR')"
   ]
  },
  {
   "cell_type": "code",
   "execution_count": 22,
   "metadata": {},
   "outputs": [],
   "source": [
    "my_tai = tAI.tAI.from_gtRNAdb(os.path.join(datadir, r\"sacCer3-tRNAs.bed\"))"
   ]
  },
  {
   "cell_type": "code",
   "execution_count": 23,
   "metadata": {},
   "outputs": [
    {
     "ename": "NotImplementedError",
     "evalue": "Batch calculation is not implemented yet, please pass sequences as individual strings",
     "output_type": "error",
     "traceback": [
      "\u001b[1;31m---------------------------------------------------------------------------\u001b[0m",
      "\u001b[1;31mNotImplementedError\u001b[0m                       Traceback (most recent call last)",
      "\u001b[1;32m<ipython-input-23-28ce8ef4363b>\u001b[0m in \u001b[0;36m<module>\u001b[1;34m()\u001b[0m\n\u001b[1;32m----> 1\u001b[1;33m \u001b[1;32mprint\u001b[0m\u001b[1;33m(\u001b[0m\u001b[0mmy_tai\u001b[0m\u001b[1;33m.\u001b[0m\u001b[0mcalc\u001b[0m\u001b[1;33m(\u001b[0m\u001b[1;33m[\u001b[0m\u001b[0mstr\u001b[0m\u001b[1;33m(\u001b[0m\u001b[0mr\u001b[0m\u001b[1;33m.\u001b[0m\u001b[0mseq\u001b[0m\u001b[1;33m)\u001b[0m \u001b[1;32mfor\u001b[0m \u001b[0mr\u001b[0m \u001b[1;32min\u001b[0m \u001b[0mseq_records\u001b[0m\u001b[1;33m]\u001b[0m\u001b[1;33m)\u001b[0m\u001b[1;33m)\u001b[0m\u001b[1;33m\u001b[0m\u001b[0m\n\u001b[0m",
      "\u001b[1;32m/home/martin/git/TRSL/workbooks/analyses/tAI-master/tAI/tAI.py\u001b[0m in \u001b[0;36mcalc\u001b[1;34m(self, seqdata, omit_first)\u001b[0m\n\u001b[0;32m    279\u001b[0m             \u001b[1;32mreturn\u001b[0m \u001b[0mself\u001b[0m\u001b[1;33m.\u001b[0m\u001b[0m_calc_str\u001b[0m\u001b[1;33m(\u001b[0m\u001b[0mseqdata\u001b[0m\u001b[1;33m,\u001b[0m \u001b[0momit_first\u001b[0m\u001b[1;33m)\u001b[0m\u001b[1;33m\u001b[0m\u001b[0m\n\u001b[0;32m    280\u001b[0m         \u001b[1;32melif\u001b[0m \u001b[0misinstance\u001b[0m\u001b[1;33m(\u001b[0m\u001b[0mseqdata\u001b[0m\u001b[1;33m,\u001b[0m \u001b[0mlist\u001b[0m\u001b[1;33m)\u001b[0m\u001b[1;33m:\u001b[0m\u001b[1;33m\u001b[0m\u001b[0m\n\u001b[1;32m--> 281\u001b[1;33m             \u001b[1;32mreturn\u001b[0m \u001b[0mself\u001b[0m\u001b[1;33m.\u001b[0m\u001b[0m_calc_batch\u001b[0m\u001b[1;33m(\u001b[0m\u001b[0mseqdata\u001b[0m\u001b[1;33m,\u001b[0m \u001b[0momit_first\u001b[0m\u001b[1;33m)\u001b[0m\u001b[1;33m\u001b[0m\u001b[0m\n\u001b[0m\u001b[0;32m    282\u001b[0m         \u001b[1;32melse\u001b[0m\u001b[1;33m:\u001b[0m\u001b[1;33m\u001b[0m\u001b[0m\n\u001b[0;32m    283\u001b[0m             \u001b[1;32mraise\u001b[0m \u001b[0mValueError\u001b[0m\u001b[1;33m(\u001b[0m\u001b[0mtype\u001b[0m\u001b[1;33m(\u001b[0m\u001b[0mseqdata\u001b[0m\u001b[1;33m)\u001b[0m \u001b[1;33m+\u001b[0m \u001b[1;34m\" not recognized. Provide `str` or `list(str)`\"\u001b[0m\u001b[1;33m)\u001b[0m\u001b[1;33m\u001b[0m\u001b[0m\n",
      "\u001b[1;32m/home/martin/git/TRSL/workbooks/analyses/tAI-master/tAI/tAI.py\u001b[0m in \u001b[0;36m_calc_batch\u001b[1;34m(self, seqs, omit_first)\u001b[0m\n\u001b[0;32m    321\u001b[0m         \"\"\"Method to calculate tAI scores a list of sequences\n\u001b[0;32m    322\u001b[0m         \"\"\"\n\u001b[1;32m--> 323\u001b[1;33m         raise NotImplementedError('Batch calculation is not implemented yet, please pass '\n\u001b[0m\u001b[0;32m    324\u001b[0m                                   'sequences as individual strings')\n\u001b[0;32m    325\u001b[0m         \u001b[1;32mreturn\u001b[0m\u001b[1;33m\u001b[0m\u001b[0m\n",
      "\u001b[1;31mNotImplementedError\u001b[0m: Batch calculation is not implemented yet, please pass sequences as individual strings"
     ]
    }
   ],
   "source": [
    "print(my_tai.calc([str(r.seq) for r in seq_records]))"
   ]
  },
  {
   "cell_type": "code",
   "execution_count": 24,
   "metadata": {},
   "outputs": [
    {
     "name": "stdout",
     "output_type": "stream",
     "text": [
      "0.236687301635\n",
      "0.236687301635\n",
      "0.236687301635\n",
      "0.236687301635\n",
      "0.236687301635\n",
      "0.236687301635\n",
      "0.236687301635\n",
      "0.236687301635\n",
      "0.236687301635\n",
      "0.236687301635\n",
      "0.236687301635\n",
      "0.330275720612\n",
      "0.330275720612\n",
      "0.330275720612\n",
      "0.330275720612\n",
      "0.330275720612\n",
      "0.283432694886\n",
      "0.283432694886\n",
      "0.283432694886\n",
      "0.283432694886\n",
      "0.283432694886\n",
      "0.267335788443\n",
      "0.180685585245\n",
      "0.174140924189\n",
      "0.18077192042\n",
      "0.18077192042\n",
      "0.18077192042\n",
      "0.18077192042\n",
      "0.18077192042\n",
      "0.18077192042\n",
      "0.18077192042\n",
      "0.18077192042\n",
      "0.18077192042\n",
      "0.18077192042\n",
      "0.18077192042\n",
      "0.421644970701\n",
      "0.421644970701\n",
      "0.421644970701\n",
      "0.421644970701\n",
      "0.421644970701\n",
      "0.421644970701\n",
      "0.421644970701\n",
      "0.421644970701\n",
      "0.421644970701\n",
      "0.421644970701\n",
      "0.237133485024\n",
      "0.237133485024\n",
      "0.237133485024\n",
      "0.237133485024\n",
      "0.237133485024\n",
      "0.237133485024\n",
      "0.237133485024\n",
      "0.237133485024\n",
      "0.237133485024\n",
      "0.237133485024\n",
      "0.237133485024\n",
      "0.237133485024\n",
      "0.237133485024\n",
      "0.237133485024\n",
      "0.237133485024\n",
      "0.312597019446\n",
      "0.142688488001\n",
      "0.142688488001\n",
      "0.142688488001\n",
      "0.142688488001\n",
      "0.0879098131479\n",
      "0.103117332582\n",
      "0.129650767827\n",
      "0.129650767827\n",
      "0.129650767827\n",
      "0.129650767827\n",
      "0.129650767827\n",
      "0.129650767827\n",
      "0.129650767827\n",
      "0.144470554835\n",
      "0.157767429054\n",
      "0.157767429054\n",
      "0.140540697698\n",
      "0.140540697698\n",
      "0.140540697698\n",
      "0.140540697698\n",
      "0.140540697698\n",
      "0.140540697698\n",
      "0.140540697698\n",
      "0.140540697698\n",
      "0.140540697698\n",
      "0.140540697698\n",
      "0.140540697698\n",
      "0.140540697698\n",
      "0.140540697698\n",
      "0.139250229419\n",
      "0.213709880552\n",
      "0.215425279886\n",
      "0.294017774435\n",
      "0.294017774435\n",
      "0.294017774435\n",
      "0.294017774435\n",
      "0.294017774435\n",
      "0.294017774435\n",
      "0.294017774435\n",
      "0.294017774435\n",
      "0.294017774435\n",
      "0.294017774435\n",
      "0.294017774435\n",
      "0.294017774435\n",
      "0.294017774435\n",
      "0.294017774435\n",
      "0.294017774435\n",
      "0.294017774435\n",
      "0.179999493027\n",
      "0.179999493027\n",
      "0.179999493027\n",
      "0.238517851669\n",
      "0.238517851669\n",
      "0.238517851669\n",
      "0.238517851669\n",
      "0.238517851669\n",
      "0.238517851669\n",
      "0.238517851669\n",
      "0.352665473086\n",
      "0.352665473086\n",
      "0.352665473086\n",
      "0.352665473086\n",
      "0.352665473086\n",
      "0.352665473086\n",
      "0.352665473086\n",
      "0.352665473086\n",
      "0.352665473086\n",
      "0.352665473086\n",
      "0.352665473086\n",
      "0.352665473086\n",
      "0.352665473086\n",
      "0.288515189358\n",
      "0.288071755182\n",
      "0.274447230362\n",
      "0.287845564187\n",
      "0.287845564187\n",
      "0.288778876329\n",
      "0.274161407797\n",
      "0.287845564187\n",
      "0.287845564187\n",
      "0.287845564187\n",
      "0.27555843103\n",
      "0.287845564187\n",
      "0.214568195997\n",
      "0.177834275594\n",
      "0.177834275594\n",
      "0.177834275594\n",
      "0.177834275594\n",
      "0.177834275594\n",
      "0.177834275594\n",
      "0.177834275594\n",
      "0.26024898059\n",
      "0.2601285489\n",
      "0.26024898059\n",
      "0.269844166655\n",
      "0.269844166655\n",
      "0.269844166655\n",
      "0.269844166655\n",
      "0.269844166655\n",
      "0.269844166655\n",
      "0.269844166655\n",
      "0.269844166655\n",
      "0.269844166655\n",
      "0.269844166655\n",
      "0.269844166655\n",
      "0.269844166655\n",
      "0.269844166655\n",
      "0.269844166655\n",
      "0.281719537337\n",
      "0.281719537337\n",
      "0.284821356137\n",
      "0.281719537337\n",
      "0.281719537337\n",
      "0.281719537337\n",
      "0.281719537337\n",
      "0.26024469845\n",
      "0.26024469845\n",
      "0.26024469845\n",
      "0.26024469845\n",
      "0.26024469845\n",
      "0.352865628106\n",
      "0.289138611229\n",
      "0.283200893536\n",
      "0.396802997091\n",
      "0.396802997091\n",
      "0.396802997091\n",
      "0.396802997091\n",
      "0.246545798099\n",
      "0.396802997091\n",
      "0.396802997091\n",
      "0.20295906149\n",
      "0.20295906149\n",
      "0.139954660996\n",
      "0.141805334288\n",
      "0.139138015946\n",
      "0.14243792321\n",
      "0.139954660996\n",
      "0.139138015946\n",
      "0.139138015946\n",
      "0.236617486096\n",
      "0.253050745003\n",
      "0.255110808498\n",
      "0.266587446697\n",
      "0.266587446697\n",
      "0.266587446697\n",
      "0.266587446697\n",
      "0.266587446697\n",
      "0.266587446697\n",
      "0.266587446697\n",
      "0.266587446697\n",
      "0.266587446697\n",
      "0.266587446697\n",
      "0.26741452376\n",
      "0.164230482223\n",
      "0.270295398027\n",
      "0.270295398027\n",
      "0.276226555928\n",
      "0.276226555928\n",
      "0.276226555928\n",
      "0.341080559463\n",
      "0.341080559463\n",
      "0.341080559463\n",
      "0.341080559463\n",
      "0.341080559463\n",
      "0.341080559463\n",
      "0.341080559463\n",
      "0.341080559463\n",
      "0.341080559463\n",
      "0.341080559463\n",
      "0.341080559463\n",
      "0.302343989761\n",
      "0.299807069694\n",
      "0.310051727489\n",
      "0.310051727489\n",
      "0.310051727489\n",
      "0.175007354149\n",
      "0.175007354149\n",
      "0.175007354149\n",
      "0.175007354149\n",
      "0.175007354149\n",
      "0.175007354149\n",
      "0.314573614654\n",
      "0.312478589809\n",
      "0.312478589809\n",
      "0.312478589809\n",
      "0.314573614654\n",
      "0.312478589809\n",
      "0.312478589809\n",
      "0.314573614654\n",
      "0.225567218773\n",
      "0.225567218773\n",
      "0.222472149593\n",
      "0.222472149593\n",
      "0.222472149593\n",
      "0.222472149593\n",
      "0.222472149593\n",
      "0.222472149593\n",
      "0.222472149593\n",
      "0.222472149593\n",
      "0.222472149593\n",
      "0.222472149593\n",
      "0.222472149593\n",
      "0.222472149593\n",
      "0.222472149593\n",
      "0.222472149593\n",
      "0.200476782887\n",
      "0.200476782887\n",
      "0.365925223125\n",
      "0.365925223125\n",
      "0.0882430627245\n",
      "0.0882430627245\n",
      "0.0882430627245\n",
      "0.0882430627245\n",
      "0.0882430627245\n"
     ]
    }
   ],
   "source": [
    "for r in seq_records:\n",
    "    print my_tai.calc(str(r.seq))"
   ]
  },
  {
   "cell_type": "code",
   "execution_count": 25,
   "metadata": {},
   "outputs": [
    {
     "name": "stdout",
     "output_type": "stream",
     "text": [
      "ID: Saccharomyces_cerevisiae_tRNA-iMet-CAT-1-5\n",
      "Name: Saccharomyces_cerevisiae_tRNA-iMet-CAT-1-5\n",
      "Description: Saccharomyces_cerevisiae_tRNA-iMet-CAT-1-5 (tRNAscan-SE ID: chrXVI.trna15) chrXVI:338848-338919 (-) Met (CAT) 72 bp Sc: 69.0\n",
      "Number of features: 0\n",
      "Seq('AGCGCCGTGGCGCAGTGGAAGCGCGCAGGGCTCATAACCCTGATGtCCTCGGAT...CTA', SingleLetterAlphabet())\n"
     ]
    }
   ],
   "source": [
    "print r"
   ]
  },
  {
   "cell_type": "code",
   "execution_count": null,
   "metadata": {
    "collapsed": true
   },
   "outputs": [],
   "source": []
  }
 ],
 "metadata": {
  "kernelspec": {
   "display_name": "Python 2",
   "language": "python",
   "name": "python2"
  },
  "language_info": {
   "codemirror_mode": {
    "name": "ipython",
    "version": 2
   },
   "file_extension": ".py",
   "mimetype": "text/x-python",
   "name": "python",
   "nbconvert_exporter": "python",
   "pygments_lexer": "ipython2",
   "version": "2.7.12"
  }
 },
 "nbformat": 4,
 "nbformat_minor": 1
}
