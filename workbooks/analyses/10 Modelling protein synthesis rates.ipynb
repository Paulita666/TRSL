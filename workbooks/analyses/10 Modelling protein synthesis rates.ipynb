{
 "cells": [
  {
   "cell_type": "code",
   "execution_count": 33,
   "metadata": {},
   "outputs": [],
   "source": [
    "import cPickle as pkl\n",
    "import pandas as pd\n",
    "import matplotlib\n",
    "import matplotlib.pyplot as plt\n",
    "%matplotlib inline\n",
    "matplotlib.style.use('ggplot')\n",
    "import numpy as np\n",
    "\n",
    "from sklearn import datasets, linear_model\n",
    "from sklearn.metrics import mean_squared_error, r2_score"
   ]
  },
  {
   "cell_type": "markdown",
   "metadata": {},
   "source": [
    "## Table of contents\n",
    "\n",
    "[1. Model for protein speeds (\"tic toc\" TRSL output)](#1.)\n",
    "\n",
    "[1.0 Get data](#1.0)\n",
    "\n",
    "[1.1 Ribosome speed](#1.1)\n",
    "\n",
    "[1.2 Duration post initiation](#1.2)"
   ]
  },
  {
   "cell_type": "markdown",
   "metadata": {},
   "source": [
    "<a id='1.'></a>\n",
    "## 1. Model for protein speeds (\"tic toc\" TRSL output)"
   ]
  },
  {
   "cell_type": "markdown",
   "metadata": {},
   "source": [
    "General form:"
   ]
  },
  {
   "cell_type": "markdown",
   "metadata": {},
   "source": [
    "$$v = f(l, t)$$"
   ]
  },
  {
   "cell_type": "markdown",
   "metadata": {},
   "source": [
    "where $v = \\frac{\\Delta \\mathrm{abundance}}{\\Delta t}$: ribosome speed on the gene"
   ]
  },
  {
   "cell_type": "markdown",
   "metadata": {},
   "source": [
    "$l$: gene length in nts (or codons) (a bit counterintuitive but worth a try)"
   ]
  },
  {
   "cell_type": "markdown",
   "metadata": {},
   "source": [
    "$t$: adaptation index (tAI or cAI)"
   ]
  },
  {
   "cell_type": "markdown",
   "metadata": {},
   "source": [
    "<a id='1.0'></a>\n",
    "### 1.0 Get data"
   ]
  },
  {
   "cell_type": "markdown",
   "metadata": {},
   "source": [
    "Ribosome speeds:"
   ]
  },
  {
   "cell_type": "markdown",
   "metadata": {},
   "source": [
    "Lengths:"
   ]
  },
  {
   "cell_type": "code",
   "execution_count": 34,
   "metadata": {},
   "outputs": [
    {
     "data": {
      "text/plain": [
       "6713"
      ]
     },
     "execution_count": 34,
     "metadata": {},
     "output_type": "execute_result"
    }
   ],
   "source": [
    "orf_genomic_dict = pkl.load(open(\"../../parameters/orf_coding.p\"))\n",
    "len(orf_genomic_dict)"
   ]
  },
  {
   "cell_type": "code",
   "execution_count": 35,
   "metadata": {},
   "outputs": [],
   "source": [
    "orf_lengths = {prot: len(orf_genomic_dict[prot]) for prot in orf_genomic_dict}"
   ]
  },
  {
   "cell_type": "code",
   "execution_count": 36,
   "metadata": {},
   "outputs": [
    {
     "data": {
      "text/plain": [
       "4475"
      ]
     },
     "execution_count": 36,
     "metadata": {},
     "output_type": "execute_result"
    }
   ],
   "source": [
    "ribo_speeds = pkl.load(open(\"../../parameters/tic_toc_speed_dict.p\"))\n",
    "len(ribo_speeds)"
   ]
  },
  {
   "cell_type": "markdown",
   "metadata": {},
   "source": [
    "tAIs:"
   ]
  },
  {
   "cell_type": "code",
   "execution_count": 37,
   "metadata": {},
   "outputs": [
    {
     "data": {
      "text/plain": [
       "6713"
      ]
     },
     "execution_count": 37,
     "metadata": {},
     "output_type": "execute_result"
    }
   ],
   "source": [
    "tais = pkl.load(open(\"../../parameters/tAI_python_chu.p\"))\n",
    "len(tais)"
   ]
  },
  {
   "cell_type": "markdown",
   "metadata": {},
   "source": [
    "Total set intersection:"
   ]
  },
  {
   "cell_type": "code",
   "execution_count": 38,
   "metadata": {},
   "outputs": [
    {
     "data": {
      "text/plain": [
       "4475"
      ]
     },
     "execution_count": 38,
     "metadata": {},
     "output_type": "execute_result"
    }
   ],
   "source": [
    "len(orf_lengths.viewkeys() & ribo_speeds.viewkeys() & tais.viewkeys())"
   ]
  },
  {
   "cell_type": "code",
   "execution_count": 77,
   "metadata": {},
   "outputs": [],
   "source": [
    "gene_tic_toc_dict = pkl.load(open(\"../../parameters/gene_tic_toc_dict.p\"))"
   ]
  },
  {
   "cell_type": "code",
   "execution_count": 79,
   "metadata": {},
   "outputs": [
    {
     "data": {
      "text/plain": [
       "4475"
      ]
     },
     "execution_count": 79,
     "metadata": {},
     "output_type": "execute_result"
    }
   ],
   "source": [
    "len(orf_lengths.viewkeys() & ribo_speeds.viewkeys() & tais.viewkeys() & gene_tic_toc_dict.viewkeys())"
   ]
  },
  {
   "cell_type": "markdown",
   "metadata": {},
   "source": [
    "So ribosome speeds are the limiting factor, as expected."
   ]
  },
  {
   "cell_type": "markdown",
   "metadata": {},
   "source": [
    "<a id='1.1'></a>\n",
    "### 1.1 Ribosome speed"
   ]
  },
  {
   "cell_type": "markdown",
   "metadata": {},
   "source": [
    "General form:"
   ]
  },
  {
   "cell_type": "markdown",
   "metadata": {},
   "source": [
    "$$v = \\beta_\\mathrm{tAI} \\cdot \\mathrm{tAI} + \\alpha_\\mathrm{tAI}$$"
   ]
  },
  {
   "cell_type": "markdown",
   "metadata": {},
   "source": [
    "First the univariate scatter plots:"
   ]
  },
  {
   "cell_type": "code",
   "execution_count": 39,
   "metadata": {},
   "outputs": [],
   "source": [
    "from statsmodels.nonparametric.smoothers_lowess import lowess\n",
    "def scatter_dicts(dict1, dict2, xaxislabel=None, yaxislabel=None, fontsize=None, alpha=0.2, xlog=True, ylog=True):\n",
    "    plotkeys = dict1.viewkeys() & dict2.viewkeys() # set intersection\n",
    "    print len(plotkeys)\n",
    "    xs = [dict1[key] for key in plotkeys]\n",
    "    ys = [dict2[key] for key in plotkeys] \n",
    "\n",
    "    fig =  plt.figure()                \n",
    "\n",
    "    ax = fig.add_subplot(111)\n",
    "    ax.grid(True, linestyle = '-')\n",
    "    if xlog:\n",
    "        ax.set_xscale('log')\n",
    "    if ylog:\n",
    "        ax.set_yscale('log')\n",
    "    if xaxislabel:\n",
    "        ax.set_xlabel(xaxislabel)\n",
    "        if fontsize:\n",
    "            ax.set_xlabel(xaxislabel, fontsize=fontsize)\n",
    "            plt.setp(ax.get_xticklabels(), fontsize=fontsize)\n",
    "    if yaxislabel:\n",
    "        ax.set_ylabel(yaxislabel)\n",
    "        if fontsize:\n",
    "            ax.set_ylabel(yaxislabel, fontsize=fontsize)\n",
    "            plt.setp(ax.get_yticklabels(), fontsize=fontsize)\n",
    "\n",
    "    scat = plt.scatter(xs, ys, color='b', alpha=alpha)\n",
    "    scat.set_alpha(alpha)\n",
    "\n",
    "    points = zip(xs, ys)\n",
    "    sorted_points = sorted(points)\n",
    "    new_xs = [point[0] for point in sorted_points]\n",
    "    new_ys = [point[1] for point in sorted_points]\n",
    "    ylowess = lowess(new_ys, new_xs, missing='raise', return_sorted=True)[:,1]\n",
    "    \n",
    "    plt.plot(new_xs, ylowess, 'orange', linewidth=4)\n",
    "\n",
    "    plt.show()"
   ]
  },
  {
   "cell_type": "code",
   "execution_count": 40,
   "metadata": {},
   "outputs": [
    {
     "name": "stdout",
     "output_type": "stream",
     "text": [
      "4475\n"
     ]
    },
    {
     "data": {
      "image/png": "[encoded data removed]",
      "text/plain": [
       "<matplotlib.figure.Figure at 0x7ffaf223cbd0>"
      ]
     },
     "metadata": {},
     "output_type": "display_data"
    }
   ],
   "source": [
    "scatter_dicts(tais, ribo_speeds, xaxislabel='tAI', yaxislabel='Ribosome speed [nts/s]', xlog=False, ylog=False)"
   ]
  },
  {
   "cell_type": "code",
   "execution_count": 41,
   "metadata": {},
   "outputs": [
    {
     "name": "stdout",
     "output_type": "stream",
     "text": [
      "4475\n"
     ]
    },
    {
     "data": {
      "image/png": "[encoded data removed]",
      "text/plain": [
       "<matplotlib.figure.Figure at 0x7ffaf222e690>"
      ]
     },
     "metadata": {},
     "output_type": "display_data"
    }
   ],
   "source": [
    "scatter_dicts(orf_lengths, ribo_speeds, xlog=False, ylog=False)"
   ]
  },
  {
   "cell_type": "markdown",
   "metadata": {},
   "source": [
    "We try the univariate model first. (Interesting to see the value of the intercept.)"
   ]
  },
  {
   "cell_type": "code",
   "execution_count": 88,
   "metadata": {},
   "outputs": [],
   "source": [
    "regression_data = pd.DataFrame([tais, orf_lengths, ribo_speeds]).transpose()\n",
    "regression_data.columns = ['tAI', 'ORF length', 'Ribosome speed']"
   ]
  },
  {
   "cell_type": "markdown",
   "metadata": {},
   "source": [
    "Drop values that have data missing:"
   ]
  },
  {
   "cell_type": "code",
   "execution_count": 89,
   "metadata": {},
   "outputs": [],
   "source": [
    "regression_data = regression_data[~regression_data.isnull().any(axis=1)]"
   ]
  },
  {
   "cell_type": "code",
   "execution_count": 90,
   "metadata": {},
   "outputs": [
    {
     "data": {
      "text/html": [
       "<div>\n",
       "<style>\n",
       "    .dataframe thead tr:only-child th {\n",
       "        text-align: right;\n",
       "    }\n",
       "\n",
       "    .dataframe thead th {\n",
       "        text-align: left;\n",
       "    }\n",
       "\n",
       "    .dataframe tbody tr th {\n",
       "        vertical-align: top;\n",
       "    }\n",
       "</style>\n",
       "<table border=\"1\" class=\"dataframe\">\n",
       "  <thead>\n",
       "    <tr style=\"text-align: right;\">\n",
       "      <th></th>\n",
       "      <th>tAI</th>\n",
       "      <th>ORF length</th>\n",
       "      <th>Ribosome speed</th>\n",
       "    </tr>\n",
       "  </thead>\n",
       "  <tbody>\n",
       "    <tr>\n",
       "      <th>YAL001C</th>\n",
       "      <td>0.364521</td>\n",
       "      <td>3483.0</td>\n",
       "      <td>21.529576</td>\n",
       "    </tr>\n",
       "    <tr>\n",
       "      <th>YAL002W</th>\n",
       "      <td>0.364900</td>\n",
       "      <td>3825.0</td>\n",
       "      <td>19.264669</td>\n",
       "    </tr>\n",
       "    <tr>\n",
       "      <th>YAL003W</th>\n",
       "      <td>0.642515</td>\n",
       "      <td>621.0</td>\n",
       "      <td>38.259175</td>\n",
       "    </tr>\n",
       "    <tr>\n",
       "      <th>YAL007C</th>\n",
       "      <td>0.443200</td>\n",
       "      <td>648.0</td>\n",
       "      <td>23.798219</td>\n",
       "    </tr>\n",
       "    <tr>\n",
       "      <th>YAL008W</th>\n",
       "      <td>0.386541</td>\n",
       "      <td>597.0</td>\n",
       "      <td>20.460496</td>\n",
       "    </tr>\n",
       "  </tbody>\n",
       "</table>\n",
       "</div>"
      ],
      "text/plain": [
       "              tAI  ORF length  Ribosome speed\n",
       "YAL001C  0.364521      3483.0       21.529576\n",
       "YAL002W  0.364900      3825.0       19.264669\n",
       "YAL003W  0.642515       621.0       38.259175\n",
       "YAL007C  0.443200       648.0       23.798219\n",
       "YAL008W  0.386541       597.0       20.460496"
      ]
     },
     "execution_count": 90,
     "metadata": {},
     "output_type": "execute_result"
    }
   ],
   "source": [
    "regression_data.head()"
   ]
  },
  {
   "cell_type": "code",
   "execution_count": 91,
   "metadata": {},
   "outputs": [
    {
     "name": "stderr",
     "output_type": "stream",
     "text": [
      "/usr/lib/python2.7/dist-packages/ipykernel_launcher.py:2: FutureWarning: reshape is deprecated and will raise in a subsequent release. Please use .values.reshape(...) instead\n",
      "  \n"
     ]
    }
   ],
   "source": [
    "ntest = 200\n",
    "regression_X = regression_data['tAI'].reshape((len(regression_data), 1))\n",
    "\n",
    "# Split the data into training/testing sets\n",
    "regression_X_train = regression_X[:-ntest]\n",
    "regression_X_test = regression_X[-ntest:]\n",
    "\n",
    "# Split the targets into training/testing sets\n",
    "regression_y_train = regression_data['Ribosome speed'][:-ntest]\n",
    "regression_y_test = regression_data['Ribosome speed'][-ntest:]"
   ]
  },
  {
   "cell_type": "code",
   "execution_count": 92,
   "metadata": {},
   "outputs": [
    {
     "name": "stdout",
     "output_type": "stream",
     "text": [
      "Coefficients:  62.0158407076\n",
      "Intercept:  -2.46526616626\n",
      "Mean squared error: 3.06\n",
      "Variance score: 0.75\n"
     ]
    },
    {
     "data": {
      "image/png": "[encoded data removed]",
      "text/plain": [
       "<matplotlib.figure.Figure at 0x7ffaf17422d0>"
      ]
     },
     "metadata": {},
     "output_type": "display_data"
    }
   ],
   "source": [
    "# Create linear regression object\n",
    "regr = linear_model.LinearRegression()\n",
    "\n",
    "# Train the model using the training sets\n",
    "regr.fit(regression_X_train, regression_y_train)\n",
    "\n",
    "# Make predictions using the testing set\n",
    "regression_y_pred = regr.predict(regression_X_test)\n",
    "\n",
    "# The coefficients\n",
    "print 'Coefficients: ', regr.coef_[0]\n",
    "print 'Intercept: ', regr.intercept_\n",
    "\n",
    "# The mean squared error\n",
    "print \"Mean squared error: %.2f\" % mean_squared_error(regression_y_test, regression_y_pred)\n",
    "\n",
    "# Explained variance score: 1 is perfect prediction\n",
    "print 'Variance score: %.2f' % r2_score(regression_y_test, regression_y_pred)\n",
    "\n",
    "# Plot outputs\n",
    "ax = plt.scatter(regression_X_test, regression_y_test,  color='black')\n",
    "plt.plot(regression_X_test, regression_y_pred, color='blue', linewidth=3)\n",
    "\n",
    "plt.xlabel(\"tAI\")\n",
    "plt.ylabel(\"Ribosome speed [nts/s]\")\n",
    "\n",
    "plt.show()"
   ]
  },
  {
   "cell_type": "markdown",
   "metadata": {},
   "source": [
    "This means that the equation is in fact:"
   ]
  },
  {
   "cell_type": "markdown",
   "metadata": {},
   "source": [
    "$$v = 62.02 \\cdot \\mathrm{tAI} - 2.47$$"
   ]
  },
  {
   "cell_type": "markdown",
   "metadata": {},
   "source": [
    "<a id='1.2'></a>\n",
    "### 1.2 Duration post initiation"
   ]
  },
  {
   "cell_type": "markdown",
   "metadata": {},
   "source": [
    "General form:"
   ]
  },
  {
   "cell_type": "markdown",
   "metadata": {},
   "source": [
    "$$T = \\alpha_L \\cdot L^{c_L}$$"
   ]
  },
  {
   "cell_type": "markdown",
   "metadata": {},
   "source": [
    "where $T$: \"toc-tic\" duration in seconds"
   ]
  },
  {
   "cell_type": "markdown",
   "metadata": {},
   "source": [
    "$L$: length of ORF in nts"
   ]
  },
  {
   "cell_type": "markdown",
   "metadata": {},
   "source": [
    "We try $c_L = 1$ first."
   ]
  },
  {
   "cell_type": "code",
   "execution_count": 105,
   "metadata": {},
   "outputs": [],
   "source": [
    "ntest = 1000\n",
    "these_orf_lengths = {gene: orf_lengths[gene] for gene in gene_tic_toc_dict}\n",
    "regression_X = np.array([these_orf_lengths[gene] for gene in gene_tic_toc_dict]).reshape((len(these_orf_lengths), 1))\n",
    "\n",
    "# Split the data into training/testing sets\n",
    "regression_X_train = regression_X[:-ntest]\n",
    "regression_X_test = regression_X[-ntest:]\n",
    "\n",
    "# Split the targets into training/testing sets\n",
    "regression_y_train = gene_tic_toc_dict.values()[:-ntest]\n",
    "regression_y_test = gene_tic_toc_dict.values()[-ntest:]"
   ]
  },
  {
   "cell_type": "code",
   "execution_count": 106,
   "metadata": {},
   "outputs": [
    {
     "name": "stdout",
     "output_type": "stream",
     "text": [
      "Coefficients:  0.0432850002113\n",
      "Intercept:  4.75433411195\n",
      "Mean squared error: 150.25\n",
      "Variance score: 0.95\n"
     ]
    },
    {
     "data": {
      "image/png": "[encoded data removed]",
      "text/plain": [
       "<matplotlib.figure.Figure at 0x7ffaf221ba10>"
      ]
     },
     "metadata": {},
     "output_type": "display_data"
    }
   ],
   "source": [
    "# Create linear regression object\n",
    "regr = linear_model.LinearRegression()\n",
    "\n",
    "# Train the model using the training sets\n",
    "regr.fit(regression_X_train, regression_y_train)\n",
    "\n",
    "# Make predictions using the testing set\n",
    "regression_y_pred = regr.predict(regression_X_test)\n",
    "\n",
    "# The coefficients\n",
    "print 'Coefficients: ', regr.coef_[0]\n",
    "print 'Intercept: ', regr.intercept_\n",
    "\n",
    "# The mean squared error\n",
    "print \"Mean squared error: %.2f\" % mean_squared_error(regression_y_test, regression_y_pred)\n",
    "\n",
    "# Explained variance score: 1 is perfect prediction\n",
    "print 'Variance score: %.2f' % r2_score(regression_y_test, regression_y_pred)\n",
    "\n",
    "# Plot outputs\n",
    "ax = plt.scatter(regression_X_test, regression_y_test,  color='black')\n",
    "plt.gca().set_yscale('log')\n",
    "plt.gca().set_xscale('log')\n",
    "\n",
    "plt.plot(regression_X_test, regression_y_pred, color='blue', linewidth=3)\n",
    "\n",
    "plt.xlabel(\"ORF lengths\")\n",
    "plt.ylabel(\"toc - tic [s]\")\n",
    "\n",
    "plt.show()"
   ]
  },
  {
   "cell_type": "markdown",
   "metadata": {},
   "source": [
    "TODO: that regression line is bad"
   ]
  },
  {
   "cell_type": "code",
   "execution_count": null,
   "metadata": {},
   "outputs": [],
   "source": []
  },
  {
   "cell_type": "code",
   "execution_count": null,
   "metadata": {},
   "outputs": [],
   "source": []
  },
  {
   "cell_type": "markdown",
   "metadata": {},
   "source": [
    "TODO: also try a 2d regression"
   ]
  },
  {
   "cell_type": "markdown",
   "metadata": {},
   "source": [
    "## 2. Model for synthetic protein synthesis rates (TRSL output)"
   ]
  },
  {
   "cell_type": "markdown",
   "metadata": {},
   "source": [
    "General form:"
   ]
  },
  {
   "cell_type": "markdown",
   "metadata": {},
   "source": [
    "$$r = f(p, l, m, t)$$"
   ]
  },
  {
   "cell_type": "markdown",
   "metadata": {},
   "source": [
    "where $p$: initiation probability"
   ]
  },
  {
   "cell_type": "markdown",
   "metadata": {},
   "source": [
    "$l$: gene length in nts (or codons)"
   ]
  },
  {
   "cell_type": "markdown",
   "metadata": {},
   "source": [
    "$m$: transcript count"
   ]
  },
  {
   "cell_type": "markdown",
   "metadata": {},
   "source": [
    "$t$: adaptation index (tAI or cAI)"
   ]
  },
  {
   "cell_type": "markdown",
   "metadata": {},
   "source": [
    "### 2.1 Linear regression"
   ]
  },
  {
   "cell_type": "code",
   "execution_count": null,
   "metadata": {},
   "outputs": [],
   "source": []
  },
  {
   "cell_type": "markdown",
   "metadata": {},
   "source": [
    "### 2.2 Additive model"
   ]
  },
  {
   "cell_type": "markdown",
   "metadata": {},
   "source": []
  },
  {
   "cell_type": "code",
   "execution_count": null,
   "metadata": {},
   "outputs": [],
   "source": []
  },
  {
   "cell_type": "markdown",
   "metadata": {},
   "source": [
    "### 2.3 Multiplicative model"
   ]
  },
  {
   "cell_type": "markdown",
   "metadata": {},
   "source": []
  },
  {
   "cell_type": "code",
   "execution_count": null,
   "metadata": {},
   "outputs": [],
   "source": []
  },
  {
   "cell_type": "markdown",
   "metadata": {},
   "source": [
    "### 2.4 Using 1.1 or 1.2 as a submodel"
   ]
  },
  {
   "cell_type": "code",
   "execution_count": null,
   "metadata": {},
   "outputs": [],
   "source": []
  },
  {
   "cell_type": "markdown",
   "metadata": {},
   "source": [
    "## 3. Model for experimental protein synthesis rates"
   ]
  },
  {
   "cell_type": "code",
   "execution_count": null,
   "metadata": {},
   "outputs": [],
   "source": []
  }
 ],
 "metadata": {
  "kernelspec": {
   "display_name": "Python 2",
   "language": "python",
   "name": "python2"
  },
  "language_info": {
   "codemirror_mode": {
    "name": "ipython",
    "version": 2
   },
   "file_extension": ".py",
   "mimetype": "text/x-python",
   "name": "python",
   "nbconvert_exporter": "python",
   "pygments_lexer": "ipython2",
   "version": "2.7.12"
  }
 },
 "nbformat": 4,
 "nbformat_minor": 2
}
