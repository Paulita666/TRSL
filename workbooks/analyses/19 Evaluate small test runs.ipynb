{
 "cells": [
  {
   "cell_type": "code",
   "execution_count": 1,
   "metadata": {},
   "outputs": [],
   "source": [
    "import cPickle as pkl\n",
    "import pandas as pd\n",
    "import numpy as np\n",
    "import os.path"
   ]
  },
  {
   "cell_type": "code",
   "execution_count": 2,
   "metadata": {},
   "outputs": [],
   "source": [
    "dirname = '../../results_20180423'"
   ]
  },
  {
   "cell_type": "code",
   "execution_count": 3,
   "metadata": {},
   "outputs": [],
   "source": [
    "descriptor = '_5_transcripts'"
   ]
  },
  {
   "cell_type": "code",
   "execution_count": 4,
   "metadata": {},
   "outputs": [
    {
     "data": {
      "text/plain": [
       "['../../results_20180423/test configuration with 2 genes in 50 transcripts, 100 ribosomes, deltat=0.05s_20180423_1546_100_ribosomes_0200s.p',\n",
       " '../../results_20180423/test configuration with 2 genes in 50 transcripts, 10 ribosomes, deltat=0.05s_20180423_1545_10_ribosomes_0200s.p',\n",
       " '../../results_20180423/test configuration with 2 genes in 50 transcripts, 1 ribosomes, deltat=0.05s_20180423_1545_1_ribosomes_0200s.p',\n",
       " '../../results_20180423/test configuration with 2 genes in 50 transcripts, 200 ribosomes, deltat=0.05s_20180423_1547_200_ribosomes_0200s.p',\n",
       " '../../results_20180423/test configuration with 2 genes in 50 transcripts, 20 ribosomes, deltat=0.05s_20180423_1545_20_ribosomes_0200s.p',\n",
       " '../../results_20180423/test configuration with 2 genes in 50 transcripts, 2 ribosomes, deltat=0.05s_20180423_1545_2_ribosomes_0200s.p',\n",
       " '../../results_20180423/test configuration with 2 genes in 50 transcripts, 30 ribosomes, deltat=0.05s_20180423_1545_30_ribosomes_0200s.p',\n",
       " '../../results_20180423/test configuration with 2 genes in 50 transcripts, 3 ribosomes, deltat=0.05s_20180423_1545_3_ribosomes_0200s.p',\n",
       " '../../results_20180423/test configuration with 2 genes in 50 transcripts, 50 ribosomes, deltat=0.05s_20180423_1546_50_ribosomes_0200s.p',\n",
       " '../../results_20180423/test configuration with 2 genes in 50 transcripts, 5 ribosomes, deltat=0.05s_20180423_1545_5_ribosomes_0200s.p',\n",
       " '../../results_20180423/test configuration with 2 genes in 50 transcripts, 80 ribosomes, deltat=0.05s_20180423_1546_80_ribosomes_0200s.p',\n",
       " '../../results_20180423/test configuration with 2 genes in 50 transcripts, 8 ribosomes, deltat=0.05s_20180423_1545_8_ribosomes_0200s.p']"
      ]
     },
     "execution_count": 4,
     "metadata": {},
     "output_type": "execute_result"
    }
   ],
   "source": [
    "files = !ls {dirname}\n",
    "files = [os.path.join(dirname, filename) for filename in files]\n",
    "files"
   ]
  },
  {
   "cell_type": "markdown",
   "metadata": {},
   "source": [
    "Blacklisted species:"
   ]
  },
  {
   "cell_type": "code",
   "execution_count": 5,
   "metadata": {},
   "outputs": [],
   "source": [
    "blacklist = ['ribos._bound', 'ribos._free', 'tRNA_free', 'tRNA_bound', 'ATP', 'GTP', 'AMP', 'GDP', 'protein', \n",
    "             'proteins', 'peptide_bonds']"
   ]
  },
  {
   "cell_type": "markdown",
   "metadata": {},
   "source": [
    "Data frame at cell level:"
   ]
  },
  {
   "cell_type": "code",
   "execution_count": 6,
   "metadata": {},
   "outputs": [],
   "source": [
    "dfc = pd.DataFrame(columns=['ribosomes', 'transcripts', 'collisions', 'nocollisions', 'peptide_bonds'])"
   ]
  },
  {
   "cell_type": "code",
   "execution_count": 7,
   "metadata": {},
   "outputs": [
    {
     "name": "stdout",
     "output_type": "stream",
     "text": [
      "../../results_20180423/test configuration with 2 genes in 50 transcripts, 100 ribosomes, deltat=0.05s_20180423_1546_100_ribosomes_0200s.p\n",
      "cell level...\n",
      "transcript level...\n",
      "gene level...\n"
     ]
    },
    {
     "name": "stderr",
     "output_type": "stream",
     "text": [
      "/home/martin/.local/lib/python2.7/site-packages/numpy/core/fromnumeric.py:2957: RuntimeWarning: Mean of empty slice.\n",
      "  out=out, **kwargs)\n",
      "/home/martin/.local/lib/python2.7/site-packages/numpy/core/_methods.py:80: RuntimeWarning: invalid value encountered in double_scalars\n",
      "  ret = ret.dtype.type(ret / rcount)\n"
     ]
    },
    {
     "ename": "IndexError",
     "evalue": "list index out of range",
     "output_type": "error",
     "traceback": [
      "\u001b[0;31m------------------------------------------------------------------------\u001b[0m",
      "\u001b[0;31mIndexError\u001b[0m                             Traceback (most recent call last)",
      "\u001b[0;32m<ipython-input-7-8251a7d76456>\u001b[0m in \u001b[0;36m<module>\u001b[0;34m()\u001b[0m\n\u001b[1;32m     30\u001b[0m     \u001b[0mheader\u001b[0m \u001b[0;34m=\u001b[0m \u001b[0mstr\u001b[0m\u001b[0;34m(\u001b[0m\u001b[0mresults\u001b[0m\u001b[0;34m[\u001b[0m\u001b[0;34m'n_ribosomes'\u001b[0m\u001b[0;34m]\u001b[0m\u001b[0;34m)\u001b[0m \u001b[0;34m+\u001b[0m \u001b[0;34m'_'\u001b[0m \u001b[0;34m+\u001b[0m \u001b[0mstr\u001b[0m\u001b[0;34m(\u001b[0m\u001b[0mlen\u001b[0m\u001b[0;34m(\u001b[0m\u001b[0mresults\u001b[0m\u001b[0;34m[\u001b[0m\u001b[0;34m'transcriptome'\u001b[0m\u001b[0;34m]\u001b[0m\u001b[0;34m)\u001b[0m\u001b[0;34m)\u001b[0m\u001b[0;34m\u001b[0m\u001b[0m\n\u001b[1;32m     31\u001b[0m     \u001b[0mtc\u001b[0m \u001b[0;34m=\u001b[0m \u001b[0mresults\u001b[0m\u001b[0;34m[\u001b[0m\u001b[0;34m'timecourses'\u001b[0m\u001b[0;34m]\u001b[0m\u001b[0;34m\u001b[0m\u001b[0m\n\u001b[0;32m---> 32\u001b[0;31m     \u001b[0mefficiency_items\u001b[0m \u001b[0;34m=\u001b[0m \u001b[0;34m[\u001b[0m\u001b[0;34m(\u001b[0m\u001b[0mgene\u001b[0m\u001b[0;34m,\u001b[0m \u001b[0;34m(\u001b[0m\u001b[0mtc\u001b[0m\u001b[0;34m[\u001b[0m\u001b[0mgene\u001b[0m\u001b[0;34m]\u001b[0m\u001b[0;34m[\u001b[0m\u001b[0;34m-\u001b[0m\u001b[0;36m1\u001b[0m\u001b[0;34m]\u001b[0m \u001b[0;34m-\u001b[0m \u001b[0mtc\u001b[0m\u001b[0;34m[\u001b[0m\u001b[0mgene\u001b[0m\u001b[0;34m]\u001b[0m\u001b[0;34m[\u001b[0m\u001b[0;34m-\u001b[0m\u001b[0;36m6001\u001b[0m\u001b[0;34m]\u001b[0m\u001b[0;34m)\u001b[0m \u001b[0;34m/\u001b[0m \u001b[0;36m300.\u001b[0m\u001b[0;34m)\u001b[0m \u001b[0;32mfor\u001b[0m \u001b[0mgene\u001b[0m \u001b[0;32min\u001b[0m \u001b[0mtc\u001b[0m \u001b[0;32mif\u001b[0m \u001b[0mgene\u001b[0m \u001b[0;32mnot\u001b[0m \u001b[0;32min\u001b[0m \u001b[0mblacklist\u001b[0m\u001b[0;34m]\u001b[0m\u001b[0;34m\u001b[0m\u001b[0m\n\u001b[0m\u001b[1;32m     33\u001b[0m     \u001b[0mtmp\u001b[0m \u001b[0;34m=\u001b[0m \u001b[0mpd\u001b[0m\u001b[0;34m.\u001b[0m\u001b[0mDataFrame\u001b[0m\u001b[0;34m(\u001b[0m\u001b[0mefficiency_items\u001b[0m\u001b[0;34m,\u001b[0m \u001b[0mcolumns\u001b[0m \u001b[0;34m=\u001b[0m \u001b[0;34m[\u001b[0m\u001b[0;34m'gene'\u001b[0m\u001b[0;34m,\u001b[0m \u001b[0mheader\u001b[0m\u001b[0;34m]\u001b[0m\u001b[0;34m)\u001b[0m\u001b[0;34m.\u001b[0m\u001b[0mset_index\u001b[0m\u001b[0;34m(\u001b[0m\u001b[0;34m'gene'\u001b[0m\u001b[0;34m)\u001b[0m\u001b[0;34m\u001b[0m\u001b[0m\n\u001b[1;32m     34\u001b[0m \u001b[0;34m\u001b[0m\u001b[0m\n",
      "\u001b[0;31mIndexError\u001b[0m: list index out of range"
     ]
    }
   ],
   "source": [
    "rows = []\n",
    "dft_columns = ['length', 'init_rate', 'ribosomes', 'tic_toc', 'geneID', 'transcripts', 'index']\n",
    "\n",
    "for i, filename in enumerate(files):\n",
    "    print filename\n",
    "    results = pkl.load(open(filename))\n",
    "    \n",
    "    # append to cell level data frame\n",
    "    print 'cell level...'\n",
    "    rowvals = [results['n_ribosomes'], len(results['transcriptome']), results['collisions'], \n",
    "               results['nocollisions'], results['peptide_bonds']]\n",
    "    row = dict(zip(list(dfc.columns), rowvals))\n",
    "    #print row\n",
    "    dfc = dfc.append(row, ignore_index=True)\n",
    "    #print dfc.head()\n",
    "    \n",
    "    # append to transcript level data frame\n",
    "    print 'transcript level...'\n",
    "    \n",
    "    for transcript in results['transcriptome']:\n",
    "        av_time = np.mean([tictoc[1] - tictoc[0] for tictoc in transcript.tic_toc])\n",
    "        rowvals = [transcript.geneID, transcript.index, transcript.init_rate, transcript.length, \n",
    "                   results['n_ribosomes'], av_time, len(results['transcriptome'])]\n",
    "        row = dict(zip(list(dft_columns), rowvals))\n",
    "        #print row\n",
    "        rows.append(row)\n",
    "            \n",
    "    # append to gene level data frame\n",
    "    print 'gene level...'\n",
    "    header = str(results['n_ribosomes']) + '_' + str(len(results['transcriptome']))\n",
    "    tc = results['timecourses']\n",
    "    efficiency_items = [(gene, (tc[gene][-1] - tc[gene][-6001]) / 00.) for gene in tc if gene not in blacklist]\n",
    "    tmp = pd.DataFrame(efficiency_items, columns = ['gene', header]).set_index('gene')\n",
    "    \n",
    "    if i == 0:  # first time\n",
    "        dfg = tmp\n",
    "    else:\n",
    "        dfg = pd.merge(dfg, tmp, left_index=True, right_index=True, how='outer')\n",
    "\n",
    "dfc.sort_values('ribosomes', inplace=True)\n",
    "\n",
    "dft = pd.DataFrame(rows)\n",
    "dft.columns = ['ribosomes', 'transcripts', 'index', 'geneID', 'init_rate', 'length', 'tic_toc']"
   ]
  },
  {
   "cell_type": "code",
   "execution_count": null,
   "metadata": {},
   "outputs": [],
   "source": [
    "dfc"
   ]
  },
  {
   "cell_type": "code",
   "execution_count": null,
   "metadata": {},
   "outputs": [],
   "source": [
    "dft"
   ]
  },
  {
   "cell_type": "code",
   "execution_count": null,
   "metadata": {},
   "outputs": [],
   "source": [
    "dfg"
   ]
  },
  {
   "cell_type": "code",
   "execution_count": null,
   "metadata": {},
   "outputs": [],
   "source": [
    "dfc.to_pickle(dirname + '/dfc' + descriptor + '.p')"
   ]
  },
  {
   "cell_type": "code",
   "execution_count": null,
   "metadata": {},
   "outputs": [],
   "source": [
    "dft.to_pickle(dirname + '/dft' + descriptor + '.p')"
   ]
  },
  {
   "cell_type": "code",
   "execution_count": null,
   "metadata": {},
   "outputs": [],
   "source": [
    "dfg.to_pickle(dirname + '/dfg' + descriptor + '.p')"
   ]
  },
  {
   "cell_type": "markdown",
   "metadata": {},
   "source": [
    "Here we start the analysis (old notebook 17):"
   ]
  },
  {
   "cell_type": "code",
   "execution_count": null,
   "metadata": {},
   "outputs": [],
   "source": [
    "dfc['collisions_percentage'] = dfc['collisions'] / (dfc['collisions'] + dfc['nocollisions'])"
   ]
  },
  {
   "cell_type": "code",
   "execution_count": null,
   "metadata": {},
   "outputs": [],
   "source": [
    "dfc"
   ]
  },
  {
   "cell_type": "code",
   "execution_count": null,
   "metadata": {},
   "outputs": [],
   "source": [
    "ax = dfc.plot(x='ribosomes', y='collisions_percentage', figsize=(10, 7), fontsize=16)\n",
    "ax.legend([\"5 transcripts\"], prop={'size': 16})\n",
    "#plt.show()"
   ]
  },
  {
   "cell_type": "code",
   "execution_count": null,
   "metadata": {},
   "outputs": [],
   "source": [
    "dft_grouped = dft.groupby(['geneID', 'init_rate', 'length', 'ribosomes', 'transcripts'], as_index=False).mean()\n",
    "dft_grouped"
   ]
  },
  {
   "cell_type": "code",
   "execution_count": null,
   "metadata": {},
   "outputs": [],
   "source": []
  },
  {
   "cell_type": "code",
   "execution_count": null,
   "metadata": {},
   "outputs": [],
   "source": []
  }
 ],
 "metadata": {
  "kernelspec": {
   "display_name": "Python 2",
   "language": "python",
   "name": "python2"
  },
  "language_info": {
   "codemirror_mode": {
    "name": "ipython",
    "version": 2
   },
   "file_extension": ".py",
   "mimetype": "text/x-python",
   "name": "python",
   "nbconvert_exporter": "python",
   "pygments_lexer": "ipython2",
   "version": "2.7.12"
  }
 },
 "nbformat": 4,
 "nbformat_minor": 2
}
