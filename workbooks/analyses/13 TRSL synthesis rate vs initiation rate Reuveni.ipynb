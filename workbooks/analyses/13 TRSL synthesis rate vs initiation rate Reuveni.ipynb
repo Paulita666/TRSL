{
 "cells": [
  {
   "cell_type": "code",
   "execution_count": 9,
   "metadata": {},
   "outputs": [],
   "source": [
    "import os.path\n",
    "import pandas as pd\n",
    "import cPickle as pkl"
   ]
  },
  {
   "cell_type": "code",
   "execution_count": 7,
   "metadata": {},
   "outputs": [],
   "source": [
    "homedir = r'/home/martin/git/TRSL/results'"
   ]
  },
  {
   "cell_type": "code",
   "execution_count": 8,
   "metadata": {},
   "outputs": [],
   "source": [
    "runs = [\n",
    "    r'updated Shah transcriptome, full exome, no decay, updated initiation rates according to Shah, initiation rates scaled by 0.01_20180221_1409_200000_ribosomes_1800s.p'\n",
    "    ]"
   ]
  },
  {
   "cell_type": "code",
   "execution_count": 27,
   "metadata": {},
   "outputs": [],
   "source": [
    "scales = [0.01] #, 0.1, 1.0, 10.0, 100.0]"
   ]
  },
  {
   "cell_type": "markdown",
   "metadata": {},
   "source": [
    "Remove numpypy dependence:"
   ]
  },
  {
   "cell_type": "code",
   "execution_count": 11,
   "metadata": {},
   "outputs": [],
   "source": [
    "from tempfile import mkstemp\n",
    "from shutil import move\n",
    "from os import remove, close\n",
    "\n",
    "def replace(file_path, pattern, subst):\n",
    "    #Create temp file\n",
    "    fh, abs_path = mkstemp()\n",
    "    with open(abs_path, 'w') as new_file:\n",
    "        with open(file_path) as old_file:\n",
    "            for line in old_file:\n",
    "                new_file.write(line.replace(pattern, subst))\n",
    "    close(fh)\n",
    "    #Remove original file\n",
    "    remove(file_path)\n",
    "    #Move new file\n",
    "    move(abs_path, file_path)"
   ]
  },
  {
   "cell_type": "code",
   "execution_count": 12,
   "metadata": {},
   "outputs": [],
   "source": [
    "for run in runs:\n",
    "    filepath = os.path.join(homedir, run)\n",
    "    replace(filepath, \"_numpypy.multiarray\", \"numpy.core.multiarray\")"
   ]
  },
  {
   "cell_type": "markdown",
   "metadata": {},
   "source": [
    "Non-proteins:"
   ]
  },
  {
   "cell_type": "code",
   "execution_count": 21,
   "metadata": {},
   "outputs": [],
   "source": [
    "blacklist = ['AMP', 'ATP', 'GDP', 'GTP', \n",
    "             'peptide_bonds', 'proteins', 'ribos._bound', 'ribos._free', 'tRNA_bound', 'tRNA_free', \n",
    "             'tRNA_free_01', 'tRNA_free_02', 'tRNA_free_03', 'tRNA_free_04', 'tRNA_free_05', 'tRNA_free_06', \n",
    "             'tRNA_free_07', 'tRNA_free_08', 'tRNA_free_09', 'tRNA_free_10', 'tRNA_free_11', 'tRNA_free_12', \n",
    "             'tRNA_free_13', 'tRNA_free_14', 'tRNA_free_15', 'tRNA_free_16', 'tRNA_free_17', 'tRNA_free_18', \n",
    "             'tRNA_free_19', 'tRNA_free_20', 'tRNA_free_21', 'tRNA_free_22', 'tRNA_free_23', 'tRNA_free_24', \n",
    "             'tRNA_free_25', 'tRNA_free_27', 'tRNA_free_28', 'tRNA_free_29', 'tRNA_free_30', 'tRNA_free_31', \n",
    "             'tRNA_free_32', 'tRNA_free_33', 'tRNA_free_34', 'tRNA_free_35', 'tRNA_free_36', 'tRNA_free_37', \n",
    "             'tRNA_free_38', 'tRNA_free_39', 'tRNA_free_40', 'tRNA_free_41', 'tRNA_free_42', 'tRNA_free_43']"
   ]
  },
  {
   "cell_type": "code",
   "execution_count": 31,
   "metadata": {},
   "outputs": [],
   "source": [
    "start, stop, step = 6001, 9000, 0.2"
   ]
  },
  {
   "cell_type": "code",
   "execution_count": null,
   "metadata": {},
   "outputs": [
    {
     "name": "stdout",
     "output_type": "stream",
     "text": [
      "0.01\n",
      "updated Shah transcriptome, full exome, no decay, updated initiation rates according to Shah, initiation rates scaled by 0.01_20180221_1409_200000_ribosomes_1800s.p\n"
     ]
    }
   ],
   "source": [
    "for scale, run in zip(scales, runs):\n",
    "    print scale\n",
    "    print run\n",
    "    filepath = os.path.join(homedir, run)\n",
    "    results = pkl.load(open(filepath))\n",
    "\n",
    "    print len(results['timecourses'])\n",
    "    protein_synthesis_rates = {gene: (results['timecourses'][gene][-1] - results['timecourses'][gene][-1-(stop-start)])\n",
    "                               / step / (stop-start) for gene in results['timecourses'] if gene not in blacklist}"
   ]
  },
  {
   "cell_type": "code",
   "execution_count": null,
   "metadata": {},
   "outputs": [],
   "source": []
  }
 ],
 "metadata": {
  "kernelspec": {
   "display_name": "Python 2",
   "language": "python",
   "name": "python2"
  },
  "language_info": {
   "codemirror_mode": {
    "name": "ipython",
    "version": 2
   },
   "file_extension": ".py",
   "mimetype": "text/x-python",
   "name": "python",
   "nbconvert_exporter": "python",
   "pygments_lexer": "ipython2",
   "version": "2.7.12"
  }
 },
 "nbformat": 4,
 "nbformat_minor": 2
}
