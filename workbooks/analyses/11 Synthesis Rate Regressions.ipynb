{
 "cells": [
  {
   "cell_type": "markdown",
   "metadata": {},
   "source": [
    "# Synthesis Rate Regressions"
   ]
  },
  {
   "cell_type": "code",
   "execution_count": 41,
   "metadata": {},
   "outputs": [],
   "source": [
    "import cPickle as pkl\n",
    "import numpy as np\n",
    "import pandas as pd\n",
    "\n",
    "from sklearn import linear_model\n",
    "from sklearn.metrics import mean_squared_error, r2_score"
   ]
  },
  {
   "cell_type": "markdown",
   "metadata": {},
   "source": [
    "## 1. Get data"
   ]
  },
  {
   "cell_type": "markdown",
   "metadata": {},
   "source": [
    "Regression data:"
   ]
  },
  {
   "cell_type": "code",
   "execution_count": 42,
   "metadata": {},
   "outputs": [],
   "source": [
    "regression_data = pkl.load(open(\"../../parameters/regression_data_small.p\", \"rb\"))"
   ]
  },
  {
   "cell_type": "markdown",
   "metadata": {},
   "source": [
    "This is the data from notebook 09."
   ]
  },
  {
   "cell_type": "code",
   "execution_count": 43,
   "metadata": {},
   "outputs": [],
   "source": [
    "regression_data.columns = ['name', 'tic toc [s]', 'ORF length [nts]', 'elongation speed [nts/s]', 'transcripts', \n",
    "                           'synth. rate [molecules/s]', 'synth. rate per transcript [molecules/transcript/s]', \n",
    "                           'tAI', 'p_init', 'elongation rate [1/s]', 'time per initiation [s]', \n",
    "                           'time per protein [s]']"
   ]
  },
  {
   "cell_type": "markdown",
   "metadata": {},
   "source": [
    "\"Experimental\" synthesis rates (https://www.ncbi.nlm.nih.gov/pubmed/12660367):"
   ]
  },
  {
   "cell_type": "code",
   "execution_count": 44,
   "metadata": {},
   "outputs": [],
   "source": [
    "synth_arava = pd.DataFrame(pd.Series(pkl.load(open(\"../../parameters/prot_arava.p\", \"rb\"))))\n",
    "synth_arava.columns = ['synth. rate exp. [molecules/s]']"
   ]
  },
  {
   "cell_type": "code",
   "execution_count": 45,
   "metadata": {},
   "outputs": [
    {
     "data": {
      "text/html": [
       "<div>\n",
       "<style scoped>\n",
       "    .dataframe tbody tr th:only-of-type {\n",
       "        vertical-align: middle;\n",
       "    }\n",
       "\n",
       "    .dataframe tbody tr th {\n",
       "        vertical-align: top;\n",
       "    }\n",
       "\n",
       "    .dataframe thead th {\n",
       "        text-align: right;\n",
       "    }\n",
       "</style>\n",
       "<table border=\"1\" class=\"dataframe\">\n",
       "  <thead>\n",
       "    <tr style=\"text-align: right;\">\n",
       "      <th></th>\n",
       "      <th>synth. rate exp. [molecules/s]</th>\n",
       "    </tr>\n",
       "  </thead>\n",
       "  <tbody>\n",
       "    <tr>\n",
       "      <th>YPR199C</th>\n",
       "      <td>0.079946</td>\n",
       "    </tr>\n",
       "    <tr>\n",
       "      <th>YPR200C</th>\n",
       "      <td>0.224314</td>\n",
       "    </tr>\n",
       "    <tr>\n",
       "      <th>YPR202W</th>\n",
       "      <td>0.002615</td>\n",
       "    </tr>\n",
       "    <tr>\n",
       "      <th>YPR203W</th>\n",
       "      <td>0.051853</td>\n",
       "    </tr>\n",
       "    <tr>\n",
       "      <th>YPR204W</th>\n",
       "      <td>0.001113</td>\n",
       "    </tr>\n",
       "  </tbody>\n",
       "</table>\n",
       "</div>"
      ],
      "text/plain": [
       "         synth. rate exp. [molecules/s]\n",
       "YPR199C                        0.079946\n",
       "YPR200C                        0.224314\n",
       "YPR202W                        0.002615\n",
       "YPR203W                        0.051853\n",
       "YPR204W                        0.001113"
      ]
     },
     "execution_count": 45,
     "metadata": {},
     "output_type": "execute_result"
    }
   ],
   "source": [
    "synth_arava.tail()"
   ]
  },
  {
   "cell_type": "code",
   "execution_count": 46,
   "metadata": {},
   "outputs": [],
   "source": [
    "regression_data = pd.merge(regression_data, synth_arava, left_on='name', right_index=True, how='left')"
   ]
  },
  {
   "cell_type": "code",
   "execution_count": 47,
   "metadata": {},
   "outputs": [],
   "source": [
    "regression_data['synth. rate exp. per transcript [molecules/s]'] = regression_data['synth. rate exp. [molecules/s]'] / regression_data['transcripts']"
   ]
  },
  {
   "cell_type": "code",
   "execution_count": 48,
   "metadata": {},
   "outputs": [
    {
     "data": {
      "text/html": [
       "<div>\n",
       "<style scoped>\n",
       "    .dataframe tbody tr th:only-of-type {\n",
       "        vertical-align: middle;\n",
       "    }\n",
       "\n",
       "    .dataframe tbody tr th {\n",
       "        vertical-align: top;\n",
       "    }\n",
       "\n",
       "    .dataframe thead th {\n",
       "        text-align: right;\n",
       "    }\n",
       "</style>\n",
       "<table border=\"1\" class=\"dataframe\">\n",
       "  <thead>\n",
       "    <tr style=\"text-align: right;\">\n",
       "      <th></th>\n",
       "      <th>name</th>\n",
       "      <th>tic toc [s]</th>\n",
       "      <th>ORF length [nts]</th>\n",
       "      <th>elongation speed [nts/s]</th>\n",
       "      <th>transcripts</th>\n",
       "      <th>synth. rate [molecules/s]</th>\n",
       "      <th>synth. rate per transcript [molecules/transcript/s]</th>\n",
       "      <th>tAI</th>\n",
       "      <th>p_init</th>\n",
       "      <th>elongation rate [1/s]</th>\n",
       "      <th>time per initiation [s]</th>\n",
       "      <th>time per protein [s]</th>\n",
       "      <th>synth. rate exp. [molecules/s]</th>\n",
       "      <th>synth. rate exp. per transcript [molecules/s]</th>\n",
       "    </tr>\n",
       "  </thead>\n",
       "  <tbody>\n",
       "    <tr>\n",
       "      <th>4470</th>\n",
       "      <td>YJL081C</td>\n",
       "      <td>71.884435</td>\n",
       "      <td>1470</td>\n",
       "      <td>20.449490</td>\n",
       "      <td>5</td>\n",
       "      <td>0.150287</td>\n",
       "      <td>0.030057</td>\n",
       "      <td>0.375582</td>\n",
       "      <td>9.111658e-07</td>\n",
       "      <td>0.013911</td>\n",
       "      <td>1.097495e+06</td>\n",
       "      <td>33.269598</td>\n",
       "      <td>0.072179</td>\n",
       "      <td>0.014436</td>\n",
       "    </tr>\n",
       "    <tr>\n",
       "      <th>4471</th>\n",
       "      <td>YMR127C</td>\n",
       "      <td>60.685714</td>\n",
       "      <td>1017</td>\n",
       "      <td>16.758475</td>\n",
       "      <td>1</td>\n",
       "      <td>0.022414</td>\n",
       "      <td>0.022414</td>\n",
       "      <td>0.323240</td>\n",
       "      <td>5.499448e-07</td>\n",
       "      <td>0.016478</td>\n",
       "      <td>1.818364e+06</td>\n",
       "      <td>44.615385</td>\n",
       "      <td>0.062877</td>\n",
       "      <td>0.062877</td>\n",
       "    </tr>\n",
       "    <tr>\n",
       "      <th>4472</th>\n",
       "      <td>YPL013C</td>\n",
       "      <td>19.936467</td>\n",
       "      <td>366</td>\n",
       "      <td>18.358318</td>\n",
       "      <td>5</td>\n",
       "      <td>0.318984</td>\n",
       "      <td>0.063797</td>\n",
       "      <td>0.308066</td>\n",
       "      <td>2.289991e-06</td>\n",
       "      <td>0.050159</td>\n",
       "      <td>4.366829e+05</td>\n",
       "      <td>15.674775</td>\n",
       "      <td>NaN</td>\n",
       "      <td>NaN</td>\n",
       "    </tr>\n",
       "    <tr>\n",
       "      <th>4473</th>\n",
       "      <td>YLR440C</td>\n",
       "      <td>97.862222</td>\n",
       "      <td>2130</td>\n",
       "      <td>21.765294</td>\n",
       "      <td>2</td>\n",
       "      <td>0.072126</td>\n",
       "      <td>0.036063</td>\n",
       "      <td>0.368466</td>\n",
       "      <td>1.186173e-06</td>\n",
       "      <td>0.010218</td>\n",
       "      <td>8.430470e+05</td>\n",
       "      <td>27.729084</td>\n",
       "      <td>0.000000</td>\n",
       "      <td>0.000000</td>\n",
       "    </tr>\n",
       "    <tr>\n",
       "      <th>4474</th>\n",
       "      <td>YLR192C</td>\n",
       "      <td>26.893313</td>\n",
       "      <td>798</td>\n",
       "      <td>29.672804</td>\n",
       "      <td>22</td>\n",
       "      <td>2.742112</td>\n",
       "      <td>0.124641</td>\n",
       "      <td>0.510948</td>\n",
       "      <td>4.290874e-06</td>\n",
       "      <td>0.037184</td>\n",
       "      <td>2.330528e+05</td>\n",
       "      <td>8.023014</td>\n",
       "      <td>0.444057</td>\n",
       "      <td>0.020184</td>\n",
       "    </tr>\n",
       "  </tbody>\n",
       "</table>\n",
       "</div>"
      ],
      "text/plain": [
       "         name  tic toc [s]  ORF length [nts]  elongation speed [nts/s]  \\\n",
       "4470  YJL081C    71.884435              1470                 20.449490   \n",
       "4471  YMR127C    60.685714              1017                 16.758475   \n",
       "4472  YPL013C    19.936467               366                 18.358318   \n",
       "4473  YLR440C    97.862222              2130                 21.765294   \n",
       "4474  YLR192C    26.893313               798                 29.672804   \n",
       "\n",
       "      transcripts  synth. rate [molecules/s]  \\\n",
       "4470            5                   0.150287   \n",
       "4471            1                   0.022414   \n",
       "4472            5                   0.318984   \n",
       "4473            2                   0.072126   \n",
       "4474           22                   2.742112   \n",
       "\n",
       "      synth. rate per transcript [molecules/transcript/s]       tAI  \\\n",
       "4470                                           0.030057    0.375582   \n",
       "4471                                           0.022414    0.323240   \n",
       "4472                                           0.063797    0.308066   \n",
       "4473                                           0.036063    0.368466   \n",
       "4474                                           0.124641    0.510948   \n",
       "\n",
       "            p_init  elongation rate [1/s]  time per initiation [s]  \\\n",
       "4470  9.111658e-07               0.013911             1.097495e+06   \n",
       "4471  5.499448e-07               0.016478             1.818364e+06   \n",
       "4472  2.289991e-06               0.050159             4.366829e+05   \n",
       "4473  1.186173e-06               0.010218             8.430470e+05   \n",
       "4474  4.290874e-06               0.037184             2.330528e+05   \n",
       "\n",
       "      time per protein [s]  synth. rate exp. [molecules/s]  \\\n",
       "4470             33.269598                        0.072179   \n",
       "4471             44.615385                        0.062877   \n",
       "4472             15.674775                             NaN   \n",
       "4473             27.729084                        0.000000   \n",
       "4474              8.023014                        0.444057   \n",
       "\n",
       "      synth. rate exp. per transcript [molecules/s]  \n",
       "4470                                       0.014436  \n",
       "4471                                       0.062877  \n",
       "4472                                            NaN  \n",
       "4473                                       0.000000  \n",
       "4474                                       0.020184  "
      ]
     },
     "execution_count": 48,
     "metadata": {},
     "output_type": "execute_result"
    }
   ],
   "source": [
    "regression_data.tail()"
   ]
  },
  {
   "cell_type": "markdown",
   "metadata": {},
   "source": [
    "## 2. Linear regression setup"
   ]
  },
  {
   "cell_type": "code",
   "execution_count": 49,
   "metadata": {},
   "outputs": [],
   "source": [
    "ntest = 100"
   ]
  },
  {
   "cell_type": "markdown",
   "metadata": {},
   "source": [
    "Utility function to produce regression data from a data frame:"
   ]
  },
  {
   "cell_type": "code",
   "execution_count": 50,
   "metadata": {},
   "outputs": [],
   "source": [
    "def regression_data_from_frame(frame, x_list, y, ntest=100):\n",
    "    regression_x = np.array(frame[x_list])\n",
    "\n",
    "    # Split the data into training/testing sets\n",
    "    x_train = regression_x[:-ntest]\n",
    "    x_test = regression_x[-ntest:]\n",
    "\n",
    "    # Split the targets into training/testing sets\n",
    "    y_train = np.array(frame[y][:-ntest])\n",
    "    y_test = np.array(frame[y][-ntest:])\n",
    "    return x_train, y_train, x_test, y_test"
   ]
  },
  {
   "cell_type": "code",
   "execution_count": 51,
   "metadata": {},
   "outputs": [],
   "source": [
    "def build_linear_model(x_train, y_train, x_test, y_test, fit_intercept=True):\n",
    "    # Create linear regression object\n",
    "    regr = linear_model.LinearRegression(fit_intercept=fit_intercept)\n",
    "\n",
    "    # Train the model using the training sets\n",
    "    regr.fit(x_train, y_train)\n",
    "\n",
    "    # Make predictions using the testing set\n",
    "    y_pred = regr.predict(x_test)\n",
    "\n",
    "    # The coefficients\n",
    "    print 'Coefficients: ', regr.coef_\n",
    "    print 'Intercept: ', regr.intercept_\n",
    "\n",
    "    # The mean squared error\n",
    "    print \"Mean squared error: %.2f\" % mean_squared_error(y_test, y_pred)\n",
    "\n",
    "    # Explained variance score: 1 is perfect prediction\n",
    "    print 'R² score: %.2f' % r2_score(y_test, y_pred)\n",
    "    \n",
    "    return regr"
   ]
  },
  {
   "cell_type": "markdown",
   "metadata": {},
   "source": [
    "TODO: residuals!"
   ]
  },
  {
   "cell_type": "markdown",
   "metadata": {},
   "source": [
    "## 3. Build some models"
   ]
  },
  {
   "cell_type": "markdown",
   "metadata": {},
   "source": [
    "### 3.1 Univariate models against synthetic rates"
   ]
  },
  {
   "cell_type": "markdown",
   "metadata": {},
   "source": [
    "#### 3.1.1 tAI"
   ]
  },
  {
   "cell_type": "code",
   "execution_count": 52,
   "metadata": {
    "scrolled": true
   },
   "outputs": [],
   "source": [
    "x_train, y_train, x_test, y_test = regression_data_from_frame(regression_data, \n",
    "                                                              ['tAI'], \n",
    "                                                              'synth. rate per transcript [molecules/transcript/s]', \n",
    "                                                              ntest=100)"
   ]
  },
  {
   "cell_type": "code",
   "execution_count": 53,
   "metadata": {},
   "outputs": [
    {
     "name": "stdout",
     "output_type": "stream",
     "text": [
      "Coefficients:  [ 0.38154187]\n",
      "Intercept:  -0.102180635748\n",
      "Mean squared error: 0.00\n",
      "R² score: 0.52\n"
     ]
    },
    {
     "data": {
      "text/plain": [
       "LinearRegression(copy_X=True, fit_intercept=True, n_jobs=1, normalize=False)"
      ]
     },
     "execution_count": 53,
     "metadata": {},
     "output_type": "execute_result"
    }
   ],
   "source": [
    "build_linear_model(x_train, y_train, x_test, y_test, fit_intercept=True)"
   ]
  },
  {
   "cell_type": "markdown",
   "metadata": {},
   "source": [
    "#### 3.1.2 $p_I$"
   ]
  },
  {
   "cell_type": "code",
   "execution_count": 54,
   "metadata": {},
   "outputs": [],
   "source": [
    "x_train, y_train, x_test, y_test = regression_data_from_frame(regression_data, \n",
    "                                                              ['p_init'], \n",
    "                                                              'synth. rate per transcript [molecules/transcript/s]', \n",
    "                                                              ntest=100)"
   ]
  },
  {
   "cell_type": "code",
   "execution_count": 55,
   "metadata": {},
   "outputs": [
    {
     "name": "stdout",
     "output_type": "stream",
     "text": [
      "Coefficients:  [ 27584.3509447]\n",
      "Intercept:  0.00354864175085\n",
      "Mean squared error: 0.00\n",
      "R² score: 0.99\n"
     ]
    },
    {
     "data": {
      "text/plain": [
       "LinearRegression(copy_X=True, fit_intercept=True, n_jobs=1, normalize=False)"
      ]
     },
     "execution_count": 55,
     "metadata": {},
     "output_type": "execute_result"
    }
   ],
   "source": [
    "build_linear_model(x_train, y_train, x_test, y_test, fit_intercept=True)"
   ]
  },
  {
   "cell_type": "code",
   "execution_count": 56,
   "metadata": {},
   "outputs": [
    {
     "name": "stdout",
     "output_type": "stream",
     "text": [
      "Coefficients:  [ 29140.88338432]\n",
      "Intercept:  0.0\n",
      "Mean squared error: 0.00\n",
      "R² score: 0.99\n"
     ]
    },
    {
     "data": {
      "text/plain": [
       "LinearRegression(copy_X=True, fit_intercept=False, n_jobs=1, normalize=False)"
      ]
     },
     "execution_count": 56,
     "metadata": {},
     "output_type": "execute_result"
    }
   ],
   "source": [
    "build_linear_model(x_train, y_train, x_test, y_test, fit_intercept=False)"
   ]
  },
  {
   "cell_type": "markdown",
   "metadata": {},
   "source": [
    "### 3.2 Univariate models against experimental rates"
   ]
  },
  {
   "cell_type": "markdown",
   "metadata": {},
   "source": [
    "#### 3.2.1 tAI"
   ]
  },
  {
   "cell_type": "code",
   "execution_count": 57,
   "metadata": {},
   "outputs": [],
   "source": [
    "x_train, y_train, x_test, y_test = regression_data_from_frame(regression_data[regression_data['synth. rate exp. per transcript [molecules/s]'].notnull()], \n",
    "                                                              ['tAI'], \n",
    "                                                              'synth. rate exp. per transcript [molecules/s]', \n",
    "                                                              ntest=100)"
   ]
  },
  {
   "cell_type": "code",
   "execution_count": 58,
   "metadata": {},
   "outputs": [
    {
     "name": "stdout",
     "output_type": "stream",
     "text": [
      "Coefficients:  [-0.10892593]\n",
      "Intercept:  0.0803804666481\n",
      "Mean squared error: 0.00\n",
      "R² score: 0.03\n"
     ]
    },
    {
     "data": {
      "text/plain": [
       "LinearRegression(copy_X=True, fit_intercept=True, n_jobs=1, normalize=False)"
      ]
     },
     "execution_count": 58,
     "metadata": {},
     "output_type": "execute_result"
    }
   ],
   "source": [
    "build_linear_model(x_train, y_train, x_test, y_test, fit_intercept=True)"
   ]
  },
  {
   "cell_type": "code",
   "execution_count": 59,
   "metadata": {},
   "outputs": [],
   "source": [
    "x_train, y_train, x_test, y_test = regression_data_from_frame(regression_data[regression_data['synth. rate exp. [molecules/s]'].notnull()], \n",
    "                                                              ['tAI'], \n",
    "                                                              'synth. rate exp. [molecules/s]', \n",
    "                                                              ntest=100)"
   ]
  },
  {
   "cell_type": "code",
   "execution_count": 60,
   "metadata": {},
   "outputs": [
    {
     "name": "stdout",
     "output_type": "stream",
     "text": [
      "Coefficients:  [ 7.88581603]\n",
      "Intercept:  -2.808006281\n",
      "Mean squared error: 0.19\n",
      "R² score: 0.43\n"
     ]
    },
    {
     "data": {
      "text/plain": [
       "LinearRegression(copy_X=True, fit_intercept=True, n_jobs=1, normalize=False)"
      ]
     },
     "execution_count": 60,
     "metadata": {},
     "output_type": "execute_result"
    }
   ],
   "source": [
    "build_linear_model(x_train, y_train, x_test, y_test, fit_intercept=True)"
   ]
  },
  {
   "cell_type": "markdown",
   "metadata": {},
   "source": [
    "Interesting - the unnormalized works, the normalized does not; TODO: check Arava et al. (2003) paper!"
   ]
  },
  {
   "cell_type": "markdown",
   "metadata": {},
   "source": [
    "#### 3.2.2 $p_I$"
   ]
  },
  {
   "cell_type": "code",
   "execution_count": 61,
   "metadata": {},
   "outputs": [],
   "source": [
    "x_train, y_train, x_test, y_test = regression_data_from_frame(regression_data[regression_data['synth. rate exp. per transcript [molecules/s]'].notnull()], \n",
    "                                                              ['p_init'], \n",
    "                                                              'synth. rate exp. per transcript [molecules/s]', \n",
    "                                                              ntest=100)"
   ]
  },
  {
   "cell_type": "code",
   "execution_count": 62,
   "metadata": {},
   "outputs": [
    {
     "name": "stdout",
     "output_type": "stream",
     "text": [
      "Coefficients:  [ 4358.97672646]\n",
      "Intercept:  0.0311422680025\n",
      "Mean squared error: 0.00\n",
      "R² score: -0.02\n"
     ]
    },
    {
     "data": {
      "text/plain": [
       "LinearRegression(copy_X=True, fit_intercept=True, n_jobs=1, normalize=False)"
      ]
     },
     "execution_count": 62,
     "metadata": {},
     "output_type": "execute_result"
    }
   ],
   "source": [
    "build_linear_model(x_train, y_train, x_test, y_test, fit_intercept=True)"
   ]
  },
  {
   "cell_type": "code",
   "execution_count": 63,
   "metadata": {},
   "outputs": [],
   "source": [
    "x_train, y_train, x_test, y_test = regression_data_from_frame(regression_data[regression_data['synth. rate exp. [molecules/s]'].notnull()], \n",
    "                                                              ['p_init'], \n",
    "                                                              'synth. rate exp. [molecules/s]', \n",
    "                                                              ntest=100)"
   ]
  },
  {
   "cell_type": "code",
   "execution_count": 64,
   "metadata": {},
   "outputs": [
    {
     "name": "stdout",
     "output_type": "stream",
     "text": [
      "Coefficients:  [ 412838.91734464]\n",
      "Intercept:  -0.379220718624\n",
      "Mean squared error: 0.18\n",
      "R² score: 0.46\n"
     ]
    },
    {
     "data": {
      "text/plain": [
       "LinearRegression(copy_X=True, fit_intercept=True, n_jobs=1, normalize=False)"
      ]
     },
     "execution_count": 64,
     "metadata": {},
     "output_type": "execute_result"
    }
   ],
   "source": [
    "build_linear_model(x_train, y_train, x_test, y_test, fit_intercept=True)"
   ]
  },
  {
   "cell_type": "code",
   "execution_count": 65,
   "metadata": {},
   "outputs": [
    {
     "name": "stdout",
     "output_type": "stream",
     "text": [
      "Coefficients:  [ 246693.46750851]\n",
      "Intercept:  0.0\n",
      "Mean squared error: 0.21\n",
      "R² score: 0.37\n"
     ]
    },
    {
     "data": {
      "text/plain": [
       "LinearRegression(copy_X=True, fit_intercept=False, n_jobs=1, normalize=False)"
      ]
     },
     "execution_count": 65,
     "metadata": {},
     "output_type": "execute_result"
    }
   ],
   "source": [
    "build_linear_model(x_train, y_train, x_test, y_test, fit_intercept=False)"
   ]
  },
  {
   "cell_type": "markdown",
   "metadata": {},
   "source": [
    "### 3.3 Multivariate models against synthetic rates"
   ]
  },
  {
   "cell_type": "code",
   "execution_count": 66,
   "metadata": {},
   "outputs": [],
   "source": [
    "x_train, y_train, x_test, y_test = regression_data_from_frame(regression_data, \n",
    "                                                              ['p_init', 'tAI'], \n",
    "                                                              'synth. rate per transcript [molecules/transcript/s]', \n",
    "                                                              ntest=100)"
   ]
  },
  {
   "cell_type": "code",
   "execution_count": 67,
   "metadata": {},
   "outputs": [
    {
     "name": "stdout",
     "output_type": "stream",
     "text": [
      "Coefficients:  [  2.71259851e+04   1.12044668e-02]\n",
      "Intercept:  -0.000103149288903\n",
      "Mean squared error: 0.00\n",
      "R² score: 0.99\n"
     ]
    },
    {
     "data": {
      "text/plain": [
       "LinearRegression(copy_X=True, fit_intercept=True, n_jobs=1, normalize=False)"
      ]
     },
     "execution_count": 67,
     "metadata": {},
     "output_type": "execute_result"
    }
   ],
   "source": [
    "build_linear_model(x_train, y_train, x_test, y_test, fit_intercept=True)"
   ]
  },
  {
   "cell_type": "markdown",
   "metadata": {},
   "source": [
    "Standardize independent variables to find influence:"
   ]
  },
  {
   "cell_type": "code",
   "execution_count": 68,
   "metadata": {},
   "outputs": [],
   "source": [
    "def normalize(df):\n",
    "    return (df - df.mean()) / df.std()"
   ]
  },
  {
   "cell_type": "code",
   "execution_count": 69,
   "metadata": {},
   "outputs": [],
   "source": [
    "regression_data['p_init_norm'] = normalize(regression_data['p_init'])\n",
    "regression_data['tAI_norm'] = normalize(regression_data['tAI'])"
   ]
  },
  {
   "cell_type": "code",
   "execution_count": 70,
   "metadata": {},
   "outputs": [],
   "source": [
    "x_train, y_train, x_test, y_test = regression_data_from_frame(regression_data, \n",
    "                                                              ['p_init_norm', 'tAI_norm'], \n",
    "                                                              'synth. rate per transcript [molecules/transcript/s]', \n",
    "                                                              ntest=100)"
   ]
  },
  {
   "cell_type": "code",
   "execution_count": 71,
   "metadata": {},
   "outputs": [
    {
     "name": "stdout",
     "output_type": "stream",
     "text": [
      "Coefficients:  [ 0.02875654  0.00065014]\n",
      "Intercept:  0.046432147338\n",
      "Mean squared error: 0.00\n",
      "R² score: 0.99\n"
     ]
    }
   ],
   "source": [
    "regr = build_linear_model(x_train, y_train, x_test, y_test, fit_intercept=True)"
   ]
  },
  {
   "cell_type": "code",
   "execution_count": 72,
   "metadata": {},
   "outputs": [
    {
     "data": {
      "text/plain": [
       "44.231482812858033"
      ]
     },
     "execution_count": 72,
     "metadata": {},
     "output_type": "execute_result"
    }
   ],
   "source": [
    "regr.coef_[0] / regr.coef_[1]"
   ]
  },
  {
   "cell_type": "markdown",
   "metadata": {},
   "source": [
    "The coefficient on $p_I$ is 44x bigger than the coefficient on tAI."
   ]
  },
  {
   "cell_type": "markdown",
   "metadata": {},
   "source": [
    "### 3.4 Multivariate models against experimental rates"
   ]
  },
  {
   "cell_type": "code",
   "execution_count": 73,
   "metadata": {},
   "outputs": [],
   "source": [
    "x_train, y_train, x_test, y_test = regression_data_from_frame(regression_data[regression_data['synth. rate exp. [molecules/s]'].notnull()], \n",
    "                                                              ['p_init', 'tAI'], \n",
    "                                                              'synth. rate exp. per transcript [molecules/s]', \n",
    "                                                              ntest=100)"
   ]
  },
  {
   "cell_type": "code",
   "execution_count": 74,
   "metadata": {},
   "outputs": [
    {
     "name": "stdout",
     "output_type": "stream",
     "text": [
      "Coefficients:  [  2.01318090e+04  -3.85999557e-01]\n",
      "Intercept:  0.156943809494\n",
      "Mean squared error: 0.00\n",
      "R² score: 0.07\n"
     ]
    },
    {
     "data": {
      "text/plain": [
       "LinearRegression(copy_X=True, fit_intercept=True, n_jobs=1, normalize=False)"
      ]
     },
     "execution_count": 74,
     "metadata": {},
     "output_type": "execute_result"
    }
   ],
   "source": [
    "build_linear_model(x_train, y_train, x_test, y_test, fit_intercept=True)"
   ]
  },
  {
   "cell_type": "code",
   "execution_count": 75,
   "metadata": {},
   "outputs": [],
   "source": [
    "x_train, y_train, x_test, y_test = regression_data_from_frame(regression_data[regression_data['synth. rate exp. [molecules/s]'].notnull()], \n",
    "                                                              ['p_init', 'tAI'], \n",
    "                                                              'synth. rate exp. [molecules/s]', \n",
    "                                                              ntest=100)"
   ]
  },
  {
   "cell_type": "code",
   "execution_count": 76,
   "metadata": {},
   "outputs": [
    {
     "name": "stdout",
     "output_type": "stream",
     "text": [
      "Coefficients:  [  2.07046596e+05   5.03623847e+00]\n",
      "Intercept:  -2.02058675313\n",
      "Mean squared error: 0.16\n",
      "R² score: 0.50\n"
     ]
    },
    {
     "data": {
      "text/plain": [
       "LinearRegression(copy_X=True, fit_intercept=True, n_jobs=1, normalize=False)"
      ]
     },
     "execution_count": 76,
     "metadata": {},
     "output_type": "execute_result"
    }
   ],
   "source": [
    "build_linear_model(x_train, y_train, x_test, y_test, fit_intercept=True)"
   ]
  },
  {
   "cell_type": "code",
   "execution_count": 77,
   "metadata": {},
   "outputs": [],
   "source": [
    "x_train, y_train, x_test, y_test = regression_data_from_frame(regression_data[regression_data['synth. rate exp. [molecules/s]'].notnull()], \n",
    "                                                              ['p_init_norm', 'tAI_norm'], \n",
    "                                                              'synth. rate exp. [molecules/s]', \n",
    "                                                              ntest=100)"
   ]
  },
  {
   "cell_type": "code",
   "execution_count": 78,
   "metadata": {},
   "outputs": [
    {
     "name": "stdout",
     "output_type": "stream",
     "text": [
      "Coefficients:  [ 0.21949223  0.29222688]\n",
      "Intercept:  0.262591920129\n",
      "Mean squared error: 0.16\n",
      "R² score: 0.50\n"
     ]
    }
   ],
   "source": [
    "regr = build_linear_model(x_train, y_train, x_test, y_test, fit_intercept=True)"
   ]
  },
  {
   "cell_type": "code",
   "execution_count": 79,
   "metadata": {},
   "outputs": [
    {
     "data": {
      "text/plain": [
       "0.75110211304803087"
      ]
     },
     "execution_count": 79,
     "metadata": {},
     "output_type": "execute_result"
    }
   ],
   "source": [
    "regr.coef_[0] / regr.coef_[1]"
   ]
  },
  {
   "cell_type": "markdown",
   "metadata": {},
   "source": [
    "Approximately the same influence by both variables!"
   ]
  },
  {
   "cell_type": "code",
   "execution_count": 80,
   "metadata": {},
   "outputs": [],
   "source": [
    "pkl.dump(regression_data, open(\"../../parameters/regression_data.p\", \"wb\"))"
   ]
  },
  {
   "cell_type": "markdown",
   "metadata": {},
   "source": [
    "## TODO: residuals and images!"
   ]
  },
  {
   "cell_type": "code",
   "execution_count": null,
   "metadata": {},
   "outputs": [],
   "source": []
  }
 ],
 "metadata": {
  "kernelspec": {
   "display_name": "Python 2",
   "language": "python",
   "name": "python2"
  },
  "language_info": {
   "codemirror_mode": {
    "name": "ipython",
    "version": 2
   },
   "file_extension": ".py",
   "mimetype": "text/x-python",
   "name": "python",
   "nbconvert_exporter": "python",
   "pygments_lexer": "ipython2",
   "version": "2.7.12"
  }
 },
 "nbformat": 4,
 "nbformat_minor": 2
}
