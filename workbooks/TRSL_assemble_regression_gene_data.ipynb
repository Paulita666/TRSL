{
 "cells": [
  {
   "cell_type": "markdown",
   "metadata": {},
   "source": [
    "## Assemble gene-level data for regression analysis"
   ]
  },
  {
   "cell_type": "markdown",
   "metadata": {},
   "source": [
    "Script to combine\n",
    "* protein translation rates\n",
    "* transcript abundancies\n",
    "* initiation probabilities\n",
    "* ORF lengths\n",
    "* Codon Adaptation Indices\n",
    "\n",
    "into one .csv file."
   ]
  },
  {
   "cell_type": "code",
   "execution_count": 1,
   "metadata": {
    "collapsed": true
   },
   "outputs": [],
   "source": [
    "import csv\n",
    "import cPickle as pkl\n",
    "import pandas as pd"
   ]
  },
  {
   "cell_type": "markdown",
   "metadata": {},
   "source": [
    "### 1. Protein translation rates"
   ]
  },
  {
   "cell_type": "markdown",
   "metadata": {},
   "source": [
    "The following protein translation rates are normalized by transcript abundance:"
   ]
  },
  {
   "cell_type": "code",
   "execution_count": 2,
   "metadata": {
    "collapsed": true
   },
   "outputs": [],
   "source": [
    "prot_speeds = pkl.load(open(\"../parameters/prot_speeds.p\"))"
   ]
  },
  {
   "cell_type": "code",
   "execution_count": 3,
   "metadata": {
    "collapsed": false
   },
   "outputs": [
    {
     "data": {
      "text/plain": [
       "count    4475.000000\n",
       "mean        1.546003\n",
       "std         9.023957\n",
       "min         0.001695\n",
       "25%         0.055651\n",
       "50%         0.140960\n",
       "75%         0.431638\n",
       "max       223.223164\n",
       "dtype: float64"
      ]
     },
     "execution_count": 3,
     "metadata": {},
     "output_type": "execute_result"
    }
   ],
   "source": [
    "pd.Series(prot_speeds.values()).describe()"
   ]
  },
  {
   "cell_type": "markdown",
   "metadata": {},
   "source": [
    "Units are finished molecules per second per transcript."
   ]
  },
  {
   "cell_type": "code",
   "execution_count": 4,
   "metadata": {
    "collapsed": true
   },
   "outputs": [],
   "source": [
    "df1 = pd.DataFrame.from_dict(prot_speeds.items())\n",
    "df1.columns = ['gene', 'modelled translation rate [s^-1]']"
   ]
  },
  {
   "cell_type": "code",
   "execution_count": 5,
   "metadata": {
    "collapsed": false
   },
   "outputs": [
    {
     "data": {
      "text/html": [
       "<div>\n",
       "<table border=\"1\" class=\"dataframe\">\n",
       "  <thead>\n",
       "    <tr style=\"text-align: right;\">\n",
       "      <th></th>\n",
       "      <th>gene</th>\n",
       "      <th>modelled translation rate [s^-1]</th>\n",
       "    </tr>\n",
       "  </thead>\n",
       "  <tbody>\n",
       "    <tr>\n",
       "      <th>0</th>\n",
       "      <td>YBR177C</td>\n",
       "      <td>0.354237</td>\n",
       "    </tr>\n",
       "    <tr>\n",
       "      <th>1</th>\n",
       "      <td>YIL140W</td>\n",
       "      <td>0.110455</td>\n",
       "    </tr>\n",
       "    <tr>\n",
       "      <th>2</th>\n",
       "      <td>YLR268W</td>\n",
       "      <td>0.499435</td>\n",
       "    </tr>\n",
       "    <tr>\n",
       "      <th>3</th>\n",
       "      <td>YOR011W</td>\n",
       "      <td>0.010735</td>\n",
       "    </tr>\n",
       "    <tr>\n",
       "      <th>4</th>\n",
       "      <td>YPL043W</td>\n",
       "      <td>0.482203</td>\n",
       "    </tr>\n",
       "  </tbody>\n",
       "</table>\n",
       "</div>"
      ],
      "text/plain": [
       "      gene  modelled translation rate [s^-1]\n",
       "0  YBR177C                          0.354237\n",
       "1  YIL140W                          0.110455\n",
       "2  YLR268W                          0.499435\n",
       "3  YOR011W                          0.010735\n",
       "4  YPL043W                          0.482203"
      ]
     },
     "execution_count": 5,
     "metadata": {},
     "output_type": "execute_result"
    }
   ],
   "source": [
    "df1.head()"
   ]
  },
  {
   "cell_type": "markdown",
   "metadata": {},
   "source": [
    "Measured values from quantitative microarray analysis and subsequent modelling (Arava et al., http://www.pnas.org/content/100/7/3889.full):"
   ]
  },
  {
   "cell_type": "code",
   "execution_count": null,
   "metadata": {
    "collapsed": true
   },
   "outputs": [],
   "source": []
  },
  {
   "cell_type": "code",
   "execution_count": null,
   "metadata": {
    "collapsed": true
   },
   "outputs": [],
   "source": []
  },
  {
   "cell_type": "code",
   "execution_count": null,
   "metadata": {
    "collapsed": true
   },
   "outputs": [],
   "source": []
  },
  {
   "cell_type": "code",
   "execution_count": null,
   "metadata": {
    "collapsed": true
   },
   "outputs": [],
   "source": []
  },
  {
   "cell_type": "markdown",
   "metadata": {},
   "source": [
    "### 2. Transcript abundancies"
   ]
  },
  {
   "cell_type": "markdown",
   "metadata": {},
   "source": [
    "TODO: test also other transcriptomes."
   ]
  },
  {
   "cell_type": "code",
   "execution_count": 6,
   "metadata": {
    "collapsed": true
   },
   "outputs": [],
   "source": [
    "transcriptome = pkl.load(open('../parameters/transcriptome_shah.p'))"
   ]
  },
  {
   "cell_type": "code",
   "execution_count": 7,
   "metadata": {
    "collapsed": false
   },
   "outputs": [
    {
     "data": {
      "text/plain": [
       "count    4839.000000\n",
       "mean       12.400496\n",
       "std        50.939523\n",
       "min         0.000000\n",
       "25%         2.000000\n",
       "50%         3.000000\n",
       "75%         7.000000\n",
       "max      1381.000000\n",
       "dtype: float64"
      ]
     },
     "execution_count": 7,
     "metadata": {},
     "output_type": "execute_result"
    }
   ],
   "source": [
    "pd.Series(transcriptome.values()).describe()"
   ]
  },
  {
   "cell_type": "code",
   "execution_count": 8,
   "metadata": {
    "collapsed": true
   },
   "outputs": [],
   "source": [
    "df2 = pd.DataFrame.from_dict(transcriptome.items())\n",
    "df2.columns = ['gene', 'transcript abundance']"
   ]
  },
  {
   "cell_type": "code",
   "execution_count": 9,
   "metadata": {
    "collapsed": true
   },
   "outputs": [],
   "source": [
    "df = pd.merge(df1, df2, left_on='gene', right_on='gene', how='outer')"
   ]
  },
  {
   "cell_type": "code",
   "execution_count": 10,
   "metadata": {
    "collapsed": false
   },
   "outputs": [
    {
     "data": {
      "text/html": [
       "<div>\n",
       "<table border=\"1\" class=\"dataframe\">\n",
       "  <thead>\n",
       "    <tr style=\"text-align: right;\">\n",
       "      <th></th>\n",
       "      <th>gene</th>\n",
       "      <th>translation rate [s^-1]</th>\n",
       "      <th>transcript abundance</th>\n",
       "    </tr>\n",
       "  </thead>\n",
       "  <tbody>\n",
       "    <tr>\n",
       "      <th>0</th>\n",
       "      <td>YBR177C</td>\n",
       "      <td>0.354237</td>\n",
       "      <td>6</td>\n",
       "    </tr>\n",
       "    <tr>\n",
       "      <th>1</th>\n",
       "      <td>YIL140W</td>\n",
       "      <td>0.110455</td>\n",
       "      <td>2</td>\n",
       "    </tr>\n",
       "    <tr>\n",
       "      <th>2</th>\n",
       "      <td>YLR268W</td>\n",
       "      <td>0.499435</td>\n",
       "      <td>8</td>\n",
       "    </tr>\n",
       "    <tr>\n",
       "      <th>3</th>\n",
       "      <td>YOR011W</td>\n",
       "      <td>0.010735</td>\n",
       "      <td>1</td>\n",
       "    </tr>\n",
       "    <tr>\n",
       "      <th>4</th>\n",
       "      <td>YPL043W</td>\n",
       "      <td>0.482203</td>\n",
       "      <td>7</td>\n",
       "    </tr>\n",
       "  </tbody>\n",
       "</table>\n",
       "</div>"
      ],
      "text/plain": [
       "      gene  translation rate [s^-1]  transcript abundance\n",
       "0  YBR177C                 0.354237                     6\n",
       "1  YIL140W                 0.110455                     2\n",
       "2  YLR268W                 0.499435                     8\n",
       "3  YOR011W                 0.010735                     1\n",
       "4  YPL043W                 0.482203                     7"
      ]
     },
     "execution_count": 10,
     "metadata": {},
     "output_type": "execute_result"
    }
   ],
   "source": [
    "df.head()"
   ]
  },
  {
   "cell_type": "markdown",
   "metadata": {},
   "source": [
    "### 3. Initiation probabilities"
   ]
  },
  {
   "cell_type": "markdown",
   "metadata": {},
   "source": [
    "Version from private email, Sept 30, 2015."
   ]
  },
  {
   "cell_type": "code",
   "execution_count": 11,
   "metadata": {
    "collapsed": true
   },
   "outputs": [],
   "source": [
    "init_rates = pkl.load(open('../parameters/init_rates_plotkin.p'))"
   ]
  },
  {
   "cell_type": "code",
   "execution_count": 12,
   "metadata": {
    "collapsed": false
   },
   "outputs": [
    {
     "data": {
      "text/plain": [
       "count    4.839000e+03\n",
       "mean     1.567727e-06\n",
       "std      1.128263e-06\n",
       "min      9.375766e-10\n",
       "25%      8.320521e-07\n",
       "50%      1.291872e-06\n",
       "75%      1.962904e-06\n",
       "max      1.440641e-05\n",
       "dtype: float64"
      ]
     },
     "execution_count": 12,
     "metadata": {},
     "output_type": "execute_result"
    }
   ],
   "source": [
    "pd.Series(init_rates.values()).describe()"
   ]
  },
  {
   "cell_type": "markdown",
   "metadata": {},
   "source": [
    "Units are successful ribosome initiations per second."
   ]
  },
  {
   "cell_type": "code",
   "execution_count": 13,
   "metadata": {
    "collapsed": true
   },
   "outputs": [],
   "source": [
    "df3 = pd.DataFrame.from_dict(init_rates.items())\n",
    "df3.columns = ['gene', 'initiation rate [s^-1]']"
   ]
  },
  {
   "cell_type": "code",
   "execution_count": 14,
   "metadata": {
    "collapsed": true
   },
   "outputs": [],
   "source": [
    "df = pd.merge(df, df3, left_on='gene', right_on='gene', how='outer')"
   ]
  },
  {
   "cell_type": "code",
   "execution_count": 15,
   "metadata": {
    "collapsed": false
   },
   "outputs": [
    {
     "data": {
      "text/html": [
       "<div>\n",
       "<table border=\"1\" class=\"dataframe\">\n",
       "  <thead>\n",
       "    <tr style=\"text-align: right;\">\n",
       "      <th></th>\n",
       "      <th>gene</th>\n",
       "      <th>translation rate [s^-1]</th>\n",
       "      <th>transcript abundance</th>\n",
       "      <th>initiation rate [s^-1]</th>\n",
       "    </tr>\n",
       "  </thead>\n",
       "  <tbody>\n",
       "    <tr>\n",
       "      <th>0</th>\n",
       "      <td>YBR177C</td>\n",
       "      <td>0.354237</td>\n",
       "      <td>6</td>\n",
       "      <td>1.644214e-06</td>\n",
       "    </tr>\n",
       "    <tr>\n",
       "      <th>1</th>\n",
       "      <td>YIL140W</td>\n",
       "      <td>0.110455</td>\n",
       "      <td>2</td>\n",
       "      <td>1.649229e-06</td>\n",
       "    </tr>\n",
       "    <tr>\n",
       "      <th>2</th>\n",
       "      <td>YLR268W</td>\n",
       "      <td>0.499435</td>\n",
       "      <td>8</td>\n",
       "      <td>1.844285e-06</td>\n",
       "    </tr>\n",
       "    <tr>\n",
       "      <th>3</th>\n",
       "      <td>YOR011W</td>\n",
       "      <td>0.010735</td>\n",
       "      <td>1</td>\n",
       "      <td>2.686820e-07</td>\n",
       "    </tr>\n",
       "    <tr>\n",
       "      <th>4</th>\n",
       "      <td>YPL043W</td>\n",
       "      <td>0.482203</td>\n",
       "      <td>7</td>\n",
       "      <td>2.096261e-06</td>\n",
       "    </tr>\n",
       "  </tbody>\n",
       "</table>\n",
       "</div>"
      ],
      "text/plain": [
       "      gene  translation rate [s^-1]  transcript abundance  \\\n",
       "0  YBR177C                 0.354237                     6   \n",
       "1  YIL140W                 0.110455                     2   \n",
       "2  YLR268W                 0.499435                     8   \n",
       "3  YOR011W                 0.010735                     1   \n",
       "4  YPL043W                 0.482203                     7   \n",
       "\n",
       "   initiation rate [s^-1]  \n",
       "0            1.644214e-06  \n",
       "1            1.649229e-06  \n",
       "2            1.844285e-06  \n",
       "3            2.686820e-07  \n",
       "4            2.096261e-06  "
      ]
     },
     "execution_count": 15,
     "metadata": {},
     "output_type": "execute_result"
    }
   ],
   "source": [
    "df.head()"
   ]
  },
  {
   "cell_type": "markdown",
   "metadata": {},
   "source": [
    "### 4. ORF lengths"
   ]
  },
  {
   "cell_type": "code",
   "execution_count": 16,
   "metadata": {
    "collapsed": true
   },
   "outputs": [],
   "source": [
    "orf_genomic_dict = pkl.load(open(\"../parameters/orf_coding.p\"))"
   ]
  },
  {
   "cell_type": "code",
   "execution_count": 17,
   "metadata": {
    "collapsed": true
   },
   "outputs": [],
   "source": [
    "orf_lengths = {prot: len(orf_genomic_dict[prot]) for prot in orf_genomic_dict}"
   ]
  },
  {
   "cell_type": "code",
   "execution_count": 18,
   "metadata": {
    "collapsed": false
   },
   "outputs": [
    {
     "data": {
      "text/plain": [
       "count     6713.000000\n",
       "mean      1352.414122\n",
       "std       1139.682772\n",
       "min         51.000000\n",
       "25%        534.000000\n",
       "50%       1077.000000\n",
       "75%       1767.000000\n",
       "max      14733.000000\n",
       "dtype: float64"
      ]
     },
     "execution_count": 18,
     "metadata": {},
     "output_type": "execute_result"
    }
   ],
   "source": [
    "pd.Series(orf_lengths.values()).describe()"
   ]
  },
  {
   "cell_type": "code",
   "execution_count": 19,
   "metadata": {
    "collapsed": true
   },
   "outputs": [],
   "source": [
    "df4 = pd.DataFrame.from_dict(orf_lengths.items())\n",
    "df4.columns = ['gene', 'ORF length [nts]']"
   ]
  },
  {
   "cell_type": "code",
   "execution_count": 20,
   "metadata": {
    "collapsed": true
   },
   "outputs": [],
   "source": [
    "df = pd.merge(df, df4, left_on='gene', right_on='gene', how='outer')"
   ]
  },
  {
   "cell_type": "code",
   "execution_count": 21,
   "metadata": {
    "collapsed": false
   },
   "outputs": [
    {
     "data": {
      "text/html": [
       "<div>\n",
       "<table border=\"1\" class=\"dataframe\">\n",
       "  <thead>\n",
       "    <tr style=\"text-align: right;\">\n",
       "      <th></th>\n",
       "      <th>gene</th>\n",
       "      <th>translation rate [s^-1]</th>\n",
       "      <th>transcript abundance</th>\n",
       "      <th>initiation rate [s^-1]</th>\n",
       "      <th>ORF length [nts]</th>\n",
       "    </tr>\n",
       "  </thead>\n",
       "  <tbody>\n",
       "    <tr>\n",
       "      <th>0</th>\n",
       "      <td>YBR177C</td>\n",
       "      <td>0.354237</td>\n",
       "      <td>6</td>\n",
       "      <td>1.644214e-06</td>\n",
       "      <td>1356</td>\n",
       "    </tr>\n",
       "    <tr>\n",
       "      <th>1</th>\n",
       "      <td>YIL140W</td>\n",
       "      <td>0.110455</td>\n",
       "      <td>2</td>\n",
       "      <td>1.649229e-06</td>\n",
       "      <td>2472</td>\n",
       "    </tr>\n",
       "    <tr>\n",
       "      <th>2</th>\n",
       "      <td>YLR268W</td>\n",
       "      <td>0.499435</td>\n",
       "      <td>8</td>\n",
       "      <td>1.844285e-06</td>\n",
       "      <td>645</td>\n",
       "    </tr>\n",
       "    <tr>\n",
       "      <th>3</th>\n",
       "      <td>YOR011W</td>\n",
       "      <td>0.010735</td>\n",
       "      <td>1</td>\n",
       "      <td>2.686820e-07</td>\n",
       "      <td>4185</td>\n",
       "    </tr>\n",
       "    <tr>\n",
       "      <th>4</th>\n",
       "      <td>YPL043W</td>\n",
       "      <td>0.482203</td>\n",
       "      <td>7</td>\n",
       "      <td>2.096261e-06</td>\n",
       "      <td>2058</td>\n",
       "    </tr>\n",
       "  </tbody>\n",
       "</table>\n",
       "</div>"
      ],
      "text/plain": [
       "      gene  translation rate [s^-1]  transcript abundance  \\\n",
       "0  YBR177C                 0.354237                     6   \n",
       "1  YIL140W                 0.110455                     2   \n",
       "2  YLR268W                 0.499435                     8   \n",
       "3  YOR011W                 0.010735                     1   \n",
       "4  YPL043W                 0.482203                     7   \n",
       "\n",
       "   initiation rate [s^-1]  ORF length [nts]  \n",
       "0            1.644214e-06              1356  \n",
       "1            1.649229e-06              2472  \n",
       "2            1.844285e-06               645  \n",
       "3            2.686820e-07              4185  \n",
       "4            2.096261e-06              2058  "
      ]
     },
     "execution_count": 21,
     "metadata": {},
     "output_type": "execute_result"
    }
   ],
   "source": [
    "df.head()"
   ]
  },
  {
   "cell_type": "markdown",
   "metadata": {},
   "source": [
    "### 5. Codon Adaptation Indices"
   ]
  },
  {
   "cell_type": "code",
   "execution_count": 22,
   "metadata": {
    "collapsed": true
   },
   "outputs": [],
   "source": [
    "cai_dict = pkl.load(open(\"../parameters/cai_dict.p\"))"
   ]
  },
  {
   "cell_type": "code",
   "execution_count": 23,
   "metadata": {
    "collapsed": false
   },
   "outputs": [
    {
     "data": {
      "text/plain": [
       "count    5917.000000\n",
       "mean        0.733184\n",
       "std         0.044777\n",
       "min         0.475284\n",
       "25%         0.712289\n",
       "50%         0.735966\n",
       "75%         0.756314\n",
       "max         0.922365\n",
       "dtype: float64"
      ]
     },
     "execution_count": 23,
     "metadata": {},
     "output_type": "execute_result"
    }
   ],
   "source": [
    "pd.Series(cai_dict.values()).describe()"
   ]
  },
  {
   "cell_type": "code",
   "execution_count": 24,
   "metadata": {
    "collapsed": true
   },
   "outputs": [],
   "source": [
    "df5 = pd.DataFrame.from_dict(cai_dict.items())\n",
    "df5.columns = ['gene', 'CAI']"
   ]
  },
  {
   "cell_type": "code",
   "execution_count": 25,
   "metadata": {
    "collapsed": true
   },
   "outputs": [],
   "source": [
    "df = pd.merge(df, df5, left_on='gene', right_on='gene', how='outer')"
   ]
  },
  {
   "cell_type": "code",
   "execution_count": 26,
   "metadata": {
    "collapsed": false
   },
   "outputs": [
    {
     "data": {
      "text/html": [
       "<div>\n",
       "<table border=\"1\" class=\"dataframe\">\n",
       "  <thead>\n",
       "    <tr style=\"text-align: right;\">\n",
       "      <th></th>\n",
       "      <th>gene</th>\n",
       "      <th>translation rate [s^-1]</th>\n",
       "      <th>transcript abundance</th>\n",
       "      <th>initiation rate [s^-1]</th>\n",
       "      <th>ORF length [nts]</th>\n",
       "      <th>CAI</th>\n",
       "    </tr>\n",
       "  </thead>\n",
       "  <tbody>\n",
       "    <tr>\n",
       "      <th>0</th>\n",
       "      <td>YBR177C</td>\n",
       "      <td>0.354237</td>\n",
       "      <td>6</td>\n",
       "      <td>1.644214e-06</td>\n",
       "      <td>1356</td>\n",
       "      <td>0.743503</td>\n",
       "    </tr>\n",
       "    <tr>\n",
       "      <th>1</th>\n",
       "      <td>YIL140W</td>\n",
       "      <td>0.110455</td>\n",
       "      <td>2</td>\n",
       "      <td>1.649229e-06</td>\n",
       "      <td>2472</td>\n",
       "      <td>0.742082</td>\n",
       "    </tr>\n",
       "    <tr>\n",
       "      <th>2</th>\n",
       "      <td>YLR268W</td>\n",
       "      <td>0.499435</td>\n",
       "      <td>8</td>\n",
       "      <td>1.844285e-06</td>\n",
       "      <td>645</td>\n",
       "      <td>0.710616</td>\n",
       "    </tr>\n",
       "    <tr>\n",
       "      <th>3</th>\n",
       "      <td>YOR011W</td>\n",
       "      <td>0.010735</td>\n",
       "      <td>1</td>\n",
       "      <td>2.686820e-07</td>\n",
       "      <td>4185</td>\n",
       "      <td>0.767968</td>\n",
       "    </tr>\n",
       "    <tr>\n",
       "      <th>4</th>\n",
       "      <td>YPL043W</td>\n",
       "      <td>0.482203</td>\n",
       "      <td>7</td>\n",
       "      <td>2.096261e-06</td>\n",
       "      <td>2058</td>\n",
       "      <td>0.768255</td>\n",
       "    </tr>\n",
       "  </tbody>\n",
       "</table>\n",
       "</div>"
      ],
      "text/plain": [
       "      gene  translation rate [s^-1]  transcript abundance  \\\n",
       "0  YBR177C                 0.354237                     6   \n",
       "1  YIL140W                 0.110455                     2   \n",
       "2  YLR268W                 0.499435                     8   \n",
       "3  YOR011W                 0.010735                     1   \n",
       "4  YPL043W                 0.482203                     7   \n",
       "\n",
       "   initiation rate [s^-1]  ORF length [nts]       CAI  \n",
       "0            1.644214e-06              1356  0.743503  \n",
       "1            1.649229e-06              2472  0.742082  \n",
       "2            1.844285e-06               645  0.710616  \n",
       "3            2.686820e-07              4185  0.767968  \n",
       "4            2.096261e-06              2058  0.768255  "
      ]
     },
     "execution_count": 26,
     "metadata": {},
     "output_type": "execute_result"
    }
   ],
   "source": [
    "df.head()"
   ]
  },
  {
   "cell_type": "markdown",
   "metadata": {},
   "source": [
    "### 6. Save as CSV"
   ]
  },
  {
   "cell_type": "code",
   "execution_count": 27,
   "metadata": {
    "collapsed": true
   },
   "outputs": [],
   "source": [
    "df.to_csv('../parameters/regression_data.csv')"
   ]
  }
 ],
 "metadata": {
  "kernelspec": {
   "display_name": "Python 2",
   "language": "python",
   "name": "python2"
  },
  "language_info": {
   "codemirror_mode": {
    "name": "ipython",
    "version": 2
   },
   "file_extension": ".py",
   "mimetype": "text/x-python",
   "name": "python",
   "nbconvert_exporter": "python",
   "pygments_lexer": "ipython2",
   "version": "2.7.6"
  }
 },
 "nbformat": 4,
 "nbformat_minor": 0
}
