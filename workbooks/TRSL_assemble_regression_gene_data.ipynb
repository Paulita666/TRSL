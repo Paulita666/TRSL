{
 "cells": [
  {
   "cell_type": "markdown",
   "metadata": {},
   "source": [
    "## Assemble gene-level data for regression analysis"
   ]
  },
  {
   "cell_type": "markdown",
   "metadata": {},
   "source": [
    "Script to combine\n",
    "* protein translation rates\n",
    "* transcript abundancies\n",
    "* initiation probabilities\n",
    "* ORF lengths\n",
    "* Codon Adaptation Indices\n",
    "\n",
    "into one .csv file."
   ]
  },
  {
   "cell_type": "code",
   "execution_count": 1,
   "metadata": {
    "collapsed": true
   },
   "outputs": [],
   "source": [
    "import csv\n",
    "import cPickle as pkl\n",
    "import pandas as pd"
   ]
  },
  {
   "cell_type": "markdown",
   "metadata": {},
   "source": [
    "### 1. Protein translation rates"
   ]
  },
  {
   "cell_type": "markdown",
   "metadata": {},
   "source": [
    "The following protein translation rates are normalized by transcript abundance:"
   ]
  },
  {
   "cell_type": "code",
   "execution_count": 2,
   "metadata": {
    "collapsed": true
   },
   "outputs": [],
   "source": [
    "prot_speeds = pkl.load(open(\"../parameters/prot_per_transcript_speeds.p\"))"
   ]
  },
  {
   "cell_type": "code",
   "execution_count": 3,
   "metadata": {
    "collapsed": false
   },
   "outputs": [
    {
     "data": {
      "text/plain": [
       "count    4475.000000\n",
       "mean        0.052763\n",
       "std         0.033543\n",
       "min         0.000565\n",
       "25%         0.029944\n",
       "50%         0.045198\n",
       "75%         0.066667\n",
       "max         0.267514\n",
       "dtype: float64"
      ]
     },
     "execution_count": 3,
     "metadata": {},
     "output_type": "execute_result"
    }
   ],
   "source": [
    "pd.Series(prot_speeds.values()).describe()"
   ]
  },
  {
   "cell_type": "markdown",
   "metadata": {},
   "source": [
    "Units are finished molecules per second per transcript."
   ]
  },
  {
   "cell_type": "code",
   "execution_count": 14,
   "metadata": {
    "collapsed": true
   },
   "outputs": [],
   "source": [
    "df1 = pd.DataFrame.from_dict(prot_speeds.items())\n",
    "df1.columns = ['gene', 'modelled translation rate [s^-1]']"
   ]
  },
  {
   "cell_type": "code",
   "execution_count": 15,
   "metadata": {
    "collapsed": false
   },
   "outputs": [
    {
     "data": {
      "text/html": [
       "<div>\n",
       "<table border=\"1\" class=\"dataframe\">\n",
       "  <thead>\n",
       "    <tr style=\"text-align: right;\">\n",
       "      <th></th>\n",
       "      <th>gene</th>\n",
       "      <th>modelled translation rate [s^-1]</th>\n",
       "    </tr>\n",
       "  </thead>\n",
       "  <tbody>\n",
       "    <tr>\n",
       "      <th>0</th>\n",
       "      <td>YBR177C</td>\n",
       "      <td>0.354237</td>\n",
       "    </tr>\n",
       "    <tr>\n",
       "      <th>1</th>\n",
       "      <td>YIL140W</td>\n",
       "      <td>0.110455</td>\n",
       "    </tr>\n",
       "    <tr>\n",
       "      <th>2</th>\n",
       "      <td>YLR268W</td>\n",
       "      <td>0.499435</td>\n",
       "    </tr>\n",
       "    <tr>\n",
       "      <th>3</th>\n",
       "      <td>YOR011W</td>\n",
       "      <td>0.010735</td>\n",
       "    </tr>\n",
       "    <tr>\n",
       "      <th>4</th>\n",
       "      <td>YPL043W</td>\n",
       "      <td>0.482203</td>\n",
       "    </tr>\n",
       "  </tbody>\n",
       "</table>\n",
       "</div>"
      ],
      "text/plain": [
       "      gene  modelled translation rate [s^-1]\n",
       "0  YBR177C                          0.354237\n",
       "1  YIL140W                          0.110455\n",
       "2  YLR268W                          0.499435\n",
       "3  YOR011W                          0.010735\n",
       "4  YPL043W                          0.482203"
      ]
     },
     "execution_count": 15,
     "metadata": {},
     "output_type": "execute_result"
    }
   ],
   "source": [
    "df1.head()"
   ]
  },
  {
   "cell_type": "markdown",
   "metadata": {},
   "source": [
    "Measured values from quantitative microarray analysis and subsequent modelling (Arava et al., http://www.pnas.org/content/100/7/3889.full, we choose the rates _per transcript_):"
   ]
  },
  {
   "cell_type": "code",
   "execution_count": 16,
   "metadata": {
    "collapsed": true
   },
   "outputs": [],
   "source": [
    "prot_rates_per_transcript = pkl.load(open(\"../parameters/prot_per_transcript_arava.p\"))"
   ]
  },
  {
   "cell_type": "code",
   "execution_count": 17,
   "metadata": {
    "collapsed": false
   },
   "outputs": [
    {
     "data": {
      "text/plain": [
       "count    5643.000000\n",
       "mean        0.116282\n",
       "std         0.108930\n",
       "min         0.001887\n",
       "25%         0.041829\n",
       "50%         0.095339\n",
       "75%         0.159180\n",
       "max         2.189396\n",
       "dtype: float64"
      ]
     },
     "execution_count": 17,
     "metadata": {},
     "output_type": "execute_result"
    }
   ],
   "source": [
    "pd.Series(prot_rates_per_transcript.values()).describe()"
   ]
  },
  {
   "cell_type": "code",
   "execution_count": 18,
   "metadata": {
    "collapsed": true
   },
   "outputs": [],
   "source": [
    "df = pd.DataFrame.from_dict(prot_rates_per_transcript.items())\n",
    "df.columns = ['gene', 'experimental translation rate per transcript [s^-1]']"
   ]
  },
  {
   "cell_type": "code",
   "execution_count": 19,
   "metadata": {
    "collapsed": true
   },
   "outputs": [],
   "source": [
    "df = pd.merge(df, df1, left_on='gene', right_on='gene', how='outer')"
   ]
  },
  {
   "cell_type": "code",
   "execution_count": 20,
   "metadata": {
    "collapsed": false
   },
   "outputs": [
    {
     "data": {
      "text/html": [
       "<div>\n",
       "<table border=\"1\" class=\"dataframe\">\n",
       "  <thead>\n",
       "    <tr style=\"text-align: right;\">\n",
       "      <th></th>\n",
       "      <th>gene</th>\n",
       "      <th>experimental translation rate per transcript [s^-1]</th>\n",
       "      <th>modelled translation rate [s^-1]</th>\n",
       "    </tr>\n",
       "  </thead>\n",
       "  <tbody>\n",
       "    <tr>\n",
       "      <th>0</th>\n",
       "      <td>YAL008W</td>\n",
       "      <td>0.201307</td>\n",
       "      <td>0.293785</td>\n",
       "    </tr>\n",
       "    <tr>\n",
       "      <th>1</th>\n",
       "      <td>YBR255W</td>\n",
       "      <td>0.029070</td>\n",
       "      <td>0.022317</td>\n",
       "    </tr>\n",
       "    <tr>\n",
       "      <th>2</th>\n",
       "      <td>YGR164W</td>\n",
       "      <td>0.285791</td>\n",
       "      <td>NaN</td>\n",
       "    </tr>\n",
       "    <tr>\n",
       "      <th>3</th>\n",
       "      <td>YGR131W</td>\n",
       "      <td>0.124590</td>\n",
       "      <td>NaN</td>\n",
       "    </tr>\n",
       "    <tr>\n",
       "      <th>4</th>\n",
       "      <td>YNL003C</td>\n",
       "      <td>0.072844</td>\n",
       "      <td>0.084181</td>\n",
       "    </tr>\n",
       "  </tbody>\n",
       "</table>\n",
       "</div>"
      ],
      "text/plain": [
       "      gene  experimental translation rate per transcript [s^-1]  \\\n",
       "0  YAL008W                                           0.201307     \n",
       "1  YBR255W                                           0.029070     \n",
       "2  YGR164W                                           0.285791     \n",
       "3  YGR131W                                           0.124590     \n",
       "4  YNL003C                                           0.072844     \n",
       "\n",
       "   modelled translation rate [s^-1]  \n",
       "0                          0.293785  \n",
       "1                          0.022317  \n",
       "2                               NaN  \n",
       "3                               NaN  \n",
       "4                          0.084181  "
      ]
     },
     "execution_count": 20,
     "metadata": {},
     "output_type": "execute_result"
    }
   ],
   "source": [
    "df.head()"
   ]
  },
  {
   "cell_type": "markdown",
   "metadata": {},
   "source": [
    "### 2. Transcript abundancies"
   ]
  },
  {
   "cell_type": "markdown",
   "metadata": {},
   "source": [
    "TODO: test also other transcriptomes."
   ]
  },
  {
   "cell_type": "code",
   "execution_count": 21,
   "metadata": {
    "collapsed": true
   },
   "outputs": [],
   "source": [
    "transcriptome = pkl.load(open('../parameters/transcriptome_shah.p'))"
   ]
  },
  {
   "cell_type": "code",
   "execution_count": 22,
   "metadata": {
    "collapsed": false
   },
   "outputs": [
    {
     "data": {
      "text/plain": [
       "count    4839.000000\n",
       "mean       12.400496\n",
       "std        50.939523\n",
       "min         0.000000\n",
       "25%         2.000000\n",
       "50%         3.000000\n",
       "75%         7.000000\n",
       "max      1381.000000\n",
       "dtype: float64"
      ]
     },
     "execution_count": 22,
     "metadata": {},
     "output_type": "execute_result"
    }
   ],
   "source": [
    "pd.Series(transcriptome.values()).describe()"
   ]
  },
  {
   "cell_type": "code",
   "execution_count": 23,
   "metadata": {
    "collapsed": true
   },
   "outputs": [],
   "source": [
    "df2 = pd.DataFrame.from_dict(transcriptome.items())\n",
    "df2.columns = ['gene', 'transcript abundance']"
   ]
  },
  {
   "cell_type": "code",
   "execution_count": 24,
   "metadata": {
    "collapsed": true
   },
   "outputs": [],
   "source": [
    "df = pd.merge(df, df2, left_on='gene', right_on='gene', how='outer')"
   ]
  },
  {
   "cell_type": "code",
   "execution_count": 25,
   "metadata": {
    "collapsed": false
   },
   "outputs": [
    {
     "data": {
      "text/html": [
       "<div>\n",
       "<table border=\"1\" class=\"dataframe\">\n",
       "  <thead>\n",
       "    <tr style=\"text-align: right;\">\n",
       "      <th></th>\n",
       "      <th>gene</th>\n",
       "      <th>experimental translation rate per transcript [s^-1]</th>\n",
       "      <th>modelled translation rate [s^-1]</th>\n",
       "      <th>transcript abundance</th>\n",
       "    </tr>\n",
       "  </thead>\n",
       "  <tbody>\n",
       "    <tr>\n",
       "      <th>0</th>\n",
       "      <td>YAL008W</td>\n",
       "      <td>0.201307</td>\n",
       "      <td>0.293785</td>\n",
       "      <td>3</td>\n",
       "    </tr>\n",
       "    <tr>\n",
       "      <th>1</th>\n",
       "      <td>YBR255W</td>\n",
       "      <td>0.029070</td>\n",
       "      <td>0.022317</td>\n",
       "      <td>1</td>\n",
       "    </tr>\n",
       "    <tr>\n",
       "      <th>2</th>\n",
       "      <td>YGR164W</td>\n",
       "      <td>0.285791</td>\n",
       "      <td>NaN</td>\n",
       "      <td>NaN</td>\n",
       "    </tr>\n",
       "    <tr>\n",
       "      <th>3</th>\n",
       "      <td>YGR131W</td>\n",
       "      <td>0.124590</td>\n",
       "      <td>NaN</td>\n",
       "      <td>NaN</td>\n",
       "    </tr>\n",
       "    <tr>\n",
       "      <th>4</th>\n",
       "      <td>YNL003C</td>\n",
       "      <td>0.072844</td>\n",
       "      <td>0.084181</td>\n",
       "      <td>3</td>\n",
       "    </tr>\n",
       "  </tbody>\n",
       "</table>\n",
       "</div>"
      ],
      "text/plain": [
       "      gene  experimental translation rate per transcript [s^-1]  \\\n",
       "0  YAL008W                                           0.201307     \n",
       "1  YBR255W                                           0.029070     \n",
       "2  YGR164W                                           0.285791     \n",
       "3  YGR131W                                           0.124590     \n",
       "4  YNL003C                                           0.072844     \n",
       "\n",
       "   modelled translation rate [s^-1]  transcript abundance  \n",
       "0                          0.293785                     3  \n",
       "1                          0.022317                     1  \n",
       "2                               NaN                   NaN  \n",
       "3                               NaN                   NaN  \n",
       "4                          0.084181                     3  "
      ]
     },
     "execution_count": 25,
     "metadata": {},
     "output_type": "execute_result"
    }
   ],
   "source": [
    "df.head()"
   ]
  },
  {
   "cell_type": "markdown",
   "metadata": {},
   "source": [
    "### 3. Initiation probabilities"
   ]
  },
  {
   "cell_type": "markdown",
   "metadata": {},
   "source": [
    "Version from private email, Sept 30, 2015."
   ]
  },
  {
   "cell_type": "code",
   "execution_count": 26,
   "metadata": {
    "collapsed": true
   },
   "outputs": [],
   "source": [
    "init_rates = pkl.load(open('../parameters/init_rates_plotkin.p'))"
   ]
  },
  {
   "cell_type": "code",
   "execution_count": 27,
   "metadata": {
    "collapsed": false
   },
   "outputs": [
    {
     "data": {
      "text/plain": [
       "count    4.839000e+03\n",
       "mean     1.567727e-06\n",
       "std      1.128263e-06\n",
       "min      9.375766e-10\n",
       "25%      8.320521e-07\n",
       "50%      1.291872e-06\n",
       "75%      1.962904e-06\n",
       "max      1.440641e-05\n",
       "dtype: float64"
      ]
     },
     "execution_count": 27,
     "metadata": {},
     "output_type": "execute_result"
    }
   ],
   "source": [
    "pd.Series(init_rates.values()).describe()"
   ]
  },
  {
   "cell_type": "markdown",
   "metadata": {},
   "source": [
    "Units are successful ribosome initiations per second."
   ]
  },
  {
   "cell_type": "code",
   "execution_count": 28,
   "metadata": {
    "collapsed": true
   },
   "outputs": [],
   "source": [
    "df3 = pd.DataFrame.from_dict(init_rates.items())\n",
    "df3.columns = ['gene', 'initiation rate [s^-1]']"
   ]
  },
  {
   "cell_type": "code",
   "execution_count": 29,
   "metadata": {
    "collapsed": true
   },
   "outputs": [],
   "source": [
    "df = pd.merge(df, df3, left_on='gene', right_on='gene', how='outer')"
   ]
  },
  {
   "cell_type": "code",
   "execution_count": 30,
   "metadata": {
    "collapsed": false
   },
   "outputs": [
    {
     "data": {
      "text/html": [
       "<div>\n",
       "<table border=\"1\" class=\"dataframe\">\n",
       "  <thead>\n",
       "    <tr style=\"text-align: right;\">\n",
       "      <th></th>\n",
       "      <th>gene</th>\n",
       "      <th>experimental translation rate per transcript [s^-1]</th>\n",
       "      <th>modelled translation rate [s^-1]</th>\n",
       "      <th>transcript abundance</th>\n",
       "      <th>initiation rate [s^-1]</th>\n",
       "    </tr>\n",
       "  </thead>\n",
       "  <tbody>\n",
       "    <tr>\n",
       "      <th>0</th>\n",
       "      <td>YAL008W</td>\n",
       "      <td>0.201307</td>\n",
       "      <td>0.293785</td>\n",
       "      <td>3</td>\n",
       "      <td>3.024409e-06</td>\n",
       "    </tr>\n",
       "    <tr>\n",
       "      <th>1</th>\n",
       "      <td>YBR255W</td>\n",
       "      <td>0.029070</td>\n",
       "      <td>0.022317</td>\n",
       "      <td>1</td>\n",
       "      <td>6.376904e-07</td>\n",
       "    </tr>\n",
       "    <tr>\n",
       "      <th>2</th>\n",
       "      <td>YGR164W</td>\n",
       "      <td>0.285791</td>\n",
       "      <td>NaN</td>\n",
       "      <td>NaN</td>\n",
       "      <td>NaN</td>\n",
       "    </tr>\n",
       "    <tr>\n",
       "      <th>3</th>\n",
       "      <td>YGR131W</td>\n",
       "      <td>0.124590</td>\n",
       "      <td>NaN</td>\n",
       "      <td>NaN</td>\n",
       "      <td>NaN</td>\n",
       "    </tr>\n",
       "    <tr>\n",
       "      <th>4</th>\n",
       "      <td>YNL003C</td>\n",
       "      <td>0.072844</td>\n",
       "      <td>0.084181</td>\n",
       "      <td>3</td>\n",
       "      <td>7.715578e-07</td>\n",
       "    </tr>\n",
       "  </tbody>\n",
       "</table>\n",
       "</div>"
      ],
      "text/plain": [
       "      gene  experimental translation rate per transcript [s^-1]  \\\n",
       "0  YAL008W                                           0.201307     \n",
       "1  YBR255W                                           0.029070     \n",
       "2  YGR164W                                           0.285791     \n",
       "3  YGR131W                                           0.124590     \n",
       "4  YNL003C                                           0.072844     \n",
       "\n",
       "   modelled translation rate [s^-1]  transcript abundance  \\\n",
       "0                          0.293785                     3   \n",
       "1                          0.022317                     1   \n",
       "2                               NaN                   NaN   \n",
       "3                               NaN                   NaN   \n",
       "4                          0.084181                     3   \n",
       "\n",
       "   initiation rate [s^-1]  \n",
       "0            3.024409e-06  \n",
       "1            6.376904e-07  \n",
       "2                     NaN  \n",
       "3                     NaN  \n",
       "4            7.715578e-07  "
      ]
     },
     "execution_count": 30,
     "metadata": {},
     "output_type": "execute_result"
    }
   ],
   "source": [
    "df.head()"
   ]
  },
  {
   "cell_type": "markdown",
   "metadata": {},
   "source": [
    "### 4. ORF lengths"
   ]
  },
  {
   "cell_type": "code",
   "execution_count": 31,
   "metadata": {
    "collapsed": true
   },
   "outputs": [],
   "source": [
    "orf_genomic_dict = pkl.load(open(\"../parameters/orf_coding.p\"))"
   ]
  },
  {
   "cell_type": "code",
   "execution_count": 32,
   "metadata": {
    "collapsed": true
   },
   "outputs": [],
   "source": [
    "orf_lengths = {prot: len(orf_genomic_dict[prot]) for prot in orf_genomic_dict}"
   ]
  },
  {
   "cell_type": "code",
   "execution_count": 33,
   "metadata": {
    "collapsed": false
   },
   "outputs": [
    {
     "data": {
      "text/plain": [
       "count     6713.000000\n",
       "mean      1352.414122\n",
       "std       1139.682772\n",
       "min         51.000000\n",
       "25%        534.000000\n",
       "50%       1077.000000\n",
       "75%       1767.000000\n",
       "max      14733.000000\n",
       "dtype: float64"
      ]
     },
     "execution_count": 33,
     "metadata": {},
     "output_type": "execute_result"
    }
   ],
   "source": [
    "pd.Series(orf_lengths.values()).describe()"
   ]
  },
  {
   "cell_type": "code",
   "execution_count": 34,
   "metadata": {
    "collapsed": true
   },
   "outputs": [],
   "source": [
    "df4 = pd.DataFrame.from_dict(orf_lengths.items())\n",
    "df4.columns = ['gene', 'ORF length [nts]']"
   ]
  },
  {
   "cell_type": "code",
   "execution_count": 35,
   "metadata": {
    "collapsed": true
   },
   "outputs": [],
   "source": [
    "df = pd.merge(df, df4, left_on='gene', right_on='gene', how='outer')"
   ]
  },
  {
   "cell_type": "code",
   "execution_count": 36,
   "metadata": {
    "collapsed": false
   },
   "outputs": [
    {
     "data": {
      "text/html": [
       "<div>\n",
       "<table border=\"1\" class=\"dataframe\">\n",
       "  <thead>\n",
       "    <tr style=\"text-align: right;\">\n",
       "      <th></th>\n",
       "      <th>gene</th>\n",
       "      <th>experimental translation rate per transcript [s^-1]</th>\n",
       "      <th>modelled translation rate [s^-1]</th>\n",
       "      <th>transcript abundance</th>\n",
       "      <th>initiation rate [s^-1]</th>\n",
       "      <th>ORF length [nts]</th>\n",
       "    </tr>\n",
       "  </thead>\n",
       "  <tbody>\n",
       "    <tr>\n",
       "      <th>0</th>\n",
       "      <td>YAL008W</td>\n",
       "      <td>0.201307</td>\n",
       "      <td>0.293785</td>\n",
       "      <td>3</td>\n",
       "      <td>3.024409e-06</td>\n",
       "      <td>597</td>\n",
       "    </tr>\n",
       "    <tr>\n",
       "      <th>1</th>\n",
       "      <td>YBR255W</td>\n",
       "      <td>0.029070</td>\n",
       "      <td>0.022317</td>\n",
       "      <td>1</td>\n",
       "      <td>6.376904e-07</td>\n",
       "      <td>2085</td>\n",
       "    </tr>\n",
       "    <tr>\n",
       "      <th>2</th>\n",
       "      <td>YGR164W</td>\n",
       "      <td>0.285791</td>\n",
       "      <td>NaN</td>\n",
       "      <td>NaN</td>\n",
       "      <td>NaN</td>\n",
       "      <td>336</td>\n",
       "    </tr>\n",
       "    <tr>\n",
       "      <th>3</th>\n",
       "      <td>YGR131W</td>\n",
       "      <td>0.124590</td>\n",
       "      <td>NaN</td>\n",
       "      <td>NaN</td>\n",
       "      <td>NaN</td>\n",
       "      <td>525</td>\n",
       "    </tr>\n",
       "    <tr>\n",
       "      <th>4</th>\n",
       "      <td>YNL003C</td>\n",
       "      <td>0.072844</td>\n",
       "      <td>0.084181</td>\n",
       "      <td>3</td>\n",
       "      <td>7.715578e-07</td>\n",
       "      <td>855</td>\n",
       "    </tr>\n",
       "  </tbody>\n",
       "</table>\n",
       "</div>"
      ],
      "text/plain": [
       "      gene  experimental translation rate per transcript [s^-1]  \\\n",
       "0  YAL008W                                           0.201307     \n",
       "1  YBR255W                                           0.029070     \n",
       "2  YGR164W                                           0.285791     \n",
       "3  YGR131W                                           0.124590     \n",
       "4  YNL003C                                           0.072844     \n",
       "\n",
       "   modelled translation rate [s^-1]  transcript abundance  \\\n",
       "0                          0.293785                     3   \n",
       "1                          0.022317                     1   \n",
       "2                               NaN                   NaN   \n",
       "3                               NaN                   NaN   \n",
       "4                          0.084181                     3   \n",
       "\n",
       "   initiation rate [s^-1]  ORF length [nts]  \n",
       "0            3.024409e-06               597  \n",
       "1            6.376904e-07              2085  \n",
       "2                     NaN               336  \n",
       "3                     NaN               525  \n",
       "4            7.715578e-07               855  "
      ]
     },
     "execution_count": 36,
     "metadata": {},
     "output_type": "execute_result"
    }
   ],
   "source": [
    "df.head()"
   ]
  },
  {
   "cell_type": "markdown",
   "metadata": {},
   "source": [
    "### 5. Codon Adaptation Indices"
   ]
  },
  {
   "cell_type": "code",
   "execution_count": 37,
   "metadata": {
    "collapsed": true
   },
   "outputs": [],
   "source": [
    "cai_dict = pkl.load(open(\"../parameters/cai_dict.p\"))"
   ]
  },
  {
   "cell_type": "code",
   "execution_count": 38,
   "metadata": {
    "collapsed": false
   },
   "outputs": [
    {
     "data": {
      "text/plain": [
       "count    5917.000000\n",
       "mean        0.733184\n",
       "std         0.044777\n",
       "min         0.475284\n",
       "25%         0.712289\n",
       "50%         0.735966\n",
       "75%         0.756314\n",
       "max         0.922365\n",
       "dtype: float64"
      ]
     },
     "execution_count": 38,
     "metadata": {},
     "output_type": "execute_result"
    }
   ],
   "source": [
    "pd.Series(cai_dict.values()).describe()"
   ]
  },
  {
   "cell_type": "code",
   "execution_count": 39,
   "metadata": {
    "collapsed": true
   },
   "outputs": [],
   "source": [
    "df5 = pd.DataFrame.from_dict(cai_dict.items())\n",
    "df5.columns = ['gene', 'CAI']"
   ]
  },
  {
   "cell_type": "code",
   "execution_count": 40,
   "metadata": {
    "collapsed": true
   },
   "outputs": [],
   "source": [
    "df = pd.merge(df, df5, left_on='gene', right_on='gene', how='outer')"
   ]
  },
  {
   "cell_type": "code",
   "execution_count": 41,
   "metadata": {
    "collapsed": false
   },
   "outputs": [
    {
     "data": {
      "text/html": [
       "<div>\n",
       "<table border=\"1\" class=\"dataframe\">\n",
       "  <thead>\n",
       "    <tr style=\"text-align: right;\">\n",
       "      <th></th>\n",
       "      <th>gene</th>\n",
       "      <th>experimental translation rate per transcript [s^-1]</th>\n",
       "      <th>modelled translation rate [s^-1]</th>\n",
       "      <th>transcript abundance</th>\n",
       "      <th>initiation rate [s^-1]</th>\n",
       "      <th>ORF length [nts]</th>\n",
       "      <th>CAI</th>\n",
       "    </tr>\n",
       "  </thead>\n",
       "  <tbody>\n",
       "    <tr>\n",
       "      <th>0</th>\n",
       "      <td>YAL008W</td>\n",
       "      <td>0.201307</td>\n",
       "      <td>0.293785</td>\n",
       "      <td>3</td>\n",
       "      <td>3.024409e-06</td>\n",
       "      <td>597</td>\n",
       "      <td>0.709594</td>\n",
       "    </tr>\n",
       "    <tr>\n",
       "      <th>1</th>\n",
       "      <td>YBR255W</td>\n",
       "      <td>0.029070</td>\n",
       "      <td>0.022317</td>\n",
       "      <td>1</td>\n",
       "      <td>6.376904e-07</td>\n",
       "      <td>2085</td>\n",
       "      <td>0.723708</td>\n",
       "    </tr>\n",
       "    <tr>\n",
       "      <th>2</th>\n",
       "      <td>YGR164W</td>\n",
       "      <td>0.285791</td>\n",
       "      <td>NaN</td>\n",
       "      <td>NaN</td>\n",
       "      <td>NaN</td>\n",
       "      <td>336</td>\n",
       "      <td>NaN</td>\n",
       "    </tr>\n",
       "    <tr>\n",
       "      <th>3</th>\n",
       "      <td>YGR131W</td>\n",
       "      <td>0.124590</td>\n",
       "      <td>NaN</td>\n",
       "      <td>NaN</td>\n",
       "      <td>NaN</td>\n",
       "      <td>525</td>\n",
       "      <td>0.729506</td>\n",
       "    </tr>\n",
       "    <tr>\n",
       "      <th>4</th>\n",
       "      <td>YNL003C</td>\n",
       "      <td>0.072844</td>\n",
       "      <td>0.084181</td>\n",
       "      <td>3</td>\n",
       "      <td>7.715578e-07</td>\n",
       "      <td>855</td>\n",
       "      <td>0.714273</td>\n",
       "    </tr>\n",
       "  </tbody>\n",
       "</table>\n",
       "</div>"
      ],
      "text/plain": [
       "      gene  experimental translation rate per transcript [s^-1]  \\\n",
       "0  YAL008W                                           0.201307     \n",
       "1  YBR255W                                           0.029070     \n",
       "2  YGR164W                                           0.285791     \n",
       "3  YGR131W                                           0.124590     \n",
       "4  YNL003C                                           0.072844     \n",
       "\n",
       "   modelled translation rate [s^-1]  transcript abundance  \\\n",
       "0                          0.293785                     3   \n",
       "1                          0.022317                     1   \n",
       "2                               NaN                   NaN   \n",
       "3                               NaN                   NaN   \n",
       "4                          0.084181                     3   \n",
       "\n",
       "   initiation rate [s^-1]  ORF length [nts]       CAI  \n",
       "0            3.024409e-06               597  0.709594  \n",
       "1            6.376904e-07              2085  0.723708  \n",
       "2                     NaN               336       NaN  \n",
       "3                     NaN               525  0.729506  \n",
       "4            7.715578e-07               855  0.714273  "
      ]
     },
     "execution_count": 41,
     "metadata": {},
     "output_type": "execute_result"
    }
   ],
   "source": [
    "df.head()"
   ]
  },
  {
   "cell_type": "markdown",
   "metadata": {},
   "source": [
    "### 6. Save as CSV"
   ]
  },
  {
   "cell_type": "code",
   "execution_count": 42,
   "metadata": {
    "collapsed": true
   },
   "outputs": [],
   "source": [
    "df.to_csv('../parameters/regression_data.csv')"
   ]
  }
 ],
 "metadata": {
  "kernelspec": {
   "display_name": "Python 2",
   "language": "python",
   "name": "python2"
  },
  "language_info": {
   "codemirror_mode": {
    "name": "ipython",
    "version": 2
   },
   "file_extension": ".py",
   "mimetype": "text/x-python",
   "name": "python",
   "nbconvert_exporter": "python",
   "pygments_lexer": "ipython2",
   "version": "2.7.6"
  }
 },
 "nbformat": 4,
 "nbformat_minor": 0
}
