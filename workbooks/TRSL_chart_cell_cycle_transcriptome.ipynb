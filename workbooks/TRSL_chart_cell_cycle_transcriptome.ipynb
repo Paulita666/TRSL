{
 "cells": [
  {
   "cell_type": "code",
   "execution_count": 4,
   "metadata": {
    "collapsed": false
   },
   "outputs": [],
   "source": [
    "import numpy as np\n",
    "import matplotlib\n",
    "import matplotlib.pyplot as plt\n",
    "import matplotlib.collections as collections\n",
    "matplotlib.style.use('ggplot')\n",
    "%matplotlib inline"
   ]
  },
  {
   "cell_type": "code",
   "execution_count": 18,
   "metadata": {
    "collapsed": false
   },
   "outputs": [
    {
     "data": {
      "image/png": "[encoded data removed]",
      "text/plain": [
       "<matplotlib.figure.Figure at 0x7f1ba1f00190>"
      ]
     },
     "metadata": {},
     "output_type": "display_data"
    }
   ],
   "source": [
    "t = np.arange(0.0, 61.0, 5.0)\n",
    "s1 = t**2 #np.sin(2*np.pi*t)**2\n",
    "#s2 = 1.2*np.sin(4*np.pi*t)\n",
    "\n",
    "\n",
    "fig, ax = plt.subplots()\n",
    "#ax.set_title('using span_where')\n",
    "ax.plot(t, s1, color='black')\n",
    "ax.axhline(0, color='black', lw=2)\n",
    "\n",
    "collection = collections.BrokenBarHCollection.span_where(\n",
    "    t, ymin=0, ymax=3000, where=t > 29.9, facecolor='green', alpha=0.5)\n",
    "ax.add_collection(collection)\n",
    "\n",
    "collection = collections.BrokenBarHCollection.span_where(\n",
    "    t, ymin=0, ymax=3000, where=t < 30.1, facecolor='red', alpha=0.5)\n",
    "ax.add_collection(collection)\n",
    "\n",
    "\n",
    "plt.show()"
   ]
  },
  {
   "cell_type": "code",
   "execution_count": null,
   "metadata": {
    "collapsed": true
   },
   "outputs": [],
   "source": []
  }
 ],
 "metadata": {
  "kernelspec": {
   "display_name": "Python 2",
   "language": "python",
   "name": "python2"
  },
  "language_info": {
   "codemirror_mode": {
    "name": "ipython",
    "version": 2
   },
   "file_extension": ".py",
   "mimetype": "text/x-python",
   "name": "python",
   "nbconvert_exporter": "python",
   "pygments_lexer": "ipython2",
   "version": "2.7.12"
  }
 },
 "nbformat": 4,
 "nbformat_minor": 0
}
